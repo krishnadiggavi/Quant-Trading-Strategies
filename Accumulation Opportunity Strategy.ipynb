{
 "cells": [
  {
   "cell_type": "markdown",
   "id": "144a4962",
   "metadata": {},
   "source": [
    "<h2><center> Quantitative Trading Strategies - Assignment 4 </center></h2>\n",
    "\n",
    "<h3><span style=\"color:#00008B\">Submitted by - Krishna Vardhan Diggavi </span></h3>\n",
    "\n",
    "<h3><span style=\"color:#00008B\">Email - krishnadiggavi@uchicago.edu</span></h3>"
   ]
  },
  {
   "cell_type": "markdown",
   "id": "d2cad6b0",
   "metadata": {},
   "source": [
    "- In this assignment we are going to implement a trading strategy based on Mean Reversion strategy. Here is the brief info about the strategy. <br>"
   ]
  },
  {
   "cell_type": "markdown",
   "id": "4a3b2f80",
   "metadata": {},
   "source": [
    "# Accumulation Opportunity Strategy"
   ]
  },
  {
   "cell_type": "markdown",
   "id": "97638a87",
   "metadata": {},
   "source": [
    "### Description:<br>\n",
    "- This assignment refers to the process of evaluating the feasibility of accumulating large positions in an electronic market for cryptocurrency assets, while attempting to keep trading costs low. In other words, it's concerned with determining whether it's possible to build a large investment position in a cryptocurrency, without incurring high costs through frequent buying and selling. <br><br>\n",
    "\n",
    "- In an electronic market for cryptocurrencies, traders often face high trading costs due to the presence of market makers, who charge fees for providing liquidity, and other market participants who may manipulate prices to increase their profits. The objective of the accumulation opportunity strategy is to identify ways to accumulate a large position in a cryptocurrency while minimizing these costs. <br> <br>\n",
    "\n",
    "- To assess the feasibility of this strategy, traders will consider factors such as the size of the market, the presence of high-frequency traders, the frequency of market fluctuations, and the impact of trading costs on overall returns. They will also look at the market structure, including the types of participants and the technology used, to determine whether there are opportunities to accumulate a large position while keeping trading costs low. <br><br>\n",
    "\n",
    "- Overall, the accumulation opportunity strategy in the cryptocurrency market is concerned with maximizing returns by identifying ways to accumulate large positions in cryptocurrencies while keeping trading costs to a minimum. The feasibility of this strategy will depend on the particular market conditions and the skills and resources of the trader implementing it. <br><br>"
   ]
  },
  {
   "cell_type": "markdown",
   "id": "a2a52596",
   "metadata": {},
   "source": [
    "### Advantages:<br>\n",
    "- Lower trading costs: By attempting to maintain low trading costs while accumulating a large position, investors may be able to minimize the impact of fees and other trading costs on their overall returns. This can result in higher profits over the long-term.<br><br>\n",
    "\n",
    "- Diversification: By holding a large position in a single asset, investors may be able to increase their exposure to the asset and diversify their investment portfolio.<br><br>\n",
    "\n",
    "- Market knowledge: The accumulation opportunity strategy requires a deep understanding of the cryptocurrency market, including market trends, technological advancements, and news and events that may impact the value of the assets. This can help investors make more informed investment decisions and potentially increase their returns.<br><br>\n"
   ]
  },
  {
   "cell_type": "markdown",
   "id": "435036bc",
   "metadata": {},
   "source": [
    "### Disadvantages:<br>\n",
    "- Market volatility: The cryptocurrency market is highly volatile and prone to sudden price swings. This can make it difficult to implement the accumulation opportunity strategy effectively and may result in large losses if not managed carefully.<br><br>\n",
    "\n",
    "- Market manipulation: The electronic market for cryptocurrencies is susceptible to market manipulation by large market participants, such as high-frequency traders. This can make it difficult to accurately predict the direction of the market and may result in losses for investors who implement the accumulation opportunity strategy.<br><br>\n",
    "\n",
    "- Limited information: The cryptocurrency market is relatively new and there is limited information available to help investors make informed decisions. This can increase the risk of making poor investment decisions and result in lower returns for investors.<br><br>\n",
    "\n",
    "- Market risk: The value of cryptocurrencies can be impacted by a variety of factors, including government regulations, technological advancements, and macroeconomic events. This can result in large losses for investors who hold a large position in a single asset and may not have diversified their investment portfolio adequately.<br><br>\n"
   ]
  },
  {
   "cell_type": "markdown",
   "id": "000e53ee",
   "metadata": {},
   "source": [
    "### How to tackle disadvantages:<br>\n",
    "\n",
    "- Diversification: To reduce market risk, it's important to have a well-diversified portfolio that includes a range of assets, including cryptocurrencies and other investment types. <br><br>\n",
    "\n",
    "- Market knowledge: Investors should educate themselves on the cryptocurrency market and stay up to date on news and events that may impact the value of their assets. This can help them make more informed investment decisions and potentially reduce the risk of losses.<br><br>\n",
    "\n",
    "- Minimize trading costs: Investors should seek out low-cost trading platforms and minimize the frequency of their trades to reduce the impact of trading costs on their overall returns.<br><br>\n",
    "\n",
    "- Market monitoring: Investors should monitor the market regularly to identify opportunities for buying and selling assets. By tracking market trends and fluctuations, they can potentially increase their returns and reduce the risk of losses.<br><br>\n",
    "\n"
   ]
  },
  {
   "cell_type": "markdown",
   "id": "c9cbe720",
   "metadata": {},
   "source": [
    "# Import Functions"
   ]
  },
  {
   "cell_type": "code",
   "execution_count": 874,
   "id": "8dc8ea13",
   "metadata": {},
   "outputs": [],
   "source": [
    "import matplotlib.pyplot as plt\n",
    "import pandas as pd\n",
    "import numpy as np\n",
    "import scipy as sp                                                                                                                                                                                                                                                                                                                                                                                                                                                                                                                                                                                                                                                                                                                                                                                                                                                                                                                                                                                                                                                                                                                                                                                                                                                                                                                                                                                                                                                                                                                                                                                                                                                                                                                                                                                                                                                                                                                                                                                                                                                                                                                                                                                                                                                                                                                                                                                                                                                                                                                                                                                                                                                                                                                                                                                                                                                                                                                                                                                                                                                                                                                                                                                                                                                                                                                                                                                                                                                                                                                                                                                                                                                                                                                                                                                                                                                                                                                                                                                                                                                                                                                                                                                                                                                                                                                                                                                                                                                                                                                                                                                                                                                                                                                                                                                                                                                                                                                                                                                                                                                                                                                                                                                                                                                                                                                                                                                                                                                                                                                                                                                                                                                                                                                                                                                                                                                                                                                                                                                                                                                                                                                                                                                                                                                                                                                                                                                                                                                                                                                                                                                                                                                                                                                                                                                                                                                                                                                                                                                                                                                                                                                                                                                                                                                                                                                                                                                                                                                                                                                                                                                                                                                                                                                                                                                                                                                                                                                                                                                                                                                                                                                                                                                                                                                                                                                                                                                                                                                                                                                                                                                                                                                                                                                                                                                                                                                                                                                                                                                                                                                                                                                                                                                                                                                                                                                                                                                                                                                                                                                                                                                                                                                                                                                                                                                                                                                                                                                                                                                                                                                                                                                                                                                                                                                                                                                                                                                                                                                                                                                                                                                                                                                                                                                                                                                                                                                                                                                                                                                                                                                                                                                                                                                                                                                                                                                                                                                                                                                                                                                                                                                                                                                                                                                                                                                                                                                                                                                                                                                                                                                                                                                                                                                                                                                                                                                                                                                                                                                                                                                                                                                                                                                                                                                                                                                                                                                                                                                                                                                                                                                                                                                                                                                                                                                                                                                                                                                                                                                                                                                                                                                                                                                                                                                                                                                                                                                                                                                                                                                                                                                                                                                                                                                                                                                                                                                                                                                                                                                                                                                                                                                                                                                                                                                                                                                                                                                                                                                                                                                                                                                                                                                                                                                                                                                                                                                                                                                                                                                                                                                                                                                                                                                                                                                                                                                                                                                                                                                                                                                                                                                                                                                                                                                                                                                                                                                                                                                                                                                                                                                                                                                                                                                                                                                                                                                                                                                                                                                                                                                                                                                                                                                                                                                                                                                                                                                                                                                                                                                                                                                                                                                                                                                                                                                                                                                                                                                                                                                                                                                                                                                                                                                                                                                                                                                                                                                                                                                                                                                                                                                                                                                                                                                                                                                                                                                                                                                                                                                                                                                                                                                                                                                                                                                                                                                                                                                                                                                                                                                                                                                                                                                                                                                                                                                                                                                                                                                                                                                                                                                                                                                                                                                                                                                                                                                                                                                                                                                                                                                                                                                                                                                                                                                                                                                                                                                                                                                                                                                                                                                                                                                                                                                                                                                                                                                                                                                                                                                                                                                                                                                                                                                                                                                                                                                                                                                                                                                                                                                                                                                                                                                                                                                                                                                                                                                                                                                                                                                                                                                                                                                                                                                                                                                                                                                                                                                                                                                                                                                                                                                                                                                                                                                                                                                                                                                                                                                                                                                                                                                                                                                                                                                                                                                                                                                                                                                                                                                                                                                                                                                                                                                                                                                                                                                                                                                                                                                                                                                                                                                                                                                                                                                                                                                                                                                                                                                                                                                                                                                                                                                                                                                                                                                                                                                                                                                                                                                                                                                                                                                                                                                                                                                                                                                                                                                                                                                                                                                                                                                                                                                                                                                                                                                                                                                                                                                                                                                                                                                                                                                                                                                                                                                                                                                                                                                                                                                                                                                                                                                                                                                                                                                                                                                                                                                                                                                                                                                                                                                                                                                                                                                                                                                                                                                                                                                                                                                                                                                                                                                                                                                                                                                                                                                                                                                                                                                                                                                                                                                                                                                                                                                                                                                                                                                                                                                                                                                                                                                                                                                                                                                                                                                                                                                                                                                                                                                                                                                                                                                                                                                                                                                                                                                                                                                                                                                                                                                                                                                                                                                                                                                                                                                                                                                                                                                                                                                                                                                                                                                                                                                                                                                                                                                                                                                                                                                                                                                                                                                                                                                                                                                                                                                                                                                                                                                                                                                                                                                                                                                                                                                                                                                                                                                                                                                                                                                                                                                                                                                                                                                                                                                                                                                                                                                                                                                                                                                                                                                                                                                                                                                                                                                                                                                                                                                                                                                                                                                                                                                                                                                                                                                                                                                                                                                                                                                                                                                                                                                                                                                                                                                                                                                                                                                                                                                                                                                                                                                                                                                                                                                                                                                                                                                                                                                                                                                                                                                                                                                                                                                                                                                                                                                                                                                                                                                                                                                                                                                                                                                                                                                                                                                                                                                                                                                                                                                                                                                                                                                                                                                                                                                                                                                                                                                                                                                                                                                                                                                                                                                                                                                                                                                                                                                                                                                                                                                                                                                                                                                                                                                                                                                                                                                                                                                                                                                                                                                                                                                                                                                                                                                                                                                                                                                                                                                                                                                                                                                                                                                                                                                                                                                                                                                                                                                                                                                                                                                                                                                                                                                                                                                                                                                                                                                                                                                                                                                                                                                                                                                                                                                                                                                                                                                                                                                                                                                                                                                                                                                                                                                                                                                                                                                                                                                                                                                                                                                                                                                                                                                                                                                                                                                                                                                                                                                                                                                                                                                                                                                                                                                                                                                                                                                                                                                                                                                                                                                                                                                                                                                                                                                                                                                                                                                                                                                                                                                                                                                                                                                                                                                                                                                                                                                                                                                                                                                                                                                                                                                                                                                               \n",
    "import datetime\n",
    "\n",
    "import quandl\n",
    "import functools\n",
    "import seaborn as sns\n",
    "import os\n",
    "from datetime import datetime\n",
    "from statsmodels.graphics.tsaplots import plot_acf,plot_pacf\n",
    "from statsmodels.tsa.stattools import adfuller\n",
    "from statsmodels.tsa.arima_model import ARIMA\n",
    "from scipy.stats import zscore\n",
    "pd.options.mode.chained_assignment = None \n",
    "import seaborn as sns\n",
    "import pandas_market_calendars as mcal\n",
    "from datetime import datetime, timedelta\n",
    "from sklearn.model_selection import train_test_split\n",
    "import statsmodels.api as sm"
   ]
  },
  {
   "cell_type": "markdown",
   "id": "080bda2e",
   "metadata": {},
   "source": [
    "### In this assignment, I would be analyzing BTC_USD, ETH_BTC and ETH_USD <br>"
   ]
  },
  {
   "cell_type": "markdown",
   "id": "69eb21cc",
   "metadata": {},
   "source": [
    "### BTC_USD:<br>\n",
    "- BTC/USD refers to the trading pair between Bitcoin (BTC) and the United States Dollar (USD). The price of Bitcoin is quoted in US dollars, and this trading pair represents the price of one Bitcoin in US dollars. This trading pair is widely traded on cryptocurrency exchanges, and is used by investors and traders to buy and sell Bitcoin using US dollars.<br><br>\n"
   ]
  },
  {
   "cell_type": "markdown",
   "id": "25d0f518",
   "metadata": {},
   "source": [
    "### ETH_BTC:<br>\n",
    "- ETH/BTC refers to the trading pair between Ethereum (ETH) and Bitcoin (BTC). The price of Ethereum is quoted in Bitcoin, and this trading pair represents the price of one Ethereum in Bitcoin. This trading pair is widely traded on cryptocurrency exchanges and is used by investors and traders to buy and sell Ethereum using Bitcoin.<br><br>\n"
   ]
  },
  {
   "cell_type": "markdown",
   "id": "c317b80c",
   "metadata": {},
   "source": [
    "### ETH_USD:<br>\n",
    "- ETH/USD refers to the trading pair between Ethereum (ETH) and the United States Dollar (USD). The price of Ethereum is quoted in US dollars, and this trading pair represents the price of one Ethereum in US dollars. This trading pair is widely traded on cryptocurrency exchanges and is used by investors and traders to buy and sell Ethereum using US dollars.<br><br>\n"
   ]
  },
  {
   "cell_type": "markdown",
   "id": "2a476ed9",
   "metadata": {},
   "source": [
    "# Reading the Data"
   ]
  },
  {
   "cell_type": "code",
   "execution_count": 679,
   "id": "7153be5d",
   "metadata": {},
   "outputs": [],
   "source": [
    "df_trades_btc_usd_2023 = pd.read_csv(r'C:\\Users\\Krishna Diggavi\\Downloads\\trades_narrow_BTC-USD_2023.delim.gz', sep=\"\\t\", compression='gzip')\n",
    "df_trades_eth_btc_2023 = pd.read_csv(r'C:\\Users\\Krishna Diggavi\\Downloads\\trades_narrow_ETH-BTC_2023.delim.gz', sep=\"\\t\", compression='gzip')\n",
    "df_trades_eth_usd_2023 = pd.read_csv(r'C:\\Users\\Krishna Diggavi\\Downloads\\trades_narrow_ETH-USD_2023.delim.gz', sep=\"\\t\", compression='gzip')"
   ]
  },
  {
   "cell_type": "code",
   "execution_count": 680,
   "id": "dd9000a7",
   "metadata": {},
   "outputs": [],
   "source": [
    "df_trades_btc_usd_2022 = pd.read_csv(r'C:\\Users\\Krishna Diggavi\\Downloads\\trades_narrow_BTC-USD_2022.delim.gz', sep=\"\\t\", compression='gzip')\n",
    "df_trades_eth_btc_2022 = pd.read_csv(r'C:\\Users\\Krishna Diggavi\\Downloads\\trades_narrow_ETH-BTC_2022.delim.gz', sep=\"\\t\", compression='gzip')\n",
    "df_trades_eth_usd_2022 = pd.read_csv(r'C:\\Users\\Krishna Diggavi\\Downloads\\trades_narrow_ETH-USD_2022.delim.gz', sep=\"\\t\", compression='gzip')"
   ]
  },
  {
   "cell_type": "code",
   "execution_count": 681,
   "id": "bec59913",
   "metadata": {},
   "outputs": [],
   "source": [
    "df_trades_btc_usd_2021 = pd.read_csv(r'C:\\Users\\Krishna Diggavi\\Downloads\\trades_narrow_BTC-USD_2021.delim.gz', sep=\"\\t\", compression='gzip')\n",
    "df_trades_eth_btc_2021 = pd.read_csv(r'C:\\Users\\Krishna Diggavi\\Downloads\\trades_narrow_ETH-BTC_2021.delim.gz', sep=\"\\t\", compression='gzip')\n",
    "df_trades_eth_usd_2021 = pd.read_csv(r'C:\\Users\\Krishna Diggavi\\Downloads\\trades_narrow_ETH-USD_2021.delim.gz', sep=\"\\t\", compression='gzip')"
   ]
  },
  {
   "cell_type": "markdown",
   "id": "509f6e65",
   "metadata": {},
   "source": [
    "### Sample data"
   ]
  },
  {
   "cell_type": "code",
   "execution_count": 682,
   "id": "889afd34",
   "metadata": {},
   "outputs": [
    {
     "data": {
      "text/html": [
       "<div>\n",
       "<style scoped>\n",
       "    .dataframe tbody tr th:only-of-type {\n",
       "        vertical-align: middle;\n",
       "    }\n",
       "\n",
       "    .dataframe tbody tr th {\n",
       "        vertical-align: top;\n",
       "    }\n",
       "\n",
       "    .dataframe thead th {\n",
       "        text-align: right;\n",
       "    }\n",
       "</style>\n",
       "<table border=\"1\" class=\"dataframe\">\n",
       "  <thead>\n",
       "    <tr style=\"text-align: right;\">\n",
       "      <th></th>\n",
       "      <th>received_utc_nanoseconds</th>\n",
       "      <th>timestamp_utc_nanoseconds</th>\n",
       "      <th>PriceMillionths</th>\n",
       "      <th>SizeBillionths</th>\n",
       "      <th>Side</th>\n",
       "    </tr>\n",
       "  </thead>\n",
       "  <tbody>\n",
       "    <tr>\n",
       "      <th>0</th>\n",
       "      <td>1618090136118837000</td>\n",
       "      <td>1618090132515484000</td>\n",
       "      <td>59120710000</td>\n",
       "      <td>9701240</td>\n",
       "      <td>-1.0</td>\n",
       "    </tr>\n",
       "    <tr>\n",
       "      <th>1</th>\n",
       "      <td>1618090136118594000</td>\n",
       "      <td>1618090132515484000</td>\n",
       "      <td>59125070000</td>\n",
       "      <td>8122450</td>\n",
       "      <td>-3.0</td>\n",
       "    </tr>\n",
       "    <tr>\n",
       "      <th>2</th>\n",
       "      <td>1618090136147838000</td>\n",
       "      <td>1618090132989553000</td>\n",
       "      <td>59119950000</td>\n",
       "      <td>6563880</td>\n",
       "      <td>-1.0</td>\n",
       "    </tr>\n",
       "    <tr>\n",
       "      <th>3</th>\n",
       "      <td>1618090136147583000</td>\n",
       "      <td>1618090132989553000</td>\n",
       "      <td>59125070000</td>\n",
       "      <td>614120</td>\n",
       "      <td>-1.0</td>\n",
       "    </tr>\n",
       "    <tr>\n",
       "      <th>4</th>\n",
       "      <td>1618090136153326000</td>\n",
       "      <td>1618090133074765000</td>\n",
       "      <td>59119950000</td>\n",
       "      <td>16995890</td>\n",
       "      <td>-1.0</td>\n",
       "    </tr>\n",
       "  </tbody>\n",
       "</table>\n",
       "</div>"
      ],
      "text/plain": [
       "   received_utc_nanoseconds  timestamp_utc_nanoseconds  PriceMillionths  \\\n",
       "0       1618090136118837000        1618090132515484000      59120710000   \n",
       "1       1618090136118594000        1618090132515484000      59125070000   \n",
       "2       1618090136147838000        1618090132989553000      59119950000   \n",
       "3       1618090136147583000        1618090132989553000      59125070000   \n",
       "4       1618090136153326000        1618090133074765000      59119950000   \n",
       "\n",
       "   SizeBillionths  Side  \n",
       "0         9701240  -1.0  \n",
       "1         8122450  -3.0  \n",
       "2         6563880  -1.0  \n",
       "3          614120  -1.0  \n",
       "4        16995890  -1.0  "
      ]
     },
     "execution_count": 682,
     "metadata": {},
     "output_type": "execute_result"
    }
   ],
   "source": [
    "df_trades_btc_usd_2021.head(5)"
   ]
  },
  {
   "cell_type": "code",
   "execution_count": 683,
   "id": "38dda99b",
   "metadata": {},
   "outputs": [
    {
     "data": {
      "text/html": [
       "<div>\n",
       "<style scoped>\n",
       "    .dataframe tbody tr th:only-of-type {\n",
       "        vertical-align: middle;\n",
       "    }\n",
       "\n",
       "    .dataframe tbody tr th {\n",
       "        vertical-align: top;\n",
       "    }\n",
       "\n",
       "    .dataframe thead th {\n",
       "        text-align: right;\n",
       "    }\n",
       "</style>\n",
       "<table border=\"1\" class=\"dataframe\">\n",
       "  <thead>\n",
       "    <tr style=\"text-align: right;\">\n",
       "      <th></th>\n",
       "      <th>received_utc_nanoseconds</th>\n",
       "      <th>timestamp_utc_nanoseconds</th>\n",
       "      <th>PriceMillionths</th>\n",
       "      <th>SizeBillionths</th>\n",
       "      <th>Side</th>\n",
       "    </tr>\n",
       "  </thead>\n",
       "  <tbody>\n",
       "    <tr>\n",
       "      <th>0</th>\n",
       "      <td>1643490176220148000</td>\n",
       "      <td>1643490169574850000</td>\n",
       "      <td>38383380000</td>\n",
       "      <td>938300</td>\n",
       "      <td>1.0</td>\n",
       "    </tr>\n",
       "    <tr>\n",
       "      <th>1</th>\n",
       "      <td>1643490176220541000</td>\n",
       "      <td>1643490169574850000</td>\n",
       "      <td>38387760000</td>\n",
       "      <td>8937830</td>\n",
       "      <td>1.0</td>\n",
       "    </tr>\n",
       "    <tr>\n",
       "      <th>2</th>\n",
       "      <td>1643490176220914000</td>\n",
       "      <td>1643490169574850000</td>\n",
       "      <td>38387770000</td>\n",
       "      <td>46454510</td>\n",
       "      <td>1.0</td>\n",
       "    </tr>\n",
       "    <tr>\n",
       "      <th>3</th>\n",
       "      <td>1643490176221462000</td>\n",
       "      <td>1643490169574850000</td>\n",
       "      <td>38388960000</td>\n",
       "      <td>14455400</td>\n",
       "      <td>2.0</td>\n",
       "    </tr>\n",
       "    <tr>\n",
       "      <th>4</th>\n",
       "      <td>1643490176221856000</td>\n",
       "      <td>1643490169574850000</td>\n",
       "      <td>38390720000</td>\n",
       "      <td>33673620</td>\n",
       "      <td>1.0</td>\n",
       "    </tr>\n",
       "  </tbody>\n",
       "</table>\n",
       "</div>"
      ],
      "text/plain": [
       "   received_utc_nanoseconds  timestamp_utc_nanoseconds  PriceMillionths  \\\n",
       "0       1643490176220148000        1643490169574850000      38383380000   \n",
       "1       1643490176220541000        1643490169574850000      38387760000   \n",
       "2       1643490176220914000        1643490169574850000      38387770000   \n",
       "3       1643490176221462000        1643490169574850000      38388960000   \n",
       "4       1643490176221856000        1643490169574850000      38390720000   \n",
       "\n",
       "   SizeBillionths  Side  \n",
       "0          938300   1.0  \n",
       "1         8937830   1.0  \n",
       "2        46454510   1.0  \n",
       "3        14455400   2.0  \n",
       "4        33673620   1.0  "
      ]
     },
     "execution_count": 683,
     "metadata": {},
     "output_type": "execute_result"
    }
   ],
   "source": [
    "df_trades_btc_usd_2022.head(5)"
   ]
  },
  {
   "cell_type": "code",
   "execution_count": 684,
   "id": "0e526ced",
   "metadata": {},
   "outputs": [
    {
     "data": {
      "text/html": [
       "<div>\n",
       "<style scoped>\n",
       "    .dataframe tbody tr th:only-of-type {\n",
       "        vertical-align: middle;\n",
       "    }\n",
       "\n",
       "    .dataframe tbody tr th {\n",
       "        vertical-align: top;\n",
       "    }\n",
       "\n",
       "    .dataframe thead th {\n",
       "        text-align: right;\n",
       "    }\n",
       "</style>\n",
       "<table border=\"1\" class=\"dataframe\">\n",
       "  <thead>\n",
       "    <tr style=\"text-align: right;\">\n",
       "      <th></th>\n",
       "      <th>received_utc_nanoseconds</th>\n",
       "      <th>timestamp_utc_nanoseconds</th>\n",
       "      <th>PriceMillionths</th>\n",
       "      <th>SizeBillionths</th>\n",
       "      <th>Side</th>\n",
       "    </tr>\n",
       "  </thead>\n",
       "  <tbody>\n",
       "    <tr>\n",
       "      <th>0</th>\n",
       "      <td>1674521267814309000</td>\n",
       "      <td>1674521267874527000</td>\n",
       "      <td>22970120000</td>\n",
       "      <td>87069600</td>\n",
       "      <td>-1</td>\n",
       "    </tr>\n",
       "    <tr>\n",
       "      <th>1</th>\n",
       "      <td>1674521267814046000</td>\n",
       "      <td>1674521267874527000</td>\n",
       "      <td>22970150000</td>\n",
       "      <td>25797600</td>\n",
       "      <td>-1</td>\n",
       "    </tr>\n",
       "    <tr>\n",
       "      <th>2</th>\n",
       "      <td>1674521267817981000</td>\n",
       "      <td>1674521267878712000</td>\n",
       "      <td>22970120000</td>\n",
       "      <td>10</td>\n",
       "      <td>-1</td>\n",
       "    </tr>\n",
       "    <tr>\n",
       "      <th>3</th>\n",
       "      <td>1674521267822734000</td>\n",
       "      <td>1674521267886114000</td>\n",
       "      <td>22969160000</td>\n",
       "      <td>217683140</td>\n",
       "      <td>-1</td>\n",
       "    </tr>\n",
       "    <tr>\n",
       "      <th>4</th>\n",
       "      <td>1674521274845338000</td>\n",
       "      <td>1674521268676444000</td>\n",
       "      <td>22969840000</td>\n",
       "      <td>10000000</td>\n",
       "      <td>1</td>\n",
       "    </tr>\n",
       "  </tbody>\n",
       "</table>\n",
       "</div>"
      ],
      "text/plain": [
       "   received_utc_nanoseconds  timestamp_utc_nanoseconds  PriceMillionths  \\\n",
       "0       1674521267814309000        1674521267874527000      22970120000   \n",
       "1       1674521267814046000        1674521267874527000      22970150000   \n",
       "2       1674521267817981000        1674521267878712000      22970120000   \n",
       "3       1674521267822734000        1674521267886114000      22969160000   \n",
       "4       1674521274845338000        1674521268676444000      22969840000   \n",
       "\n",
       "   SizeBillionths  Side  \n",
       "0        87069600    -1  \n",
       "1        25797600    -1  \n",
       "2              10    -1  \n",
       "3       217683140    -1  \n",
       "4        10000000     1  "
      ]
     },
     "execution_count": 684,
     "metadata": {},
     "output_type": "execute_result"
    }
   ],
   "source": [
    "df_trades_btc_usd_2023.head(5)"
   ]
  },
  {
   "cell_type": "markdown",
   "id": "212bebbc",
   "metadata": {},
   "source": [
    "# Procedure:"
   ]
  },
  {
   "cell_type": "markdown",
   "id": "69a08093",
   "metadata": {},
   "source": [
    "### Data Manuplation:\n",
    "\n",
    " - We convert the columns timestamp_utc_nanoseconds, SizeBillionths and PriceMillionths by dividing by respective units. <br><br>\n",
    " - We then separate the original dataframe into buy and sell dataframe based on if Side is greater or less than 1<br><br>\n",
    " - Now we run a loop to select the data to have timestamp from input time to range of 15 mins.<br><br>\n",
    " - We then separate the original dataframe into buy and sell dataframe based on if Side is greater or less than 1<br><br>\n",
    " - We then separate the original dataframe into buy and sell dataframe based on if Side is greater or less than 1<br><br>\n",
    "\n"
   ]
  },
  {
   "cell_type": "markdown",
   "id": "215ac9c2",
   "metadata": {},
   "source": [
    "### Implementation logic:\n",
    "\n",
    " - The logic we are using is first we check difference between time stamp of current and previous row.<br><br>\n",
    " - If time stamp diff is >0.1 sec, we participate in that particular trade. <br><br>\n",
    " - If time stamp diff is less than 0.1 sec, we now move on for next rows until we reach where time stamp again becomes >0.1 sec .<br><br>\n",
    " - For those rows with time stamp diff less than 0.1 sec, in case of buy, we choose the row with max price whereas in case of sell, we choose row with min price. <br><br>\n",
    " - In case, they have same price, we will choose the row with worst volume. <br><br>\n",
    " \n",
    "\n"
   ]
  },
  {
   "cell_type": "markdown",
   "id": "160618fa",
   "metadata": {},
   "source": [
    "### Calculating different metrics\n",
    "\n",
    " - At each stage, we will calculate p*Volume and keep a track of it till we reach the target quantity.<br><br>\n",
    " - we then calculate VWAP by taking cumulative sum of price*volume and dividing by cum sum of Volume. <br><br>\n",
    "\n",
    " - We calculate trading_cost_proportion of Notional by dividing the trading cost with VWAP value.<br><br>\n",
    " - We calculate the accumulated_price_proportion by taking mean of accumulated price divided by initial price.<br><br>\n",
    " - We calculate the deviation by subracting the cumuulative sum of volume by Target quantity.<br><br>\n",
    " - We calculate the accumulated_quantity_proportion by dividing the cumuulative sum of volume by Target quantity.<br><br>\n"
   ]
  },
  {
   "cell_type": "markdown",
   "id": "255a9d27",
   "metadata": {},
   "source": [
    "#Function to perform all the above steps:"
   ]
  },
  {
   "cell_type": "code",
   "execution_count": 685,
   "id": "6c9440b7",
   "metadata": {},
   "outputs": [],
   "source": [
    "def analysis(df, Q, p, crypto_currency_flag, arrival_time):\n",
    "    df_buy =pd.DataFrame()\n",
    "    df_sell = pd.DataFrame()\n",
    "    all_buy_orders = pd.DataFrame()\n",
    "    all_sell_orders = pd.DataFrame()\n",
    "    buy_ =pd.DataFrame()\n",
    "    sell_ = pd.DataFrame()\n",
    "    buy_orders = []\n",
    "    sell_orders = []\n",
    "    \n",
    "    df1 = df.copy()\n",
    "    \n",
    "    df1['timestamp'] = pd.to_datetime(df1['timestamp_utc_nanoseconds'] / 10**9, unit='s')\n",
    "    df1['SizeBillionths'] = df1['SizeBillionths']/10e9\n",
    "    df1['PriceMillionths'] = df1['PriceMillionths']/10e6\n",
    "    df_buy = df1[df1['Side']>0]\n",
    "    df_sell = df1[df1['Side']<0]\n",
    "    df_buy['timestamp_diff'] = df_buy['timestamp'].diff()\n",
    "    df_sell['timestamp_diff'] = df_sell['timestamp'].diff()\n",
    "    range_time = 15\n",
    "\n",
    "    for m in range(len(df1)):\n",
    "        if (df1['timestamp'].loc[m])<= pd.to_datetime(arrival_time) + timedelta(minutes=range_time):\n",
    "            num = (df1['PriceMillionths'] *df1['SizeBillionths']).sum()\n",
    "            Total_Volume = df1['SizeBillionths'].sum()\n",
    "            mkt_vwap = num/Total_Volume\n",
    "            break\n",
    "    \n",
    "    for z in range(len(df_buy)):\n",
    "        if z in df_buy.index:\n",
    "            if (df_buy['timestamp'].loc[z])<= pd.to_datetime(arrival_time) + timedelta(minutes=range_time):\n",
    "                buy_.loc[z, 'received_utc_nanoseconds'] = df_buy.loc[z,'received_utc_nanoseconds']\n",
    "                buy_.loc[z,'timestamp_utc_nanoseconds '] =  df_buy.loc[z,'timestamp_utc_nanoseconds']\n",
    "                buy_.loc[z,'PriceMillionths'] = df_buy.loc[z,'PriceMillionths']\n",
    "                buy_.loc[z,'SizeBillionths'] = df_buy.loc[z,'SizeBillionths'] \n",
    "                buy_.loc[z,'Side'] = df_buy.loc[z,'Side']\n",
    "                buy_.loc[z,'timestamp'] = df_buy.loc[z,'timestamp']\n",
    "                buy_.loc[z,'timestamp_diff'] = df_buy.loc[z,'timestamp_diff']\n",
    "\n",
    "    buy_orders.append(buy_)\n",
    "    all_buy_orders = pd.concat(buy_orders)\n",
    "    all_buy_orders = all_buy_orders.reset_index(drop=True)\n",
    "    all_buy_orders['timestamp_diff_mask'] = all_buy_orders['timestamp_diff'] < timedelta(seconds=0.1)    \n",
    "\n",
    "\n",
    "    all_buy_orders['price_grouped'] = 0\n",
    "    i = 0\n",
    "    while i < len(all_buy_orders) - 1:\n",
    "        j = i + 1\n",
    "        while (j < len(all_buy_orders)) and (all_buy_orders['timestamp'][j] - all_buy_orders['timestamp'][j-1]) < timedelta(seconds=0.1):\n",
    "            j += 1\n",
    "        if j > i + 1:\n",
    "            max_price = max(all_buy_orders['PriceMillionths'][i:j])\n",
    "            max_price_rows = all_buy_orders[(all_buy_orders['PriceMillionths'] == max_price) & (all_buy_orders.index >= i) & (all_buy_orders.index < j)].sort_values(by='SizeBillionths', ascending=True)\n",
    "            max_index = max_price_rows.index[0]\n",
    "            all_buy_orders.at[max_index, 'price_grouped'] = max_price\n",
    "        else:\n",
    "            all_buy_orders.at[i, 'price_grouped'] = all_buy_orders.at[i, 'PriceMillionths']\n",
    "        i = j\n",
    "    \n",
    "\n",
    "    all_buy_orders['volume'] = all_buy_orders.apply(lambda x: 0 if x['price_grouped'] == 0 else x['SizeBillionths'], axis=1)\n",
    "    all_buy_orders['target_check'] = all_buy_orders['volume']*p\n",
    "    all_buy_orders['target_check_cum'] = all_buy_orders['target_check'].cumsum()\n",
    "\n",
    "    \n",
    "    row_number_buy = (all_buy_orders['target_check_cum'] >= Q).idxmax()\n",
    "    if row_number_buy!= 0:\n",
    "        all_buy_orders = all_buy_orders.iloc[:row_number_buy+1]\n",
    "    else:\n",
    "        all_buy_orders = all_buy_orders\n",
    "\n",
    "\n",
    "    VWAP_buy = (all_buy_orders['price_grouped'] * all_buy_orders['target_check']).sum() / all_buy_orders['target_check'].sum()\n",
    "\n",
    "    if crypto_currency_flag == 'True':\n",
    "        transcation_fees_buy = VWAP_buy*0.005\n",
    "        transcation_fees_buy\n",
    "    else:\n",
    "        transcation_fees_buy = VWAP_buy*0.001\n",
    "        transcation_fees_buy\n",
    "\n",
    "    time_buy = all_buy_orders['timestamp'].iloc[-1] - all_buy_orders['timestamp'].iloc[0]\n",
    "    \n",
    "    accumulated_price_buy = all_buy_orders['price_grouped'].sum()\n",
    "    trading_cost_proportion_buy = transcation_fees_buy/accumulated_price_buy\n",
    "    \n",
    "    accumulated_price_buy_average = all_buy_orders['price_grouped'].mean()\n",
    "    arrival_price = all_buy_orders['price_grouped'][0]\n",
    "    accumulated_price_proportion_buy = accumulated_price_buy_average/arrival_price\n",
    "    \n",
    "    accumulated_quantity_buy  = all_buy_orders['target_check_cum'].tail(1).values[0]\n",
    "    accumulated_quantity_proportion_buy = accumulated_quantity_buy/Q\n",
    "    \n",
    "    deviation_buy = accumulated_quantity_buy - Q\n",
    "        \n",
    "    if accumulated_quantity_proportion_buy>=1:\n",
    "        trade_completeness_buy = 'Completed'\n",
    "    else:\n",
    "        trade_completeness_buy = 'Not Completed'\n",
    "\n",
    "    analysis_buy_values = [VWAP_buy,transcation_fees_buy,time_buy,trading_cost_proportion_buy,accumulated_price_proportion_buy,accumulated_quantity_proportion_buy, deviation_buy,trade_completeness_buy]\n",
    "    analysis_buy = pd.DataFrame(analysis_buy_values, index=['VWAP_buy', 'transcation_fees_buy', 'time_buy', 'trading_cost_proportion_buy', 'accumulated_price_proportion_buy','accumulated_quantity_proportion_buy', 'deviation_buy','trade_completeness_buy'], columns=['analysis_buy'])\n",
    "\n",
    "### Code for the sell part-\n",
    "    \n",
    "    for l in range(len(df_sell)):\n",
    "        if l in df_sell.index:\n",
    "            if (df_sell['timestamp'].loc[l])<= pd.to_datetime(arrival_time) + timedelta(minutes=range_time):\n",
    "                sell_.loc[l, 'received_utc_nanoseconds'] = df_sell.loc[l,'received_utc_nanoseconds']\n",
    "                sell_.loc[l,'timestamp_utc_nanoseconds '] =  df_sell.loc[l,'timestamp_utc_nanoseconds']\n",
    "                sell_.loc[l,'PriceMillionths'] = df_sell.loc[l,'PriceMillionths']\n",
    "                sell_.loc[l,'SizeBillionths'] = df_sell.loc[l,'SizeBillionths'] \n",
    "                sell_.loc[l,'Side'] = df_sell.loc[l,'Side']\n",
    "                sell_.loc[l,'timestamp'] = df_sell.loc[l,'timestamp']\n",
    "                sell_.loc[l,'timestamp_diff'] = df_sell.loc[l,'timestamp_diff']\n",
    "\n",
    "    sell_orders.append(sell_)\n",
    "    all_sell_orders = pd.concat(sell_orders)\n",
    "    all_sell_orders = all_sell_orders.reset_index(drop=True)\n",
    "    all_sell_orders['timestamp_diff_mask'] = all_sell_orders['timestamp_diff'] < timedelta(seconds=0.1)    \n",
    "\n",
    "\n",
    "    all_sell_orders['price_grouped'] = 0\n",
    "    i = 0\n",
    "    while i < len(all_sell_orders) - 1:\n",
    "        j = i + 1\n",
    "        while (j < len(all_sell_orders)) and (all_sell_orders['timestamp'][j] - all_sell_orders['timestamp'][j-1]) < timedelta(seconds=0.1):\n",
    "            j += 1\n",
    "        if j > i + 1:\n",
    "            min_price = min(all_sell_orders['PriceMillionths'][i:j])\n",
    "            min_price_rows = all_sell_orders[(all_sell_orders['PriceMillionths'] == min_price) & (all_sell_orders.index >= i) & (all_sell_orders.index < j)].sort_values(by='SizeBillionths', ascending=True)\n",
    "            min_index = min_price_rows.index[0]\n",
    "            all_sell_orders.at[min_index, 'price_grouped'] = min_price\n",
    "        else:\n",
    "            all_sell_orders.at[i, 'price_grouped'] = all_sell_orders.at[i, 'PriceMillionths']\n",
    "        i = j\n",
    "    \n",
    "\n",
    "    all_sell_orders['volume'] = all_sell_orders.apply(lambda x: 0 if x['price_grouped'] == 0 else x['SizeBillionths'], axis=1)\n",
    "    all_sell_orders['target_check'] = all_sell_orders['volume']*p\n",
    "    all_sell_orders['target_check_cum'] = all_sell_orders['target_check'].cumsum()\n",
    "\n",
    "    \n",
    "    row_number_sell = (all_sell_orders['target_check_cum'] >= Q).idxmax()\n",
    "    if row_number_sell != 0:\n",
    "        all_sell_orders = all_sell_orders.iloc[:row_number_sell+1]\n",
    "    else:\n",
    "        all_sell_orders = all_sell_orders\n",
    "\n",
    "    \n",
    "    VWAP_sell = (all_sell_orders['price_grouped'] * all_sell_orders['target_check']).sum() / all_sell_orders['target_check'].sum()\n",
    "\n",
    "    if crypto_currency_flag == 'True':\n",
    "        transcation_fees_sell = VWAP_sell*0.005\n",
    "        transcation_fees_sell\n",
    "    else:\n",
    "        transcation_fees_sell = VWAP_sell*0.001\n",
    "        transcation_fees_sell\n",
    "\n",
    "    time_sell = all_sell_orders['timestamp'].iloc[-1] - all_sell_orders['timestamp'].iloc[0]\n",
    "    \n",
    "    accumulated_price_sell = all_sell_orders['price_grouped'].sum()\n",
    "    trading_cost_proportion_sell = transcation_fees_sell/accumulated_price_sell\n",
    "    \n",
    "    accumulated_price_sell_average = all_sell_orders['price_grouped'].mean()\n",
    "    arrival_price_sell = all_sell_orders['price_grouped'][0]\n",
    "    accumulated_price_proportion_sell = accumulated_price_sell_average/arrival_price_sell\n",
    "    \n",
    "    accumulated_quantity_sell  = all_sell_orders['target_check_cum'].tail(1).values[0]\n",
    "    accumulated_quantity_proportion_sell = accumulated_quantity_sell/Q\n",
    "    \n",
    "    deviation_sell = accumulated_quantity_sell - Q\n",
    "        \n",
    "    if accumulated_quantity_proportion_sell>=1:\n",
    "        trade_completeness_sell = 'Completed'\n",
    "    else:\n",
    "        trade_completeness_sell = 'Not Completed'\n",
    "\n",
    "    analysis_sell_values = [VWAP_sell,transcation_fees_sell,time_sell,trading_cost_proportion_sell,accumulated_price_proportion_sell,accumulated_quantity_proportion_sell, deviation_sell,trade_completeness_sell]\n",
    "    analysis_sell = pd.DataFrame(analysis_sell_values, index=['VWAP_sell', 'transcation_fees_sell', 'time_sell', 'trading_cost_proportion_sell', 'accumulated_price_proportion_sell','accumulated_quantity_proportion_sell', 'deviation_sell','trade_completeness_sell'], columns=['analysis_sell'])\n",
    "    \n",
    "\n",
    "    \n",
    "    return all_buy_orders, all_sell_orders, analysis_buy, analysis_sell, mkt_vwap\n",
    "\n"
   ]
  },
  {
   "cell_type": "markdown",
   "id": "d87f4b7d",
   "metadata": {},
   "source": [
    "# ETH_BTC_2021 Data"
   ]
  },
  {
   "cell_type": "code",
   "execution_count": 906,
   "id": "ea681179",
   "metadata": {},
   "outputs": [],
   "source": [
    "ETH_BTC_2021_buy_data, ETH_BTC_2021_sell_data, ETH_BTC_2021_buy_analysis,ETH_BTC_2021_sell_analysis, ETH_BTC_2021_Total_Market_VWAP = analysis(df_trades_eth_btc_2021, 0.1, 0.04, False,'2021-04-10 21:28:57.864544000')\n",
    "\n"
   ]
  },
  {
   "cell_type": "code",
   "execution_count": 907,
   "id": "a383f74a",
   "metadata": {},
   "outputs": [
    {
     "data": {
      "text/html": [
       "<div>\n",
       "<style scoped>\n",
       "    .dataframe tbody tr th:only-of-type {\n",
       "        vertical-align: middle;\n",
       "    }\n",
       "\n",
       "    .dataframe tbody tr th {\n",
       "        vertical-align: top;\n",
       "    }\n",
       "\n",
       "    .dataframe thead th {\n",
       "        text-align: right;\n",
       "    }\n",
       "</style>\n",
       "<table border=\"1\" class=\"dataframe\">\n",
       "  <thead>\n",
       "    <tr style=\"text-align: right;\">\n",
       "      <th></th>\n",
       "      <th>received_utc_nanoseconds</th>\n",
       "      <th>timestamp_utc_nanoseconds</th>\n",
       "      <th>PriceMillionths</th>\n",
       "      <th>SizeBillionths</th>\n",
       "      <th>Side</th>\n",
       "      <th>timestamp</th>\n",
       "      <th>timestamp_diff</th>\n",
       "      <th>timestamp_diff_mask</th>\n",
       "      <th>price_grouped</th>\n",
       "      <th>volume</th>\n",
       "      <th>target_check</th>\n",
       "      <th>target_check_cum</th>\n",
       "    </tr>\n",
       "  </thead>\n",
       "  <tbody>\n",
       "    <tr>\n",
       "      <th>0</th>\n",
       "      <td>1.618090e+18</td>\n",
       "      <td>1.618090e+18</td>\n",
       "      <td>0.003570</td>\n",
       "      <td>0.002980</td>\n",
       "      <td>2.0</td>\n",
       "      <td>2021-04-10 21:28:57.864544000</td>\n",
       "      <td>NaT</td>\n",
       "      <td>False</td>\n",
       "      <td>0.003570</td>\n",
       "      <td>0.002980</td>\n",
       "      <td>0.000119</td>\n",
       "      <td>0.000119</td>\n",
       "    </tr>\n",
       "    <tr>\n",
       "      <th>1</th>\n",
       "      <td>1.618090e+18</td>\n",
       "      <td>1.618090e+18</td>\n",
       "      <td>0.003570</td>\n",
       "      <td>0.000464</td>\n",
       "      <td>1.0</td>\n",
       "      <td>2021-04-10 21:29:03.793908992</td>\n",
       "      <td>0 days 00:00:05.929364992</td>\n",
       "      <td>False</td>\n",
       "      <td>0.003570</td>\n",
       "      <td>0.000464</td>\n",
       "      <td>0.000019</td>\n",
       "      <td>0.000138</td>\n",
       "    </tr>\n",
       "    <tr>\n",
       "      <th>2</th>\n",
       "      <td>1.618090e+18</td>\n",
       "      <td>1.618090e+18</td>\n",
       "      <td>0.003571</td>\n",
       "      <td>0.000100</td>\n",
       "      <td>1.0</td>\n",
       "      <td>2021-04-10 21:29:15.053605888</td>\n",
       "      <td>0 days 00:00:11.259696896</td>\n",
       "      <td>False</td>\n",
       "      <td>0.000000</td>\n",
       "      <td>0.000000</td>\n",
       "      <td>0.000000</td>\n",
       "      <td>0.000138</td>\n",
       "    </tr>\n",
       "    <tr>\n",
       "      <th>3</th>\n",
       "      <td>1.618090e+18</td>\n",
       "      <td>1.618090e+18</td>\n",
       "      <td>0.003572</td>\n",
       "      <td>0.023136</td>\n",
       "      <td>1.0</td>\n",
       "      <td>2021-04-10 21:29:15.053605888</td>\n",
       "      <td>0 days 00:00:00</td>\n",
       "      <td>True</td>\n",
       "      <td>0.003572</td>\n",
       "      <td>0.023136</td>\n",
       "      <td>0.000925</td>\n",
       "      <td>0.001063</td>\n",
       "    </tr>\n",
       "    <tr>\n",
       "      <th>4</th>\n",
       "      <td>1.618090e+18</td>\n",
       "      <td>1.618090e+18</td>\n",
       "      <td>0.003572</td>\n",
       "      <td>0.007600</td>\n",
       "      <td>1.0</td>\n",
       "      <td>2021-04-10 21:29:15.545750016</td>\n",
       "      <td>0 days 00:00:00.492144128</td>\n",
       "      <td>False</td>\n",
       "      <td>0.003572</td>\n",
       "      <td>0.007600</td>\n",
       "      <td>0.000304</td>\n",
       "      <td>0.001367</td>\n",
       "    </tr>\n",
       "  </tbody>\n",
       "</table>\n",
       "</div>"
      ],
      "text/plain": [
       "   received_utc_nanoseconds  timestamp_utc_nanoseconds   PriceMillionths  \\\n",
       "0              1.618090e+18                1.618090e+18         0.003570   \n",
       "1              1.618090e+18                1.618090e+18         0.003570   \n",
       "2              1.618090e+18                1.618090e+18         0.003571   \n",
       "3              1.618090e+18                1.618090e+18         0.003572   \n",
       "4              1.618090e+18                1.618090e+18         0.003572   \n",
       "\n",
       "   SizeBillionths  Side                     timestamp  \\\n",
       "0        0.002980   2.0 2021-04-10 21:28:57.864544000   \n",
       "1        0.000464   1.0 2021-04-10 21:29:03.793908992   \n",
       "2        0.000100   1.0 2021-04-10 21:29:15.053605888   \n",
       "3        0.023136   1.0 2021-04-10 21:29:15.053605888   \n",
       "4        0.007600   1.0 2021-04-10 21:29:15.545750016   \n",
       "\n",
       "              timestamp_diff  timestamp_diff_mask  price_grouped    volume  \\\n",
       "0                        NaT                False       0.003570  0.002980   \n",
       "1  0 days 00:00:05.929364992                False       0.003570  0.000464   \n",
       "2  0 days 00:00:11.259696896                False       0.000000  0.000000   \n",
       "3            0 days 00:00:00                 True       0.003572  0.023136   \n",
       "4  0 days 00:00:00.492144128                False       0.003572  0.007600   \n",
       "\n",
       "   target_check  target_check_cum  \n",
       "0      0.000119          0.000119  \n",
       "1      0.000019          0.000138  \n",
       "2      0.000000          0.000138  \n",
       "3      0.000925          0.001063  \n",
       "4      0.000304          0.001367  "
      ]
     },
     "execution_count": 907,
     "metadata": {},
     "output_type": "execute_result"
    }
   ],
   "source": [
    "ETH_BTC_2021_buy_data.head()"
   ]
  },
  {
   "cell_type": "code",
   "execution_count": 908,
   "id": "5844269b",
   "metadata": {},
   "outputs": [
    {
     "data": {
      "text/html": [
       "<div>\n",
       "<style scoped>\n",
       "    .dataframe tbody tr th:only-of-type {\n",
       "        vertical-align: middle;\n",
       "    }\n",
       "\n",
       "    .dataframe tbody tr th {\n",
       "        vertical-align: top;\n",
       "    }\n",
       "\n",
       "    .dataframe thead th {\n",
       "        text-align: right;\n",
       "    }\n",
       "</style>\n",
       "<table border=\"1\" class=\"dataframe\">\n",
       "  <thead>\n",
       "    <tr style=\"text-align: right;\">\n",
       "      <th></th>\n",
       "      <th>received_utc_nanoseconds</th>\n",
       "      <th>timestamp_utc_nanoseconds</th>\n",
       "      <th>PriceMillionths</th>\n",
       "      <th>SizeBillionths</th>\n",
       "      <th>Side</th>\n",
       "      <th>timestamp</th>\n",
       "      <th>timestamp_diff</th>\n",
       "      <th>timestamp_diff_mask</th>\n",
       "      <th>price_grouped</th>\n",
       "      <th>volume</th>\n",
       "      <th>target_check</th>\n",
       "      <th>target_check_cum</th>\n",
       "    </tr>\n",
       "  </thead>\n",
       "  <tbody>\n",
       "    <tr>\n",
       "      <th>0</th>\n",
       "      <td>1.618090e+18</td>\n",
       "      <td>1.618090e+18</td>\n",
       "      <td>0.003569</td>\n",
       "      <td>0.000100</td>\n",
       "      <td>-1.0</td>\n",
       "      <td>2021-04-10 21:28:57.157543936</td>\n",
       "      <td>NaT</td>\n",
       "      <td>False</td>\n",
       "      <td>0.003569</td>\n",
       "      <td>0.000100</td>\n",
       "      <td>0.000004</td>\n",
       "      <td>0.000004</td>\n",
       "    </tr>\n",
       "    <tr>\n",
       "      <th>1</th>\n",
       "      <td>1.618090e+18</td>\n",
       "      <td>1.618090e+18</td>\n",
       "      <td>0.003571</td>\n",
       "      <td>0.000475</td>\n",
       "      <td>-1.0</td>\n",
       "      <td>2021-04-10 21:29:20.091650048</td>\n",
       "      <td>0 days 00:00:22.934106112</td>\n",
       "      <td>False</td>\n",
       "      <td>0.003571</td>\n",
       "      <td>0.000475</td>\n",
       "      <td>0.000019</td>\n",
       "      <td>0.000023</td>\n",
       "    </tr>\n",
       "    <tr>\n",
       "      <th>2</th>\n",
       "      <td>1.618090e+18</td>\n",
       "      <td>1.618090e+18</td>\n",
       "      <td>0.003571</td>\n",
       "      <td>0.023790</td>\n",
       "      <td>-1.0</td>\n",
       "      <td>2021-04-10 21:29:27.165092096</td>\n",
       "      <td>0 days 00:00:07.073442048</td>\n",
       "      <td>False</td>\n",
       "      <td>0.003571</td>\n",
       "      <td>0.023790</td>\n",
       "      <td>0.000952</td>\n",
       "      <td>0.000975</td>\n",
       "    </tr>\n",
       "    <tr>\n",
       "      <th>3</th>\n",
       "      <td>1.618090e+18</td>\n",
       "      <td>1.618090e+18</td>\n",
       "      <td>0.003572</td>\n",
       "      <td>0.004742</td>\n",
       "      <td>-1.0</td>\n",
       "      <td>2021-04-10 21:29:42.538196992</td>\n",
       "      <td>0 days 00:00:15.373104896</td>\n",
       "      <td>False</td>\n",
       "      <td>0.003572</td>\n",
       "      <td>0.004742</td>\n",
       "      <td>0.000190</td>\n",
       "      <td>0.001164</td>\n",
       "    </tr>\n",
       "    <tr>\n",
       "      <th>4</th>\n",
       "      <td>1.618090e+18</td>\n",
       "      <td>1.618090e+18</td>\n",
       "      <td>0.003572</td>\n",
       "      <td>0.000322</td>\n",
       "      <td>-1.0</td>\n",
       "      <td>2021-04-10 21:29:47.958198016</td>\n",
       "      <td>0 days 00:00:05.420001024</td>\n",
       "      <td>False</td>\n",
       "      <td>0.003572</td>\n",
       "      <td>0.000322</td>\n",
       "      <td>0.000013</td>\n",
       "      <td>0.001177</td>\n",
       "    </tr>\n",
       "  </tbody>\n",
       "</table>\n",
       "</div>"
      ],
      "text/plain": [
       "   received_utc_nanoseconds  timestamp_utc_nanoseconds   PriceMillionths  \\\n",
       "0              1.618090e+18                1.618090e+18         0.003569   \n",
       "1              1.618090e+18                1.618090e+18         0.003571   \n",
       "2              1.618090e+18                1.618090e+18         0.003571   \n",
       "3              1.618090e+18                1.618090e+18         0.003572   \n",
       "4              1.618090e+18                1.618090e+18         0.003572   \n",
       "\n",
       "   SizeBillionths  Side                     timestamp  \\\n",
       "0        0.000100  -1.0 2021-04-10 21:28:57.157543936   \n",
       "1        0.000475  -1.0 2021-04-10 21:29:20.091650048   \n",
       "2        0.023790  -1.0 2021-04-10 21:29:27.165092096   \n",
       "3        0.004742  -1.0 2021-04-10 21:29:42.538196992   \n",
       "4        0.000322  -1.0 2021-04-10 21:29:47.958198016   \n",
       "\n",
       "              timestamp_diff  timestamp_diff_mask  price_grouped    volume  \\\n",
       "0                        NaT                False       0.003569  0.000100   \n",
       "1  0 days 00:00:22.934106112                False       0.003571  0.000475   \n",
       "2  0 days 00:00:07.073442048                False       0.003571  0.023790   \n",
       "3  0 days 00:00:15.373104896                False       0.003572  0.004742   \n",
       "4  0 days 00:00:05.420001024                False       0.003572  0.000322   \n",
       "\n",
       "   target_check  target_check_cum  \n",
       "0      0.000004          0.000004  \n",
       "1      0.000019          0.000023  \n",
       "2      0.000952          0.000975  \n",
       "3      0.000190          0.001164  \n",
       "4      0.000013          0.001177  "
      ]
     },
     "execution_count": 908,
     "metadata": {},
     "output_type": "execute_result"
    }
   ],
   "source": [
    "ETH_BTC_2021_sell_data.head()"
   ]
  },
  {
   "cell_type": "code",
   "execution_count": 909,
   "id": "c67cd9ea",
   "metadata": {},
   "outputs": [
    {
     "data": {
      "text/html": [
       "<div>\n",
       "<style scoped>\n",
       "    .dataframe tbody tr th:only-of-type {\n",
       "        vertical-align: middle;\n",
       "    }\n",
       "\n",
       "    .dataframe tbody tr th {\n",
       "        vertical-align: top;\n",
       "    }\n",
       "\n",
       "    .dataframe thead th {\n",
       "        text-align: right;\n",
       "    }\n",
       "</style>\n",
       "<table border=\"1\" class=\"dataframe\">\n",
       "  <thead>\n",
       "    <tr style=\"text-align: right;\">\n",
       "      <th></th>\n",
       "      <th>VWAP_buy</th>\n",
       "      <th>transcation_fees_buy</th>\n",
       "      <th>time_buy</th>\n",
       "      <th>trading_cost_proportion_buy</th>\n",
       "      <th>accumulated_price_proportion_buy</th>\n",
       "      <th>accumulated_quantity_proportion_buy</th>\n",
       "      <th>deviation_buy</th>\n",
       "      <th>trade_completeness_buy</th>\n",
       "    </tr>\n",
       "  </thead>\n",
       "  <tbody>\n",
       "    <tr>\n",
       "      <th>analysis_buy</th>\n",
       "      <td>0.003568</td>\n",
       "      <td>0.000004</td>\n",
       "      <td>0 days 00:03:23.736091904</td>\n",
       "      <td>0.000037</td>\n",
       "      <td>0.930938</td>\n",
       "      <td>1.007904</td>\n",
       "      <td>0.00079</td>\n",
       "      <td>Completed</td>\n",
       "    </tr>\n",
       "  </tbody>\n",
       "</table>\n",
       "</div>"
      ],
      "text/plain": [
       "              VWAP_buy transcation_fees_buy                  time_buy  \\\n",
       "analysis_buy  0.003568             0.000004 0 days 00:03:23.736091904   \n",
       "\n",
       "             trading_cost_proportion_buy accumulated_price_proportion_buy  \\\n",
       "analysis_buy                    0.000037                         0.930938   \n",
       "\n",
       "             accumulated_quantity_proportion_buy deviation_buy  \\\n",
       "analysis_buy                            1.007904       0.00079   \n",
       "\n",
       "             trade_completeness_buy  \n",
       "analysis_buy              Completed  "
      ]
     },
     "execution_count": 909,
     "metadata": {},
     "output_type": "execute_result"
    }
   ],
   "source": [
    "ETH_BTC_2021_buy_analysis.transpose()"
   ]
  },
  {
   "cell_type": "code",
   "execution_count": 910,
   "id": "a472e72d",
   "metadata": {},
   "outputs": [
    {
     "data": {
      "text/html": [
       "<div>\n",
       "<style scoped>\n",
       "    .dataframe tbody tr th:only-of-type {\n",
       "        vertical-align: middle;\n",
       "    }\n",
       "\n",
       "    .dataframe tbody tr th {\n",
       "        vertical-align: top;\n",
       "    }\n",
       "\n",
       "    .dataframe thead th {\n",
       "        text-align: right;\n",
       "    }\n",
       "</style>\n",
       "<table border=\"1\" class=\"dataframe\">\n",
       "  <thead>\n",
       "    <tr style=\"text-align: right;\">\n",
       "      <th></th>\n",
       "      <th>VWAP_sell</th>\n",
       "      <th>transcation_fees_sell</th>\n",
       "      <th>time_sell</th>\n",
       "      <th>trading_cost_proportion_sell</th>\n",
       "      <th>accumulated_price_proportion_sell</th>\n",
       "      <th>accumulated_quantity_proportion_sell</th>\n",
       "      <th>deviation_sell</th>\n",
       "      <th>trade_completeness_sell</th>\n",
       "    </tr>\n",
       "  </thead>\n",
       "  <tbody>\n",
       "    <tr>\n",
       "      <th>analysis_sell</th>\n",
       "      <td>0.003573</td>\n",
       "      <td>0.000004</td>\n",
       "      <td>0 days 00:14:22.117733120</td>\n",
       "      <td>0.000016</td>\n",
       "      <td>0.938651</td>\n",
       "      <td>1.334262</td>\n",
       "      <td>0.033426</td>\n",
       "      <td>Completed</td>\n",
       "    </tr>\n",
       "  </tbody>\n",
       "</table>\n",
       "</div>"
      ],
      "text/plain": [
       "              VWAP_sell transcation_fees_sell                 time_sell  \\\n",
       "analysis_sell  0.003573              0.000004 0 days 00:14:22.117733120   \n",
       "\n",
       "              trading_cost_proportion_sell accumulated_price_proportion_sell  \\\n",
       "analysis_sell                     0.000016                          0.938651   \n",
       "\n",
       "              accumulated_quantity_proportion_sell deviation_sell  \\\n",
       "analysis_sell                             1.334262       0.033426   \n",
       "\n",
       "              trade_completeness_sell  \n",
       "analysis_sell               Completed  "
      ]
     },
     "execution_count": 910,
     "metadata": {},
     "output_type": "execute_result"
    }
   ],
   "source": [
    "ETH_BTC_2021_sell_analysis.transpose()"
   ]
  },
  {
   "cell_type": "code",
   "execution_count": 911,
   "id": "e6f12b4d",
   "metadata": {},
   "outputs": [
    {
     "data": {
      "text/plain": [
       "0.0035744581848260147"
      ]
     },
     "execution_count": 911,
     "metadata": {},
     "output_type": "execute_result"
    }
   ],
   "source": [
    "ETH_BTC_2021_Total_Market_VWAP"
   ]
  },
  {
   "cell_type": "code",
   "execution_count": null,
   "id": "e5f6be9d",
   "metadata": {},
   "outputs": [],
   "source": []
  },
  {
   "cell_type": "markdown",
   "id": "32d1a45c",
   "metadata": {},
   "source": [
    "# ETH_BTC_2022 Data"
   ]
  },
  {
   "cell_type": "code",
   "execution_count": 912,
   "id": "890ebe93",
   "metadata": {},
   "outputs": [],
   "source": [
    "ETH_BTC_2022_buy_data, ETH_BTC_2022_sell_data, ETH_BTC_2022_buy_analysis,ETH_BTC_2022_sell_analysis, ETH_BTC_2022_Total_Market_VWAP = analysis(df_trades_eth_btc_2022, 0.1, 0.04, False,'2022-01-29 21:02:56.287757')\n"
   ]
  },
  {
   "cell_type": "code",
   "execution_count": 913,
   "id": "6182d074",
   "metadata": {},
   "outputs": [
    {
     "data": {
      "text/html": [
       "<div>\n",
       "<style scoped>\n",
       "    .dataframe tbody tr th:only-of-type {\n",
       "        vertical-align: middle;\n",
       "    }\n",
       "\n",
       "    .dataframe tbody tr th {\n",
       "        vertical-align: top;\n",
       "    }\n",
       "\n",
       "    .dataframe thead th {\n",
       "        text-align: right;\n",
       "    }\n",
       "</style>\n",
       "<table border=\"1\" class=\"dataframe\">\n",
       "  <thead>\n",
       "    <tr style=\"text-align: right;\">\n",
       "      <th></th>\n",
       "      <th>received_utc_nanoseconds</th>\n",
       "      <th>timestamp_utc_nanoseconds</th>\n",
       "      <th>PriceMillionths</th>\n",
       "      <th>SizeBillionths</th>\n",
       "      <th>Side</th>\n",
       "      <th>timestamp</th>\n",
       "      <th>timestamp_diff</th>\n",
       "      <th>timestamp_diff_mask</th>\n",
       "      <th>price_grouped</th>\n",
       "      <th>volume</th>\n",
       "      <th>target_check</th>\n",
       "      <th>target_check_cum</th>\n",
       "    </tr>\n",
       "  </thead>\n",
       "  <tbody>\n",
       "    <tr>\n",
       "      <th>0</th>\n",
       "      <td>1.643490e+18</td>\n",
       "      <td>1.643490e+18</td>\n",
       "      <td>0.006790</td>\n",
       "      <td>0.017043</td>\n",
       "      <td>1.0</td>\n",
       "      <td>2022-01-29 21:03:12.993854976</td>\n",
       "      <td>NaT</td>\n",
       "      <td>False</td>\n",
       "      <td>0.006790</td>\n",
       "      <td>0.017043</td>\n",
       "      <td>0.000682</td>\n",
       "      <td>0.000682</td>\n",
       "    </tr>\n",
       "    <tr>\n",
       "      <th>1</th>\n",
       "      <td>1.643490e+18</td>\n",
       "      <td>1.643490e+18</td>\n",
       "      <td>0.006789</td>\n",
       "      <td>0.065000</td>\n",
       "      <td>1.0</td>\n",
       "      <td>2022-01-29 21:03:14.726939904</td>\n",
       "      <td>0 days 00:00:01.733084928</td>\n",
       "      <td>False</td>\n",
       "      <td>0.006789</td>\n",
       "      <td>0.065000</td>\n",
       "      <td>0.002600</td>\n",
       "      <td>0.003282</td>\n",
       "    </tr>\n",
       "    <tr>\n",
       "      <th>2</th>\n",
       "      <td>1.643490e+18</td>\n",
       "      <td>1.643490e+18</td>\n",
       "      <td>0.006791</td>\n",
       "      <td>0.003348</td>\n",
       "      <td>1.0</td>\n",
       "      <td>2022-01-29 21:03:15.671777024</td>\n",
       "      <td>0 days 00:00:00.944837120</td>\n",
       "      <td>False</td>\n",
       "      <td>0.006791</td>\n",
       "      <td>0.003348</td>\n",
       "      <td>0.000134</td>\n",
       "      <td>0.003416</td>\n",
       "    </tr>\n",
       "    <tr>\n",
       "      <th>3</th>\n",
       "      <td>1.643490e+18</td>\n",
       "      <td>1.643490e+18</td>\n",
       "      <td>0.006794</td>\n",
       "      <td>0.492138</td>\n",
       "      <td>4.0</td>\n",
       "      <td>2022-01-29 21:03:34.881835008</td>\n",
       "      <td>0 days 00:00:19.210057984</td>\n",
       "      <td>False</td>\n",
       "      <td>0.006794</td>\n",
       "      <td>0.492138</td>\n",
       "      <td>0.019686</td>\n",
       "      <td>0.023101</td>\n",
       "    </tr>\n",
       "    <tr>\n",
       "      <th>4</th>\n",
       "      <td>1.643490e+18</td>\n",
       "      <td>1.643490e+18</td>\n",
       "      <td>0.006795</td>\n",
       "      <td>0.044000</td>\n",
       "      <td>1.0</td>\n",
       "      <td>2022-01-29 21:03:35.969413120</td>\n",
       "      <td>0 days 00:00:01.087578112</td>\n",
       "      <td>False</td>\n",
       "      <td>0.006795</td>\n",
       "      <td>0.044000</td>\n",
       "      <td>0.001760</td>\n",
       "      <td>0.024861</td>\n",
       "    </tr>\n",
       "  </tbody>\n",
       "</table>\n",
       "</div>"
      ],
      "text/plain": [
       "   received_utc_nanoseconds  timestamp_utc_nanoseconds   PriceMillionths  \\\n",
       "0              1.643490e+18                1.643490e+18         0.006790   \n",
       "1              1.643490e+18                1.643490e+18         0.006789   \n",
       "2              1.643490e+18                1.643490e+18         0.006791   \n",
       "3              1.643490e+18                1.643490e+18         0.006794   \n",
       "4              1.643490e+18                1.643490e+18         0.006795   \n",
       "\n",
       "   SizeBillionths  Side                     timestamp  \\\n",
       "0        0.017043   1.0 2022-01-29 21:03:12.993854976   \n",
       "1        0.065000   1.0 2022-01-29 21:03:14.726939904   \n",
       "2        0.003348   1.0 2022-01-29 21:03:15.671777024   \n",
       "3        0.492138   4.0 2022-01-29 21:03:34.881835008   \n",
       "4        0.044000   1.0 2022-01-29 21:03:35.969413120   \n",
       "\n",
       "              timestamp_diff  timestamp_diff_mask  price_grouped    volume  \\\n",
       "0                        NaT                False       0.006790  0.017043   \n",
       "1  0 days 00:00:01.733084928                False       0.006789  0.065000   \n",
       "2  0 days 00:00:00.944837120                False       0.006791  0.003348   \n",
       "3  0 days 00:00:19.210057984                False       0.006794  0.492138   \n",
       "4  0 days 00:00:01.087578112                False       0.006795  0.044000   \n",
       "\n",
       "   target_check  target_check_cum  \n",
       "0      0.000682          0.000682  \n",
       "1      0.002600          0.003282  \n",
       "2      0.000134          0.003416  \n",
       "3      0.019686          0.023101  \n",
       "4      0.001760          0.024861  "
      ]
     },
     "execution_count": 913,
     "metadata": {},
     "output_type": "execute_result"
    }
   ],
   "source": [
    "ETH_BTC_2022_buy_data.head()"
   ]
  },
  {
   "cell_type": "code",
   "execution_count": 914,
   "id": "0c3068d7",
   "metadata": {},
   "outputs": [
    {
     "data": {
      "text/html": [
       "<div>\n",
       "<style scoped>\n",
       "    .dataframe tbody tr th:only-of-type {\n",
       "        vertical-align: middle;\n",
       "    }\n",
       "\n",
       "    .dataframe tbody tr th {\n",
       "        vertical-align: top;\n",
       "    }\n",
       "\n",
       "    .dataframe thead th {\n",
       "        text-align: right;\n",
       "    }\n",
       "</style>\n",
       "<table border=\"1\" class=\"dataframe\">\n",
       "  <thead>\n",
       "    <tr style=\"text-align: right;\">\n",
       "      <th></th>\n",
       "      <th>received_utc_nanoseconds</th>\n",
       "      <th>timestamp_utc_nanoseconds</th>\n",
       "      <th>PriceMillionths</th>\n",
       "      <th>SizeBillionths</th>\n",
       "      <th>Side</th>\n",
       "      <th>timestamp</th>\n",
       "      <th>timestamp_diff</th>\n",
       "      <th>timestamp_diff_mask</th>\n",
       "      <th>price_grouped</th>\n",
       "      <th>volume</th>\n",
       "      <th>target_check</th>\n",
       "      <th>target_check_cum</th>\n",
       "    </tr>\n",
       "  </thead>\n",
       "  <tbody>\n",
       "    <tr>\n",
       "      <th>0</th>\n",
       "      <td>1.643490e+18</td>\n",
       "      <td>1.643490e+18</td>\n",
       "      <td>0.006788</td>\n",
       "      <td>0.025600</td>\n",
       "      <td>-1.0</td>\n",
       "      <td>2022-01-29 21:02:56.287757056</td>\n",
       "      <td>NaT</td>\n",
       "      <td>False</td>\n",
       "      <td>0.006788</td>\n",
       "      <td>0.025600</td>\n",
       "      <td>0.001024</td>\n",
       "      <td>0.001024</td>\n",
       "    </tr>\n",
       "    <tr>\n",
       "      <th>1</th>\n",
       "      <td>1.643490e+18</td>\n",
       "      <td>1.643490e+18</td>\n",
       "      <td>0.006787</td>\n",
       "      <td>0.007472</td>\n",
       "      <td>-1.0</td>\n",
       "      <td>2022-01-29 21:03:05.017857024</td>\n",
       "      <td>0 days 00:00:08.730099968</td>\n",
       "      <td>False</td>\n",
       "      <td>0.006787</td>\n",
       "      <td>0.007472</td>\n",
       "      <td>0.000299</td>\n",
       "      <td>0.001323</td>\n",
       "    </tr>\n",
       "    <tr>\n",
       "      <th>2</th>\n",
       "      <td>1.643490e+18</td>\n",
       "      <td>1.643490e+18</td>\n",
       "      <td>0.006787</td>\n",
       "      <td>0.002638</td>\n",
       "      <td>-1.0</td>\n",
       "      <td>2022-01-29 21:03:07.304294912</td>\n",
       "      <td>0 days 00:00:02.286437888</td>\n",
       "      <td>False</td>\n",
       "      <td>0.006787</td>\n",
       "      <td>0.002638</td>\n",
       "      <td>0.000106</td>\n",
       "      <td>0.001428</td>\n",
       "    </tr>\n",
       "    <tr>\n",
       "      <th>3</th>\n",
       "      <td>1.643490e+18</td>\n",
       "      <td>1.643490e+18</td>\n",
       "      <td>0.006793</td>\n",
       "      <td>0.025250</td>\n",
       "      <td>-1.0</td>\n",
       "      <td>2022-01-29 21:03:25.988929024</td>\n",
       "      <td>0 days 00:00:18.684634112</td>\n",
       "      <td>False</td>\n",
       "      <td>0.006793</td>\n",
       "      <td>0.025250</td>\n",
       "      <td>0.001010</td>\n",
       "      <td>0.002438</td>\n",
       "    </tr>\n",
       "    <tr>\n",
       "      <th>4</th>\n",
       "      <td>1.643490e+18</td>\n",
       "      <td>1.643490e+18</td>\n",
       "      <td>0.006796</td>\n",
       "      <td>0.001039</td>\n",
       "      <td>-1.0</td>\n",
       "      <td>2022-01-29 21:03:46.398790912</td>\n",
       "      <td>0 days 00:00:20.409861888</td>\n",
       "      <td>False</td>\n",
       "      <td>0.006796</td>\n",
       "      <td>0.001039</td>\n",
       "      <td>0.000042</td>\n",
       "      <td>0.002480</td>\n",
       "    </tr>\n",
       "  </tbody>\n",
       "</table>\n",
       "</div>"
      ],
      "text/plain": [
       "   received_utc_nanoseconds  timestamp_utc_nanoseconds   PriceMillionths  \\\n",
       "0              1.643490e+18                1.643490e+18         0.006788   \n",
       "1              1.643490e+18                1.643490e+18         0.006787   \n",
       "2              1.643490e+18                1.643490e+18         0.006787   \n",
       "3              1.643490e+18                1.643490e+18         0.006793   \n",
       "4              1.643490e+18                1.643490e+18         0.006796   \n",
       "\n",
       "   SizeBillionths  Side                     timestamp  \\\n",
       "0        0.025600  -1.0 2022-01-29 21:02:56.287757056   \n",
       "1        0.007472  -1.0 2022-01-29 21:03:05.017857024   \n",
       "2        0.002638  -1.0 2022-01-29 21:03:07.304294912   \n",
       "3        0.025250  -1.0 2022-01-29 21:03:25.988929024   \n",
       "4        0.001039  -1.0 2022-01-29 21:03:46.398790912   \n",
       "\n",
       "              timestamp_diff  timestamp_diff_mask  price_grouped    volume  \\\n",
       "0                        NaT                False       0.006788  0.025600   \n",
       "1  0 days 00:00:08.730099968                False       0.006787  0.007472   \n",
       "2  0 days 00:00:02.286437888                False       0.006787  0.002638   \n",
       "3  0 days 00:00:18.684634112                False       0.006793  0.025250   \n",
       "4  0 days 00:00:20.409861888                False       0.006796  0.001039   \n",
       "\n",
       "   target_check  target_check_cum  \n",
       "0      0.001024          0.001024  \n",
       "1      0.000299          0.001323  \n",
       "2      0.000106          0.001428  \n",
       "3      0.001010          0.002438  \n",
       "4      0.000042          0.002480  "
      ]
     },
     "execution_count": 914,
     "metadata": {},
     "output_type": "execute_result"
    }
   ],
   "source": [
    "ETH_BTC_2022_sell_data.head()"
   ]
  },
  {
   "cell_type": "code",
   "execution_count": 915,
   "id": "b187fa6e",
   "metadata": {},
   "outputs": [
    {
     "data": {
      "text/html": [
       "<div>\n",
       "<style scoped>\n",
       "    .dataframe tbody tr th:only-of-type {\n",
       "        vertical-align: middle;\n",
       "    }\n",
       "\n",
       "    .dataframe tbody tr th {\n",
       "        vertical-align: top;\n",
       "    }\n",
       "\n",
       "    .dataframe thead th {\n",
       "        text-align: right;\n",
       "    }\n",
       "</style>\n",
       "<table border=\"1\" class=\"dataframe\">\n",
       "  <thead>\n",
       "    <tr style=\"text-align: right;\">\n",
       "      <th></th>\n",
       "      <th>VWAP_buy</th>\n",
       "      <th>transcation_fees_buy</th>\n",
       "      <th>time_buy</th>\n",
       "      <th>trading_cost_proportion_buy</th>\n",
       "      <th>accumulated_price_proportion_buy</th>\n",
       "      <th>accumulated_quantity_proportion_buy</th>\n",
       "      <th>deviation_buy</th>\n",
       "      <th>trade_completeness_buy</th>\n",
       "    </tr>\n",
       "  </thead>\n",
       "  <tbody>\n",
       "    <tr>\n",
       "      <th>analysis_buy</th>\n",
       "      <td>0.006802</td>\n",
       "      <td>0.000007</td>\n",
       "      <td>0 days 00:02:01.406203136</td>\n",
       "      <td>0.000021</td>\n",
       "      <td>0.546611</td>\n",
       "      <td>1.00071</td>\n",
       "      <td>0.000071</td>\n",
       "      <td>Completed</td>\n",
       "    </tr>\n",
       "  </tbody>\n",
       "</table>\n",
       "</div>"
      ],
      "text/plain": [
       "              VWAP_buy transcation_fees_buy                  time_buy  \\\n",
       "analysis_buy  0.006802             0.000007 0 days 00:02:01.406203136   \n",
       "\n",
       "             trading_cost_proportion_buy accumulated_price_proportion_buy  \\\n",
       "analysis_buy                    0.000021                         0.546611   \n",
       "\n",
       "             accumulated_quantity_proportion_buy deviation_buy  \\\n",
       "analysis_buy                             1.00071      0.000071   \n",
       "\n",
       "             trade_completeness_buy  \n",
       "analysis_buy              Completed  "
      ]
     },
     "execution_count": 915,
     "metadata": {},
     "output_type": "execute_result"
    }
   ],
   "source": [
    "ETH_BTC_2022_buy_analysis.transpose()"
   ]
  },
  {
   "cell_type": "code",
   "execution_count": 916,
   "id": "7ab1a1e9",
   "metadata": {},
   "outputs": [
    {
     "data": {
      "text/html": [
       "<div>\n",
       "<style scoped>\n",
       "    .dataframe tbody tr th:only-of-type {\n",
       "        vertical-align: middle;\n",
       "    }\n",
       "\n",
       "    .dataframe tbody tr th {\n",
       "        vertical-align: top;\n",
       "    }\n",
       "\n",
       "    .dataframe thead th {\n",
       "        text-align: right;\n",
       "    }\n",
       "</style>\n",
       "<table border=\"1\" class=\"dataframe\">\n",
       "  <thead>\n",
       "    <tr style=\"text-align: right;\">\n",
       "      <th></th>\n",
       "      <th>VWAP_sell</th>\n",
       "      <th>transcation_fees_sell</th>\n",
       "      <th>time_sell</th>\n",
       "      <th>trading_cost_proportion_sell</th>\n",
       "      <th>accumulated_price_proportion_sell</th>\n",
       "      <th>accumulated_quantity_proportion_sell</th>\n",
       "      <th>deviation_sell</th>\n",
       "      <th>trade_completeness_sell</th>\n",
       "    </tr>\n",
       "  </thead>\n",
       "  <tbody>\n",
       "    <tr>\n",
       "      <th>analysis_sell</th>\n",
       "      <td>0.006802</td>\n",
       "      <td>0.000007</td>\n",
       "      <td>0 days 00:02:03.447225856</td>\n",
       "      <td>0.000036</td>\n",
       "      <td>0.609877</td>\n",
       "      <td>1.067463</td>\n",
       "      <td>0.006746</td>\n",
       "      <td>Completed</td>\n",
       "    </tr>\n",
       "  </tbody>\n",
       "</table>\n",
       "</div>"
      ],
      "text/plain": [
       "              VWAP_sell transcation_fees_sell                 time_sell  \\\n",
       "analysis_sell  0.006802              0.000007 0 days 00:02:03.447225856   \n",
       "\n",
       "              trading_cost_proportion_sell accumulated_price_proportion_sell  \\\n",
       "analysis_sell                     0.000036                          0.609877   \n",
       "\n",
       "              accumulated_quantity_proportion_sell deviation_sell  \\\n",
       "analysis_sell                             1.067463       0.006746   \n",
       "\n",
       "              trade_completeness_sell  \n",
       "analysis_sell               Completed  "
      ]
     },
     "execution_count": 916,
     "metadata": {},
     "output_type": "execute_result"
    }
   ],
   "source": [
    "ETH_BTC_2022_sell_analysis.transpose()"
   ]
  },
  {
   "cell_type": "code",
   "execution_count": 917,
   "id": "8cd2b314",
   "metadata": {},
   "outputs": [
    {
     "data": {
      "text/plain": [
       "0.007107147751023118"
      ]
     },
     "execution_count": 917,
     "metadata": {},
     "output_type": "execute_result"
    }
   ],
   "source": [
    "ETH_BTC_2022_Total_Market_VWAP"
   ]
  },
  {
   "cell_type": "code",
   "execution_count": null,
   "id": "0fc67e64",
   "metadata": {},
   "outputs": [],
   "source": []
  },
  {
   "cell_type": "markdown",
   "id": "935c780d",
   "metadata": {},
   "source": [
    "# ETH_BTC_2023 Data"
   ]
  },
  {
   "cell_type": "code",
   "execution_count": 918,
   "id": "6da8c542",
   "metadata": {},
   "outputs": [
    {
     "name": "stderr",
     "output_type": "stream",
     "text": [
      "C:\\Users\\Krishna Diggavi\\AppData\\Local\\Temp\\ipykernel_14180\\97513812.py:90: RuntimeWarning: divide by zero encountered in double_scalars\n",
      "  accumulated_price_proportion_buy = accumulated_price_buy_average/arrival_price\n"
     ]
    }
   ],
   "source": [
    "ETH_BTC_2023_buy_data, ETH_BTC_2023_sell_data, ETH_BTC_2023_buy_analysis,ETH_BTC_2023_sell_analysis, ETH_BTC_2023_Total_Market_VWAP = analysis(df_trades_eth_btc_2023, 0.1, 0.04, False,'2023-01-24 00:49:06.020758')\n"
   ]
  },
  {
   "cell_type": "code",
   "execution_count": 919,
   "id": "63d84f21",
   "metadata": {},
   "outputs": [
    {
     "data": {
      "text/html": [
       "<div>\n",
       "<style scoped>\n",
       "    .dataframe tbody tr th:only-of-type {\n",
       "        vertical-align: middle;\n",
       "    }\n",
       "\n",
       "    .dataframe tbody tr th {\n",
       "        vertical-align: top;\n",
       "    }\n",
       "\n",
       "    .dataframe thead th {\n",
       "        text-align: right;\n",
       "    }\n",
       "</style>\n",
       "<table border=\"1\" class=\"dataframe\">\n",
       "  <thead>\n",
       "    <tr style=\"text-align: right;\">\n",
       "      <th></th>\n",
       "      <th>received_utc_nanoseconds</th>\n",
       "      <th>timestamp_utc_nanoseconds</th>\n",
       "      <th>PriceMillionths</th>\n",
       "      <th>SizeBillionths</th>\n",
       "      <th>Side</th>\n",
       "      <th>timestamp</th>\n",
       "      <th>timestamp_diff</th>\n",
       "      <th>timestamp_diff_mask</th>\n",
       "      <th>price_grouped</th>\n",
       "      <th>volume</th>\n",
       "      <th>target_check</th>\n",
       "      <th>target_check_cum</th>\n",
       "    </tr>\n",
       "  </thead>\n",
       "  <tbody>\n",
       "    <tr>\n",
       "      <th>0</th>\n",
       "      <td>1.674521e+18</td>\n",
       "      <td>1.674521e+18</td>\n",
       "      <td>0.007095</td>\n",
       "      <td>0.025966</td>\n",
       "      <td>1.0</td>\n",
       "      <td>2023-01-24 00:49:06.020758016</td>\n",
       "      <td>NaT</td>\n",
       "      <td>False</td>\n",
       "      <td>0.000000</td>\n",
       "      <td>0.000000</td>\n",
       "      <td>0.000000e+00</td>\n",
       "      <td>0.000000e+00</td>\n",
       "    </tr>\n",
       "    <tr>\n",
       "      <th>1</th>\n",
       "      <td>1.674521e+18</td>\n",
       "      <td>1.674521e+18</td>\n",
       "      <td>0.007095</td>\n",
       "      <td>0.000014</td>\n",
       "      <td>1.0</td>\n",
       "      <td>2023-01-24 00:49:06.050573056</td>\n",
       "      <td>0 days 00:00:00.029815040</td>\n",
       "      <td>True</td>\n",
       "      <td>0.007095</td>\n",
       "      <td>0.000014</td>\n",
       "      <td>5.632000e-07</td>\n",
       "      <td>5.632000e-07</td>\n",
       "    </tr>\n",
       "    <tr>\n",
       "      <th>2</th>\n",
       "      <td>1.674522e+18</td>\n",
       "      <td>1.674522e+18</td>\n",
       "      <td>0.007095</td>\n",
       "      <td>0.000099</td>\n",
       "      <td>1.0</td>\n",
       "      <td>2023-01-24 00:52:26.201920000</td>\n",
       "      <td>0 days 00:03:20.151346944</td>\n",
       "      <td>False</td>\n",
       "      <td>0.007095</td>\n",
       "      <td>0.000099</td>\n",
       "      <td>3.962520e-06</td>\n",
       "      <td>4.525720e-06</td>\n",
       "    </tr>\n",
       "    <tr>\n",
       "      <th>3</th>\n",
       "      <td>1.674522e+18</td>\n",
       "      <td>1.674522e+18</td>\n",
       "      <td>0.007096</td>\n",
       "      <td>0.700000</td>\n",
       "      <td>1.0</td>\n",
       "      <td>2023-01-24 00:53:39.303819008</td>\n",
       "      <td>0 days 00:01:13.101899008</td>\n",
       "      <td>False</td>\n",
       "      <td>0.007096</td>\n",
       "      <td>0.700000</td>\n",
       "      <td>2.800000e-02</td>\n",
       "      <td>2.800453e-02</td>\n",
       "    </tr>\n",
       "    <tr>\n",
       "      <th>4</th>\n",
       "      <td>1.674522e+18</td>\n",
       "      <td>1.674522e+18</td>\n",
       "      <td>0.007098</td>\n",
       "      <td>0.007276</td>\n",
       "      <td>1.0</td>\n",
       "      <td>2023-01-24 00:55:04.774595072</td>\n",
       "      <td>0 days 00:01:25.470776064</td>\n",
       "      <td>False</td>\n",
       "      <td>0.007098</td>\n",
       "      <td>0.007276</td>\n",
       "      <td>2.910267e-04</td>\n",
       "      <td>2.829555e-02</td>\n",
       "    </tr>\n",
       "  </tbody>\n",
       "</table>\n",
       "</div>"
      ],
      "text/plain": [
       "   received_utc_nanoseconds  timestamp_utc_nanoseconds   PriceMillionths  \\\n",
       "0              1.674521e+18                1.674521e+18         0.007095   \n",
       "1              1.674521e+18                1.674521e+18         0.007095   \n",
       "2              1.674522e+18                1.674522e+18         0.007095   \n",
       "3              1.674522e+18                1.674522e+18         0.007096   \n",
       "4              1.674522e+18                1.674522e+18         0.007098   \n",
       "\n",
       "   SizeBillionths  Side                     timestamp  \\\n",
       "0        0.025966   1.0 2023-01-24 00:49:06.020758016   \n",
       "1        0.000014   1.0 2023-01-24 00:49:06.050573056   \n",
       "2        0.000099   1.0 2023-01-24 00:52:26.201920000   \n",
       "3        0.700000   1.0 2023-01-24 00:53:39.303819008   \n",
       "4        0.007276   1.0 2023-01-24 00:55:04.774595072   \n",
       "\n",
       "              timestamp_diff  timestamp_diff_mask  price_grouped    volume  \\\n",
       "0                        NaT                False       0.000000  0.000000   \n",
       "1  0 days 00:00:00.029815040                 True       0.007095  0.000014   \n",
       "2  0 days 00:03:20.151346944                False       0.007095  0.000099   \n",
       "3  0 days 00:01:13.101899008                False       0.007096  0.700000   \n",
       "4  0 days 00:01:25.470776064                False       0.007098  0.007276   \n",
       "\n",
       "   target_check  target_check_cum  \n",
       "0  0.000000e+00      0.000000e+00  \n",
       "1  5.632000e-07      5.632000e-07  \n",
       "2  3.962520e-06      4.525720e-06  \n",
       "3  2.800000e-02      2.800453e-02  \n",
       "4  2.910267e-04      2.829555e-02  "
      ]
     },
     "execution_count": 919,
     "metadata": {},
     "output_type": "execute_result"
    }
   ],
   "source": [
    "ETH_BTC_2023_buy_data.head()"
   ]
  },
  {
   "cell_type": "code",
   "execution_count": 920,
   "id": "d2034521",
   "metadata": {},
   "outputs": [
    {
     "data": {
      "text/html": [
       "<div>\n",
       "<style scoped>\n",
       "    .dataframe tbody tr th:only-of-type {\n",
       "        vertical-align: middle;\n",
       "    }\n",
       "\n",
       "    .dataframe tbody tr th {\n",
       "        vertical-align: top;\n",
       "    }\n",
       "\n",
       "    .dataframe thead th {\n",
       "        text-align: right;\n",
       "    }\n",
       "</style>\n",
       "<table border=\"1\" class=\"dataframe\">\n",
       "  <thead>\n",
       "    <tr style=\"text-align: right;\">\n",
       "      <th></th>\n",
       "      <th>received_utc_nanoseconds</th>\n",
       "      <th>timestamp_utc_nanoseconds</th>\n",
       "      <th>PriceMillionths</th>\n",
       "      <th>SizeBillionths</th>\n",
       "      <th>Side</th>\n",
       "      <th>timestamp</th>\n",
       "      <th>timestamp_diff</th>\n",
       "      <th>timestamp_diff_mask</th>\n",
       "      <th>price_grouped</th>\n",
       "      <th>volume</th>\n",
       "      <th>target_check</th>\n",
       "      <th>target_check_cum</th>\n",
       "    </tr>\n",
       "  </thead>\n",
       "  <tbody>\n",
       "    <tr>\n",
       "      <th>0</th>\n",
       "      <td>1.674521e+18</td>\n",
       "      <td>1.674521e+18</td>\n",
       "      <td>0.007095</td>\n",
       "      <td>0.005358</td>\n",
       "      <td>-1.0</td>\n",
       "      <td>2023-01-24 00:49:08.159814912</td>\n",
       "      <td>NaT</td>\n",
       "      <td>False</td>\n",
       "      <td>0.007095</td>\n",
       "      <td>0.005358</td>\n",
       "      <td>2.143302e-04</td>\n",
       "      <td>0.000214</td>\n",
       "    </tr>\n",
       "    <tr>\n",
       "      <th>1</th>\n",
       "      <td>1.674521e+18</td>\n",
       "      <td>1.674521e+18</td>\n",
       "      <td>0.007094</td>\n",
       "      <td>0.000021</td>\n",
       "      <td>-1.0</td>\n",
       "      <td>2023-01-24 00:49:12.601911040</td>\n",
       "      <td>0 days 00:00:04.442096128</td>\n",
       "      <td>False</td>\n",
       "      <td>0.007094</td>\n",
       "      <td>0.000021</td>\n",
       "      <td>8.288800e-07</td>\n",
       "      <td>0.000215</td>\n",
       "    </tr>\n",
       "    <tr>\n",
       "      <th>2</th>\n",
       "      <td>1.674522e+18</td>\n",
       "      <td>1.674522e+18</td>\n",
       "      <td>0.007095</td>\n",
       "      <td>0.004272</td>\n",
       "      <td>-1.0</td>\n",
       "      <td>2023-01-24 00:54:08.637871104</td>\n",
       "      <td>0 days 00:04:56.035960064</td>\n",
       "      <td>False</td>\n",
       "      <td>0.007095</td>\n",
       "      <td>0.004272</td>\n",
       "      <td>1.708934e-04</td>\n",
       "      <td>0.000386</td>\n",
       "    </tr>\n",
       "    <tr>\n",
       "      <th>3</th>\n",
       "      <td>1.674522e+18</td>\n",
       "      <td>1.674522e+18</td>\n",
       "      <td>0.007098</td>\n",
       "      <td>0.010000</td>\n",
       "      <td>-2.0</td>\n",
       "      <td>2023-01-24 00:57:38.797984000</td>\n",
       "      <td>0 days 00:03:30.160112896</td>\n",
       "      <td>False</td>\n",
       "      <td>0.007098</td>\n",
       "      <td>0.010000</td>\n",
       "      <td>4.000000e-04</td>\n",
       "      <td>0.000786</td>\n",
       "    </tr>\n",
       "    <tr>\n",
       "      <th>4</th>\n",
       "      <td>1.674522e+18</td>\n",
       "      <td>1.674522e+18</td>\n",
       "      <td>0.007099</td>\n",
       "      <td>0.008460</td>\n",
       "      <td>-1.0</td>\n",
       "      <td>2023-01-24 01:00:19.704493056</td>\n",
       "      <td>0 days 00:02:40.906509056</td>\n",
       "      <td>False</td>\n",
       "      <td>0.007099</td>\n",
       "      <td>0.008460</td>\n",
       "      <td>3.383865e-04</td>\n",
       "      <td>0.001124</td>\n",
       "    </tr>\n",
       "  </tbody>\n",
       "</table>\n",
       "</div>"
      ],
      "text/plain": [
       "   received_utc_nanoseconds  timestamp_utc_nanoseconds   PriceMillionths  \\\n",
       "0              1.674521e+18                1.674521e+18         0.007095   \n",
       "1              1.674521e+18                1.674521e+18         0.007094   \n",
       "2              1.674522e+18                1.674522e+18         0.007095   \n",
       "3              1.674522e+18                1.674522e+18         0.007098   \n",
       "4              1.674522e+18                1.674522e+18         0.007099   \n",
       "\n",
       "   SizeBillionths  Side                     timestamp  \\\n",
       "0        0.005358  -1.0 2023-01-24 00:49:08.159814912   \n",
       "1        0.000021  -1.0 2023-01-24 00:49:12.601911040   \n",
       "2        0.004272  -1.0 2023-01-24 00:54:08.637871104   \n",
       "3        0.010000  -2.0 2023-01-24 00:57:38.797984000   \n",
       "4        0.008460  -1.0 2023-01-24 01:00:19.704493056   \n",
       "\n",
       "              timestamp_diff  timestamp_diff_mask  price_grouped    volume  \\\n",
       "0                        NaT                False       0.007095  0.005358   \n",
       "1  0 days 00:00:04.442096128                False       0.007094  0.000021   \n",
       "2  0 days 00:04:56.035960064                False       0.007095  0.004272   \n",
       "3  0 days 00:03:30.160112896                False       0.007098  0.010000   \n",
       "4  0 days 00:02:40.906509056                False       0.007099  0.008460   \n",
       "\n",
       "   target_check  target_check_cum  \n",
       "0  2.143302e-04          0.000214  \n",
       "1  8.288800e-07          0.000215  \n",
       "2  1.708934e-04          0.000386  \n",
       "3  4.000000e-04          0.000786  \n",
       "4  3.383865e-04          0.001124  "
      ]
     },
     "execution_count": 920,
     "metadata": {},
     "output_type": "execute_result"
    }
   ],
   "source": [
    "ETH_BTC_2023_sell_data.head()"
   ]
  },
  {
   "cell_type": "code",
   "execution_count": 921,
   "id": "78f6bd0b",
   "metadata": {},
   "outputs": [
    {
     "data": {
      "text/html": [
       "<div>\n",
       "<style scoped>\n",
       "    .dataframe tbody tr th:only-of-type {\n",
       "        vertical-align: middle;\n",
       "    }\n",
       "\n",
       "    .dataframe tbody tr th {\n",
       "        vertical-align: top;\n",
       "    }\n",
       "\n",
       "    .dataframe thead th {\n",
       "        text-align: right;\n",
       "    }\n",
       "</style>\n",
       "<table border=\"1\" class=\"dataframe\">\n",
       "  <thead>\n",
       "    <tr style=\"text-align: right;\">\n",
       "      <th></th>\n",
       "      <th>VWAP_buy</th>\n",
       "      <th>transcation_fees_buy</th>\n",
       "      <th>time_buy</th>\n",
       "      <th>trading_cost_proportion_buy</th>\n",
       "      <th>accumulated_price_proportion_buy</th>\n",
       "      <th>accumulated_quantity_proportion_buy</th>\n",
       "      <th>deviation_buy</th>\n",
       "      <th>trade_completeness_buy</th>\n",
       "    </tr>\n",
       "  </thead>\n",
       "  <tbody>\n",
       "    <tr>\n",
       "      <th>analysis_buy</th>\n",
       "      <td>0.007096</td>\n",
       "      <td>0.000007</td>\n",
       "      <td>0 days 00:14:20.346688</td>\n",
       "      <td>0.000125</td>\n",
       "      <td>inf</td>\n",
       "      <td>0.315256</td>\n",
       "      <td>-0.068474</td>\n",
       "      <td>Not Completed</td>\n",
       "    </tr>\n",
       "  </tbody>\n",
       "</table>\n",
       "</div>"
      ],
      "text/plain": [
       "              VWAP_buy transcation_fees_buy               time_buy  \\\n",
       "analysis_buy  0.007096             0.000007 0 days 00:14:20.346688   \n",
       "\n",
       "             trading_cost_proportion_buy accumulated_price_proportion_buy  \\\n",
       "analysis_buy                    0.000125                              inf   \n",
       "\n",
       "             accumulated_quantity_proportion_buy deviation_buy  \\\n",
       "analysis_buy                            0.315256     -0.068474   \n",
       "\n",
       "             trade_completeness_buy  \n",
       "analysis_buy          Not Completed  "
      ]
     },
     "execution_count": 921,
     "metadata": {},
     "output_type": "execute_result"
    }
   ],
   "source": [
    "ETH_BTC_2023_buy_analysis.transpose()"
   ]
  },
  {
   "cell_type": "code",
   "execution_count": 922,
   "id": "37268662",
   "metadata": {},
   "outputs": [
    {
     "data": {
      "text/html": [
       "<div>\n",
       "<style scoped>\n",
       "    .dataframe tbody tr th:only-of-type {\n",
       "        vertical-align: middle;\n",
       "    }\n",
       "\n",
       "    .dataframe tbody tr th {\n",
       "        vertical-align: top;\n",
       "    }\n",
       "\n",
       "    .dataframe thead th {\n",
       "        text-align: right;\n",
       "    }\n",
       "</style>\n",
       "<table border=\"1\" class=\"dataframe\">\n",
       "  <thead>\n",
       "    <tr style=\"text-align: right;\">\n",
       "      <th></th>\n",
       "      <th>VWAP_sell</th>\n",
       "      <th>transcation_fees_sell</th>\n",
       "      <th>time_sell</th>\n",
       "      <th>trading_cost_proportion_sell</th>\n",
       "      <th>accumulated_price_proportion_sell</th>\n",
       "      <th>accumulated_quantity_proportion_sell</th>\n",
       "      <th>deviation_sell</th>\n",
       "      <th>trade_completeness_sell</th>\n",
       "    </tr>\n",
       "  </thead>\n",
       "  <tbody>\n",
       "    <tr>\n",
       "      <th>analysis_sell</th>\n",
       "      <td>0.007097</td>\n",
       "      <td>0.000007</td>\n",
       "      <td>0 days 00:13:11.448425216</td>\n",
       "      <td>0.0002</td>\n",
       "      <td>0.833474</td>\n",
       "      <td>0.011244</td>\n",
       "      <td>-0.098876</td>\n",
       "      <td>Not Completed</td>\n",
       "    </tr>\n",
       "  </tbody>\n",
       "</table>\n",
       "</div>"
      ],
      "text/plain": [
       "              VWAP_sell transcation_fees_sell                 time_sell  \\\n",
       "analysis_sell  0.007097              0.000007 0 days 00:13:11.448425216   \n",
       "\n",
       "              trading_cost_proportion_sell accumulated_price_proportion_sell  \\\n",
       "analysis_sell                       0.0002                          0.833474   \n",
       "\n",
       "              accumulated_quantity_proportion_sell deviation_sell  \\\n",
       "analysis_sell                             0.011244      -0.098876   \n",
       "\n",
       "              trade_completeness_sell  \n",
       "analysis_sell           Not Completed  "
      ]
     },
     "execution_count": 922,
     "metadata": {},
     "output_type": "execute_result"
    }
   ],
   "source": [
    "ETH_BTC_2023_sell_analysis.transpose()"
   ]
  },
  {
   "cell_type": "code",
   "execution_count": 923,
   "id": "54832d48",
   "metadata": {},
   "outputs": [
    {
     "data": {
      "text/plain": [
       "0.006971473762602729"
      ]
     },
     "execution_count": 923,
     "metadata": {},
     "output_type": "execute_result"
    }
   ],
   "source": [
    "ETH_BTC_2023_Total_Market_VWAP"
   ]
  },
  {
   "cell_type": "markdown",
   "id": "40ec97d5",
   "metadata": {},
   "source": [
    "### VWAP Analysis for ETH_BTC"
   ]
  },
  {
   "cell_type": "code",
   "execution_count": 924,
   "id": "8104ef40",
   "metadata": {},
   "outputs": [
    {
     "data": {
      "text/plain": [
       "Text(0.5, 1.0, 'VWAP Values for selling ETH_BTC over 2021, 2022, 2023')"
      ]
     },
     "execution_count": 924,
     "metadata": {},
     "output_type": "execute_result"
    },
    {
     "data": {
      "image/png": "[encoded data removed]",
      "text/plain": [
       "<Figure size 864x360 with 2 Axes>"
      ]
     },
     "metadata": {
      "needs_background": "light"
     },
     "output_type": "display_data"
    }
   ],
   "source": [
    "years = ['2021', '2022', '2023']\n",
    "vwap_buy_data = [ETH_BTC_2021_buy_analysis.loc['VWAP_buy'][0], ETH_BTC_2022_buy_analysis.loc['VWAP_buy'][0], ETH_BTC_2023_buy_analysis.loc['VWAP_buy'][0]]\n",
    "vwap_sell_data = [ETH_BTC_2021_sell_analysis.loc['VWAP_sell'][0], ETH_BTC_2022_sell_analysis.loc['VWAP_sell'][0],ETH_BTC_2023_sell_analysis.loc['VWAP_sell'][0] ]\n",
    "\n",
    "fig, (ax1, ax2) = plt.subplots(1, 2, figsize=(12, 5))\n",
    "\n",
    "rects = ax1.bar(range(len(vwap_buy_data)), vwap_buy_data, color=['yellow', 'green', 'm'])\n",
    "ax1.set_xticks(range(len(vwap_buy_data)))\n",
    "ax1.xaxis.set_ticklabels(['ETH_BTC_' + year for year in years])\n",
    "ax1.set_ylabel('VWAP')\n",
    "ax1.set_title('VWAP Values for buying ETH_BTC over 2021, 2022, 2023')\n",
    "\n",
    "ax2.bar(range(len(vwap_sell_data)), vwap_sell_data, color=['yellow', 'green', 'm'])\n",
    "ax2.set_xticks(range(len(vwap_sell_data)))\n",
    "ax2.xaxis.set_ticklabels(['ETH_BTC_' + year for year in years])\n",
    "ax2.set_ylabel('VWAP')\n",
    "ax2.set_title('VWAP Values for selling ETH_BTC over 2021, 2022, 2023')"
   ]
  },
  {
   "cell_type": "markdown",
   "id": "f171f111",
   "metadata": {},
   "source": [
    "### Observation:<br>\n",
    "\n",
    "- For both Buy and Sell, VWAP for 2023 is greater than 2022 followed by 2021 .<br><br>"
   ]
  },
  {
   "cell_type": "markdown",
   "id": "ca9e871c",
   "metadata": {},
   "source": [
    "### Time taken Analysis for ETH_BTC"
   ]
  },
  {
   "cell_type": "code",
   "execution_count": 1073,
   "id": "bafdac26",
   "metadata": {},
   "outputs": [
    {
     "data": {
      "text/plain": [
       "Text(0.5, 1.0, 'Time taken for selling ETH_BTC over 2021, 2022, 2023')"
      ]
     },
     "execution_count": 1073,
     "metadata": {},
     "output_type": "execute_result"
    },
    {
     "data": {
      "image/png": "[encoded data removed]",
      "text/plain": [
       "<Figure size 1944x576 with 2 Axes>"
      ]
     },
     "metadata": {
      "needs_background": "light"
     },
     "output_type": "display_data"
    }
   ],
   "source": [
    "years1 = ['0','2022', '2021', '2023']\n",
    "time_buy_data = [str(0),str(ETH_BTC_2022_buy_analysis.loc['time_buy'][0]), str(ETH_BTC_2021_buy_analysis.loc['time_buy'][0]), str(ETH_BTC_2023_buy_analysis.loc['time_buy'][0])]\n",
    "time_sell_data = [str(0),str(ETH_BTC_2022_sell_analysis.loc['time_sell'][0]), str(ETH_BTC_2023_sell_analysis.loc['time_sell'][0]),str(ETH_BTC_2021_sell_analysis.loc['time_sell'][0])]\n",
    "\n",
    "fig, (ax1, ax2) = plt.subplots(1, 2, figsize=(27, 8))\n",
    "\n",
    "rects = ax1.bar(range(len(time_buy_data)), time_buy_data, color=['yellow', 'green', 'm'])\n",
    "ax1.set_xticks(range(len(time_buy_data)))\n",
    "ax1.xaxis.set_ticklabels(['ETH_BTC_' + year for year in years1])\n",
    "ax1.set_ylabel('Time Taken')\n",
    "ax1.set_title('Time taken for buying ETH_BTC over 2021, 2022, 2023')\n",
    "\n",
    "years2 = ['0','2022', '2023', '2021']\n",
    "ax2.bar(range(len(time_sell_data)), time_sell_data, color=['yellow', 'green', 'm'])\n",
    "ax2.set_xticks(range(len(time_sell_data)))\n",
    "ax2.xaxis.set_ticklabels(['ETH_BTC_' + year for year in years2])\n",
    "ax2.set_ylabel('Time Taken')\n",
    "ax2.set_title('Time taken for selling ETH_BTC over 2021, 2022, 2023')"
   ]
  },
  {
   "cell_type": "markdown",
   "id": "4b1adf5d",
   "metadata": {},
   "source": [
    "### Observation:<br>\n",
    "- Buy: \n",
    "    If we compare buying the same quantity of 0.1, it took longer time (14 sec) in 2023 followed by 2021 and then 2022.<br><br>\n",
    "- Sell: \n",
    "    If we compare selling the same quantity of 0.1, it took longer time (14 sec) in 2021 followed by 2023 and then 2022.<br><br>"
   ]
  },
  {
   "cell_type": "markdown",
   "id": "73db1050",
   "metadata": {},
   "source": [
    "### Trading Cost Proportion for ETH_BTC"
   ]
  },
  {
   "cell_type": "code",
   "execution_count": 928,
   "id": "9013baa5",
   "metadata": {},
   "outputs": [
    {
     "data": {
      "text/plain": [
       "Text(0.5, 1.0, 'Trading Cost Proportion for selling ETH_BTC over 2021, 2022, 2023')"
      ]
     },
     "execution_count": 928,
     "metadata": {},
     "output_type": "execute_result"
    },
    {
     "data": {
      "image/png": "[encoded data removed]",
      "text/plain": [
       "<Figure size 1440x360 with 2 Axes>"
      ]
     },
     "metadata": {
      "needs_background": "light"
     },
     "output_type": "display_data"
    }
   ],
   "source": [
    "years = ['2021', '2022', '2023']\n",
    "trading_cost_buy_data = [ETH_BTC_2021_buy_analysis.loc['trading_cost_proportion_buy'][0], ETH_BTC_2022_buy_analysis.loc['trading_cost_proportion_buy'][0], ETH_BTC_2023_buy_analysis.loc['trading_cost_proportion_buy'][0]]\n",
    "trading_cost_sell_data = [ETH_BTC_2021_sell_analysis.loc['trading_cost_proportion_sell'][0], ETH_BTC_2022_sell_analysis.loc['trading_cost_proportion_sell'][0],ETH_BTC_2023_sell_analysis.loc['trading_cost_proportion_sell'][0]]\n",
    "\n",
    "fig, (ax1, ax2) = plt.subplots(1, 2, figsize=(20, 5))\n",
    "\n",
    "rects = ax1.bar(range(len(trading_cost_buy_data)), trading_cost_buy_data, color=['yellow', 'green', 'm'])\n",
    "ax1.set_xticks(range(len(trading_cost_buy_data)))\n",
    "ax1.xaxis.set_ticklabels(['ETH_BTC_' + year for year in years])\n",
    "ax1.set_ylabel('Trading Cost Buy Proportion ')\n",
    "ax1.set_title('Trading Cost Proportion buying ETH_BTC over 2021, 2022, 2023')\n",
    "\n",
    "ax2.bar(range(len(trading_cost_sell_data)), trading_cost_sell_data, color=['yellow', 'green', 'm'])\n",
    "ax2.set_xticks(range(len(trading_cost_sell_data)))\n",
    "ax2.xaxis.set_ticklabels(['ETH_BTC_' + year for year in years])\n",
    "ax2.set_ylabel('Trading Cost Sell Proportion')\n",
    "ax2.set_title('Trading Cost Proportion for selling ETH_BTC over 2021, 2022, 2023')"
   ]
  },
  {
   "cell_type": "markdown",
   "id": "2ec9e82f",
   "metadata": {},
   "source": [
    "### Observation:<br>\n",
    "- Buy: \n",
    "    If we compare Trading costs as a proportional of Notional, the order is 2023 followed by 2021 and then 2022.<br><br>\n",
    "- Sell: \n",
    "    If we compare Trading costs as a proportional of Notional, the order is 2023 followed by 2022 and then 2021.<br><br>\n"
   ]
  },
  {
   "cell_type": "markdown",
   "id": "611e38d8",
   "metadata": {},
   "source": [
    "### Market VWAP for ETH_BTC"
   ]
  },
  {
   "cell_type": "code",
   "execution_count": 929,
   "id": "ce032135",
   "metadata": {},
   "outputs": [
    {
     "data": {
      "text/plain": [
       "Text(0.5, 1.0, 'Market VWAP for ETH_BTC over 2021, 2022, 2023')"
      ]
     },
     "execution_count": 929,
     "metadata": {},
     "output_type": "execute_result"
    },
    {
     "data": {
      "image/png": "[encoded data removed]",
      "text/plain": [
       "<Figure size 864x360 with 1 Axes>"
      ]
     },
     "metadata": {
      "needs_background": "light"
     },
     "output_type": "display_data"
    }
   ],
   "source": [
    "years = ['2021', '2022', '2023']\n",
    "market_vwap_data = [ETH_BTC_2021_Total_Market_VWAP, ETH_BTC_2022_Total_Market_VWAP, ETH_BTC_2023_Total_Market_VWAP]\n",
    "fig, (ax1) = plt.subplots(1, 1, figsize=(12, 5))\n",
    "\n",
    "rects = ax1.bar(range(len(market_vwap_data)), market_vwap_data, color=['yellow', 'green', 'm'])\n",
    "ax1.set_xticks(range(len(market_vwap_data)))\n",
    "ax1.xaxis.set_ticklabels(['ETH_BTC_' + year for year in years])\n",
    "ax1.set_ylabel('Market VWAP ')\n",
    "ax1.set_title('Market VWAP for ETH_BTC over 2021, 2022, 2023')\n"
   ]
  },
  {
   "cell_type": "markdown",
   "id": "bfea9554",
   "metadata": {},
   "source": [
    "### Observation:<br>\n",
    "- If we compare Market VWAP, the order is 2022 followed by 2023 and then 2021.<br><br>\n"
   ]
  },
  {
   "cell_type": "markdown",
   "id": "4f9b83d7",
   "metadata": {},
   "source": [
    "# BTC_USD_2021 Data"
   ]
  },
  {
   "cell_type": "code",
   "execution_count": 930,
   "id": "e89875ec",
   "metadata": {},
   "outputs": [
    {
     "name": "stderr",
     "output_type": "stream",
     "text": [
      "C:\\Users\\Krishna Diggavi\\AppData\\Local\\Temp\\ipykernel_14180\\97513812.py:90: RuntimeWarning: divide by zero encountered in double_scalars\n",
      "  accumulated_price_proportion_buy = accumulated_price_buy_average/arrival_price\n"
     ]
    }
   ],
   "source": [
    "BTC_USD_2021_buy_data, BTC_USD_2021_sell_data, BTC_USD_2021_buy_analysis,BTC_USD_2021_sell_analysis, BTC_USD_2021_Total_Market_VWAP = analysis(df_trades_btc_usd_2021, 0.1, 0.04, True,\n",
    "'2021-04-10 21:28:52.515484')"
   ]
  },
  {
   "cell_type": "code",
   "execution_count": 931,
   "id": "b801cb90",
   "metadata": {},
   "outputs": [
    {
     "data": {
      "text/html": [
       "<div>\n",
       "<style scoped>\n",
       "    .dataframe tbody tr th:only-of-type {\n",
       "        vertical-align: middle;\n",
       "    }\n",
       "\n",
       "    .dataframe tbody tr th {\n",
       "        vertical-align: top;\n",
       "    }\n",
       "\n",
       "    .dataframe thead th {\n",
       "        text-align: right;\n",
       "    }\n",
       "</style>\n",
       "<table border=\"1\" class=\"dataframe\">\n",
       "  <thead>\n",
       "    <tr style=\"text-align: right;\">\n",
       "      <th></th>\n",
       "      <th>received_utc_nanoseconds</th>\n",
       "      <th>timestamp_utc_nanoseconds</th>\n",
       "      <th>PriceMillionths</th>\n",
       "      <th>SizeBillionths</th>\n",
       "      <th>Side</th>\n",
       "      <th>timestamp</th>\n",
       "      <th>timestamp_diff</th>\n",
       "      <th>timestamp_diff_mask</th>\n",
       "      <th>price_grouped</th>\n",
       "      <th>volume</th>\n",
       "      <th>target_check</th>\n",
       "      <th>target_check_cum</th>\n",
       "    </tr>\n",
       "  </thead>\n",
       "  <tbody>\n",
       "    <tr>\n",
       "      <th>0</th>\n",
       "      <td>1.618090e+18</td>\n",
       "      <td>1.618090e+18</td>\n",
       "      <td>5911.996</td>\n",
       "      <td>0.001279</td>\n",
       "      <td>1.0</td>\n",
       "      <td>2021-04-10 21:28:53.470960896</td>\n",
       "      <td>NaT</td>\n",
       "      <td>False</td>\n",
       "      <td>0.000</td>\n",
       "      <td>0.000000</td>\n",
       "      <td>0.000000</td>\n",
       "      <td>0.000000</td>\n",
       "    </tr>\n",
       "    <tr>\n",
       "      <th>1</th>\n",
       "      <td>1.618090e+18</td>\n",
       "      <td>1.618090e+18</td>\n",
       "      <td>5912.208</td>\n",
       "      <td>0.000380</td>\n",
       "      <td>1.0</td>\n",
       "      <td>2021-04-10 21:28:53.470960896</td>\n",
       "      <td>0 days 00:00:00</td>\n",
       "      <td>True</td>\n",
       "      <td>5912.208</td>\n",
       "      <td>0.000380</td>\n",
       "      <td>0.000015</td>\n",
       "      <td>0.000015</td>\n",
       "    </tr>\n",
       "    <tr>\n",
       "      <th>2</th>\n",
       "      <td>1.618090e+18</td>\n",
       "      <td>1.618090e+18</td>\n",
       "      <td>5911.996</td>\n",
       "      <td>0.000452</td>\n",
       "      <td>1.0</td>\n",
       "      <td>2021-04-10 21:28:53.557380096</td>\n",
       "      <td>0 days 00:00:00.086419200</td>\n",
       "      <td>True</td>\n",
       "      <td>0.000</td>\n",
       "      <td>0.000000</td>\n",
       "      <td>0.000000</td>\n",
       "      <td>0.000015</td>\n",
       "    </tr>\n",
       "    <tr>\n",
       "      <th>3</th>\n",
       "      <td>1.618090e+18</td>\n",
       "      <td>1.618090e+18</td>\n",
       "      <td>5911.996</td>\n",
       "      <td>0.000252</td>\n",
       "      <td>1.0</td>\n",
       "      <td>2021-04-10 21:28:53.596147968</td>\n",
       "      <td>0 days 00:00:00.038767872</td>\n",
       "      <td>True</td>\n",
       "      <td>0.000</td>\n",
       "      <td>0.000000</td>\n",
       "      <td>0.000000</td>\n",
       "      <td>0.000015</td>\n",
       "    </tr>\n",
       "    <tr>\n",
       "      <th>4</th>\n",
       "      <td>1.618090e+18</td>\n",
       "      <td>1.618090e+18</td>\n",
       "      <td>5911.996</td>\n",
       "      <td>0.000056</td>\n",
       "      <td>1.0</td>\n",
       "      <td>2021-04-10 21:28:54.064537088</td>\n",
       "      <td>0 days 00:00:00.468389120</td>\n",
       "      <td>False</td>\n",
       "      <td>5911.996</td>\n",
       "      <td>0.000056</td>\n",
       "      <td>0.000002</td>\n",
       "      <td>0.000017</td>\n",
       "    </tr>\n",
       "  </tbody>\n",
       "</table>\n",
       "</div>"
      ],
      "text/plain": [
       "   received_utc_nanoseconds  timestamp_utc_nanoseconds   PriceMillionths  \\\n",
       "0              1.618090e+18                1.618090e+18         5911.996   \n",
       "1              1.618090e+18                1.618090e+18         5912.208   \n",
       "2              1.618090e+18                1.618090e+18         5911.996   \n",
       "3              1.618090e+18                1.618090e+18         5911.996   \n",
       "4              1.618090e+18                1.618090e+18         5911.996   \n",
       "\n",
       "   SizeBillionths  Side                     timestamp  \\\n",
       "0        0.001279   1.0 2021-04-10 21:28:53.470960896   \n",
       "1        0.000380   1.0 2021-04-10 21:28:53.470960896   \n",
       "2        0.000452   1.0 2021-04-10 21:28:53.557380096   \n",
       "3        0.000252   1.0 2021-04-10 21:28:53.596147968   \n",
       "4        0.000056   1.0 2021-04-10 21:28:54.064537088   \n",
       "\n",
       "              timestamp_diff  timestamp_diff_mask  price_grouped    volume  \\\n",
       "0                        NaT                False          0.000  0.000000   \n",
       "1            0 days 00:00:00                 True       5912.208  0.000380   \n",
       "2  0 days 00:00:00.086419200                 True          0.000  0.000000   \n",
       "3  0 days 00:00:00.038767872                 True          0.000  0.000000   \n",
       "4  0 days 00:00:00.468389120                False       5911.996  0.000056   \n",
       "\n",
       "   target_check  target_check_cum  \n",
       "0      0.000000          0.000000  \n",
       "1      0.000015          0.000015  \n",
       "2      0.000000          0.000015  \n",
       "3      0.000000          0.000015  \n",
       "4      0.000002          0.000017  "
      ]
     },
     "execution_count": 931,
     "metadata": {},
     "output_type": "execute_result"
    }
   ],
   "source": [
    "BTC_USD_2021_buy_data.head()"
   ]
  },
  {
   "cell_type": "code",
   "execution_count": 932,
   "id": "3746105f",
   "metadata": {},
   "outputs": [
    {
     "data": {
      "text/html": [
       "<div>\n",
       "<style scoped>\n",
       "    .dataframe tbody tr th:only-of-type {\n",
       "        vertical-align: middle;\n",
       "    }\n",
       "\n",
       "    .dataframe tbody tr th {\n",
       "        vertical-align: top;\n",
       "    }\n",
       "\n",
       "    .dataframe thead th {\n",
       "        text-align: right;\n",
       "    }\n",
       "</style>\n",
       "<table border=\"1\" class=\"dataframe\">\n",
       "  <thead>\n",
       "    <tr style=\"text-align: right;\">\n",
       "      <th></th>\n",
       "      <th>received_utc_nanoseconds</th>\n",
       "      <th>timestamp_utc_nanoseconds</th>\n",
       "      <th>PriceMillionths</th>\n",
       "      <th>SizeBillionths</th>\n",
       "      <th>Side</th>\n",
       "      <th>timestamp</th>\n",
       "      <th>timestamp_diff</th>\n",
       "      <th>timestamp_diff_mask</th>\n",
       "      <th>price_grouped</th>\n",
       "      <th>volume</th>\n",
       "      <th>target_check</th>\n",
       "      <th>target_check_cum</th>\n",
       "    </tr>\n",
       "  </thead>\n",
       "  <tbody>\n",
       "    <tr>\n",
       "      <th>0</th>\n",
       "      <td>1.618090e+18</td>\n",
       "      <td>1.618090e+18</td>\n",
       "      <td>5912.071</td>\n",
       "      <td>0.000970</td>\n",
       "      <td>-1.0</td>\n",
       "      <td>2021-04-10 21:28:52.515483904</td>\n",
       "      <td>NaT</td>\n",
       "      <td>False</td>\n",
       "      <td>5912.071</td>\n",
       "      <td>0.000970</td>\n",
       "      <td>0.000039</td>\n",
       "      <td>0.000039</td>\n",
       "    </tr>\n",
       "    <tr>\n",
       "      <th>1</th>\n",
       "      <td>1.618090e+18</td>\n",
       "      <td>1.618090e+18</td>\n",
       "      <td>5912.507</td>\n",
       "      <td>0.000812</td>\n",
       "      <td>-3.0</td>\n",
       "      <td>2021-04-10 21:28:52.515483904</td>\n",
       "      <td>0 days 00:00:00</td>\n",
       "      <td>True</td>\n",
       "      <td>0.000</td>\n",
       "      <td>0.000000</td>\n",
       "      <td>0.000000</td>\n",
       "      <td>0.000039</td>\n",
       "    </tr>\n",
       "    <tr>\n",
       "      <th>2</th>\n",
       "      <td>1.618090e+18</td>\n",
       "      <td>1.618090e+18</td>\n",
       "      <td>5911.995</td>\n",
       "      <td>0.000656</td>\n",
       "      <td>-1.0</td>\n",
       "      <td>2021-04-10 21:28:52.989552896</td>\n",
       "      <td>0 days 00:00:00.474068992</td>\n",
       "      <td>False</td>\n",
       "      <td>5911.995</td>\n",
       "      <td>0.000656</td>\n",
       "      <td>0.000026</td>\n",
       "      <td>0.000065</td>\n",
       "    </tr>\n",
       "    <tr>\n",
       "      <th>3</th>\n",
       "      <td>1.618090e+18</td>\n",
       "      <td>1.618090e+18</td>\n",
       "      <td>5912.507</td>\n",
       "      <td>0.000061</td>\n",
       "      <td>-1.0</td>\n",
       "      <td>2021-04-10 21:28:52.989552896</td>\n",
       "      <td>0 days 00:00:00</td>\n",
       "      <td>True</td>\n",
       "      <td>0.000</td>\n",
       "      <td>0.000000</td>\n",
       "      <td>0.000000</td>\n",
       "      <td>0.000065</td>\n",
       "    </tr>\n",
       "    <tr>\n",
       "      <th>4</th>\n",
       "      <td>1.618090e+18</td>\n",
       "      <td>1.618090e+18</td>\n",
       "      <td>5911.995</td>\n",
       "      <td>0.001700</td>\n",
       "      <td>-1.0</td>\n",
       "      <td>2021-04-10 21:28:53.074765056</td>\n",
       "      <td>0 days 00:00:00.085212160</td>\n",
       "      <td>True</td>\n",
       "      <td>0.000</td>\n",
       "      <td>0.000000</td>\n",
       "      <td>0.000000</td>\n",
       "      <td>0.000065</td>\n",
       "    </tr>\n",
       "  </tbody>\n",
       "</table>\n",
       "</div>"
      ],
      "text/plain": [
       "   received_utc_nanoseconds  timestamp_utc_nanoseconds   PriceMillionths  \\\n",
       "0              1.618090e+18                1.618090e+18         5912.071   \n",
       "1              1.618090e+18                1.618090e+18         5912.507   \n",
       "2              1.618090e+18                1.618090e+18         5911.995   \n",
       "3              1.618090e+18                1.618090e+18         5912.507   \n",
       "4              1.618090e+18                1.618090e+18         5911.995   \n",
       "\n",
       "   SizeBillionths  Side                     timestamp  \\\n",
       "0        0.000970  -1.0 2021-04-10 21:28:52.515483904   \n",
       "1        0.000812  -3.0 2021-04-10 21:28:52.515483904   \n",
       "2        0.000656  -1.0 2021-04-10 21:28:52.989552896   \n",
       "3        0.000061  -1.0 2021-04-10 21:28:52.989552896   \n",
       "4        0.001700  -1.0 2021-04-10 21:28:53.074765056   \n",
       "\n",
       "              timestamp_diff  timestamp_diff_mask  price_grouped    volume  \\\n",
       "0                        NaT                False       5912.071  0.000970   \n",
       "1            0 days 00:00:00                 True          0.000  0.000000   \n",
       "2  0 days 00:00:00.474068992                False       5911.995  0.000656   \n",
       "3            0 days 00:00:00                 True          0.000  0.000000   \n",
       "4  0 days 00:00:00.085212160                 True          0.000  0.000000   \n",
       "\n",
       "   target_check  target_check_cum  \n",
       "0      0.000039          0.000039  \n",
       "1      0.000000          0.000039  \n",
       "2      0.000026          0.000065  \n",
       "3      0.000000          0.000065  \n",
       "4      0.000000          0.000065  "
      ]
     },
     "execution_count": 932,
     "metadata": {},
     "output_type": "execute_result"
    }
   ],
   "source": [
    "BTC_USD_2021_sell_data.head()"
   ]
  },
  {
   "cell_type": "code",
   "execution_count": 933,
   "id": "968f3bcf",
   "metadata": {},
   "outputs": [
    {
     "data": {
      "text/html": [
       "<div>\n",
       "<style scoped>\n",
       "    .dataframe tbody tr th:only-of-type {\n",
       "        vertical-align: middle;\n",
       "    }\n",
       "\n",
       "    .dataframe tbody tr th {\n",
       "        vertical-align: top;\n",
       "    }\n",
       "\n",
       "    .dataframe thead th {\n",
       "        text-align: right;\n",
       "    }\n",
       "</style>\n",
       "<table border=\"1\" class=\"dataframe\">\n",
       "  <thead>\n",
       "    <tr style=\"text-align: right;\">\n",
       "      <th></th>\n",
       "      <th>VWAP_buy</th>\n",
       "      <th>transcation_fees_buy</th>\n",
       "      <th>time_buy</th>\n",
       "      <th>trading_cost_proportion_buy</th>\n",
       "      <th>accumulated_price_proportion_buy</th>\n",
       "      <th>accumulated_quantity_proportion_buy</th>\n",
       "      <th>deviation_buy</th>\n",
       "      <th>trade_completeness_buy</th>\n",
       "    </tr>\n",
       "  </thead>\n",
       "  <tbody>\n",
       "    <tr>\n",
       "      <th>analysis_buy</th>\n",
       "      <td>5912.076539</td>\n",
       "      <td>5.912077</td>\n",
       "      <td>0 days 00:14:58.903394048</td>\n",
       "      <td>0.000001</td>\n",
       "      <td>inf</td>\n",
       "      <td>0.720736</td>\n",
       "      <td>-0.027926</td>\n",
       "      <td>Not Completed</td>\n",
       "    </tr>\n",
       "  </tbody>\n",
       "</table>\n",
       "</div>"
      ],
      "text/plain": [
       "                 VWAP_buy transcation_fees_buy                  time_buy  \\\n",
       "analysis_buy  5912.076539             5.912077 0 days 00:14:58.903394048   \n",
       "\n",
       "             trading_cost_proportion_buy accumulated_price_proportion_buy  \\\n",
       "analysis_buy                    0.000001                              inf   \n",
       "\n",
       "             accumulated_quantity_proportion_buy deviation_buy  \\\n",
       "analysis_buy                            0.720736     -0.027926   \n",
       "\n",
       "             trade_completeness_buy  \n",
       "analysis_buy          Not Completed  "
      ]
     },
     "execution_count": 933,
     "metadata": {},
     "output_type": "execute_result"
    }
   ],
   "source": [
    "BTC_USD_2021_buy_analysis.transpose()"
   ]
  },
  {
   "cell_type": "code",
   "execution_count": 934,
   "id": "3d832819",
   "metadata": {},
   "outputs": [
    {
     "data": {
      "text/html": [
       "<div>\n",
       "<style scoped>\n",
       "    .dataframe tbody tr th:only-of-type {\n",
       "        vertical-align: middle;\n",
       "    }\n",
       "\n",
       "    .dataframe tbody tr th {\n",
       "        vertical-align: top;\n",
       "    }\n",
       "\n",
       "    .dataframe thead th {\n",
       "        text-align: right;\n",
       "    }\n",
       "</style>\n",
       "<table border=\"1\" class=\"dataframe\">\n",
       "  <thead>\n",
       "    <tr style=\"text-align: right;\">\n",
       "      <th></th>\n",
       "      <th>VWAP_sell</th>\n",
       "      <th>transcation_fees_sell</th>\n",
       "      <th>time_sell</th>\n",
       "      <th>trading_cost_proportion_sell</th>\n",
       "      <th>accumulated_price_proportion_sell</th>\n",
       "      <th>accumulated_quantity_proportion_sell</th>\n",
       "      <th>deviation_sell</th>\n",
       "      <th>trade_completeness_sell</th>\n",
       "    </tr>\n",
       "  </thead>\n",
       "  <tbody>\n",
       "    <tr>\n",
       "      <th>analysis_sell</th>\n",
       "      <td>5910.724406</td>\n",
       "      <td>5.910724</td>\n",
       "      <td>0 days 00:14:59.291906048</td>\n",
       "      <td>0.000002</td>\n",
       "      <td>0.634073</td>\n",
       "      <td>0.622647</td>\n",
       "      <td>-0.037735</td>\n",
       "      <td>Not Completed</td>\n",
       "    </tr>\n",
       "  </tbody>\n",
       "</table>\n",
       "</div>"
      ],
      "text/plain": [
       "                 VWAP_sell transcation_fees_sell                 time_sell  \\\n",
       "analysis_sell  5910.724406              5.910724 0 days 00:14:59.291906048   \n",
       "\n",
       "              trading_cost_proportion_sell accumulated_price_proportion_sell  \\\n",
       "analysis_sell                     0.000002                          0.634073   \n",
       "\n",
       "              accumulated_quantity_proportion_sell deviation_sell  \\\n",
       "analysis_sell                             0.622647      -0.037735   \n",
       "\n",
       "              trade_completeness_sell  \n",
       "analysis_sell           Not Completed  "
      ]
     },
     "execution_count": 934,
     "metadata": {},
     "output_type": "execute_result"
    }
   ],
   "source": [
    "BTC_USD_2021_sell_analysis.transpose()"
   ]
  },
  {
   "cell_type": "code",
   "execution_count": 935,
   "id": "1ea928e0",
   "metadata": {},
   "outputs": [
    {
     "data": {
      "text/plain": [
       "5602.525039036388"
      ]
     },
     "execution_count": 935,
     "metadata": {},
     "output_type": "execute_result"
    }
   ],
   "source": [
    "BTC_USD_2021_Total_Market_VWAP"
   ]
  },
  {
   "cell_type": "code",
   "execution_count": null,
   "id": "6b53b4fb",
   "metadata": {},
   "outputs": [],
   "source": []
  },
  {
   "cell_type": "markdown",
   "id": "d9edc456",
   "metadata": {},
   "source": [
    "# BTC_USD_2022 Data"
   ]
  },
  {
   "cell_type": "code",
   "execution_count": 936,
   "id": "cb63cfd5",
   "metadata": {},
   "outputs": [
    {
     "name": "stderr",
     "output_type": "stream",
     "text": [
      "C:\\Users\\Krishna Diggavi\\AppData\\Local\\Temp\\ipykernel_14180\\97513812.py:90: RuntimeWarning: divide by zero encountered in double_scalars\n",
      "  accumulated_price_proportion_buy = accumulated_price_buy_average/arrival_price\n"
     ]
    }
   ],
   "source": [
    "BTC_USD_2022_buy_data, BTC_USD_2022_sell_data, BTC_USD_2022_buy_analysis,BTC_USD_2022_sell_analysis, BTC_USD_2022_Total_Market_VWAP = analysis(df_trades_btc_usd_2022, 0.1, 0.04, True,\n",
    "'2022-01-29 21:02:49.574850')\n"
   ]
  },
  {
   "cell_type": "code",
   "execution_count": 937,
   "id": "0cf65869",
   "metadata": {},
   "outputs": [
    {
     "data": {
      "text/html": [
       "<div>\n",
       "<style scoped>\n",
       "    .dataframe tbody tr th:only-of-type {\n",
       "        vertical-align: middle;\n",
       "    }\n",
       "\n",
       "    .dataframe tbody tr th {\n",
       "        vertical-align: top;\n",
       "    }\n",
       "\n",
       "    .dataframe thead th {\n",
       "        text-align: right;\n",
       "    }\n",
       "</style>\n",
       "<table border=\"1\" class=\"dataframe\">\n",
       "  <thead>\n",
       "    <tr style=\"text-align: right;\">\n",
       "      <th></th>\n",
       "      <th>received_utc_nanoseconds</th>\n",
       "      <th>timestamp_utc_nanoseconds</th>\n",
       "      <th>PriceMillionths</th>\n",
       "      <th>SizeBillionths</th>\n",
       "      <th>Side</th>\n",
       "      <th>timestamp</th>\n",
       "      <th>timestamp_diff</th>\n",
       "      <th>timestamp_diff_mask</th>\n",
       "      <th>price_grouped</th>\n",
       "      <th>volume</th>\n",
       "      <th>target_check</th>\n",
       "      <th>target_check_cum</th>\n",
       "    </tr>\n",
       "  </thead>\n",
       "  <tbody>\n",
       "    <tr>\n",
       "      <th>0</th>\n",
       "      <td>1.643490e+18</td>\n",
       "      <td>1.643490e+18</td>\n",
       "      <td>3838.338</td>\n",
       "      <td>0.000094</td>\n",
       "      <td>1.0</td>\n",
       "      <td>2022-01-29 21:02:49.574850048</td>\n",
       "      <td>NaT</td>\n",
       "      <td>False</td>\n",
       "      <td>0.0</td>\n",
       "      <td>0.0</td>\n",
       "      <td>0.0</td>\n",
       "      <td>0.0</td>\n",
       "    </tr>\n",
       "    <tr>\n",
       "      <th>1</th>\n",
       "      <td>1.643490e+18</td>\n",
       "      <td>1.643490e+18</td>\n",
       "      <td>3838.776</td>\n",
       "      <td>0.000894</td>\n",
       "      <td>1.0</td>\n",
       "      <td>2022-01-29 21:02:49.574850048</td>\n",
       "      <td>0 days 00:00:00</td>\n",
       "      <td>True</td>\n",
       "      <td>0.0</td>\n",
       "      <td>0.0</td>\n",
       "      <td>0.0</td>\n",
       "      <td>0.0</td>\n",
       "    </tr>\n",
       "    <tr>\n",
       "      <th>2</th>\n",
       "      <td>1.643490e+18</td>\n",
       "      <td>1.643490e+18</td>\n",
       "      <td>3838.777</td>\n",
       "      <td>0.004645</td>\n",
       "      <td>1.0</td>\n",
       "      <td>2022-01-29 21:02:49.574850048</td>\n",
       "      <td>0 days 00:00:00</td>\n",
       "      <td>True</td>\n",
       "      <td>0.0</td>\n",
       "      <td>0.0</td>\n",
       "      <td>0.0</td>\n",
       "      <td>0.0</td>\n",
       "    </tr>\n",
       "    <tr>\n",
       "      <th>3</th>\n",
       "      <td>1.643490e+18</td>\n",
       "      <td>1.643490e+18</td>\n",
       "      <td>3838.896</td>\n",
       "      <td>0.001446</td>\n",
       "      <td>2.0</td>\n",
       "      <td>2022-01-29 21:02:49.574850048</td>\n",
       "      <td>0 days 00:00:00</td>\n",
       "      <td>True</td>\n",
       "      <td>0.0</td>\n",
       "      <td>0.0</td>\n",
       "      <td>0.0</td>\n",
       "      <td>0.0</td>\n",
       "    </tr>\n",
       "    <tr>\n",
       "      <th>4</th>\n",
       "      <td>1.643490e+18</td>\n",
       "      <td>1.643490e+18</td>\n",
       "      <td>3839.072</td>\n",
       "      <td>0.003367</td>\n",
       "      <td>1.0</td>\n",
       "      <td>2022-01-29 21:02:49.574850048</td>\n",
       "      <td>0 days 00:00:00</td>\n",
       "      <td>True</td>\n",
       "      <td>0.0</td>\n",
       "      <td>0.0</td>\n",
       "      <td>0.0</td>\n",
       "      <td>0.0</td>\n",
       "    </tr>\n",
       "  </tbody>\n",
       "</table>\n",
       "</div>"
      ],
      "text/plain": [
       "   received_utc_nanoseconds  timestamp_utc_nanoseconds   PriceMillionths  \\\n",
       "0              1.643490e+18                1.643490e+18         3838.338   \n",
       "1              1.643490e+18                1.643490e+18         3838.776   \n",
       "2              1.643490e+18                1.643490e+18         3838.777   \n",
       "3              1.643490e+18                1.643490e+18         3838.896   \n",
       "4              1.643490e+18                1.643490e+18         3839.072   \n",
       "\n",
       "   SizeBillionths  Side                     timestamp   timestamp_diff  \\\n",
       "0        0.000094   1.0 2022-01-29 21:02:49.574850048              NaT   \n",
       "1        0.000894   1.0 2022-01-29 21:02:49.574850048  0 days 00:00:00   \n",
       "2        0.004645   1.0 2022-01-29 21:02:49.574850048  0 days 00:00:00   \n",
       "3        0.001446   2.0 2022-01-29 21:02:49.574850048  0 days 00:00:00   \n",
       "4        0.003367   1.0 2022-01-29 21:02:49.574850048  0 days 00:00:00   \n",
       "\n",
       "   timestamp_diff_mask  price_grouped  volume  target_check  target_check_cum  \n",
       "0                False            0.0     0.0           0.0               0.0  \n",
       "1                 True            0.0     0.0           0.0               0.0  \n",
       "2                 True            0.0     0.0           0.0               0.0  \n",
       "3                 True            0.0     0.0           0.0               0.0  \n",
       "4                 True            0.0     0.0           0.0               0.0  "
      ]
     },
     "execution_count": 937,
     "metadata": {},
     "output_type": "execute_result"
    }
   ],
   "source": [
    "BTC_USD_2022_buy_data.head()"
   ]
  },
  {
   "cell_type": "code",
   "execution_count": 938,
   "id": "d3c6a7f3",
   "metadata": {},
   "outputs": [
    {
     "data": {
      "text/html": [
       "<div>\n",
       "<style scoped>\n",
       "    .dataframe tbody tr th:only-of-type {\n",
       "        vertical-align: middle;\n",
       "    }\n",
       "\n",
       "    .dataframe tbody tr th {\n",
       "        vertical-align: top;\n",
       "    }\n",
       "\n",
       "    .dataframe thead th {\n",
       "        text-align: right;\n",
       "    }\n",
       "</style>\n",
       "<table border=\"1\" class=\"dataframe\">\n",
       "  <thead>\n",
       "    <tr style=\"text-align: right;\">\n",
       "      <th></th>\n",
       "      <th>received_utc_nanoseconds</th>\n",
       "      <th>timestamp_utc_nanoseconds</th>\n",
       "      <th>PriceMillionths</th>\n",
       "      <th>SizeBillionths</th>\n",
       "      <th>Side</th>\n",
       "      <th>timestamp</th>\n",
       "      <th>timestamp_diff</th>\n",
       "      <th>timestamp_diff_mask</th>\n",
       "      <th>price_grouped</th>\n",
       "      <th>volume</th>\n",
       "      <th>target_check</th>\n",
       "      <th>target_check_cum</th>\n",
       "    </tr>\n",
       "  </thead>\n",
       "  <tbody>\n",
       "    <tr>\n",
       "      <th>0</th>\n",
       "      <td>1.643490e+18</td>\n",
       "      <td>1.643490e+18</td>\n",
       "      <td>3838.854</td>\n",
       "      <td>0.000338</td>\n",
       "      <td>-1.0</td>\n",
       "      <td>2022-01-29 21:02:50.023282944</td>\n",
       "      <td>NaT</td>\n",
       "      <td>False</td>\n",
       "      <td>3838.854</td>\n",
       "      <td>0.000338</td>\n",
       "      <td>1.352600e-05</td>\n",
       "      <td>0.000014</td>\n",
       "    </tr>\n",
       "    <tr>\n",
       "      <th>1</th>\n",
       "      <td>1.643490e+18</td>\n",
       "      <td>1.643490e+18</td>\n",
       "      <td>3838.860</td>\n",
       "      <td>0.000066</td>\n",
       "      <td>-1.0</td>\n",
       "      <td>2022-01-29 21:02:50.164972032</td>\n",
       "      <td>0 days 00:00:00.141689088</td>\n",
       "      <td>False</td>\n",
       "      <td>3838.860</td>\n",
       "      <td>0.000066</td>\n",
       "      <td>2.620640e-06</td>\n",
       "      <td>0.000016</td>\n",
       "    </tr>\n",
       "    <tr>\n",
       "      <th>2</th>\n",
       "      <td>1.643490e+18</td>\n",
       "      <td>1.643490e+18</td>\n",
       "      <td>3838.937</td>\n",
       "      <td>0.000009</td>\n",
       "      <td>-1.0</td>\n",
       "      <td>2022-01-29 21:02:50.549199104</td>\n",
       "      <td>0 days 00:00:00.384227072</td>\n",
       "      <td>False</td>\n",
       "      <td>3838.937</td>\n",
       "      <td>0.000009</td>\n",
       "      <td>3.717200e-07</td>\n",
       "      <td>0.000017</td>\n",
       "    </tr>\n",
       "    <tr>\n",
       "      <th>3</th>\n",
       "      <td>1.643490e+18</td>\n",
       "      <td>1.643490e+18</td>\n",
       "      <td>3838.889</td>\n",
       "      <td>0.000737</td>\n",
       "      <td>-1.0</td>\n",
       "      <td>2022-01-29 21:02:50.728057088</td>\n",
       "      <td>0 days 00:00:00.178857984</td>\n",
       "      <td>False</td>\n",
       "      <td>3838.889</td>\n",
       "      <td>0.000737</td>\n",
       "      <td>2.946820e-05</td>\n",
       "      <td>0.000046</td>\n",
       "    </tr>\n",
       "    <tr>\n",
       "      <th>4</th>\n",
       "      <td>1.643490e+18</td>\n",
       "      <td>1.643490e+18</td>\n",
       "      <td>3838.937</td>\n",
       "      <td>0.001548</td>\n",
       "      <td>-4.0</td>\n",
       "      <td>2022-01-29 21:02:50.728057088</td>\n",
       "      <td>0 days 00:00:00</td>\n",
       "      <td>True</td>\n",
       "      <td>0.000</td>\n",
       "      <td>0.000000</td>\n",
       "      <td>0.000000e+00</td>\n",
       "      <td>0.000046</td>\n",
       "    </tr>\n",
       "  </tbody>\n",
       "</table>\n",
       "</div>"
      ],
      "text/plain": [
       "   received_utc_nanoseconds  timestamp_utc_nanoseconds   PriceMillionths  \\\n",
       "0              1.643490e+18                1.643490e+18         3838.854   \n",
       "1              1.643490e+18                1.643490e+18         3838.860   \n",
       "2              1.643490e+18                1.643490e+18         3838.937   \n",
       "3              1.643490e+18                1.643490e+18         3838.889   \n",
       "4              1.643490e+18                1.643490e+18         3838.937   \n",
       "\n",
       "   SizeBillionths  Side                     timestamp  \\\n",
       "0        0.000338  -1.0 2022-01-29 21:02:50.023282944   \n",
       "1        0.000066  -1.0 2022-01-29 21:02:50.164972032   \n",
       "2        0.000009  -1.0 2022-01-29 21:02:50.549199104   \n",
       "3        0.000737  -1.0 2022-01-29 21:02:50.728057088   \n",
       "4        0.001548  -4.0 2022-01-29 21:02:50.728057088   \n",
       "\n",
       "              timestamp_diff  timestamp_diff_mask  price_grouped    volume  \\\n",
       "0                        NaT                False       3838.854  0.000338   \n",
       "1  0 days 00:00:00.141689088                False       3838.860  0.000066   \n",
       "2  0 days 00:00:00.384227072                False       3838.937  0.000009   \n",
       "3  0 days 00:00:00.178857984                False       3838.889  0.000737   \n",
       "4            0 days 00:00:00                 True          0.000  0.000000   \n",
       "\n",
       "   target_check  target_check_cum  \n",
       "0  1.352600e-05          0.000014  \n",
       "1  2.620640e-06          0.000016  \n",
       "2  3.717200e-07          0.000017  \n",
       "3  2.946820e-05          0.000046  \n",
       "4  0.000000e+00          0.000046  "
      ]
     },
     "execution_count": 938,
     "metadata": {},
     "output_type": "execute_result"
    }
   ],
   "source": [
    "BTC_USD_2022_sell_data.head()"
   ]
  },
  {
   "cell_type": "code",
   "execution_count": 939,
   "id": "6dad0e70",
   "metadata": {},
   "outputs": [
    {
     "data": {
      "text/html": [
       "<div>\n",
       "<style scoped>\n",
       "    .dataframe tbody tr th:only-of-type {\n",
       "        vertical-align: middle;\n",
       "    }\n",
       "\n",
       "    .dataframe tbody tr th {\n",
       "        vertical-align: top;\n",
       "    }\n",
       "\n",
       "    .dataframe thead th {\n",
       "        text-align: right;\n",
       "    }\n",
       "</style>\n",
       "<table border=\"1\" class=\"dataframe\">\n",
       "  <thead>\n",
       "    <tr style=\"text-align: right;\">\n",
       "      <th></th>\n",
       "      <th>VWAP_buy</th>\n",
       "      <th>transcation_fees_buy</th>\n",
       "      <th>time_buy</th>\n",
       "      <th>trading_cost_proportion_buy</th>\n",
       "      <th>accumulated_price_proportion_buy</th>\n",
       "      <th>accumulated_quantity_proportion_buy</th>\n",
       "      <th>deviation_buy</th>\n",
       "      <th>trade_completeness_buy</th>\n",
       "    </tr>\n",
       "  </thead>\n",
       "  <tbody>\n",
       "    <tr>\n",
       "      <th>analysis_buy</th>\n",
       "      <td>3859.00175</td>\n",
       "      <td>3.859002</td>\n",
       "      <td>0 days 00:12:24.858604032</td>\n",
       "      <td>0.000001</td>\n",
       "      <td>inf</td>\n",
       "      <td>1.000018</td>\n",
       "      <td>0.000002</td>\n",
       "      <td>Completed</td>\n",
       "    </tr>\n",
       "  </tbody>\n",
       "</table>\n",
       "</div>"
      ],
      "text/plain": [
       "                VWAP_buy transcation_fees_buy                  time_buy  \\\n",
       "analysis_buy  3859.00175             3.859002 0 days 00:12:24.858604032   \n",
       "\n",
       "             trading_cost_proportion_buy accumulated_price_proportion_buy  \\\n",
       "analysis_buy                    0.000001                              inf   \n",
       "\n",
       "             accumulated_quantity_proportion_buy deviation_buy  \\\n",
       "analysis_buy                            1.000018      0.000002   \n",
       "\n",
       "             trade_completeness_buy  \n",
       "analysis_buy              Completed  "
      ]
     },
     "execution_count": 939,
     "metadata": {},
     "output_type": "execute_result"
    }
   ],
   "source": [
    "BTC_USD_2022_buy_analysis.transpose()"
   ]
  },
  {
   "cell_type": "code",
   "execution_count": 940,
   "id": "b0b1cd53",
   "metadata": {},
   "outputs": [
    {
     "data": {
      "text/html": [
       "<div>\n",
       "<style scoped>\n",
       "    .dataframe tbody tr th:only-of-type {\n",
       "        vertical-align: middle;\n",
       "    }\n",
       "\n",
       "    .dataframe tbody tr th {\n",
       "        vertical-align: top;\n",
       "    }\n",
       "\n",
       "    .dataframe thead th {\n",
       "        text-align: right;\n",
       "    }\n",
       "</style>\n",
       "<table border=\"1\" class=\"dataframe\">\n",
       "  <thead>\n",
       "    <tr style=\"text-align: right;\">\n",
       "      <th></th>\n",
       "      <th>VWAP_sell</th>\n",
       "      <th>transcation_fees_sell</th>\n",
       "      <th>time_sell</th>\n",
       "      <th>trading_cost_proportion_sell</th>\n",
       "      <th>accumulated_price_proportion_sell</th>\n",
       "      <th>accumulated_quantity_proportion_sell</th>\n",
       "      <th>deviation_sell</th>\n",
       "      <th>trade_completeness_sell</th>\n",
       "    </tr>\n",
       "  </thead>\n",
       "  <tbody>\n",
       "    <tr>\n",
       "      <th>analysis_sell</th>\n",
       "      <td>3857.763183</td>\n",
       "      <td>3.857763</td>\n",
       "      <td>0 days 00:14:38.826816</td>\n",
       "      <td>0.000001</td>\n",
       "      <td>0.315638</td>\n",
       "      <td>1.000295</td>\n",
       "      <td>0.00003</td>\n",
       "      <td>Completed</td>\n",
       "    </tr>\n",
       "  </tbody>\n",
       "</table>\n",
       "</div>"
      ],
      "text/plain": [
       "                 VWAP_sell transcation_fees_sell              time_sell  \\\n",
       "analysis_sell  3857.763183              3.857763 0 days 00:14:38.826816   \n",
       "\n",
       "              trading_cost_proportion_sell accumulated_price_proportion_sell  \\\n",
       "analysis_sell                     0.000001                          0.315638   \n",
       "\n",
       "              accumulated_quantity_proportion_sell deviation_sell  \\\n",
       "analysis_sell                             1.000295        0.00003   \n",
       "\n",
       "              trade_completeness_sell  \n",
       "analysis_sell               Completed  "
      ]
     },
     "execution_count": 940,
     "metadata": {},
     "output_type": "execute_result"
    }
   ],
   "source": [
    "BTC_USD_2022_sell_analysis.transpose()"
   ]
  },
  {
   "cell_type": "code",
   "execution_count": 941,
   "id": "ca48e375",
   "metadata": {},
   "outputs": [
    {
     "data": {
      "text/plain": [
       "3823.619891122875"
      ]
     },
     "execution_count": 941,
     "metadata": {},
     "output_type": "execute_result"
    }
   ],
   "source": [
    "BTC_USD_2022_Total_Market_VWAP"
   ]
  },
  {
   "cell_type": "code",
   "execution_count": null,
   "id": "539a4f15",
   "metadata": {},
   "outputs": [],
   "source": []
  },
  {
   "cell_type": "markdown",
   "id": "51aa9e31",
   "metadata": {},
   "source": [
    "# BTC_USD_2023 Data"
   ]
  },
  {
   "cell_type": "code",
   "execution_count": 942,
   "id": "e7252050",
   "metadata": {},
   "outputs": [
    {
     "name": "stderr",
     "output_type": "stream",
     "text": [
      "C:\\Users\\Krishna Diggavi\\AppData\\Local\\Temp\\ipykernel_14180\\97513812.py:90: RuntimeWarning: divide by zero encountered in double_scalars\n",
      "  accumulated_price_proportion_buy = accumulated_price_buy_average/arrival_price\n",
      "C:\\Users\\Krishna Diggavi\\AppData\\Local\\Temp\\ipykernel_14180\\97513812.py:168: RuntimeWarning: divide by zero encountered in double_scalars\n",
      "  accumulated_price_proportion_sell = accumulated_price_sell_average/arrival_price_sell\n"
     ]
    }
   ],
   "source": [
    "BTC_USD_2023_buy_data, BTC_USD_2023_sell_data, BTC_USD_2023_buy_analysis,BTC_USD_2023_sell_analysis, BTC_USD_2023_Total_Market_VWAP = analysis(df_trades_btc_usd_2023, 0.1, 0.04,True,\n",
    "'2023-01-24 00:47:47.874527')\n"
   ]
  },
  {
   "cell_type": "code",
   "execution_count": 947,
   "id": "419d592a",
   "metadata": {},
   "outputs": [
    {
     "data": {
      "text/html": [
       "<div>\n",
       "<style scoped>\n",
       "    .dataframe tbody tr th:only-of-type {\n",
       "        vertical-align: middle;\n",
       "    }\n",
       "\n",
       "    .dataframe tbody tr th {\n",
       "        vertical-align: top;\n",
       "    }\n",
       "\n",
       "    .dataframe thead th {\n",
       "        text-align: right;\n",
       "    }\n",
       "</style>\n",
       "<table border=\"1\" class=\"dataframe\">\n",
       "  <thead>\n",
       "    <tr style=\"text-align: right;\">\n",
       "      <th></th>\n",
       "      <th>received_utc_nanoseconds</th>\n",
       "      <th>timestamp_utc_nanoseconds</th>\n",
       "      <th>PriceMillionths</th>\n",
       "      <th>SizeBillionths</th>\n",
       "      <th>Side</th>\n",
       "      <th>timestamp</th>\n",
       "      <th>timestamp_diff</th>\n",
       "      <th>timestamp_diff_mask</th>\n",
       "      <th>price_grouped</th>\n",
       "      <th>volume</th>\n",
       "      <th>target_check</th>\n",
       "      <th>target_check_cum</th>\n",
       "    </tr>\n",
       "  </thead>\n",
       "  <tbody>\n",
       "    <tr>\n",
       "      <th>0</th>\n",
       "      <td>1.674521e+18</td>\n",
       "      <td>1.674521e+18</td>\n",
       "      <td>2296.984</td>\n",
       "      <td>0.001000</td>\n",
       "      <td>1.0</td>\n",
       "      <td>2023-01-24 00:47:48.676443904</td>\n",
       "      <td>NaT</td>\n",
       "      <td>False</td>\n",
       "      <td>0.00</td>\n",
       "      <td>0.000000</td>\n",
       "      <td>0.000000</td>\n",
       "      <td>0.000000</td>\n",
       "    </tr>\n",
       "    <tr>\n",
       "      <th>1</th>\n",
       "      <td>1.674521e+18</td>\n",
       "      <td>1.674521e+18</td>\n",
       "      <td>2296.985</td>\n",
       "      <td>0.001546</td>\n",
       "      <td>1.0</td>\n",
       "      <td>2023-01-24 00:47:48.676443904</td>\n",
       "      <td>0 days 00:00:00</td>\n",
       "      <td>True</td>\n",
       "      <td>0.00</td>\n",
       "      <td>0.000000</td>\n",
       "      <td>0.000000</td>\n",
       "      <td>0.000000</td>\n",
       "    </tr>\n",
       "    <tr>\n",
       "      <th>2</th>\n",
       "      <td>1.674521e+18</td>\n",
       "      <td>1.674521e+18</td>\n",
       "      <td>2296.986</td>\n",
       "      <td>0.001426</td>\n",
       "      <td>1.0</td>\n",
       "      <td>2023-01-24 00:47:48.676443904</td>\n",
       "      <td>0 days 00:00:00</td>\n",
       "      <td>True</td>\n",
       "      <td>0.00</td>\n",
       "      <td>0.000000</td>\n",
       "      <td>0.000000</td>\n",
       "      <td>0.000000</td>\n",
       "    </tr>\n",
       "    <tr>\n",
       "      <th>3</th>\n",
       "      <td>1.674521e+18</td>\n",
       "      <td>1.674521e+18</td>\n",
       "      <td>2296.987</td>\n",
       "      <td>0.010884</td>\n",
       "      <td>2.0</td>\n",
       "      <td>2023-01-24 00:47:48.676443904</td>\n",
       "      <td>0 days 00:00:00</td>\n",
       "      <td>True</td>\n",
       "      <td>0.00</td>\n",
       "      <td>0.000000</td>\n",
       "      <td>0.000000</td>\n",
       "      <td>0.000000</td>\n",
       "    </tr>\n",
       "    <tr>\n",
       "      <th>4</th>\n",
       "      <td>1.674521e+18</td>\n",
       "      <td>1.674521e+18</td>\n",
       "      <td>2296.990</td>\n",
       "      <td>0.012318</td>\n",
       "      <td>1.0</td>\n",
       "      <td>2023-01-24 00:47:48.676443904</td>\n",
       "      <td>0 days 00:00:00</td>\n",
       "      <td>True</td>\n",
       "      <td>2296.99</td>\n",
       "      <td>0.012318</td>\n",
       "      <td>0.000493</td>\n",
       "      <td>0.000493</td>\n",
       "    </tr>\n",
       "  </tbody>\n",
       "</table>\n",
       "</div>"
      ],
      "text/plain": [
       "   received_utc_nanoseconds  timestamp_utc_nanoseconds   PriceMillionths  \\\n",
       "0              1.674521e+18                1.674521e+18         2296.984   \n",
       "1              1.674521e+18                1.674521e+18         2296.985   \n",
       "2              1.674521e+18                1.674521e+18         2296.986   \n",
       "3              1.674521e+18                1.674521e+18         2296.987   \n",
       "4              1.674521e+18                1.674521e+18         2296.990   \n",
       "\n",
       "   SizeBillionths  Side                     timestamp   timestamp_diff  \\\n",
       "0        0.001000   1.0 2023-01-24 00:47:48.676443904              NaT   \n",
       "1        0.001546   1.0 2023-01-24 00:47:48.676443904  0 days 00:00:00   \n",
       "2        0.001426   1.0 2023-01-24 00:47:48.676443904  0 days 00:00:00   \n",
       "3        0.010884   2.0 2023-01-24 00:47:48.676443904  0 days 00:00:00   \n",
       "4        0.012318   1.0 2023-01-24 00:47:48.676443904  0 days 00:00:00   \n",
       "\n",
       "   timestamp_diff_mask  price_grouped    volume  target_check  \\\n",
       "0                False           0.00  0.000000      0.000000   \n",
       "1                 True           0.00  0.000000      0.000000   \n",
       "2                 True           0.00  0.000000      0.000000   \n",
       "3                 True           0.00  0.000000      0.000000   \n",
       "4                 True        2296.99  0.012318      0.000493   \n",
       "\n",
       "   target_check_cum  \n",
       "0          0.000000  \n",
       "1          0.000000  \n",
       "2          0.000000  \n",
       "3          0.000000  \n",
       "4          0.000493  "
      ]
     },
     "execution_count": 947,
     "metadata": {},
     "output_type": "execute_result"
    }
   ],
   "source": [
    "BTC_USD_2023_buy_data.head()"
   ]
  },
  {
   "cell_type": "code",
   "execution_count": 948,
   "id": "6bb7a842",
   "metadata": {},
   "outputs": [
    {
     "data": {
      "text/html": [
       "<div>\n",
       "<style scoped>\n",
       "    .dataframe tbody tr th:only-of-type {\n",
       "        vertical-align: middle;\n",
       "    }\n",
       "\n",
       "    .dataframe tbody tr th {\n",
       "        vertical-align: top;\n",
       "    }\n",
       "\n",
       "    .dataframe thead th {\n",
       "        text-align: right;\n",
       "    }\n",
       "</style>\n",
       "<table border=\"1\" class=\"dataframe\">\n",
       "  <thead>\n",
       "    <tr style=\"text-align: right;\">\n",
       "      <th></th>\n",
       "      <th>received_utc_nanoseconds</th>\n",
       "      <th>timestamp_utc_nanoseconds</th>\n",
       "      <th>PriceMillionths</th>\n",
       "      <th>SizeBillionths</th>\n",
       "      <th>Side</th>\n",
       "      <th>timestamp</th>\n",
       "      <th>timestamp_diff</th>\n",
       "      <th>timestamp_diff_mask</th>\n",
       "      <th>price_grouped</th>\n",
       "      <th>volume</th>\n",
       "      <th>target_check</th>\n",
       "      <th>target_check_cum</th>\n",
       "    </tr>\n",
       "  </thead>\n",
       "  <tbody>\n",
       "    <tr>\n",
       "      <th>0</th>\n",
       "      <td>1.674521e+18</td>\n",
       "      <td>1.674521e+18</td>\n",
       "      <td>2297.012</td>\n",
       "      <td>8.706960e-03</td>\n",
       "      <td>-1.0</td>\n",
       "      <td>2023-01-24 00:47:47.874526976</td>\n",
       "      <td>NaT</td>\n",
       "      <td>False</td>\n",
       "      <td>0.000</td>\n",
       "      <td>0.000000</td>\n",
       "      <td>0.000000</td>\n",
       "      <td>0.000000</td>\n",
       "    </tr>\n",
       "    <tr>\n",
       "      <th>1</th>\n",
       "      <td>1.674521e+18</td>\n",
       "      <td>1.674521e+18</td>\n",
       "      <td>2297.015</td>\n",
       "      <td>2.579760e-03</td>\n",
       "      <td>-1.0</td>\n",
       "      <td>2023-01-24 00:47:47.874526976</td>\n",
       "      <td>0 days 00:00:00</td>\n",
       "      <td>True</td>\n",
       "      <td>0.000</td>\n",
       "      <td>0.000000</td>\n",
       "      <td>0.000000</td>\n",
       "      <td>0.000000</td>\n",
       "    </tr>\n",
       "    <tr>\n",
       "      <th>2</th>\n",
       "      <td>1.674521e+18</td>\n",
       "      <td>1.674521e+18</td>\n",
       "      <td>2297.012</td>\n",
       "      <td>1.000000e-09</td>\n",
       "      <td>-1.0</td>\n",
       "      <td>2023-01-24 00:47:47.878712064</td>\n",
       "      <td>0 days 00:00:00.004185088</td>\n",
       "      <td>True</td>\n",
       "      <td>0.000</td>\n",
       "      <td>0.000000</td>\n",
       "      <td>0.000000</td>\n",
       "      <td>0.000000</td>\n",
       "    </tr>\n",
       "    <tr>\n",
       "      <th>3</th>\n",
       "      <td>1.674521e+18</td>\n",
       "      <td>1.674521e+18</td>\n",
       "      <td>2296.916</td>\n",
       "      <td>2.176831e-02</td>\n",
       "      <td>-1.0</td>\n",
       "      <td>2023-01-24 00:47:47.886114048</td>\n",
       "      <td>0 days 00:00:00.007401984</td>\n",
       "      <td>True</td>\n",
       "      <td>2296.916</td>\n",
       "      <td>0.021768</td>\n",
       "      <td>0.000871</td>\n",
       "      <td>0.000871</td>\n",
       "    </tr>\n",
       "    <tr>\n",
       "      <th>4</th>\n",
       "      <td>1.674521e+18</td>\n",
       "      <td>1.674521e+18</td>\n",
       "      <td>2296.767</td>\n",
       "      <td>1.318360e-04</td>\n",
       "      <td>-1.0</td>\n",
       "      <td>2023-01-24 00:47:48.812951040</td>\n",
       "      <td>0 days 00:00:00.926836992</td>\n",
       "      <td>False</td>\n",
       "      <td>2296.767</td>\n",
       "      <td>0.000132</td>\n",
       "      <td>0.000005</td>\n",
       "      <td>0.000876</td>\n",
       "    </tr>\n",
       "  </tbody>\n",
       "</table>\n",
       "</div>"
      ],
      "text/plain": [
       "   received_utc_nanoseconds  timestamp_utc_nanoseconds   PriceMillionths  \\\n",
       "0              1.674521e+18                1.674521e+18         2297.012   \n",
       "1              1.674521e+18                1.674521e+18         2297.015   \n",
       "2              1.674521e+18                1.674521e+18         2297.012   \n",
       "3              1.674521e+18                1.674521e+18         2296.916   \n",
       "4              1.674521e+18                1.674521e+18         2296.767   \n",
       "\n",
       "   SizeBillionths  Side                     timestamp  \\\n",
       "0    8.706960e-03  -1.0 2023-01-24 00:47:47.874526976   \n",
       "1    2.579760e-03  -1.0 2023-01-24 00:47:47.874526976   \n",
       "2    1.000000e-09  -1.0 2023-01-24 00:47:47.878712064   \n",
       "3    2.176831e-02  -1.0 2023-01-24 00:47:47.886114048   \n",
       "4    1.318360e-04  -1.0 2023-01-24 00:47:48.812951040   \n",
       "\n",
       "              timestamp_diff  timestamp_diff_mask  price_grouped    volume  \\\n",
       "0                        NaT                False          0.000  0.000000   \n",
       "1            0 days 00:00:00                 True          0.000  0.000000   \n",
       "2  0 days 00:00:00.004185088                 True          0.000  0.000000   \n",
       "3  0 days 00:00:00.007401984                 True       2296.916  0.021768   \n",
       "4  0 days 00:00:00.926836992                False       2296.767  0.000132   \n",
       "\n",
       "   target_check  target_check_cum  \n",
       "0      0.000000          0.000000  \n",
       "1      0.000000          0.000000  \n",
       "2      0.000000          0.000000  \n",
       "3      0.000871          0.000871  \n",
       "4      0.000005          0.000876  "
      ]
     },
     "execution_count": 948,
     "metadata": {},
     "output_type": "execute_result"
    }
   ],
   "source": [
    "BTC_USD_2023_sell_data.head()"
   ]
  },
  {
   "cell_type": "code",
   "execution_count": 949,
   "id": "60b8ba6b",
   "metadata": {},
   "outputs": [
    {
     "data": {
      "text/html": [
       "<div>\n",
       "<style scoped>\n",
       "    .dataframe tbody tr th:only-of-type {\n",
       "        vertical-align: middle;\n",
       "    }\n",
       "\n",
       "    .dataframe tbody tr th {\n",
       "        vertical-align: top;\n",
       "    }\n",
       "\n",
       "    .dataframe thead th {\n",
       "        text-align: right;\n",
       "    }\n",
       "</style>\n",
       "<table border=\"1\" class=\"dataframe\">\n",
       "  <thead>\n",
       "    <tr style=\"text-align: right;\">\n",
       "      <th></th>\n",
       "      <th>VWAP_buy</th>\n",
       "      <th>transcation_fees_buy</th>\n",
       "      <th>time_buy</th>\n",
       "      <th>trading_cost_proportion_buy</th>\n",
       "      <th>accumulated_price_proportion_buy</th>\n",
       "      <th>accumulated_quantity_proportion_buy</th>\n",
       "      <th>deviation_buy</th>\n",
       "      <th>trade_completeness_buy</th>\n",
       "    </tr>\n",
       "  </thead>\n",
       "  <tbody>\n",
       "    <tr>\n",
       "      <th>analysis_buy</th>\n",
       "      <td>2296.813213</td>\n",
       "      <td>2.296813</td>\n",
       "      <td>0 days 00:11:58.184960</td>\n",
       "      <td>0.000001</td>\n",
       "      <td>inf</td>\n",
       "      <td>1.008221</td>\n",
       "      <td>0.000822</td>\n",
       "      <td>Completed</td>\n",
       "    </tr>\n",
       "  </tbody>\n",
       "</table>\n",
       "</div>"
      ],
      "text/plain": [
       "                 VWAP_buy transcation_fees_buy               time_buy  \\\n",
       "analysis_buy  2296.813213             2.296813 0 days 00:11:58.184960   \n",
       "\n",
       "             trading_cost_proportion_buy accumulated_price_proportion_buy  \\\n",
       "analysis_buy                    0.000001                              inf   \n",
       "\n",
       "             accumulated_quantity_proportion_buy deviation_buy  \\\n",
       "analysis_buy                            1.008221      0.000822   \n",
       "\n",
       "             trade_completeness_buy  \n",
       "analysis_buy              Completed  "
      ]
     },
     "execution_count": 949,
     "metadata": {},
     "output_type": "execute_result"
    }
   ],
   "source": [
    "BTC_USD_2023_buy_analysis.transpose()"
   ]
  },
  {
   "cell_type": "code",
   "execution_count": 950,
   "id": "6c364e5a",
   "metadata": {},
   "outputs": [
    {
     "data": {
      "text/html": [
       "<div>\n",
       "<style scoped>\n",
       "    .dataframe tbody tr th:only-of-type {\n",
       "        vertical-align: middle;\n",
       "    }\n",
       "\n",
       "    .dataframe tbody tr th {\n",
       "        vertical-align: top;\n",
       "    }\n",
       "\n",
       "    .dataframe thead th {\n",
       "        text-align: right;\n",
       "    }\n",
       "</style>\n",
       "<table border=\"1\" class=\"dataframe\">\n",
       "  <thead>\n",
       "    <tr style=\"text-align: right;\">\n",
       "      <th></th>\n",
       "      <th>VWAP_sell</th>\n",
       "      <th>transcation_fees_sell</th>\n",
       "      <th>time_sell</th>\n",
       "      <th>trading_cost_proportion_sell</th>\n",
       "      <th>accumulated_price_proportion_sell</th>\n",
       "      <th>accumulated_quantity_proportion_sell</th>\n",
       "      <th>deviation_sell</th>\n",
       "      <th>trade_completeness_sell</th>\n",
       "    </tr>\n",
       "  </thead>\n",
       "  <tbody>\n",
       "    <tr>\n",
       "      <th>analysis_sell</th>\n",
       "      <td>2296.741564</td>\n",
       "      <td>2.296742</td>\n",
       "      <td>0 days 00:12:15.139481088</td>\n",
       "      <td>0.000002</td>\n",
       "      <td>inf</td>\n",
       "      <td>1.00088</td>\n",
       "      <td>0.000088</td>\n",
       "      <td>Completed</td>\n",
       "    </tr>\n",
       "  </tbody>\n",
       "</table>\n",
       "</div>"
      ],
      "text/plain": [
       "                 VWAP_sell transcation_fees_sell                 time_sell  \\\n",
       "analysis_sell  2296.741564              2.296742 0 days 00:12:15.139481088   \n",
       "\n",
       "              trading_cost_proportion_sell accumulated_price_proportion_sell  \\\n",
       "analysis_sell                     0.000002                               inf   \n",
       "\n",
       "              accumulated_quantity_proportion_sell deviation_sell  \\\n",
       "analysis_sell                              1.00088       0.000088   \n",
       "\n",
       "              trade_completeness_sell  \n",
       "analysis_sell               Completed  "
      ]
     },
     "execution_count": 950,
     "metadata": {},
     "output_type": "execute_result"
    }
   ],
   "source": [
    "BTC_USD_2023_sell_analysis.transpose()"
   ]
  },
  {
   "cell_type": "code",
   "execution_count": 951,
   "id": "8110f781",
   "metadata": {},
   "outputs": [
    {
     "data": {
      "text/plain": [
       "2283.304847884837"
      ]
     },
     "execution_count": 951,
     "metadata": {},
     "output_type": "execute_result"
    }
   ],
   "source": [
    "BTC_USD_2023_Total_Market_VWAP"
   ]
  },
  {
   "cell_type": "code",
   "execution_count": null,
   "id": "c48e8247",
   "metadata": {},
   "outputs": [],
   "source": []
  },
  {
   "cell_type": "markdown",
   "id": "8c426529",
   "metadata": {},
   "source": [
    "### VWAP Analysis for BTC_USD"
   ]
  },
  {
   "cell_type": "code",
   "execution_count": 952,
   "id": "2d51a15c",
   "metadata": {},
   "outputs": [
    {
     "data": {
      "text/plain": [
       "Text(0.5, 1.0, 'VWAP Values for selling BTC_USD over 2021, 2022, 2023')"
      ]
     },
     "execution_count": 952,
     "metadata": {},
     "output_type": "execute_result"
    },
    {
     "data": {
      "image/png": "[encoded data removed]",
      "text/plain": [
       "<Figure size 864x360 with 2 Axes>"
      ]
     },
     "metadata": {
      "needs_background": "light"
     },
     "output_type": "display_data"
    }
   ],
   "source": [
    "years = ['2021', '2022', '2023']\n",
    "vwap_buy_data = [BTC_USD_2021_buy_analysis.loc['VWAP_buy'][0], BTC_USD_2022_buy_analysis.loc['VWAP_buy'][0], BTC_USD_2023_buy_analysis.loc['VWAP_buy'][0]]\n",
    "vwap_sell_data = [BTC_USD_2021_sell_analysis.loc['VWAP_sell'][0], BTC_USD_2022_sell_analysis.loc['VWAP_sell'][0],BTC_USD_2023_sell_analysis.loc['VWAP_sell'][0] ]\n",
    "\n",
    "fig, (ax1, ax2) = plt.subplots(1, 2, figsize=(12, 5))\n",
    "\n",
    "rects = ax1.bar(range(len(vwap_buy_data)), vwap_buy_data, color=['yellow', 'green', 'm'])\n",
    "ax1.set_xticks(range(len(vwap_buy_data)))\n",
    "ax1.xaxis.set_ticklabels(['BTC_USD' + year for year in years])\n",
    "ax1.set_ylabel('VWAP')\n",
    "ax1.set_title('VWAP Values for buying BTC_USD over 2021, 2022, 2023')\n",
    "\n",
    "ax2.bar(range(len(vwap_sell_data)), vwap_sell_data, color=['yellow', 'green', 'm'])\n",
    "ax2.set_xticks(range(len(vwap_sell_data)))\n",
    "ax2.xaxis.set_ticklabels(['BTC_USD' + year for year in years])\n",
    "ax2.set_ylabel('VWAP')\n",
    "ax2.set_title('VWAP Values for selling BTC_USD over 2021, 2022, 2023')"
   ]
  },
  {
   "cell_type": "markdown",
   "id": "1bb64c73",
   "metadata": {},
   "source": [
    "### Observation:<br>\n",
    "\n",
    "- For both Buy and Sell, VWAP for 2021 is greater than 2022 followed by 2023 .<br><br>"
   ]
  },
  {
   "cell_type": "markdown",
   "id": "9dd06452",
   "metadata": {},
   "source": [
    "### Time Taken for BTC_USD"
   ]
  },
  {
   "cell_type": "code",
   "execution_count": 1074,
   "id": "aa178258",
   "metadata": {},
   "outputs": [
    {
     "data": {
      "text/plain": [
       "Text(0.5, 1.0, 'Time taken for selling BTC_USD over 2021, 2022, 2023')"
      ]
     },
     "execution_count": 1074,
     "metadata": {},
     "output_type": "execute_result"
    },
    {
     "data": {
      "image/png": "[encoded data removed]",
      "text/plain": [
       "<Figure size 1944x576 with 2 Axes>"
      ]
     },
     "metadata": {
      "needs_background": "light"
     },
     "output_type": "display_data"
    }
   ],
   "source": [
    "years = ['0','2023', '2022', '2021']\n",
    "time_buy_data = [str(0), str(BTC_USD_2023_buy_analysis.loc['time_buy'][0]), str(BTC_USD_2022_buy_analysis.loc['time_buy'][0]), str(BTC_USD_2021_buy_analysis.loc['time_buy'][0])]\n",
    "time_sell_data = [str(0), str(BTC_USD_2023_sell_analysis.loc['time_sell'][0]), str(BTC_USD_2022_sell_analysis.loc['time_sell'][0]), str(BTC_USD_2021_sell_analysis.loc['time_sell'][0])]\n",
    "\n",
    "fig, (ax1, ax2) = plt.subplots(1, 2, figsize=(27, 8))\n",
    "\n",
    "rects = ax1.bar(range(len(time_buy_data)), time_buy_data, color=['yellow', 'green', 'm'])\n",
    "ax1.set_xticks(range(len(time_buy_data)))\n",
    "ax1.xaxis.set_ticklabels(['BTC_USD' + year for year in years])\n",
    "ax1.set_ylabel('Time Taken')\n",
    "ax1.set_title('Time Taken for buying BTC_USD over 2021, 2022, 2023')\n",
    "\n",
    "ax2.bar(range(len(time_sell_data)), time_sell_data, color=['yellow', 'green', 'm'])\n",
    "ax2.set_xticks(range(len(time_sell_data)))\n",
    "ax2.xaxis.set_ticklabels(['BTC_USD' + year for year in years])\n",
    "ax2.set_ylabel('Time Taken')\n",
    "ax2.set_title('Time taken for selling BTC_USD over 2021, 2022, 2023')"
   ]
  },
  {
   "cell_type": "code",
   "execution_count": null,
   "id": "f5005039",
   "metadata": {},
   "outputs": [],
   "source": [
    "### Observation:<br>\n",
    "- Buy: \n",
    "    If we compare buying the same quantity of 0.1, it took longer time (15 sec) in 2021 followed by 2022 and then 2023.<br><br>\n",
    "- Sell: \n",
    "    If we compare selling the same quantity of 0.1, it took longer time (15 sec) in 2021 followed by 2022 and then 2023.<br><br>"
   ]
  },
  {
   "cell_type": "markdown",
   "id": "3dd619ff",
   "metadata": {},
   "source": [
    "### Trading Cost Proportion for BTC_USD"
   ]
  },
  {
   "cell_type": "code",
   "execution_count": 954,
   "id": "3c4205f4",
   "metadata": {},
   "outputs": [
    {
     "data": {
      "text/plain": [
       "Text(0.5, 1.0, 'Trading Cost Proportion for selling BTC_USD over 2021, 2022, 2023')"
      ]
     },
     "execution_count": 954,
     "metadata": {},
     "output_type": "execute_result"
    },
    {
     "data": {
      "image/png": "[encoded data removed]",
      "text/plain": [
       "<Figure size 1440x360 with 2 Axes>"
      ]
     },
     "metadata": {
      "needs_background": "light"
     },
     "output_type": "display_data"
    }
   ],
   "source": [
    "years = ['2021', '2022', '2023']\n",
    "trading_cost_buy_data = [BTC_USD_2021_buy_analysis.loc['trading_cost_proportion_buy'][0], BTC_USD_2022_buy_analysis.loc['trading_cost_proportion_buy'][0], BTC_USD_2023_buy_analysis.loc['trading_cost_proportion_buy'][0]]\n",
    "trading_cost_sell_data = [BTC_USD_2021_sell_analysis.loc['trading_cost_proportion_sell'][0], BTC_USD_2022_sell_analysis.loc['trading_cost_proportion_sell'][0],BTC_USD_2023_sell_analysis.loc['trading_cost_proportion_sell'][0] ]\n",
    "\n",
    "fig, (ax1, ax2) = plt.subplots(1, 2, figsize=(20, 5))\n",
    "\n",
    "rects = ax1.bar(range(len(trading_cost_buy_data)), trading_cost_buy_data, color=['yellow', 'green', 'm'])\n",
    "ax1.set_xticks(range(len(trading_cost_buy_data)))\n",
    "ax1.xaxis.set_ticklabels(['BTC_USD' + year for year in years])\n",
    "ax1.set_ylabel('Trading Cost Buy Proportion')\n",
    "ax1.set_title('Trading Cost Proportion for buying BTC_USD over 2021, 2022, 2023')\n",
    "\n",
    "ax2.bar(range(len(trading_cost_sell_data)), trading_cost_sell_data, color=['yellow', 'green', 'm'])\n",
    "ax2.set_xticks(range(len(trading_cost_sell_data)))\n",
    "ax2.xaxis.set_ticklabels(['BTC_USD' + year for year in years])\n",
    "ax2.set_ylabel('Trading Cost Sell Proportion')\n",
    "ax2.set_title('Trading Cost Proportion for selling BTC_USD over 2021, 2022, 2023')"
   ]
  },
  {
   "cell_type": "markdown",
   "id": "312e2d6d",
   "metadata": {},
   "source": [
    "### Observation:<br>\n",
    "- Buy: \n",
    "    If we compare Trading costs as a proportional of Notional, the order is 2023 followed by 2021 and then 2022.<br><br>\n",
    "- Sell: \n",
    "    If we compare Trading costs as a proportional of Notional, the order is 2021 followed by 2023 and then 2022.<br><br>\n"
   ]
  },
  {
   "cell_type": "markdown",
   "id": "ebac210c",
   "metadata": {},
   "source": [
    "### Market VWAP for BTC_USD"
   ]
  },
  {
   "cell_type": "code",
   "execution_count": 955,
   "id": "a5e05c4b",
   "metadata": {},
   "outputs": [
    {
     "data": {
      "text/plain": [
       "Text(0.5, 1.0, 'Market VWAP for BTC_USD over 2021, 2022, 2023')"
      ]
     },
     "execution_count": 955,
     "metadata": {},
     "output_type": "execute_result"
    },
    {
     "data": {
      "image/png": "[encoded data removed]",
      "text/plain": [
       "<Figure size 864x360 with 1 Axes>"
      ]
     },
     "metadata": {
      "needs_background": "light"
     },
     "output_type": "display_data"
    }
   ],
   "source": [
    "years = ['2021', '2022', '2023']\n",
    "market_vwap_data = [BTC_USD_2021_Total_Market_VWAP, BTC_USD_2022_Total_Market_VWAP, BTC_USD_2023_Total_Market_VWAP]\n",
    "\n",
    "fig, (ax1) = plt.subplots(1, 1, figsize=(12, 5))\n",
    "\n",
    "rects = ax1.bar(range(len(market_vwap_data)), market_vwap_data, color=['yellow', 'green', 'm'])\n",
    "ax1.set_xticks(range(len(market_vwap_data)))\n",
    "ax1.xaxis.set_ticklabels(['BTC_USD' + year for year in years])\n",
    "ax1.set_ylabel('Market VWAP ')\n",
    "ax1.set_title('Market VWAP for BTC_USD over 2021, 2022, 2023')\n"
   ]
  },
  {
   "cell_type": "code",
   "execution_count": null,
   "id": "56c454ca",
   "metadata": {},
   "outputs": [],
   "source": [
    "### Observation:<br>\n",
    "- If we compare Market VWAP, the order is 2021 followed by 2022 and then 2023.<br><br>\n"
   ]
  },
  {
   "cell_type": "code",
   "execution_count": null,
   "id": "d63ee815",
   "metadata": {},
   "outputs": [],
   "source": []
  },
  {
   "cell_type": "markdown",
   "id": "30bc99d8",
   "metadata": {},
   "source": [
    "# ETH_USD_2021 Data"
   ]
  },
  {
   "cell_type": "code",
   "execution_count": 956,
   "id": "06af585c",
   "metadata": {},
   "outputs": [],
   "source": [
    "ETH_USD_2021_buy_data, ETH_USD_2021_sell_data, ETH_USD_2021_buy_analysis,ETH_USD_2021_sell_analysis, ETH_USD_2021_Total_Market_VWAP = analysis(df_trades_eth_usd_2021, 0.1, 0.04,\n",
    "True, '2021-04-10 21:28:54.547039')\n"
   ]
  },
  {
   "cell_type": "code",
   "execution_count": 957,
   "id": "427970b4",
   "metadata": {},
   "outputs": [
    {
     "data": {
      "text/html": [
       "<div>\n",
       "<style scoped>\n",
       "    .dataframe tbody tr th:only-of-type {\n",
       "        vertical-align: middle;\n",
       "    }\n",
       "\n",
       "    .dataframe tbody tr th {\n",
       "        vertical-align: top;\n",
       "    }\n",
       "\n",
       "    .dataframe thead th {\n",
       "        text-align: right;\n",
       "    }\n",
       "</style>\n",
       "<table border=\"1\" class=\"dataframe\">\n",
       "  <thead>\n",
       "    <tr style=\"text-align: right;\">\n",
       "      <th></th>\n",
       "      <th>received_utc_nanoseconds</th>\n",
       "      <th>timestamp_utc_nanoseconds</th>\n",
       "      <th>PriceMillionths</th>\n",
       "      <th>SizeBillionths</th>\n",
       "      <th>Side</th>\n",
       "      <th>timestamp</th>\n",
       "      <th>timestamp_diff</th>\n",
       "      <th>timestamp_diff_mask</th>\n",
       "      <th>price_grouped</th>\n",
       "      <th>volume</th>\n",
       "      <th>target_check</th>\n",
       "      <th>target_check_cum</th>\n",
       "    </tr>\n",
       "  </thead>\n",
       "  <tbody>\n",
       "    <tr>\n",
       "      <th>0</th>\n",
       "      <td>1.618090e+18</td>\n",
       "      <td>1.618090e+18</td>\n",
       "      <td>210.9</td>\n",
       "      <td>0.049950</td>\n",
       "      <td>1.0</td>\n",
       "      <td>2021-04-10 21:28:54.547038976</td>\n",
       "      <td>NaT</td>\n",
       "      <td>False</td>\n",
       "      <td>210.9</td>\n",
       "      <td>0.049950</td>\n",
       "      <td>0.001998</td>\n",
       "      <td>0.001998</td>\n",
       "    </tr>\n",
       "    <tr>\n",
       "      <th>1</th>\n",
       "      <td>1.618090e+18</td>\n",
       "      <td>1.618090e+18</td>\n",
       "      <td>210.9</td>\n",
       "      <td>0.003621</td>\n",
       "      <td>1.0</td>\n",
       "      <td>2021-04-10 21:28:54.797956096</td>\n",
       "      <td>0 days 00:00:00.250917120</td>\n",
       "      <td>False</td>\n",
       "      <td>210.9</td>\n",
       "      <td>0.003621</td>\n",
       "      <td>0.000145</td>\n",
       "      <td>0.002143</td>\n",
       "    </tr>\n",
       "    <tr>\n",
       "      <th>2</th>\n",
       "      <td>1.618090e+18</td>\n",
       "      <td>1.618090e+18</td>\n",
       "      <td>210.9</td>\n",
       "      <td>0.049950</td>\n",
       "      <td>1.0</td>\n",
       "      <td>2021-04-10 21:28:55.123831040</td>\n",
       "      <td>0 days 00:00:00.325874944</td>\n",
       "      <td>False</td>\n",
       "      <td>210.9</td>\n",
       "      <td>0.049950</td>\n",
       "      <td>0.001998</td>\n",
       "      <td>0.004141</td>\n",
       "    </tr>\n",
       "    <tr>\n",
       "      <th>3</th>\n",
       "      <td>1.618090e+18</td>\n",
       "      <td>1.618090e+18</td>\n",
       "      <td>210.9</td>\n",
       "      <td>0.049940</td>\n",
       "      <td>1.0</td>\n",
       "      <td>2021-04-10 21:28:55.704666880</td>\n",
       "      <td>0 days 00:00:00.580835840</td>\n",
       "      <td>False</td>\n",
       "      <td>210.9</td>\n",
       "      <td>0.049940</td>\n",
       "      <td>0.001998</td>\n",
       "      <td>0.006138</td>\n",
       "    </tr>\n",
       "    <tr>\n",
       "      <th>4</th>\n",
       "      <td>1.618090e+18</td>\n",
       "      <td>1.618090e+18</td>\n",
       "      <td>210.9</td>\n",
       "      <td>0.049940</td>\n",
       "      <td>1.0</td>\n",
       "      <td>2021-04-10 21:28:56.302067968</td>\n",
       "      <td>0 days 00:00:00.597401088</td>\n",
       "      <td>False</td>\n",
       "      <td>210.9</td>\n",
       "      <td>0.049940</td>\n",
       "      <td>0.001998</td>\n",
       "      <td>0.008136</td>\n",
       "    </tr>\n",
       "  </tbody>\n",
       "</table>\n",
       "</div>"
      ],
      "text/plain": [
       "   received_utc_nanoseconds  timestamp_utc_nanoseconds   PriceMillionths  \\\n",
       "0              1.618090e+18                1.618090e+18            210.9   \n",
       "1              1.618090e+18                1.618090e+18            210.9   \n",
       "2              1.618090e+18                1.618090e+18            210.9   \n",
       "3              1.618090e+18                1.618090e+18            210.9   \n",
       "4              1.618090e+18                1.618090e+18            210.9   \n",
       "\n",
       "   SizeBillionths  Side                     timestamp  \\\n",
       "0        0.049950   1.0 2021-04-10 21:28:54.547038976   \n",
       "1        0.003621   1.0 2021-04-10 21:28:54.797956096   \n",
       "2        0.049950   1.0 2021-04-10 21:28:55.123831040   \n",
       "3        0.049940   1.0 2021-04-10 21:28:55.704666880   \n",
       "4        0.049940   1.0 2021-04-10 21:28:56.302067968   \n",
       "\n",
       "              timestamp_diff  timestamp_diff_mask  price_grouped    volume  \\\n",
       "0                        NaT                False          210.9  0.049950   \n",
       "1  0 days 00:00:00.250917120                False          210.9  0.003621   \n",
       "2  0 days 00:00:00.325874944                False          210.9  0.049950   \n",
       "3  0 days 00:00:00.580835840                False          210.9  0.049940   \n",
       "4  0 days 00:00:00.597401088                False          210.9  0.049940   \n",
       "\n",
       "   target_check  target_check_cum  \n",
       "0      0.001998          0.001998  \n",
       "1      0.000145          0.002143  \n",
       "2      0.001998          0.004141  \n",
       "3      0.001998          0.006138  \n",
       "4      0.001998          0.008136  "
      ]
     },
     "execution_count": 957,
     "metadata": {},
     "output_type": "execute_result"
    }
   ],
   "source": [
    "ETH_USD_2021_buy_data.head()"
   ]
  },
  {
   "cell_type": "code",
   "execution_count": 958,
   "id": "ffba722e",
   "metadata": {},
   "outputs": [
    {
     "data": {
      "text/html": [
       "<div>\n",
       "<style scoped>\n",
       "    .dataframe tbody tr th:only-of-type {\n",
       "        vertical-align: middle;\n",
       "    }\n",
       "\n",
       "    .dataframe tbody tr th {\n",
       "        vertical-align: top;\n",
       "    }\n",
       "\n",
       "    .dataframe thead th {\n",
       "        text-align: right;\n",
       "    }\n",
       "</style>\n",
       "<table border=\"1\" class=\"dataframe\">\n",
       "  <thead>\n",
       "    <tr style=\"text-align: right;\">\n",
       "      <th></th>\n",
       "      <th>received_utc_nanoseconds</th>\n",
       "      <th>timestamp_utc_nanoseconds</th>\n",
       "      <th>PriceMillionths</th>\n",
       "      <th>SizeBillionths</th>\n",
       "      <th>Side</th>\n",
       "      <th>timestamp</th>\n",
       "      <th>timestamp_diff</th>\n",
       "      <th>timestamp_diff_mask</th>\n",
       "      <th>price_grouped</th>\n",
       "      <th>volume</th>\n",
       "      <th>target_check</th>\n",
       "      <th>target_check_cum</th>\n",
       "    </tr>\n",
       "  </thead>\n",
       "  <tbody>\n",
       "    <tr>\n",
       "      <th>0</th>\n",
       "      <td>1.618090e+18</td>\n",
       "      <td>1.618090e+18</td>\n",
       "      <td>210.898</td>\n",
       "      <td>0.053338</td>\n",
       "      <td>-1.0</td>\n",
       "      <td>2021-04-10 21:28:56.621472000</td>\n",
       "      <td>NaT</td>\n",
       "      <td>False</td>\n",
       "      <td>210.898</td>\n",
       "      <td>0.053338</td>\n",
       "      <td>0.002134</td>\n",
       "      <td>0.002134</td>\n",
       "    </tr>\n",
       "    <tr>\n",
       "      <th>1</th>\n",
       "      <td>1.618090e+18</td>\n",
       "      <td>1.618090e+18</td>\n",
       "      <td>210.899</td>\n",
       "      <td>0.065379</td>\n",
       "      <td>-3.0</td>\n",
       "      <td>2021-04-10 21:28:56.621472000</td>\n",
       "      <td>0 days 00:00:00</td>\n",
       "      <td>True</td>\n",
       "      <td>0.000</td>\n",
       "      <td>0.000000</td>\n",
       "      <td>0.000000</td>\n",
       "      <td>0.002134</td>\n",
       "    </tr>\n",
       "    <tr>\n",
       "      <th>2</th>\n",
       "      <td>1.618090e+18</td>\n",
       "      <td>1.618090e+18</td>\n",
       "      <td>210.899</td>\n",
       "      <td>0.129523</td>\n",
       "      <td>-1.0</td>\n",
       "      <td>2021-04-10 21:28:57.740374016</td>\n",
       "      <td>0 days 00:00:01.118902016</td>\n",
       "      <td>False</td>\n",
       "      <td>210.899</td>\n",
       "      <td>0.129523</td>\n",
       "      <td>0.005181</td>\n",
       "      <td>0.007314</td>\n",
       "    </tr>\n",
       "    <tr>\n",
       "      <th>3</th>\n",
       "      <td>1.618090e+18</td>\n",
       "      <td>1.618090e+18</td>\n",
       "      <td>210.899</td>\n",
       "      <td>0.005579</td>\n",
       "      <td>-2.0</td>\n",
       "      <td>2021-04-10 21:29:00.996123904</td>\n",
       "      <td>0 days 00:00:03.255749888</td>\n",
       "      <td>False</td>\n",
       "      <td>210.899</td>\n",
       "      <td>0.005579</td>\n",
       "      <td>0.000223</td>\n",
       "      <td>0.007538</td>\n",
       "    </tr>\n",
       "    <tr>\n",
       "      <th>4</th>\n",
       "      <td>1.618090e+18</td>\n",
       "      <td>1.618090e+18</td>\n",
       "      <td>210.899</td>\n",
       "      <td>0.010082</td>\n",
       "      <td>-1.0</td>\n",
       "      <td>2021-04-10 21:29:01.644369920</td>\n",
       "      <td>0 days 00:00:00.648246016</td>\n",
       "      <td>False</td>\n",
       "      <td>210.899</td>\n",
       "      <td>0.010082</td>\n",
       "      <td>0.000403</td>\n",
       "      <td>0.007941</td>\n",
       "    </tr>\n",
       "  </tbody>\n",
       "</table>\n",
       "</div>"
      ],
      "text/plain": [
       "   received_utc_nanoseconds  timestamp_utc_nanoseconds   PriceMillionths  \\\n",
       "0              1.618090e+18                1.618090e+18          210.898   \n",
       "1              1.618090e+18                1.618090e+18          210.899   \n",
       "2              1.618090e+18                1.618090e+18          210.899   \n",
       "3              1.618090e+18                1.618090e+18          210.899   \n",
       "4              1.618090e+18                1.618090e+18          210.899   \n",
       "\n",
       "   SizeBillionths  Side                     timestamp  \\\n",
       "0        0.053338  -1.0 2021-04-10 21:28:56.621472000   \n",
       "1        0.065379  -3.0 2021-04-10 21:28:56.621472000   \n",
       "2        0.129523  -1.0 2021-04-10 21:28:57.740374016   \n",
       "3        0.005579  -2.0 2021-04-10 21:29:00.996123904   \n",
       "4        0.010082  -1.0 2021-04-10 21:29:01.644369920   \n",
       "\n",
       "              timestamp_diff  timestamp_diff_mask  price_grouped    volume  \\\n",
       "0                        NaT                False        210.898  0.053338   \n",
       "1            0 days 00:00:00                 True          0.000  0.000000   \n",
       "2  0 days 00:00:01.118902016                False        210.899  0.129523   \n",
       "3  0 days 00:00:03.255749888                False        210.899  0.005579   \n",
       "4  0 days 00:00:00.648246016                False        210.899  0.010082   \n",
       "\n",
       "   target_check  target_check_cum  \n",
       "0      0.002134          0.002134  \n",
       "1      0.000000          0.002134  \n",
       "2      0.005181          0.007314  \n",
       "3      0.000223          0.007538  \n",
       "4      0.000403          0.007941  "
      ]
     },
     "execution_count": 958,
     "metadata": {},
     "output_type": "execute_result"
    }
   ],
   "source": [
    "ETH_USD_2021_sell_data.head()"
   ]
  },
  {
   "cell_type": "code",
   "execution_count": 959,
   "id": "439126b5",
   "metadata": {},
   "outputs": [
    {
     "data": {
      "text/html": [
       "<div>\n",
       "<style scoped>\n",
       "    .dataframe tbody tr th:only-of-type {\n",
       "        vertical-align: middle;\n",
       "    }\n",
       "\n",
       "    .dataframe tbody tr th {\n",
       "        vertical-align: top;\n",
       "    }\n",
       "\n",
       "    .dataframe thead th {\n",
       "        text-align: right;\n",
       "    }\n",
       "</style>\n",
       "<table border=\"1\" class=\"dataframe\">\n",
       "  <thead>\n",
       "    <tr style=\"text-align: right;\">\n",
       "      <th></th>\n",
       "      <th>VWAP_buy</th>\n",
       "      <th>transcation_fees_buy</th>\n",
       "      <th>time_buy</th>\n",
       "      <th>trading_cost_proportion_buy</th>\n",
       "      <th>accumulated_price_proportion_buy</th>\n",
       "      <th>accumulated_quantity_proportion_buy</th>\n",
       "      <th>deviation_buy</th>\n",
       "      <th>trade_completeness_buy</th>\n",
       "    </tr>\n",
       "  </thead>\n",
       "  <tbody>\n",
       "    <tr>\n",
       "      <th>analysis_buy</th>\n",
       "      <td>210.831414</td>\n",
       "      <td>0.210831</td>\n",
       "      <td>0 days 00:01:55.942025984</td>\n",
       "      <td>0.000008</td>\n",
       "      <td>0.851207</td>\n",
       "      <td>1.000103</td>\n",
       "      <td>0.00001</td>\n",
       "      <td>Completed</td>\n",
       "    </tr>\n",
       "  </tbody>\n",
       "</table>\n",
       "</div>"
      ],
      "text/plain": [
       "                VWAP_buy transcation_fees_buy                  time_buy  \\\n",
       "analysis_buy  210.831414             0.210831 0 days 00:01:55.942025984   \n",
       "\n",
       "             trading_cost_proportion_buy accumulated_price_proportion_buy  \\\n",
       "analysis_buy                    0.000008                         0.851207   \n",
       "\n",
       "             accumulated_quantity_proportion_buy deviation_buy  \\\n",
       "analysis_buy                            1.000103       0.00001   \n",
       "\n",
       "             trade_completeness_buy  \n",
       "analysis_buy              Completed  "
      ]
     },
     "execution_count": 959,
     "metadata": {},
     "output_type": "execute_result"
    }
   ],
   "source": [
    "ETH_USD_2021_buy_analysis.transpose()"
   ]
  },
  {
   "cell_type": "code",
   "execution_count": 960,
   "id": "75ec843f",
   "metadata": {},
   "outputs": [
    {
     "data": {
      "text/html": [
       "<div>\n",
       "<style scoped>\n",
       "    .dataframe tbody tr th:only-of-type {\n",
       "        vertical-align: middle;\n",
       "    }\n",
       "\n",
       "    .dataframe tbody tr th {\n",
       "        vertical-align: top;\n",
       "    }\n",
       "\n",
       "    .dataframe thead th {\n",
       "        text-align: right;\n",
       "    }\n",
       "</style>\n",
       "<table border=\"1\" class=\"dataframe\">\n",
       "  <thead>\n",
       "    <tr style=\"text-align: right;\">\n",
       "      <th></th>\n",
       "      <th>VWAP_sell</th>\n",
       "      <th>transcation_fees_sell</th>\n",
       "      <th>time_sell</th>\n",
       "      <th>trading_cost_proportion_sell</th>\n",
       "      <th>accumulated_price_proportion_sell</th>\n",
       "      <th>accumulated_quantity_proportion_sell</th>\n",
       "      <th>deviation_sell</th>\n",
       "      <th>trade_completeness_sell</th>\n",
       "    </tr>\n",
       "  </thead>\n",
       "  <tbody>\n",
       "    <tr>\n",
       "      <th>analysis_sell</th>\n",
       "      <td>210.73434</td>\n",
       "      <td>0.210734</td>\n",
       "      <td>0 days 00:04:04.408751104</td>\n",
       "      <td>0.000014</td>\n",
       "      <td>0.711059</td>\n",
       "      <td>1.058972</td>\n",
       "      <td>0.005897</td>\n",
       "      <td>Completed</td>\n",
       "    </tr>\n",
       "  </tbody>\n",
       "</table>\n",
       "</div>"
      ],
      "text/plain": [
       "               VWAP_sell transcation_fees_sell                 time_sell  \\\n",
       "analysis_sell  210.73434              0.210734 0 days 00:04:04.408751104   \n",
       "\n",
       "              trading_cost_proportion_sell accumulated_price_proportion_sell  \\\n",
       "analysis_sell                     0.000014                          0.711059   \n",
       "\n",
       "              accumulated_quantity_proportion_sell deviation_sell  \\\n",
       "analysis_sell                             1.058972       0.005897   \n",
       "\n",
       "              trade_completeness_sell  \n",
       "analysis_sell               Completed  "
      ]
     },
     "execution_count": 960,
     "metadata": {},
     "output_type": "execute_result"
    }
   ],
   "source": [
    "ETH_USD_2021_sell_analysis.transpose()"
   ]
  },
  {
   "cell_type": "code",
   "execution_count": 961,
   "id": "8768b39c",
   "metadata": {},
   "outputs": [
    {
     "data": {
      "text/plain": [
       "214.25445006885528"
      ]
     },
     "execution_count": 961,
     "metadata": {},
     "output_type": "execute_result"
    }
   ],
   "source": [
    "ETH_USD_2021_Total_Market_VWAP"
   ]
  },
  {
   "cell_type": "code",
   "execution_count": null,
   "id": "0cfa76b1",
   "metadata": {},
   "outputs": [],
   "source": []
  },
  {
   "cell_type": "markdown",
   "id": "87a7039a",
   "metadata": {},
   "source": [
    "# ETH_USD_2022 Data"
   ]
  },
  {
   "cell_type": "code",
   "execution_count": 962,
   "id": "ba1f1843",
   "metadata": {},
   "outputs": [
    {
     "name": "stderr",
     "output_type": "stream",
     "text": [
      "C:\\Users\\Krishna Diggavi\\AppData\\Local\\Temp\\ipykernel_14180\\97513812.py:90: RuntimeWarning: divide by zero encountered in double_scalars\n",
      "  accumulated_price_proportion_buy = accumulated_price_buy_average/arrival_price\n"
     ]
    }
   ],
   "source": [
    "ETH_USD_2022_buy_data, ETH_USD_2022_sell_data, ETH_USD_2022_buy_analysis,ETH_USD_2022_sell_analysis, ETH_USD_2022_Total_Market_VWAP = analysis(df_trades_eth_usd_2022, 0.1, 0.04,True,\n",
    "'2022-01-29 21:02:52.762420')\n"
   ]
  },
  {
   "cell_type": "code",
   "execution_count": 963,
   "id": "cb0e441a",
   "metadata": {},
   "outputs": [
    {
     "data": {
      "text/html": [
       "<div>\n",
       "<style scoped>\n",
       "    .dataframe tbody tr th:only-of-type {\n",
       "        vertical-align: middle;\n",
       "    }\n",
       "\n",
       "    .dataframe tbody tr th {\n",
       "        vertical-align: top;\n",
       "    }\n",
       "\n",
       "    .dataframe thead th {\n",
       "        text-align: right;\n",
       "    }\n",
       "</style>\n",
       "<table border=\"1\" class=\"dataframe\">\n",
       "  <thead>\n",
       "    <tr style=\"text-align: right;\">\n",
       "      <th></th>\n",
       "      <th>received_utc_nanoseconds</th>\n",
       "      <th>timestamp_utc_nanoseconds</th>\n",
       "      <th>PriceMillionths</th>\n",
       "      <th>SizeBillionths</th>\n",
       "      <th>Side</th>\n",
       "      <th>timestamp</th>\n",
       "      <th>timestamp_diff</th>\n",
       "      <th>timestamp_diff_mask</th>\n",
       "      <th>price_grouped</th>\n",
       "      <th>volume</th>\n",
       "      <th>target_check</th>\n",
       "      <th>target_check_cum</th>\n",
       "    </tr>\n",
       "  </thead>\n",
       "  <tbody>\n",
       "    <tr>\n",
       "      <th>0</th>\n",
       "      <td>1.643490e+18</td>\n",
       "      <td>1.643490e+18</td>\n",
       "      <td>260.609</td>\n",
       "      <td>0.153606</td>\n",
       "      <td>2.0</td>\n",
       "      <td>2022-01-29 21:02:52.762419968</td>\n",
       "      <td>NaT</td>\n",
       "      <td>False</td>\n",
       "      <td>0.000</td>\n",
       "      <td>0.000000</td>\n",
       "      <td>0.00000</td>\n",
       "      <td>0.00000</td>\n",
       "    </tr>\n",
       "    <tr>\n",
       "      <th>1</th>\n",
       "      <td>1.643490e+18</td>\n",
       "      <td>1.643490e+18</td>\n",
       "      <td>260.610</td>\n",
       "      <td>0.014050</td>\n",
       "      <td>1.0</td>\n",
       "      <td>2022-01-29 21:02:52.762419968</td>\n",
       "      <td>0 days 00:00:00</td>\n",
       "      <td>True</td>\n",
       "      <td>0.000</td>\n",
       "      <td>0.000000</td>\n",
       "      <td>0.00000</td>\n",
       "      <td>0.00000</td>\n",
       "    </tr>\n",
       "    <tr>\n",
       "      <th>2</th>\n",
       "      <td>1.643490e+18</td>\n",
       "      <td>1.643490e+18</td>\n",
       "      <td>260.611</td>\n",
       "      <td>0.018747</td>\n",
       "      <td>1.0</td>\n",
       "      <td>2022-01-29 21:02:52.793495040</td>\n",
       "      <td>0 days 00:00:00.031075072</td>\n",
       "      <td>True</td>\n",
       "      <td>0.000</td>\n",
       "      <td>0.000000</td>\n",
       "      <td>0.00000</td>\n",
       "      <td>0.00000</td>\n",
       "    </tr>\n",
       "    <tr>\n",
       "      <th>3</th>\n",
       "      <td>1.643490e+18</td>\n",
       "      <td>1.643490e+18</td>\n",
       "      <td>260.623</td>\n",
       "      <td>0.018378</td>\n",
       "      <td>1.0</td>\n",
       "      <td>2022-01-29 21:02:52.889867008</td>\n",
       "      <td>0 days 00:00:00.096371968</td>\n",
       "      <td>True</td>\n",
       "      <td>0.000</td>\n",
       "      <td>0.000000</td>\n",
       "      <td>0.00000</td>\n",
       "      <td>0.00000</td>\n",
       "    </tr>\n",
       "    <tr>\n",
       "      <th>4</th>\n",
       "      <td>1.643490e+18</td>\n",
       "      <td>1.643490e+18</td>\n",
       "      <td>260.624</td>\n",
       "      <td>0.015497</td>\n",
       "      <td>1.0</td>\n",
       "      <td>2022-01-29 21:02:52.889867008</td>\n",
       "      <td>0 days 00:00:00</td>\n",
       "      <td>True</td>\n",
       "      <td>260.624</td>\n",
       "      <td>0.015497</td>\n",
       "      <td>0.00062</td>\n",
       "      <td>0.00062</td>\n",
       "    </tr>\n",
       "  </tbody>\n",
       "</table>\n",
       "</div>"
      ],
      "text/plain": [
       "   received_utc_nanoseconds  timestamp_utc_nanoseconds   PriceMillionths  \\\n",
       "0              1.643490e+18                1.643490e+18          260.609   \n",
       "1              1.643490e+18                1.643490e+18          260.610   \n",
       "2              1.643490e+18                1.643490e+18          260.611   \n",
       "3              1.643490e+18                1.643490e+18          260.623   \n",
       "4              1.643490e+18                1.643490e+18          260.624   \n",
       "\n",
       "   SizeBillionths  Side                     timestamp  \\\n",
       "0        0.153606   2.0 2022-01-29 21:02:52.762419968   \n",
       "1        0.014050   1.0 2022-01-29 21:02:52.762419968   \n",
       "2        0.018747   1.0 2022-01-29 21:02:52.793495040   \n",
       "3        0.018378   1.0 2022-01-29 21:02:52.889867008   \n",
       "4        0.015497   1.0 2022-01-29 21:02:52.889867008   \n",
       "\n",
       "              timestamp_diff  timestamp_diff_mask  price_grouped    volume  \\\n",
       "0                        NaT                False          0.000  0.000000   \n",
       "1            0 days 00:00:00                 True          0.000  0.000000   \n",
       "2  0 days 00:00:00.031075072                 True          0.000  0.000000   \n",
       "3  0 days 00:00:00.096371968                 True          0.000  0.000000   \n",
       "4            0 days 00:00:00                 True        260.624  0.015497   \n",
       "\n",
       "   target_check  target_check_cum  \n",
       "0       0.00000           0.00000  \n",
       "1       0.00000           0.00000  \n",
       "2       0.00000           0.00000  \n",
       "3       0.00000           0.00000  \n",
       "4       0.00062           0.00062  "
      ]
     },
     "execution_count": 963,
     "metadata": {},
     "output_type": "execute_result"
    }
   ],
   "source": [
    "ETH_USD_2022_buy_data.head()"
   ]
  },
  {
   "cell_type": "code",
   "execution_count": 964,
   "id": "ed8b1a98",
   "metadata": {},
   "outputs": [
    {
     "data": {
      "text/html": [
       "<div>\n",
       "<style scoped>\n",
       "    .dataframe tbody tr th:only-of-type {\n",
       "        vertical-align: middle;\n",
       "    }\n",
       "\n",
       "    .dataframe tbody tr th {\n",
       "        vertical-align: top;\n",
       "    }\n",
       "\n",
       "    .dataframe thead th {\n",
       "        text-align: right;\n",
       "    }\n",
       "</style>\n",
       "<table border=\"1\" class=\"dataframe\">\n",
       "  <thead>\n",
       "    <tr style=\"text-align: right;\">\n",
       "      <th></th>\n",
       "      <th>received_utc_nanoseconds</th>\n",
       "      <th>timestamp_utc_nanoseconds</th>\n",
       "      <th>PriceMillionths</th>\n",
       "      <th>SizeBillionths</th>\n",
       "      <th>Side</th>\n",
       "      <th>timestamp</th>\n",
       "      <th>timestamp_diff</th>\n",
       "      <th>timestamp_diff_mask</th>\n",
       "      <th>price_grouped</th>\n",
       "      <th>volume</th>\n",
       "      <th>target_check</th>\n",
       "      <th>target_check_cum</th>\n",
       "    </tr>\n",
       "  </thead>\n",
       "  <tbody>\n",
       "    <tr>\n",
       "      <th>0</th>\n",
       "      <td>1.643490e+18</td>\n",
       "      <td>1.643490e+18</td>\n",
       "      <td>260.517</td>\n",
       "      <td>0.079937</td>\n",
       "      <td>-1.0</td>\n",
       "      <td>2022-01-29 21:02:53.009053952</td>\n",
       "      <td>NaT</td>\n",
       "      <td>False</td>\n",
       "      <td>260.517</td>\n",
       "      <td>0.079937</td>\n",
       "      <td>0.003197</td>\n",
       "      <td>0.003197</td>\n",
       "    </tr>\n",
       "    <tr>\n",
       "      <th>1</th>\n",
       "      <td>1.643490e+18</td>\n",
       "      <td>1.643490e+18</td>\n",
       "      <td>260.518</td>\n",
       "      <td>0.144000</td>\n",
       "      <td>-1.0</td>\n",
       "      <td>2022-01-29 21:02:53.009053952</td>\n",
       "      <td>0 days 00:00:00</td>\n",
       "      <td>True</td>\n",
       "      <td>0.000</td>\n",
       "      <td>0.000000</td>\n",
       "      <td>0.000000</td>\n",
       "      <td>0.003197</td>\n",
       "    </tr>\n",
       "    <tr>\n",
       "      <th>2</th>\n",
       "      <td>1.643490e+18</td>\n",
       "      <td>1.643490e+18</td>\n",
       "      <td>260.529</td>\n",
       "      <td>0.172038</td>\n",
       "      <td>-2.0</td>\n",
       "      <td>2022-01-29 21:02:53.009053952</td>\n",
       "      <td>0 days 00:00:00</td>\n",
       "      <td>True</td>\n",
       "      <td>0.000</td>\n",
       "      <td>0.000000</td>\n",
       "      <td>0.000000</td>\n",
       "      <td>0.003197</td>\n",
       "    </tr>\n",
       "    <tr>\n",
       "      <th>3</th>\n",
       "      <td>1.643490e+18</td>\n",
       "      <td>1.643490e+18</td>\n",
       "      <td>260.543</td>\n",
       "      <td>0.153493</td>\n",
       "      <td>-1.0</td>\n",
       "      <td>2022-01-29 21:02:53.009053952</td>\n",
       "      <td>0 days 00:00:00</td>\n",
       "      <td>True</td>\n",
       "      <td>0.000</td>\n",
       "      <td>0.000000</td>\n",
       "      <td>0.000000</td>\n",
       "      <td>0.003197</td>\n",
       "    </tr>\n",
       "    <tr>\n",
       "      <th>4</th>\n",
       "      <td>1.643490e+18</td>\n",
       "      <td>1.643490e+18</td>\n",
       "      <td>260.556</td>\n",
       "      <td>0.144000</td>\n",
       "      <td>-1.0</td>\n",
       "      <td>2022-01-29 21:02:53.009053952</td>\n",
       "      <td>0 days 00:00:00</td>\n",
       "      <td>True</td>\n",
       "      <td>0.000</td>\n",
       "      <td>0.000000</td>\n",
       "      <td>0.000000</td>\n",
       "      <td>0.003197</td>\n",
       "    </tr>\n",
       "  </tbody>\n",
       "</table>\n",
       "</div>"
      ],
      "text/plain": [
       "   received_utc_nanoseconds  timestamp_utc_nanoseconds   PriceMillionths  \\\n",
       "0              1.643490e+18                1.643490e+18          260.517   \n",
       "1              1.643490e+18                1.643490e+18          260.518   \n",
       "2              1.643490e+18                1.643490e+18          260.529   \n",
       "3              1.643490e+18                1.643490e+18          260.543   \n",
       "4              1.643490e+18                1.643490e+18          260.556   \n",
       "\n",
       "   SizeBillionths  Side                     timestamp   timestamp_diff  \\\n",
       "0        0.079937  -1.0 2022-01-29 21:02:53.009053952              NaT   \n",
       "1        0.144000  -1.0 2022-01-29 21:02:53.009053952  0 days 00:00:00   \n",
       "2        0.172038  -2.0 2022-01-29 21:02:53.009053952  0 days 00:00:00   \n",
       "3        0.153493  -1.0 2022-01-29 21:02:53.009053952  0 days 00:00:00   \n",
       "4        0.144000  -1.0 2022-01-29 21:02:53.009053952  0 days 00:00:00   \n",
       "\n",
       "   timestamp_diff_mask  price_grouped    volume  target_check  \\\n",
       "0                False        260.517  0.079937      0.003197   \n",
       "1                 True          0.000  0.000000      0.000000   \n",
       "2                 True          0.000  0.000000      0.000000   \n",
       "3                 True          0.000  0.000000      0.000000   \n",
       "4                 True          0.000  0.000000      0.000000   \n",
       "\n",
       "   target_check_cum  \n",
       "0          0.003197  \n",
       "1          0.003197  \n",
       "2          0.003197  \n",
       "3          0.003197  \n",
       "4          0.003197  "
      ]
     },
     "execution_count": 964,
     "metadata": {},
     "output_type": "execute_result"
    }
   ],
   "source": [
    "ETH_USD_2022_sell_data.head()"
   ]
  },
  {
   "cell_type": "code",
   "execution_count": 965,
   "id": "5e0c876e",
   "metadata": {},
   "outputs": [
    {
     "data": {
      "text/html": [
       "<div>\n",
       "<style scoped>\n",
       "    .dataframe tbody tr th:only-of-type {\n",
       "        vertical-align: middle;\n",
       "    }\n",
       "\n",
       "    .dataframe tbody tr th {\n",
       "        vertical-align: top;\n",
       "    }\n",
       "\n",
       "    .dataframe thead th {\n",
       "        text-align: right;\n",
       "    }\n",
       "</style>\n",
       "<table border=\"1\" class=\"dataframe\">\n",
       "  <thead>\n",
       "    <tr style=\"text-align: right;\">\n",
       "      <th></th>\n",
       "      <th>VWAP_buy</th>\n",
       "      <th>transcation_fees_buy</th>\n",
       "      <th>time_buy</th>\n",
       "      <th>trading_cost_proportion_buy</th>\n",
       "      <th>accumulated_price_proportion_buy</th>\n",
       "      <th>accumulated_quantity_proportion_buy</th>\n",
       "      <th>deviation_buy</th>\n",
       "      <th>trade_completeness_buy</th>\n",
       "    </tr>\n",
       "  </thead>\n",
       "  <tbody>\n",
       "    <tr>\n",
       "      <th>analysis_buy</th>\n",
       "      <td>260.776677</td>\n",
       "      <td>0.260777</td>\n",
       "      <td>0 days 00:00:32.162824960</td>\n",
       "      <td>0.000014</td>\n",
       "      <td>inf</td>\n",
       "      <td>1.098133</td>\n",
       "      <td>0.009813</td>\n",
       "      <td>Completed</td>\n",
       "    </tr>\n",
       "  </tbody>\n",
       "</table>\n",
       "</div>"
      ],
      "text/plain": [
       "                VWAP_buy transcation_fees_buy                  time_buy  \\\n",
       "analysis_buy  260.776677             0.260777 0 days 00:00:32.162824960   \n",
       "\n",
       "             trading_cost_proportion_buy accumulated_price_proportion_buy  \\\n",
       "analysis_buy                    0.000014                              inf   \n",
       "\n",
       "             accumulated_quantity_proportion_buy deviation_buy  \\\n",
       "analysis_buy                            1.098133      0.009813   \n",
       "\n",
       "             trade_completeness_buy  \n",
       "analysis_buy              Completed  "
      ]
     },
     "execution_count": 965,
     "metadata": {},
     "output_type": "execute_result"
    }
   ],
   "source": [
    "ETH_USD_2022_buy_analysis.transpose()"
   ]
  },
  {
   "cell_type": "code",
   "execution_count": 966,
   "id": "5cdd4c48",
   "metadata": {},
   "outputs": [
    {
     "data": {
      "text/html": [
       "<div>\n",
       "<style scoped>\n",
       "    .dataframe tbody tr th:only-of-type {\n",
       "        vertical-align: middle;\n",
       "    }\n",
       "\n",
       "    .dataframe tbody tr th {\n",
       "        vertical-align: top;\n",
       "    }\n",
       "\n",
       "    .dataframe thead th {\n",
       "        text-align: right;\n",
       "    }\n",
       "</style>\n",
       "<table border=\"1\" class=\"dataframe\">\n",
       "  <thead>\n",
       "    <tr style=\"text-align: right;\">\n",
       "      <th></th>\n",
       "      <th>VWAP_sell</th>\n",
       "      <th>transcation_fees_sell</th>\n",
       "      <th>time_sell</th>\n",
       "      <th>trading_cost_proportion_sell</th>\n",
       "      <th>accumulated_price_proportion_sell</th>\n",
       "      <th>accumulated_quantity_proportion_sell</th>\n",
       "      <th>deviation_sell</th>\n",
       "      <th>trade_completeness_sell</th>\n",
       "    </tr>\n",
       "  </thead>\n",
       "  <tbody>\n",
       "    <tr>\n",
       "      <th>analysis_sell</th>\n",
       "      <td>261.026646</td>\n",
       "      <td>0.261027</td>\n",
       "      <td>0 days 00:01:07.529067008</td>\n",
       "      <td>0.000017</td>\n",
       "      <td>0.438756</td>\n",
       "      <td>1.280436</td>\n",
       "      <td>0.028044</td>\n",
       "      <td>Completed</td>\n",
       "    </tr>\n",
       "  </tbody>\n",
       "</table>\n",
       "</div>"
      ],
      "text/plain": [
       "                VWAP_sell transcation_fees_sell                 time_sell  \\\n",
       "analysis_sell  261.026646              0.261027 0 days 00:01:07.529067008   \n",
       "\n",
       "              trading_cost_proportion_sell accumulated_price_proportion_sell  \\\n",
       "analysis_sell                     0.000017                          0.438756   \n",
       "\n",
       "              accumulated_quantity_proportion_sell deviation_sell  \\\n",
       "analysis_sell                             1.280436       0.028044   \n",
       "\n",
       "              trade_completeness_sell  \n",
       "analysis_sell               Completed  "
      ]
     },
     "execution_count": 966,
     "metadata": {},
     "output_type": "execute_result"
    }
   ],
   "source": [
    "ETH_USD_2022_sell_analysis.transpose()"
   ]
  },
  {
   "cell_type": "code",
   "execution_count": 967,
   "id": "48bdf6b0",
   "metadata": {},
   "outputs": [
    {
     "data": {
      "text/plain": [
       "271.70318965407705"
      ]
     },
     "execution_count": 967,
     "metadata": {},
     "output_type": "execute_result"
    }
   ],
   "source": [
    "ETH_USD_2022_Total_Market_VWAP"
   ]
  },
  {
   "cell_type": "code",
   "execution_count": null,
   "id": "c6ad1c8c",
   "metadata": {},
   "outputs": [],
   "source": []
  },
  {
   "cell_type": "markdown",
   "id": "24bd35da",
   "metadata": {},
   "source": [
    "# ETH_USD_2023 Data"
   ]
  },
  {
   "cell_type": "code",
   "execution_count": 968,
   "id": "3449366a",
   "metadata": {},
   "outputs": [
    {
     "name": "stderr",
     "output_type": "stream",
     "text": [
      "C:\\Users\\Krishna Diggavi\\AppData\\Local\\Temp\\ipykernel_14180\\97513812.py:90: RuntimeWarning: divide by zero encountered in double_scalars\n",
      "  accumulated_price_proportion_buy = accumulated_price_buy_average/arrival_price\n"
     ]
    }
   ],
   "source": [
    "ETH_USD_2023_buy_data, ETH_USD_2023_sell_data, ETH_USD_2023_buy_analysis,ETH_USD_2023_sell_analysis, ETH_USD_2023_Total_Market_VWAP = analysis(df_trades_eth_usd_2023, 0.1, 0.04,True,\n",
    "'2023-01-24 00:47:51.071902')\n"
   ]
  },
  {
   "cell_type": "code",
   "execution_count": 969,
   "id": "f7dbfb3c",
   "metadata": {},
   "outputs": [
    {
     "data": {
      "text/html": [
       "<div>\n",
       "<style scoped>\n",
       "    .dataframe tbody tr th:only-of-type {\n",
       "        vertical-align: middle;\n",
       "    }\n",
       "\n",
       "    .dataframe tbody tr th {\n",
       "        vertical-align: top;\n",
       "    }\n",
       "\n",
       "    .dataframe thead th {\n",
       "        text-align: right;\n",
       "    }\n",
       "</style>\n",
       "<table border=\"1\" class=\"dataframe\">\n",
       "  <thead>\n",
       "    <tr style=\"text-align: right;\">\n",
       "      <th></th>\n",
       "      <th>received_utc_nanoseconds</th>\n",
       "      <th>timestamp_utc_nanoseconds</th>\n",
       "      <th>PriceMillionths</th>\n",
       "      <th>SizeBillionths</th>\n",
       "      <th>Side</th>\n",
       "      <th>timestamp</th>\n",
       "      <th>timestamp_diff</th>\n",
       "      <th>timestamp_diff_mask</th>\n",
       "      <th>price_grouped</th>\n",
       "      <th>volume</th>\n",
       "      <th>target_check</th>\n",
       "      <th>target_check_cum</th>\n",
       "    </tr>\n",
       "  </thead>\n",
       "  <tbody>\n",
       "    <tr>\n",
       "      <th>0</th>\n",
       "      <td>1.674521e+18</td>\n",
       "      <td>1.674521e+18</td>\n",
       "      <td>162.977</td>\n",
       "      <td>9.215869e-03</td>\n",
       "      <td>1.0</td>\n",
       "      <td>2023-01-24 00:47:51.398509056</td>\n",
       "      <td>NaT</td>\n",
       "      <td>False</td>\n",
       "      <td>0.000</td>\n",
       "      <td>0.000000</td>\n",
       "      <td>0.000000</td>\n",
       "      <td>0.000000</td>\n",
       "    </tr>\n",
       "    <tr>\n",
       "      <th>1</th>\n",
       "      <td>1.674521e+18</td>\n",
       "      <td>1.674521e+18</td>\n",
       "      <td>162.978</td>\n",
       "      <td>7.125949e-02</td>\n",
       "      <td>2.0</td>\n",
       "      <td>2023-01-24 00:47:51.398509056</td>\n",
       "      <td>0 days 00:00:00</td>\n",
       "      <td>True</td>\n",
       "      <td>0.000</td>\n",
       "      <td>0.000000</td>\n",
       "      <td>0.000000</td>\n",
       "      <td>0.000000</td>\n",
       "    </tr>\n",
       "    <tr>\n",
       "      <th>2</th>\n",
       "      <td>1.674521e+18</td>\n",
       "      <td>1.674521e+18</td>\n",
       "      <td>162.979</td>\n",
       "      <td>1.016994e-01</td>\n",
       "      <td>2.0</td>\n",
       "      <td>2023-01-24 00:47:51.398509056</td>\n",
       "      <td>0 days 00:00:00</td>\n",
       "      <td>True</td>\n",
       "      <td>162.979</td>\n",
       "      <td>0.101699</td>\n",
       "      <td>0.004068</td>\n",
       "      <td>0.004068</td>\n",
       "    </tr>\n",
       "    <tr>\n",
       "      <th>3</th>\n",
       "      <td>1.674521e+18</td>\n",
       "      <td>1.674521e+18</td>\n",
       "      <td>162.977</td>\n",
       "      <td>9.215000e-03</td>\n",
       "      <td>1.0</td>\n",
       "      <td>2023-01-24 00:47:51.578052096</td>\n",
       "      <td>0 days 00:00:00.179543040</td>\n",
       "      <td>False</td>\n",
       "      <td>0.000</td>\n",
       "      <td>0.000000</td>\n",
       "      <td>0.000000</td>\n",
       "      <td>0.004068</td>\n",
       "    </tr>\n",
       "    <tr>\n",
       "      <th>4</th>\n",
       "      <td>1.674521e+18</td>\n",
       "      <td>1.674521e+18</td>\n",
       "      <td>162.977</td>\n",
       "      <td>8.690000e-07</td>\n",
       "      <td>1.0</td>\n",
       "      <td>2023-01-24 00:47:51.660995072</td>\n",
       "      <td>0 days 00:00:00.082942976</td>\n",
       "      <td>True</td>\n",
       "      <td>0.000</td>\n",
       "      <td>0.000000</td>\n",
       "      <td>0.000000</td>\n",
       "      <td>0.004068</td>\n",
       "    </tr>\n",
       "  </tbody>\n",
       "</table>\n",
       "</div>"
      ],
      "text/plain": [
       "   received_utc_nanoseconds  timestamp_utc_nanoseconds   PriceMillionths  \\\n",
       "0              1.674521e+18                1.674521e+18          162.977   \n",
       "1              1.674521e+18                1.674521e+18          162.978   \n",
       "2              1.674521e+18                1.674521e+18          162.979   \n",
       "3              1.674521e+18                1.674521e+18          162.977   \n",
       "4              1.674521e+18                1.674521e+18          162.977   \n",
       "\n",
       "   SizeBillionths  Side                     timestamp  \\\n",
       "0    9.215869e-03   1.0 2023-01-24 00:47:51.398509056   \n",
       "1    7.125949e-02   2.0 2023-01-24 00:47:51.398509056   \n",
       "2    1.016994e-01   2.0 2023-01-24 00:47:51.398509056   \n",
       "3    9.215000e-03   1.0 2023-01-24 00:47:51.578052096   \n",
       "4    8.690000e-07   1.0 2023-01-24 00:47:51.660995072   \n",
       "\n",
       "              timestamp_diff  timestamp_diff_mask  price_grouped    volume  \\\n",
       "0                        NaT                False          0.000  0.000000   \n",
       "1            0 days 00:00:00                 True          0.000  0.000000   \n",
       "2            0 days 00:00:00                 True        162.979  0.101699   \n",
       "3  0 days 00:00:00.179543040                False          0.000  0.000000   \n",
       "4  0 days 00:00:00.082942976                 True          0.000  0.000000   \n",
       "\n",
       "   target_check  target_check_cum  \n",
       "0      0.000000          0.000000  \n",
       "1      0.000000          0.000000  \n",
       "2      0.004068          0.004068  \n",
       "3      0.000000          0.004068  \n",
       "4      0.000000          0.004068  "
      ]
     },
     "execution_count": 969,
     "metadata": {},
     "output_type": "execute_result"
    }
   ],
   "source": [
    "ETH_USD_2023_buy_data.head()"
   ]
  },
  {
   "cell_type": "code",
   "execution_count": 970,
   "id": "8533ab59",
   "metadata": {},
   "outputs": [
    {
     "data": {
      "text/html": [
       "<div>\n",
       "<style scoped>\n",
       "    .dataframe tbody tr th:only-of-type {\n",
       "        vertical-align: middle;\n",
       "    }\n",
       "\n",
       "    .dataframe tbody tr th {\n",
       "        vertical-align: top;\n",
       "    }\n",
       "\n",
       "    .dataframe thead th {\n",
       "        text-align: right;\n",
       "    }\n",
       "</style>\n",
       "<table border=\"1\" class=\"dataframe\">\n",
       "  <thead>\n",
       "    <tr style=\"text-align: right;\">\n",
       "      <th></th>\n",
       "      <th>received_utc_nanoseconds</th>\n",
       "      <th>timestamp_utc_nanoseconds</th>\n",
       "      <th>PriceMillionths</th>\n",
       "      <th>SizeBillionths</th>\n",
       "      <th>Side</th>\n",
       "      <th>timestamp</th>\n",
       "      <th>timestamp_diff</th>\n",
       "      <th>timestamp_diff_mask</th>\n",
       "      <th>price_grouped</th>\n",
       "      <th>volume</th>\n",
       "      <th>target_check</th>\n",
       "      <th>target_check_cum</th>\n",
       "    </tr>\n",
       "  </thead>\n",
       "  <tbody>\n",
       "    <tr>\n",
       "      <th>0</th>\n",
       "      <td>1.674521e+18</td>\n",
       "      <td>1.674521e+18</td>\n",
       "      <td>162.967</td>\n",
       "      <td>1.181521e-03</td>\n",
       "      <td>-1.0</td>\n",
       "      <td>2023-01-24 00:47:51.071901952</td>\n",
       "      <td>NaT</td>\n",
       "      <td>False</td>\n",
       "      <td>162.967</td>\n",
       "      <td>0.001182</td>\n",
       "      <td>0.000047</td>\n",
       "      <td>0.000047</td>\n",
       "    </tr>\n",
       "    <tr>\n",
       "      <th>1</th>\n",
       "      <td>1.674521e+18</td>\n",
       "      <td>1.674521e+18</td>\n",
       "      <td>162.989</td>\n",
       "      <td>4.890000e-03</td>\n",
       "      <td>-1.0</td>\n",
       "      <td>2023-01-24 00:47:52.167120896</td>\n",
       "      <td>0 days 00:00:01.095218944</td>\n",
       "      <td>False</td>\n",
       "      <td>0.000</td>\n",
       "      <td>0.000000</td>\n",
       "      <td>0.000000</td>\n",
       "      <td>0.000047</td>\n",
       "    </tr>\n",
       "    <tr>\n",
       "      <th>2</th>\n",
       "      <td>1.674521e+18</td>\n",
       "      <td>1.674521e+18</td>\n",
       "      <td>162.988</td>\n",
       "      <td>4.953073e-03</td>\n",
       "      <td>-1.0</td>\n",
       "      <td>2023-01-24 00:47:52.175371008</td>\n",
       "      <td>0 days 00:00:00.008250112</td>\n",
       "      <td>True</td>\n",
       "      <td>162.988</td>\n",
       "      <td>0.004953</td>\n",
       "      <td>0.000198</td>\n",
       "      <td>0.000245</td>\n",
       "    </tr>\n",
       "    <tr>\n",
       "      <th>3</th>\n",
       "      <td>1.674521e+18</td>\n",
       "      <td>1.674521e+18</td>\n",
       "      <td>162.989</td>\n",
       "      <td>9.270000e-07</td>\n",
       "      <td>-1.0</td>\n",
       "      <td>2023-01-24 00:47:52.175371008</td>\n",
       "      <td>0 days 00:00:00</td>\n",
       "      <td>True</td>\n",
       "      <td>0.000</td>\n",
       "      <td>0.000000</td>\n",
       "      <td>0.000000</td>\n",
       "      <td>0.000245</td>\n",
       "    </tr>\n",
       "    <tr>\n",
       "      <th>4</th>\n",
       "      <td>1.674521e+18</td>\n",
       "      <td>1.674521e+18</td>\n",
       "      <td>162.987</td>\n",
       "      <td>2.859000e-03</td>\n",
       "      <td>-1.0</td>\n",
       "      <td>2023-01-24 00:47:55.272760064</td>\n",
       "      <td>0 days 00:00:03.097389056</td>\n",
       "      <td>False</td>\n",
       "      <td>0.000</td>\n",
       "      <td>0.000000</td>\n",
       "      <td>0.000000</td>\n",
       "      <td>0.000245</td>\n",
       "    </tr>\n",
       "  </tbody>\n",
       "</table>\n",
       "</div>"
      ],
      "text/plain": [
       "   received_utc_nanoseconds  timestamp_utc_nanoseconds   PriceMillionths  \\\n",
       "0              1.674521e+18                1.674521e+18          162.967   \n",
       "1              1.674521e+18                1.674521e+18          162.989   \n",
       "2              1.674521e+18                1.674521e+18          162.988   \n",
       "3              1.674521e+18                1.674521e+18          162.989   \n",
       "4              1.674521e+18                1.674521e+18          162.987   \n",
       "\n",
       "   SizeBillionths  Side                     timestamp  \\\n",
       "0    1.181521e-03  -1.0 2023-01-24 00:47:51.071901952   \n",
       "1    4.890000e-03  -1.0 2023-01-24 00:47:52.167120896   \n",
       "2    4.953073e-03  -1.0 2023-01-24 00:47:52.175371008   \n",
       "3    9.270000e-07  -1.0 2023-01-24 00:47:52.175371008   \n",
       "4    2.859000e-03  -1.0 2023-01-24 00:47:55.272760064   \n",
       "\n",
       "              timestamp_diff  timestamp_diff_mask  price_grouped    volume  \\\n",
       "0                        NaT                False        162.967  0.001182   \n",
       "1  0 days 00:00:01.095218944                False          0.000  0.000000   \n",
       "2  0 days 00:00:00.008250112                 True        162.988  0.004953   \n",
       "3            0 days 00:00:00                 True          0.000  0.000000   \n",
       "4  0 days 00:00:03.097389056                False          0.000  0.000000   \n",
       "\n",
       "   target_check  target_check_cum  \n",
       "0      0.000047          0.000047  \n",
       "1      0.000000          0.000047  \n",
       "2      0.000198          0.000245  \n",
       "3      0.000000          0.000245  \n",
       "4      0.000000          0.000245  "
      ]
     },
     "execution_count": 970,
     "metadata": {},
     "output_type": "execute_result"
    }
   ],
   "source": [
    "ETH_USD_2023_sell_data.head()"
   ]
  },
  {
   "cell_type": "code",
   "execution_count": 971,
   "id": "e97c02d6",
   "metadata": {},
   "outputs": [
    {
     "data": {
      "text/html": [
       "<div>\n",
       "<style scoped>\n",
       "    .dataframe tbody tr th:only-of-type {\n",
       "        vertical-align: middle;\n",
       "    }\n",
       "\n",
       "    .dataframe tbody tr th {\n",
       "        vertical-align: top;\n",
       "    }\n",
       "\n",
       "    .dataframe thead th {\n",
       "        text-align: right;\n",
       "    }\n",
       "</style>\n",
       "<table border=\"1\" class=\"dataframe\">\n",
       "  <thead>\n",
       "    <tr style=\"text-align: right;\">\n",
       "      <th></th>\n",
       "      <th>VWAP_buy</th>\n",
       "      <th>transcation_fees_buy</th>\n",
       "      <th>time_buy</th>\n",
       "      <th>trading_cost_proportion_buy</th>\n",
       "      <th>accumulated_price_proportion_buy</th>\n",
       "      <th>accumulated_quantity_proportion_buy</th>\n",
       "      <th>deviation_buy</th>\n",
       "      <th>trade_completeness_buy</th>\n",
       "    </tr>\n",
       "  </thead>\n",
       "  <tbody>\n",
       "    <tr>\n",
       "      <th>analysis_buy</th>\n",
       "      <td>162.955415</td>\n",
       "      <td>0.162955</td>\n",
       "      <td>0 days 00:00:54.530248960</td>\n",
       "      <td>0.000018</td>\n",
       "      <td>inf</td>\n",
       "      <td>1.018876</td>\n",
       "      <td>0.001888</td>\n",
       "      <td>Completed</td>\n",
       "    </tr>\n",
       "  </tbody>\n",
       "</table>\n",
       "</div>"
      ],
      "text/plain": [
       "                VWAP_buy transcation_fees_buy                  time_buy  \\\n",
       "analysis_buy  162.955415             0.162955 0 days 00:00:54.530248960   \n",
       "\n",
       "             trading_cost_proportion_buy accumulated_price_proportion_buy  \\\n",
       "analysis_buy                    0.000018                              inf   \n",
       "\n",
       "             accumulated_quantity_proportion_buy deviation_buy  \\\n",
       "analysis_buy                            1.018876      0.001888   \n",
       "\n",
       "             trade_completeness_buy  \n",
       "analysis_buy              Completed  "
      ]
     },
     "execution_count": 971,
     "metadata": {},
     "output_type": "execute_result"
    }
   ],
   "source": [
    "ETH_USD_2023_buy_analysis.transpose()"
   ]
  },
  {
   "cell_type": "code",
   "execution_count": 972,
   "id": "17c99d89",
   "metadata": {},
   "outputs": [
    {
     "data": {
      "text/html": [
       "<div>\n",
       "<style scoped>\n",
       "    .dataframe tbody tr th:only-of-type {\n",
       "        vertical-align: middle;\n",
       "    }\n",
       "\n",
       "    .dataframe tbody tr th {\n",
       "        vertical-align: top;\n",
       "    }\n",
       "\n",
       "    .dataframe thead th {\n",
       "        text-align: right;\n",
       "    }\n",
       "</style>\n",
       "<table border=\"1\" class=\"dataframe\">\n",
       "  <thead>\n",
       "    <tr style=\"text-align: right;\">\n",
       "      <th></th>\n",
       "      <th>VWAP_sell</th>\n",
       "      <th>transcation_fees_sell</th>\n",
       "      <th>time_sell</th>\n",
       "      <th>trading_cost_proportion_sell</th>\n",
       "      <th>accumulated_price_proportion_sell</th>\n",
       "      <th>accumulated_quantity_proportion_sell</th>\n",
       "      <th>deviation_sell</th>\n",
       "      <th>trade_completeness_sell</th>\n",
       "    </tr>\n",
       "  </thead>\n",
       "  <tbody>\n",
       "    <tr>\n",
       "      <th>analysis_sell</th>\n",
       "      <td>162.946332</td>\n",
       "      <td>0.162946</td>\n",
       "      <td>0 days 00:00:22.348512</td>\n",
       "      <td>0.000037</td>\n",
       "      <td>0.337514</td>\n",
       "      <td>1.000026</td>\n",
       "      <td>0.000003</td>\n",
       "      <td>Completed</td>\n",
       "    </tr>\n",
       "  </tbody>\n",
       "</table>\n",
       "</div>"
      ],
      "text/plain": [
       "                VWAP_sell transcation_fees_sell              time_sell  \\\n",
       "analysis_sell  162.946332              0.162946 0 days 00:00:22.348512   \n",
       "\n",
       "              trading_cost_proportion_sell accumulated_price_proportion_sell  \\\n",
       "analysis_sell                     0.000037                          0.337514   \n",
       "\n",
       "              accumulated_quantity_proportion_sell deviation_sell  \\\n",
       "analysis_sell                             1.000026       0.000003   \n",
       "\n",
       "              trade_completeness_sell  \n",
       "analysis_sell               Completed  "
      ]
     },
     "execution_count": 972,
     "metadata": {},
     "output_type": "execute_result"
    }
   ],
   "source": [
    "ETH_USD_2023_sell_analysis.transpose()"
   ]
  },
  {
   "cell_type": "code",
   "execution_count": 973,
   "id": "c927c0ae",
   "metadata": {},
   "outputs": [
    {
     "data": {
      "text/plain": [
       "158.38326817861045"
      ]
     },
     "execution_count": 973,
     "metadata": {},
     "output_type": "execute_result"
    }
   ],
   "source": [
    "ETH_USD_2023_Total_Market_VWAP"
   ]
  },
  {
   "cell_type": "code",
   "execution_count": null,
   "id": "b13e0786",
   "metadata": {},
   "outputs": [],
   "source": []
  },
  {
   "cell_type": "markdown",
   "id": "cfe12734",
   "metadata": {},
   "source": [
    "### VWAP Analysis for ETH_USD"
   ]
  },
  {
   "cell_type": "code",
   "execution_count": 974,
   "id": "8589d6d4",
   "metadata": {},
   "outputs": [
    {
     "data": {
      "text/plain": [
       "Text(0.5, 1.0, 'VWAP Values for selling ETH_USD over 2021, 2022, 2023')"
      ]
     },
     "execution_count": 974,
     "metadata": {},
     "output_type": "execute_result"
    },
    {
     "data": {
      "image/png": "[encoded data removed]",
      "text/plain": [
       "<Figure size 864x360 with 2 Axes>"
      ]
     },
     "metadata": {
      "needs_background": "light"
     },
     "output_type": "display_data"
    }
   ],
   "source": [
    "years = ['2021', '2022', '2023']\n",
    "vwap_buy_data = [ETH_USD_2021_buy_analysis.loc['VWAP_buy'][0], ETH_USD_2022_buy_analysis.loc['VWAP_buy'][0], ETH_USD_2023_buy_analysis.loc['VWAP_buy'][0]]\n",
    "vwap_sell_data = [ETH_USD_2021_sell_analysis.loc['VWAP_sell'][0], ETH_USD_2022_sell_analysis.loc['VWAP_sell'][0],ETH_USD_2023_sell_analysis.loc['VWAP_sell'][0] ]\n",
    "\n",
    "fig, (ax1, ax2) = plt.subplots(1, 2, figsize=(12, 5))\n",
    "\n",
    "rects = ax1.bar(range(len(vwap_buy_data)), vwap_buy_data, color=['yellow', 'green', 'm'])\n",
    "ax1.set_xticks(range(len(vwap_buy_data)))\n",
    "ax1.xaxis.set_ticklabels(['ETH_USD_' + year for year in years])\n",
    "ax1.set_ylabel('VWAP')\n",
    "ax1.set_title('VWAP Values for buying ETH_USD over 2021, 2022, 2023')\n",
    "\n",
    "ax2.bar(range(len(vwap_sell_data)), vwap_sell_data, color=['yellow', 'green', 'm'])\n",
    "ax2.set_xticks(range(len(vwap_sell_data)))\n",
    "ax2.xaxis.set_ticklabels(['ETH_USD_' + year for year in years])\n",
    "ax2.set_ylabel('VWAP')\n",
    "ax2.set_title('VWAP Values for selling ETH_USD over 2021, 2022, 2023')"
   ]
  },
  {
   "cell_type": "markdown",
   "id": "b1e5c69a",
   "metadata": {},
   "source": [
    "### Observation:<br>\n",
    "\n",
    "- For both Buy and Sell, VWAP for 2022 is greater than 2021 followed by 2023 .<br><br>"
   ]
  },
  {
   "cell_type": "markdown",
   "id": "70407a13",
   "metadata": {},
   "source": [
    "### Time Taken for ETH_USD"
   ]
  },
  {
   "cell_type": "code",
   "execution_count": 1076,
   "id": "a89f829e",
   "metadata": {},
   "outputs": [
    {
     "data": {
      "text/plain": [
       "Text(0.5, 1.0, 'VWAP Values for selling ETH_USD over 2021, 2022, 2023')"
      ]
     },
     "execution_count": 1076,
     "metadata": {},
     "output_type": "execute_result"
    },
    {
     "data": {
      "image/png": "[encoded data removed]",
      "text/plain": [
       "<Figure size 2016x720 with 2 Axes>"
      ]
     },
     "metadata": {
      "needs_background": "light"
     },
     "output_type": "display_data"
    }
   ],
   "source": [
    "years = ['0','2022', '2023', '2021']\n",
    "time_buy_data = [str(0), str(ETH_USD_2022_buy_analysis.loc['time_buy'][0]), str(ETH_USD_2023_buy_analysis.loc['time_buy'][0]), str(ETH_USD_2021_buy_analysis.loc['time_buy'][0])]\n",
    "time_sell_data = [str(0), str(ETH_USD_2023_sell_analysis.loc['time_sell'][0]), str(ETH_USD_2022_sell_analysis.loc['time_sell'][0]),str(ETH_USD_2021_sell_analysis.loc['time_sell'][0])]\n",
    "\n",
    "fig, (ax1, ax2) = plt.subplots(1, 2, figsize=(28, 10))\n",
    "\n",
    "rects = ax1.bar(range(len(time_buy_data)), time_buy_data, color=['yellow', 'green', 'm'])\n",
    "ax1.set_xticks(range(len(time_buy_data)))\n",
    "ax1.xaxis.set_ticklabels(['ETH_USD_' + year for year in years])\n",
    "ax1.set_ylabel('VWAP')\n",
    "ax1.set_title('VWAP Values for buying ETH_USD over 2021, 2022, 2023')\n",
    "\n",
    "years1 = ['0','2023', '2022', '2021']\n",
    "ax2.bar(range(len(time_sell_data)), time_sell_data, color=['yellow', 'green', 'm'])\n",
    "ax2.set_xticks(range(len(time_sell_data)))\n",
    "ax2.xaxis.set_ticklabels(['ETH_USD_' + year for year in years1])\n",
    "ax2.set_ylabel('VWAP')\n",
    "ax2.set_title('VWAP Values for selling ETH_USD over 2021, 2022, 2023')"
   ]
  },
  {
   "cell_type": "markdown",
   "id": "e667e65f",
   "metadata": {},
   "source": [
    "### Observation:<br>\n",
    "- Buy: \n",
    "    If we compare buying the same quantity of 0.1, it took longer time (1:55) in 2021 followed by 2023 and then 2022.<br><br>\n",
    "- Sell: \n",
    "    If we compare selling the same quantity of 0.1, it took longer time (4:04 sec) in 2021 followed by 2023 and then 2022.<br><br>"
   ]
  },
  {
   "cell_type": "markdown",
   "id": "f1da3966",
   "metadata": {},
   "source": [
    "### Trading Cost Proportion for ETH_USD"
   ]
  },
  {
   "cell_type": "code",
   "execution_count": 976,
   "id": "c8759331",
   "metadata": {},
   "outputs": [
    {
     "data": {
      "text/plain": [
       "Text(0.5, 1.0, 'Trading Cost Proportion selling ETH_USD over 2021, 2022, 2023')"
      ]
     },
     "execution_count": 976,
     "metadata": {},
     "output_type": "execute_result"
    },
    {
     "data": {
      "image/png": "[encoded data removed]",
      "text/plain": [
       "<Figure size 1440x360 with 2 Axes>"
      ]
     },
     "metadata": {
      "needs_background": "light"
     },
     "output_type": "display_data"
    }
   ],
   "source": [
    "years = ['2021', '2022', '2023']\n",
    "trading_cost_buy_data = [ETH_USD_2021_buy_analysis.loc['trading_cost_proportion_buy'][0], ETH_USD_2022_buy_analysis.loc['trading_cost_proportion_buy'][0], ETH_USD_2023_buy_analysis.loc['trading_cost_proportion_buy'][0]]\n",
    "trading_cost_sell_data = [ETH_USD_2021_sell_analysis.loc['trading_cost_proportion_sell'][0], ETH_USD_2022_sell_analysis.loc['trading_cost_proportion_sell'][0],ETH_USD_2023_sell_analysis.loc['trading_cost_proportion_sell'][0] ]\n",
    "\n",
    "fig, (ax1, ax2) = plt.subplots(1, 2, figsize=(20, 5))\n",
    "\n",
    "rects = ax1.bar(range(len(trading_cost_buy_data)), trading_cost_buy_data, color=['yellow', 'green', 'm'])\n",
    "ax1.set_xticks(range(len(trading_cost_buy_data)))\n",
    "ax1.xaxis.set_ticklabels(['ETH_USD_' + year for year in years])\n",
    "ax1.set_ylabel('Trading Cost Buy Proportion')\n",
    "ax1.set_title('Trading Cost Proportion Values for buying ETH_USD over 2021, 2022, 2023')\n",
    "\n",
    "ax2.bar(range(len(trading_cost_sell_data)), trading_cost_sell_data, color=['yellow', 'green', 'm'])\n",
    "ax2.set_xticks(range(len(trading_cost_sell_data)))\n",
    "ax2.xaxis.set_ticklabels(['ETH_USD_' + year for year in years])\n",
    "ax2.set_ylabel('Trading Cost Sell Proportion')\n",
    "ax2.set_title('Trading Cost Proportion selling ETH_USD over 2021, 2022, 2023')"
   ]
  },
  {
   "cell_type": "markdown",
   "id": "250b54cd",
   "metadata": {},
   "source": [
    "### Observation:<br>\n",
    "- Buy: \n",
    "    If we compare Trading costs as a proportional of Notional, the order is 2023 followed by 2022 and then 2021.<br><br>\n",
    "- Sell: \n",
    "    If we compare Trading costs as a proportional of Notional, the order is 2023 followed by 2022 and then 2021.<br><br>\n"
   ]
  },
  {
   "cell_type": "markdown",
   "id": "5b738dc8",
   "metadata": {},
   "source": [
    "### Market VWAP for ETH_USD"
   ]
  },
  {
   "cell_type": "code",
   "execution_count": 979,
   "id": "fc1fdaff",
   "metadata": {},
   "outputs": [
    {
     "data": {
      "text/plain": [
       "Text(0.5, 1.0, 'Market VWAP for ETH_USD over 2021, 2022, 2023')"
      ]
     },
     "execution_count": 979,
     "metadata": {},
     "output_type": "execute_result"
    },
    {
     "data": {
      "image/png": "[encoded data removed]",
      "text/plain": [
       "<Figure size 864x360 with 1 Axes>"
      ]
     },
     "metadata": {
      "needs_background": "light"
     },
     "output_type": "display_data"
    }
   ],
   "source": [
    "years = ['2021', '2022', '2023']\n",
    "market_vwap_data = [ETH_USD_2021_Total_Market_VWAP, ETH_USD_2022_Total_Market_VWAP, ETH_USD_2023_Total_Market_VWAP]\n",
    "\n",
    "fig, (ax1) = plt.subplots(1, 1, figsize=(12, 5))\n",
    "\n",
    "rects = ax1.bar(range(len(market_vwap_data)), market_vwap_data, color=['yellow', 'green', 'm'])\n",
    "ax1.set_xticks(range(len(market_vwap_data)))\n",
    "ax1.xaxis.set_ticklabels(['ETH_USD_' + year for year in years])\n",
    "ax1.set_ylabel('Market VWAP ')\n",
    "ax1.set_title('Market VWAP for ETH_USD over 2021, 2022, 2023')\n"
   ]
  },
  {
   "cell_type": "markdown",
   "id": "0d8599ef",
   "metadata": {},
   "source": [
    "### Observation:<br>\n",
    "- If we compare Market VWAP, the order is 2022 followed by 2021 and then 2023.<br><br>\n"
   ]
  },
  {
   "cell_type": "code",
   "execution_count": null,
   "id": "e0dec78d",
   "metadata": {},
   "outputs": [],
   "source": []
  },
  {
   "cell_type": "markdown",
   "id": "54ba7772",
   "metadata": {},
   "source": [
    "# Taking Quantity as 1.0"
   ]
  },
  {
   "cell_type": "markdown",
   "id": "42367cb6",
   "metadata": {},
   "source": [
    "# ETH_BTC_2021 Data"
   ]
  },
  {
   "cell_type": "code",
   "execution_count": 1023,
   "id": "5de72059",
   "metadata": {},
   "outputs": [],
   "source": [
    "ETH_BTC_2021_buy_data_1, ETH_BTC_2021_sell_data_1, ETH_BTC_2021_buy_analysis_1,ETH_BTC_2021_sell_analysis_1, ETH_BTC_2021_Total_Market_VWAP_1 = analysis(df_trades_eth_btc_2021, 1, 0.04, False,'2021-04-10 21:28:57.864544000')\n"
   ]
  },
  {
   "cell_type": "code",
   "execution_count": 1024,
   "id": "3ff61322",
   "metadata": {},
   "outputs": [
    {
     "data": {
      "text/html": [
       "<div>\n",
       "<style scoped>\n",
       "    .dataframe tbody tr th:only-of-type {\n",
       "        vertical-align: middle;\n",
       "    }\n",
       "\n",
       "    .dataframe tbody tr th {\n",
       "        vertical-align: top;\n",
       "    }\n",
       "\n",
       "    .dataframe thead th {\n",
       "        text-align: right;\n",
       "    }\n",
       "</style>\n",
       "<table border=\"1\" class=\"dataframe\">\n",
       "  <thead>\n",
       "    <tr style=\"text-align: right;\">\n",
       "      <th></th>\n",
       "      <th>VWAP_buy</th>\n",
       "      <th>transcation_fees_buy</th>\n",
       "      <th>time_buy</th>\n",
       "      <th>trading_cost_proportion_buy</th>\n",
       "      <th>accumulated_price_proportion_buy</th>\n",
       "      <th>accumulated_quantity_proportion_buy</th>\n",
       "      <th>deviation_buy</th>\n",
       "      <th>trade_completeness_buy</th>\n",
       "    </tr>\n",
       "  </thead>\n",
       "  <tbody>\n",
       "    <tr>\n",
       "      <th>analysis_buy</th>\n",
       "      <td>0.003572</td>\n",
       "      <td>0.000004</td>\n",
       "      <td>0 days 00:14:45.467397888</td>\n",
       "      <td>0.000008</td>\n",
       "      <td>0.963088</td>\n",
       "      <td>0.274782</td>\n",
       "      <td>-0.725218</td>\n",
       "      <td>Not Completed</td>\n",
       "    </tr>\n",
       "  </tbody>\n",
       "</table>\n",
       "</div>"
      ],
      "text/plain": [
       "              VWAP_buy transcation_fees_buy                  time_buy  \\\n",
       "analysis_buy  0.003572             0.000004 0 days 00:14:45.467397888   \n",
       "\n",
       "             trading_cost_proportion_buy accumulated_price_proportion_buy  \\\n",
       "analysis_buy                    0.000008                         0.963088   \n",
       "\n",
       "             accumulated_quantity_proportion_buy deviation_buy  \\\n",
       "analysis_buy                            0.274782     -0.725218   \n",
       "\n",
       "             trade_completeness_buy  \n",
       "analysis_buy          Not Completed  "
      ]
     },
     "execution_count": 1024,
     "metadata": {},
     "output_type": "execute_result"
    }
   ],
   "source": [
    "ETH_BTC_2021_buy_analysis_1.transpose()"
   ]
  },
  {
   "cell_type": "code",
   "execution_count": 1025,
   "id": "ca88804f",
   "metadata": {},
   "outputs": [
    {
     "data": {
      "text/html": [
       "<div>\n",
       "<style scoped>\n",
       "    .dataframe tbody tr th:only-of-type {\n",
       "        vertical-align: middle;\n",
       "    }\n",
       "\n",
       "    .dataframe tbody tr th {\n",
       "        vertical-align: top;\n",
       "    }\n",
       "\n",
       "    .dataframe thead th {\n",
       "        text-align: right;\n",
       "    }\n",
       "</style>\n",
       "<table border=\"1\" class=\"dataframe\">\n",
       "  <thead>\n",
       "    <tr style=\"text-align: right;\">\n",
       "      <th></th>\n",
       "      <th>VWAP_sell</th>\n",
       "      <th>transcation_fees_sell</th>\n",
       "      <th>time_sell</th>\n",
       "      <th>trading_cost_proportion_sell</th>\n",
       "      <th>accumulated_price_proportion_sell</th>\n",
       "      <th>accumulated_quantity_proportion_sell</th>\n",
       "      <th>deviation_sell</th>\n",
       "      <th>trade_completeness_sell</th>\n",
       "    </tr>\n",
       "  </thead>\n",
       "  <tbody>\n",
       "    <tr>\n",
       "      <th>analysis_sell</th>\n",
       "      <td>0.003574</td>\n",
       "      <td>0.000004</td>\n",
       "      <td>0 days 00:14:59.149513984</td>\n",
       "      <td>0.000015</td>\n",
       "      <td>0.892214</td>\n",
       "      <td>0.139435</td>\n",
       "      <td>-0.860565</td>\n",
       "      <td>Not Completed</td>\n",
       "    </tr>\n",
       "  </tbody>\n",
       "</table>\n",
       "</div>"
      ],
      "text/plain": [
       "              VWAP_sell transcation_fees_sell                 time_sell  \\\n",
       "analysis_sell  0.003574              0.000004 0 days 00:14:59.149513984   \n",
       "\n",
       "              trading_cost_proportion_sell accumulated_price_proportion_sell  \\\n",
       "analysis_sell                     0.000015                          0.892214   \n",
       "\n",
       "              accumulated_quantity_proportion_sell deviation_sell  \\\n",
       "analysis_sell                             0.139435      -0.860565   \n",
       "\n",
       "              trade_completeness_sell  \n",
       "analysis_sell           Not Completed  "
      ]
     },
     "execution_count": 1025,
     "metadata": {},
     "output_type": "execute_result"
    }
   ],
   "source": [
    "ETH_BTC_2021_sell_analysis_1.transpose()"
   ]
  },
  {
   "cell_type": "code",
   "execution_count": 1026,
   "id": "f972b4f4",
   "metadata": {},
   "outputs": [
    {
     "data": {
      "text/plain": [
       "0.0035744581848260147"
      ]
     },
     "execution_count": 1026,
     "metadata": {},
     "output_type": "execute_result"
    }
   ],
   "source": [
    "ETH_BTC_2021_Total_Market_VWAP_1"
   ]
  },
  {
   "cell_type": "code",
   "execution_count": null,
   "id": "8e17f7f3",
   "metadata": {},
   "outputs": [],
   "source": []
  },
  {
   "cell_type": "markdown",
   "id": "28bb2261",
   "metadata": {},
   "source": [
    "# ETH_BTC_2022 Data"
   ]
  },
  {
   "cell_type": "code",
   "execution_count": 1027,
   "id": "cfa3d99d",
   "metadata": {},
   "outputs": [],
   "source": [
    "ETH_BTC_2022_buy_data_1, ETH_BTC_2022_sell_data_1, ETH_BTC_2022_buy_analysis_1,ETH_BTC_2022_sell_analysis_1, ETH_BTC_2022_Total_Market_VWAP_1 = analysis(df_trades_eth_btc_2022, 1, 0.04, False,'2022-01-29 21:02:56.287757')"
   ]
  },
  {
   "cell_type": "code",
   "execution_count": 1028,
   "id": "62ff8540",
   "metadata": {},
   "outputs": [
    {
     "data": {
      "text/html": [
       "<div>\n",
       "<style scoped>\n",
       "    .dataframe tbody tr th:only-of-type {\n",
       "        vertical-align: middle;\n",
       "    }\n",
       "\n",
       "    .dataframe tbody tr th {\n",
       "        vertical-align: top;\n",
       "    }\n",
       "\n",
       "    .dataframe thead th {\n",
       "        text-align: right;\n",
       "    }\n",
       "</style>\n",
       "<table border=\"1\" class=\"dataframe\">\n",
       "  <thead>\n",
       "    <tr style=\"text-align: right;\">\n",
       "      <th></th>\n",
       "      <th>VWAP_buy</th>\n",
       "      <th>transcation_fees_buy</th>\n",
       "      <th>time_buy</th>\n",
       "      <th>trading_cost_proportion_buy</th>\n",
       "      <th>accumulated_price_proportion_buy</th>\n",
       "      <th>accumulated_quantity_proportion_buy</th>\n",
       "      <th>deviation_buy</th>\n",
       "      <th>trade_completeness_buy</th>\n",
       "    </tr>\n",
       "  </thead>\n",
       "  <tbody>\n",
       "    <tr>\n",
       "      <th>analysis_buy</th>\n",
       "      <td>0.006802</td>\n",
       "      <td>0.000007</td>\n",
       "      <td>0 days 00:14:30.223802112</td>\n",
       "      <td>0.000007</td>\n",
       "      <td>0.666313</td>\n",
       "      <td>0.169263</td>\n",
       "      <td>-0.830737</td>\n",
       "      <td>Not Completed</td>\n",
       "    </tr>\n",
       "  </tbody>\n",
       "</table>\n",
       "</div>"
      ],
      "text/plain": [
       "              VWAP_buy transcation_fees_buy                  time_buy  \\\n",
       "analysis_buy  0.006802             0.000007 0 days 00:14:30.223802112   \n",
       "\n",
       "             trading_cost_proportion_buy accumulated_price_proportion_buy  \\\n",
       "analysis_buy                    0.000007                         0.666313   \n",
       "\n",
       "             accumulated_quantity_proportion_buy deviation_buy  \\\n",
       "analysis_buy                            0.169263     -0.830737   \n",
       "\n",
       "             trade_completeness_buy  \n",
       "analysis_buy          Not Completed  "
      ]
     },
     "execution_count": 1028,
     "metadata": {},
     "output_type": "execute_result"
    }
   ],
   "source": [
    "ETH_BTC_2022_buy_analysis_1.transpose()"
   ]
  },
  {
   "cell_type": "code",
   "execution_count": 1029,
   "id": "bfd9c808",
   "metadata": {},
   "outputs": [
    {
     "data": {
      "text/html": [
       "<div>\n",
       "<style scoped>\n",
       "    .dataframe tbody tr th:only-of-type {\n",
       "        vertical-align: middle;\n",
       "    }\n",
       "\n",
       "    .dataframe tbody tr th {\n",
       "        vertical-align: top;\n",
       "    }\n",
       "\n",
       "    .dataframe thead th {\n",
       "        text-align: right;\n",
       "    }\n",
       "</style>\n",
       "<table border=\"1\" class=\"dataframe\">\n",
       "  <thead>\n",
       "    <tr style=\"text-align: right;\">\n",
       "      <th></th>\n",
       "      <th>VWAP_sell</th>\n",
       "      <th>transcation_fees_sell</th>\n",
       "      <th>time_sell</th>\n",
       "      <th>trading_cost_proportion_sell</th>\n",
       "      <th>accumulated_price_proportion_sell</th>\n",
       "      <th>accumulated_quantity_proportion_sell</th>\n",
       "      <th>deviation_sell</th>\n",
       "      <th>trade_completeness_sell</th>\n",
       "    </tr>\n",
       "  </thead>\n",
       "  <tbody>\n",
       "    <tr>\n",
       "      <th>analysis_sell</th>\n",
       "      <td>0.006802</td>\n",
       "      <td>0.000007</td>\n",
       "      <td>0 days 00:14:48.248817920</td>\n",
       "      <td>0.000009</td>\n",
       "      <td>0.669836</td>\n",
       "      <td>0.256563</td>\n",
       "      <td>-0.743437</td>\n",
       "      <td>Not Completed</td>\n",
       "    </tr>\n",
       "  </tbody>\n",
       "</table>\n",
       "</div>"
      ],
      "text/plain": [
       "              VWAP_sell transcation_fees_sell                 time_sell  \\\n",
       "analysis_sell  0.006802              0.000007 0 days 00:14:48.248817920   \n",
       "\n",
       "              trading_cost_proportion_sell accumulated_price_proportion_sell  \\\n",
       "analysis_sell                     0.000009                          0.669836   \n",
       "\n",
       "              accumulated_quantity_proportion_sell deviation_sell  \\\n",
       "analysis_sell                             0.256563      -0.743437   \n",
       "\n",
       "              trade_completeness_sell  \n",
       "analysis_sell           Not Completed  "
      ]
     },
     "execution_count": 1029,
     "metadata": {},
     "output_type": "execute_result"
    }
   ],
   "source": [
    "ETH_BTC_2022_sell_analysis_1.transpose()"
   ]
  },
  {
   "cell_type": "code",
   "execution_count": 1030,
   "id": "a2a7f816",
   "metadata": {},
   "outputs": [
    {
     "data": {
      "text/plain": [
       "0.007107147751023118"
      ]
     },
     "execution_count": 1030,
     "metadata": {},
     "output_type": "execute_result"
    }
   ],
   "source": [
    "ETH_BTC_2022_Total_Market_VWAP_1"
   ]
  },
  {
   "cell_type": "code",
   "execution_count": null,
   "id": "855bb035",
   "metadata": {},
   "outputs": [],
   "source": []
  },
  {
   "cell_type": "markdown",
   "id": "ba3d6c58",
   "metadata": {},
   "source": [
    "# ETH_BTC_2023 Data"
   ]
  },
  {
   "cell_type": "code",
   "execution_count": 1031,
   "id": "2af5a785",
   "metadata": {},
   "outputs": [
    {
     "name": "stderr",
     "output_type": "stream",
     "text": [
      "C:\\Users\\Krishna Diggavi\\AppData\\Local\\Temp\\ipykernel_14180\\97513812.py:90: RuntimeWarning: divide by zero encountered in double_scalars\n",
      "  accumulated_price_proportion_buy = accumulated_price_buy_average/arrival_price\n"
     ]
    }
   ],
   "source": [
    "ETH_BTC_2023_buy_data_1, ETH_BTC_2023_sell_data_1, ETH_BTC_2023_buy_analysis_1,ETH_BTC_2023_sell_analysis_1, ETH_BTC_2023_Total_Market_VWAP_1 = analysis(df_trades_eth_btc_2023, 1, 0.04, False,'2023-01-24 00:49:06.020758')\n"
   ]
  },
  {
   "cell_type": "code",
   "execution_count": 1032,
   "id": "eb208e05",
   "metadata": {},
   "outputs": [
    {
     "data": {
      "text/html": [
       "<div>\n",
       "<style scoped>\n",
       "    .dataframe tbody tr th:only-of-type {\n",
       "        vertical-align: middle;\n",
       "    }\n",
       "\n",
       "    .dataframe tbody tr th {\n",
       "        vertical-align: top;\n",
       "    }\n",
       "\n",
       "    .dataframe thead th {\n",
       "        text-align: right;\n",
       "    }\n",
       "</style>\n",
       "<table border=\"1\" class=\"dataframe\">\n",
       "  <thead>\n",
       "    <tr style=\"text-align: right;\">\n",
       "      <th></th>\n",
       "      <th>VWAP_buy</th>\n",
       "      <th>transcation_fees_buy</th>\n",
       "      <th>time_buy</th>\n",
       "      <th>trading_cost_proportion_buy</th>\n",
       "      <th>accumulated_price_proportion_buy</th>\n",
       "      <th>accumulated_quantity_proportion_buy</th>\n",
       "      <th>deviation_buy</th>\n",
       "      <th>trade_completeness_buy</th>\n",
       "    </tr>\n",
       "  </thead>\n",
       "  <tbody>\n",
       "    <tr>\n",
       "      <th>analysis_buy</th>\n",
       "      <td>0.007096</td>\n",
       "      <td>0.000007</td>\n",
       "      <td>0 days 00:14:20.346688</td>\n",
       "      <td>0.000125</td>\n",
       "      <td>inf</td>\n",
       "      <td>0.031526</td>\n",
       "      <td>-0.968474</td>\n",
       "      <td>Not Completed</td>\n",
       "    </tr>\n",
       "  </tbody>\n",
       "</table>\n",
       "</div>"
      ],
      "text/plain": [
       "              VWAP_buy transcation_fees_buy               time_buy  \\\n",
       "analysis_buy  0.007096             0.000007 0 days 00:14:20.346688   \n",
       "\n",
       "             trading_cost_proportion_buy accumulated_price_proportion_buy  \\\n",
       "analysis_buy                    0.000125                              inf   \n",
       "\n",
       "             accumulated_quantity_proportion_buy deviation_buy  \\\n",
       "analysis_buy                            0.031526     -0.968474   \n",
       "\n",
       "             trade_completeness_buy  \n",
       "analysis_buy          Not Completed  "
      ]
     },
     "execution_count": 1032,
     "metadata": {},
     "output_type": "execute_result"
    }
   ],
   "source": [
    "ETH_BTC_2023_buy_analysis_1.transpose()"
   ]
  },
  {
   "cell_type": "code",
   "execution_count": 1033,
   "id": "7f543ce2",
   "metadata": {},
   "outputs": [
    {
     "data": {
      "text/html": [
       "<div>\n",
       "<style scoped>\n",
       "    .dataframe tbody tr th:only-of-type {\n",
       "        vertical-align: middle;\n",
       "    }\n",
       "\n",
       "    .dataframe tbody tr th {\n",
       "        vertical-align: top;\n",
       "    }\n",
       "\n",
       "    .dataframe thead th {\n",
       "        text-align: right;\n",
       "    }\n",
       "</style>\n",
       "<table border=\"1\" class=\"dataframe\">\n",
       "  <thead>\n",
       "    <tr style=\"text-align: right;\">\n",
       "      <th></th>\n",
       "      <th>VWAP_sell</th>\n",
       "      <th>transcation_fees_sell</th>\n",
       "      <th>time_sell</th>\n",
       "      <th>trading_cost_proportion_sell</th>\n",
       "      <th>accumulated_price_proportion_sell</th>\n",
       "      <th>accumulated_quantity_proportion_sell</th>\n",
       "      <th>deviation_sell</th>\n",
       "      <th>trade_completeness_sell</th>\n",
       "    </tr>\n",
       "  </thead>\n",
       "  <tbody>\n",
       "    <tr>\n",
       "      <th>analysis_sell</th>\n",
       "      <td>0.007097</td>\n",
       "      <td>0.000007</td>\n",
       "      <td>0 days 00:13:11.448425216</td>\n",
       "      <td>0.0002</td>\n",
       "      <td>0.833474</td>\n",
       "      <td>0.001124</td>\n",
       "      <td>-0.998876</td>\n",
       "      <td>Not Completed</td>\n",
       "    </tr>\n",
       "  </tbody>\n",
       "</table>\n",
       "</div>"
      ],
      "text/plain": [
       "              VWAP_sell transcation_fees_sell                 time_sell  \\\n",
       "analysis_sell  0.007097              0.000007 0 days 00:13:11.448425216   \n",
       "\n",
       "              trading_cost_proportion_sell accumulated_price_proportion_sell  \\\n",
       "analysis_sell                       0.0002                          0.833474   \n",
       "\n",
       "              accumulated_quantity_proportion_sell deviation_sell  \\\n",
       "analysis_sell                             0.001124      -0.998876   \n",
       "\n",
       "              trade_completeness_sell  \n",
       "analysis_sell           Not Completed  "
      ]
     },
     "execution_count": 1033,
     "metadata": {},
     "output_type": "execute_result"
    }
   ],
   "source": [
    "ETH_BTC_2023_sell_analysis_1.transpose()"
   ]
  },
  {
   "cell_type": "code",
   "execution_count": 1034,
   "id": "c1a7687a",
   "metadata": {},
   "outputs": [
    {
     "data": {
      "text/plain": [
       "0.006971473762602729"
      ]
     },
     "execution_count": 1034,
     "metadata": {},
     "output_type": "execute_result"
    }
   ],
   "source": [
    "ETH_BTC_2023_Total_Market_VWAP_1"
   ]
  },
  {
   "cell_type": "markdown",
   "id": "c366ba45",
   "metadata": {},
   "source": [
    "### VWAP Analysis for ETH_BTC"
   ]
  },
  {
   "cell_type": "code",
   "execution_count": 1035,
   "id": "81814111",
   "metadata": {},
   "outputs": [
    {
     "data": {
      "text/plain": [
       "Text(0.5, 1.0, 'VWAP Values for selling ETH_BTC over 2021, 2022, 2023')"
      ]
     },
     "execution_count": 1035,
     "metadata": {},
     "output_type": "execute_result"
    },
    {
     "data": {
      "image/png": "[encoded data removed]",
      "text/plain": [
       "<Figure size 864x360 with 2 Axes>"
      ]
     },
     "metadata": {
      "needs_background": "light"
     },
     "output_type": "display_data"
    }
   ],
   "source": [
    "years = ['2021', '2022', '2023']\n",
    "vwap_buy_data_1 = [ETH_BTC_2021_buy_analysis_1.loc['VWAP_buy'][0], ETH_BTC_2022_buy_analysis_1.loc['VWAP_buy'][0], ETH_BTC_2023_buy_analysis_1.loc['VWAP_buy'][0]]\n",
    "vwap_sell_data_1 = [ETH_BTC_2021_sell_analysis_1.loc['VWAP_sell'][0], ETH_BTC_2022_sell_analysis_1.loc['VWAP_sell'][0],ETH_BTC_2023_sell_analysis_1.loc['VWAP_sell'][0] ]\n",
    "\n",
    "fig, (ax1, ax2) = plt.subplots(1, 2, figsize=(12, 5))\n",
    "\n",
    "rects = ax1.bar(range(len(vwap_buy_data_1)), vwap_buy_data_1, color=['yellow', 'green', 'm'])\n",
    "ax1.set_xticks(range(len(vwap_buy_data_1)))\n",
    "ax1.xaxis.set_ticklabels(['ETH_BTC_' + year for year in years])\n",
    "ax1.set_ylabel('VWAP')\n",
    "ax1.set_title('VWAP Values for buying ETH_BTC over 2021, 2022, 2023')\n",
    "\n",
    "ax2.bar(range(len(vwap_sell_data_1)), vwap_sell_data_1, color=['yellow', 'green', 'm'])\n",
    "ax2.set_xticks(range(len(vwap_sell_data_1)))\n",
    "ax2.xaxis.set_ticklabels(['ETH_BTC_' + year for year in years])\n",
    "ax2.set_ylabel('VWAP')\n",
    "ax2.set_title('VWAP Values for selling ETH_BTC over 2021, 2022, 2023')"
   ]
  },
  {
   "cell_type": "markdown",
   "id": "e7d9fa93",
   "metadata": {},
   "source": [
    "### Observation:<br>\n",
    "\n",
    "- For both Buy and Sell, VWAP for 2023 is greater than 2022 followed by 2021 .<br><br>"
   ]
  },
  {
   "cell_type": "markdown",
   "id": "5e242fa5",
   "metadata": {},
   "source": [
    "### Time taken Analysis for ETH_BTC"
   ]
  },
  {
   "cell_type": "code",
   "execution_count": 1077,
   "id": "bf5a3639",
   "metadata": {},
   "outputs": [
    {
     "data": {
      "text/plain": [
       "Text(0.5, 1.0, 'Time taken for selling ETH_BTC over 2021, 2022, 2023')"
      ]
     },
     "execution_count": 1077,
     "metadata": {},
     "output_type": "execute_result"
    },
    {
     "data": {
      "image/png": "[encoded data removed]",
      "text/plain": [
       "<Figure size 1944x576 with 2 Axes>"
      ]
     },
     "metadata": {
      "needs_background": "light"
     },
     "output_type": "display_data"
    }
   ],
   "source": [
    "years = ['0','2023', '2022', '2021']\n",
    "time_buy_data_1 = [str(0),str(ETH_BTC_2023_buy_analysis_1.loc['time_buy'][0]), str(ETH_BTC_2022_buy_analysis_1.loc['time_buy'][0]), str(ETH_BTC_2021_buy_analysis_1.loc['time_buy'][0])]\n",
    "time_sell_data_1 = [str(0),str(ETH_BTC_2023_sell_analysis_1.loc['time_sell'][0]), str(ETH_BTC_2022_sell_analysis_1.loc['time_sell'][0]),str(ETH_BTC_2021_sell_analysis_1.loc['time_sell'][0])]\n",
    "\n",
    "fig, (ax1, ax2) = plt.subplots(1, 2, figsize=(27, 8))\n",
    "\n",
    "rects = ax1.bar(range(len(time_buy_data_1)), time_buy_data_1, color=['yellow', 'green', 'm'])\n",
    "ax1.set_xticks(range(len(time_buy_data_1)))\n",
    "ax1.xaxis.set_ticklabels(['ETH_BTC_' + year for year in years])\n",
    "ax1.set_ylabel('Time Taken')\n",
    "ax1.set_title('Time taken for buying ETH_BTC over 2021, 2022, 2023')\n",
    "\n",
    "ax2.bar(range(len(time_sell_data_1)), time_sell_data_1, color=['yellow', 'green', 'm'])\n",
    "ax2.set_xticks(range(len(time_sell_data_1)))\n",
    "ax2.xaxis.set_ticklabels(['ETH_BTC_' + year for year in years])\n",
    "ax2.set_ylabel('Time Taken')\n",
    "ax2.set_title('Time taken for selling ETH_BTC over 2021, 2022, 2023')"
   ]
  },
  {
   "cell_type": "markdown",
   "id": "861d2667",
   "metadata": {},
   "source": [
    "### Observation:<br>\n",
    "- Buy: \n",
    "    If we compare buying the same quantity of 1, it took longer time (14:45) in 2021 followed by 2022 and then 2023.<br><br>\n",
    "- Sell: \n",
    "    If we compare selling the same quantity of 1, it took longer time (14:59 ) in 2021 followed by 2022 and then 2023.<br><br>"
   ]
  },
  {
   "cell_type": "markdown",
   "id": "239a74f4",
   "metadata": {},
   "source": [
    "### Trading Cost Proportion for ETH_BTC"
   ]
  },
  {
   "cell_type": "code",
   "execution_count": 1037,
   "id": "71f7824f",
   "metadata": {},
   "outputs": [
    {
     "data": {
      "text/plain": [
       "Text(0.5, 1.0, 'Trading Cost Proportion for selling ETH_BTC over 2021, 2022, 2023')"
      ]
     },
     "execution_count": 1037,
     "metadata": {},
     "output_type": "execute_result"
    },
    {
     "data": {
      "image/png": "[encoded data removed]",
      "text/plain": [
       "<Figure size 1440x360 with 2 Axes>"
      ]
     },
     "metadata": {
      "needs_background": "light"
     },
     "output_type": "display_data"
    }
   ],
   "source": [
    "years = ['2021', '2022', '2023']\n",
    "trading_cost_buy_data_1 = [ETH_BTC_2021_buy_analysis_1.loc['trading_cost_proportion_buy'][0], ETH_BTC_2022_buy_analysis_1.loc['trading_cost_proportion_buy'][0], ETH_BTC_2023_buy_analysis_1.loc['trading_cost_proportion_buy'][0]]\n",
    "trading_cost_sell_data_1 = [ETH_BTC_2021_sell_analysis_1.loc['trading_cost_proportion_sell'][0], ETH_BTC_2022_sell_analysis_1.loc['trading_cost_proportion_sell'][0],ETH_BTC_2023_sell_analysis_1.loc['trading_cost_proportion_sell'][0]]\n",
    "\n",
    "fig, (ax1, ax2) = plt.subplots(1, 2, figsize=(20, 5))\n",
    "\n",
    "rects = ax1.bar(range(len(trading_cost_buy_data_1)), trading_cost_buy_data_1, color=['yellow', 'green', 'm'])\n",
    "ax1.set_xticks(range(len(trading_cost_buy_data_1)))\n",
    "ax1.xaxis.set_ticklabels(['ETH_BTC_' + year for year in years])\n",
    "ax1.set_ylabel('Trading Cost Buy Proportion ')\n",
    "ax1.set_title('Trading Cost Proportion buying ETH_BTC over 2021, 2022, 2023')\n",
    "\n",
    "ax2.bar(range(len(trading_cost_sell_data_1)), trading_cost_sell_data_1, color=['yellow', 'green', 'm'])\n",
    "ax2.set_xticks(range(len(trading_cost_sell_data_1)))\n",
    "ax2.xaxis.set_ticklabels(['ETH_BTC_' + year for year in years])\n",
    "ax2.set_ylabel('Trading Cost Sell Proportion')\n",
    "ax2.set_title('Trading Cost Proportion for selling ETH_BTC over 2021, 2022, 2023')"
   ]
  },
  {
   "cell_type": "markdown",
   "id": "0b047c3e",
   "metadata": {},
   "source": [
    "### Observation:<br>\n",
    "- Buy: \n",
    "    If we compare Trading costs as a proportional of Notional, the order is 2023 followed by 2022 and then 2021.<br><br>\n",
    "- Sell: \n",
    "    If we compare Trading costs as a proportional of Notional, the order is 2023 followed by 2021 and then 2022.<br><br>\n"
   ]
  },
  {
   "cell_type": "markdown",
   "id": "be77cd9a",
   "metadata": {},
   "source": [
    "### Market VWAP for ETH_BTC"
   ]
  },
  {
   "cell_type": "code",
   "execution_count": 1038,
   "id": "d991ace4",
   "metadata": {},
   "outputs": [
    {
     "data": {
      "text/plain": [
       "Text(0.5, 1.0, 'Market VWAP for ETH_BTC over 2021, 2022, 2023')"
      ]
     },
     "execution_count": 1038,
     "metadata": {},
     "output_type": "execute_result"
    },
    {
     "data": {
      "image/png": "[encoded data removed]",
      "text/plain": [
       "<Figure size 864x360 with 1 Axes>"
      ]
     },
     "metadata": {
      "needs_background": "light"
     },
     "output_type": "display_data"
    }
   ],
   "source": [
    "years = ['2021', '2022', '2023']\n",
    "market_vwap_data_1 = [ETH_BTC_2021_Total_Market_VWAP_1, ETH_BTC_2022_Total_Market_VWAP_1, ETH_BTC_2023_Total_Market_VWAP_1]\n",
    "\n",
    "fig, (ax1) = plt.subplots(1, 1, figsize=(12, 5))\n",
    "\n",
    "rects = ax1.bar(range(len(market_vwap_data_1)), market_vwap_data_1, color=['yellow', 'green', 'm'])\n",
    "ax1.set_xticks(range(len(market_vwap_data_1)))\n",
    "ax1.xaxis.set_ticklabels(['ETH_BTC_' + year for year in years])\n",
    "ax1.set_ylabel('Market VWAP ')\n",
    "ax1.set_title('Market VWAP for ETH_BTC over 2021, 2022, 2023')\n"
   ]
  },
  {
   "cell_type": "markdown",
   "id": "b5cbb1b1",
   "metadata": {},
   "source": [
    "### Observation:<br>\n",
    "- If we compare Market VWAP, the order is 2022 followed by 2023 and then 2021.<br><br>\n"
   ]
  },
  {
   "cell_type": "markdown",
   "id": "a027faef",
   "metadata": {},
   "source": [
    "# BTC_USD_2021 Data"
   ]
  },
  {
   "cell_type": "code",
   "execution_count": 1039,
   "id": "74ac7ce8",
   "metadata": {},
   "outputs": [
    {
     "name": "stderr",
     "output_type": "stream",
     "text": [
      "C:\\Users\\Krishna Diggavi\\AppData\\Local\\Temp\\ipykernel_14180\\97513812.py:90: RuntimeWarning: divide by zero encountered in double_scalars\n",
      "  accumulated_price_proportion_buy = accumulated_price_buy_average/arrival_price\n"
     ]
    }
   ],
   "source": [
    "BTC_USD_2021_buy_data_1, BTC_USD_2021_sell_data_1, BTC_USD_2021_buy_analysis_1,BTC_USD_2021_sell_analysis_1, BTC_USD_2021_Total_Market_VWAP_1 = analysis(df_trades_btc_usd_2021, 1, 0.04, True,\n",
    "'2021-04-10 21:28:52.515484')"
   ]
  },
  {
   "cell_type": "code",
   "execution_count": 1040,
   "id": "61573502",
   "metadata": {},
   "outputs": [
    {
     "data": {
      "text/html": [
       "<div>\n",
       "<style scoped>\n",
       "    .dataframe tbody tr th:only-of-type {\n",
       "        vertical-align: middle;\n",
       "    }\n",
       "\n",
       "    .dataframe tbody tr th {\n",
       "        vertical-align: top;\n",
       "    }\n",
       "\n",
       "    .dataframe thead th {\n",
       "        text-align: right;\n",
       "    }\n",
       "</style>\n",
       "<table border=\"1\" class=\"dataframe\">\n",
       "  <thead>\n",
       "    <tr style=\"text-align: right;\">\n",
       "      <th></th>\n",
       "      <th>VWAP_buy</th>\n",
       "      <th>transcation_fees_buy</th>\n",
       "      <th>time_buy</th>\n",
       "      <th>trading_cost_proportion_buy</th>\n",
       "      <th>accumulated_price_proportion_buy</th>\n",
       "      <th>accumulated_quantity_proportion_buy</th>\n",
       "      <th>deviation_buy</th>\n",
       "      <th>trade_completeness_buy</th>\n",
       "    </tr>\n",
       "  </thead>\n",
       "  <tbody>\n",
       "    <tr>\n",
       "      <th>analysis_buy</th>\n",
       "      <td>5912.076539</td>\n",
       "      <td>5.912077</td>\n",
       "      <td>0 days 00:14:58.903394048</td>\n",
       "      <td>0.000001</td>\n",
       "      <td>inf</td>\n",
       "      <td>0.072074</td>\n",
       "      <td>-0.927926</td>\n",
       "      <td>Not Completed</td>\n",
       "    </tr>\n",
       "  </tbody>\n",
       "</table>\n",
       "</div>"
      ],
      "text/plain": [
       "                 VWAP_buy transcation_fees_buy                  time_buy  \\\n",
       "analysis_buy  5912.076539             5.912077 0 days 00:14:58.903394048   \n",
       "\n",
       "             trading_cost_proportion_buy accumulated_price_proportion_buy  \\\n",
       "analysis_buy                    0.000001                              inf   \n",
       "\n",
       "             accumulated_quantity_proportion_buy deviation_buy  \\\n",
       "analysis_buy                            0.072074     -0.927926   \n",
       "\n",
       "             trade_completeness_buy  \n",
       "analysis_buy          Not Completed  "
      ]
     },
     "execution_count": 1040,
     "metadata": {},
     "output_type": "execute_result"
    }
   ],
   "source": [
    "BTC_USD_2021_buy_analysis_1.transpose()"
   ]
  },
  {
   "cell_type": "code",
   "execution_count": 1041,
   "id": "51e2f7cf",
   "metadata": {},
   "outputs": [
    {
     "data": {
      "text/html": [
       "<div>\n",
       "<style scoped>\n",
       "    .dataframe tbody tr th:only-of-type {\n",
       "        vertical-align: middle;\n",
       "    }\n",
       "\n",
       "    .dataframe tbody tr th {\n",
       "        vertical-align: top;\n",
       "    }\n",
       "\n",
       "    .dataframe thead th {\n",
       "        text-align: right;\n",
       "    }\n",
       "</style>\n",
       "<table border=\"1\" class=\"dataframe\">\n",
       "  <thead>\n",
       "    <tr style=\"text-align: right;\">\n",
       "      <th></th>\n",
       "      <th>VWAP_sell</th>\n",
       "      <th>transcation_fees_sell</th>\n",
       "      <th>time_sell</th>\n",
       "      <th>trading_cost_proportion_sell</th>\n",
       "      <th>accumulated_price_proportion_sell</th>\n",
       "      <th>accumulated_quantity_proportion_sell</th>\n",
       "      <th>deviation_sell</th>\n",
       "      <th>trade_completeness_sell</th>\n",
       "    </tr>\n",
       "  </thead>\n",
       "  <tbody>\n",
       "    <tr>\n",
       "      <th>analysis_sell</th>\n",
       "      <td>5910.724406</td>\n",
       "      <td>5.910724</td>\n",
       "      <td>0 days 00:14:59.291906048</td>\n",
       "      <td>0.000002</td>\n",
       "      <td>0.634073</td>\n",
       "      <td>0.062265</td>\n",
       "      <td>-0.937735</td>\n",
       "      <td>Not Completed</td>\n",
       "    </tr>\n",
       "  </tbody>\n",
       "</table>\n",
       "</div>"
      ],
      "text/plain": [
       "                 VWAP_sell transcation_fees_sell                 time_sell  \\\n",
       "analysis_sell  5910.724406              5.910724 0 days 00:14:59.291906048   \n",
       "\n",
       "              trading_cost_proportion_sell accumulated_price_proportion_sell  \\\n",
       "analysis_sell                     0.000002                          0.634073   \n",
       "\n",
       "              accumulated_quantity_proportion_sell deviation_sell  \\\n",
       "analysis_sell                             0.062265      -0.937735   \n",
       "\n",
       "              trade_completeness_sell  \n",
       "analysis_sell           Not Completed  "
      ]
     },
     "execution_count": 1041,
     "metadata": {},
     "output_type": "execute_result"
    }
   ],
   "source": [
    "BTC_USD_2021_sell_analysis_1.transpose()"
   ]
  },
  {
   "cell_type": "code",
   "execution_count": 1042,
   "id": "c7e205f4",
   "metadata": {},
   "outputs": [
    {
     "data": {
      "text/plain": [
       "5602.525039036388"
      ]
     },
     "execution_count": 1042,
     "metadata": {},
     "output_type": "execute_result"
    }
   ],
   "source": [
    "BTC_USD_2021_Total_Market_VWAP_1"
   ]
  },
  {
   "cell_type": "code",
   "execution_count": null,
   "id": "4b510ad0",
   "metadata": {},
   "outputs": [],
   "source": []
  },
  {
   "cell_type": "markdown",
   "id": "e3c93696",
   "metadata": {},
   "source": [
    "# BTC_USD_2022 Data"
   ]
  },
  {
   "cell_type": "code",
   "execution_count": 1043,
   "id": "104fbc96",
   "metadata": {},
   "outputs": [
    {
     "name": "stderr",
     "output_type": "stream",
     "text": [
      "C:\\Users\\Krishna Diggavi\\AppData\\Local\\Temp\\ipykernel_14180\\97513812.py:90: RuntimeWarning: divide by zero encountered in double_scalars\n",
      "  accumulated_price_proportion_buy = accumulated_price_buy_average/arrival_price\n"
     ]
    }
   ],
   "source": [
    "BTC_USD_2022_buy_data_1, BTC_USD_2022_sell_data_1, BTC_USD_2022_buy_analysis_1,BTC_USD_2022_sell_analysis_1, BTC_USD_2022_Total_Market_VWAP_1 = analysis(df_trades_btc_usd_2022, 1, 0.04, True,\n",
    "'2022-01-29 21:02:49.574850')\n"
   ]
  },
  {
   "cell_type": "code",
   "execution_count": 1044,
   "id": "3f71e3a7",
   "metadata": {},
   "outputs": [
    {
     "data": {
      "text/html": [
       "<div>\n",
       "<style scoped>\n",
       "    .dataframe tbody tr th:only-of-type {\n",
       "        vertical-align: middle;\n",
       "    }\n",
       "\n",
       "    .dataframe tbody tr th {\n",
       "        vertical-align: top;\n",
       "    }\n",
       "\n",
       "    .dataframe thead th {\n",
       "        text-align: right;\n",
       "    }\n",
       "</style>\n",
       "<table border=\"1\" class=\"dataframe\">\n",
       "  <thead>\n",
       "    <tr style=\"text-align: right;\">\n",
       "      <th></th>\n",
       "      <th>VWAP_buy</th>\n",
       "      <th>transcation_fees_buy</th>\n",
       "      <th>time_buy</th>\n",
       "      <th>trading_cost_proportion_buy</th>\n",
       "      <th>accumulated_price_proportion_buy</th>\n",
       "      <th>accumulated_quantity_proportion_buy</th>\n",
       "      <th>deviation_buy</th>\n",
       "      <th>trade_completeness_buy</th>\n",
       "    </tr>\n",
       "  </thead>\n",
       "  <tbody>\n",
       "    <tr>\n",
       "      <th>analysis_buy</th>\n",
       "      <td>3858.086445</td>\n",
       "      <td>3.858086</td>\n",
       "      <td>0 days 00:14:59.828355840</td>\n",
       "      <td>0.000001</td>\n",
       "      <td>inf</td>\n",
       "      <td>0.123615</td>\n",
       "      <td>-0.876385</td>\n",
       "      <td>Not Completed</td>\n",
       "    </tr>\n",
       "  </tbody>\n",
       "</table>\n",
       "</div>"
      ],
      "text/plain": [
       "                 VWAP_buy transcation_fees_buy                  time_buy  \\\n",
       "analysis_buy  3858.086445             3.858086 0 days 00:14:59.828355840   \n",
       "\n",
       "             trading_cost_proportion_buy accumulated_price_proportion_buy  \\\n",
       "analysis_buy                    0.000001                              inf   \n",
       "\n",
       "             accumulated_quantity_proportion_buy deviation_buy  \\\n",
       "analysis_buy                            0.123615     -0.876385   \n",
       "\n",
       "             trade_completeness_buy  \n",
       "analysis_buy          Not Completed  "
      ]
     },
     "execution_count": 1044,
     "metadata": {},
     "output_type": "execute_result"
    }
   ],
   "source": [
    "BTC_USD_2022_buy_analysis_1.transpose()"
   ]
  },
  {
   "cell_type": "code",
   "execution_count": 1045,
   "id": "bd71e946",
   "metadata": {},
   "outputs": [
    {
     "data": {
      "text/html": [
       "<div>\n",
       "<style scoped>\n",
       "    .dataframe tbody tr th:only-of-type {\n",
       "        vertical-align: middle;\n",
       "    }\n",
       "\n",
       "    .dataframe tbody tr th {\n",
       "        vertical-align: top;\n",
       "    }\n",
       "\n",
       "    .dataframe thead th {\n",
       "        text-align: right;\n",
       "    }\n",
       "</style>\n",
       "<table border=\"1\" class=\"dataframe\">\n",
       "  <thead>\n",
       "    <tr style=\"text-align: right;\">\n",
       "      <th></th>\n",
       "      <th>VWAP_sell</th>\n",
       "      <th>transcation_fees_sell</th>\n",
       "      <th>time_sell</th>\n",
       "      <th>trading_cost_proportion_sell</th>\n",
       "      <th>accumulated_price_proportion_sell</th>\n",
       "      <th>accumulated_quantity_proportion_sell</th>\n",
       "      <th>deviation_sell</th>\n",
       "      <th>trade_completeness_sell</th>\n",
       "    </tr>\n",
       "  </thead>\n",
       "  <tbody>\n",
       "    <tr>\n",
       "      <th>analysis_sell</th>\n",
       "      <td>3857.616391</td>\n",
       "      <td>3.857616</td>\n",
       "      <td>0 days 00:14:57.412059136</td>\n",
       "      <td>0.000001</td>\n",
       "      <td>0.315133</td>\n",
       "      <td>0.103642</td>\n",
       "      <td>-0.896358</td>\n",
       "      <td>Not Completed</td>\n",
       "    </tr>\n",
       "  </tbody>\n",
       "</table>\n",
       "</div>"
      ],
      "text/plain": [
       "                 VWAP_sell transcation_fees_sell                 time_sell  \\\n",
       "analysis_sell  3857.616391              3.857616 0 days 00:14:57.412059136   \n",
       "\n",
       "              trading_cost_proportion_sell accumulated_price_proportion_sell  \\\n",
       "analysis_sell                     0.000001                          0.315133   \n",
       "\n",
       "              accumulated_quantity_proportion_sell deviation_sell  \\\n",
       "analysis_sell                             0.103642      -0.896358   \n",
       "\n",
       "              trade_completeness_sell  \n",
       "analysis_sell           Not Completed  "
      ]
     },
     "execution_count": 1045,
     "metadata": {},
     "output_type": "execute_result"
    }
   ],
   "source": [
    "BTC_USD_2022_sell_analysis_1.transpose()"
   ]
  },
  {
   "cell_type": "code",
   "execution_count": 1046,
   "id": "5089f8c1",
   "metadata": {},
   "outputs": [
    {
     "data": {
      "text/plain": [
       "3823.619891122875"
      ]
     },
     "execution_count": 1046,
     "metadata": {},
     "output_type": "execute_result"
    }
   ],
   "source": [
    "BTC_USD_2022_Total_Market_VWAP_1"
   ]
  },
  {
   "cell_type": "code",
   "execution_count": null,
   "id": "8d7543c5",
   "metadata": {},
   "outputs": [],
   "source": []
  },
  {
   "cell_type": "markdown",
   "id": "0f7f5ac2",
   "metadata": {},
   "source": [
    "# BTC_USD_2023 Data"
   ]
  },
  {
   "cell_type": "code",
   "execution_count": 1047,
   "id": "12b52c73",
   "metadata": {},
   "outputs": [
    {
     "name": "stderr",
     "output_type": "stream",
     "text": [
      "C:\\Users\\Krishna Diggavi\\AppData\\Local\\Temp\\ipykernel_14180\\97513812.py:90: RuntimeWarning: divide by zero encountered in double_scalars\n",
      "  accumulated_price_proportion_buy = accumulated_price_buy_average/arrival_price\n",
      "C:\\Users\\Krishna Diggavi\\AppData\\Local\\Temp\\ipykernel_14180\\97513812.py:168: RuntimeWarning: divide by zero encountered in double_scalars\n",
      "  accumulated_price_proportion_sell = accumulated_price_sell_average/arrival_price_sell\n"
     ]
    }
   ],
   "source": [
    "BTC_USD_2023_buy_data_1, BTC_USD_2023_sell_data_1, BTC_USD_2023_buy_analysis_1,BTC_USD_2023_sell_analysis_1, BTC_USD_2023_Total_Market_VWAP_1 = analysis(df_trades_btc_usd_2023, 1, 0.04,True,\n",
    "'2023-01-24 00:47:47.874527')\n"
   ]
  },
  {
   "cell_type": "code",
   "execution_count": 1048,
   "id": "02eaaf42",
   "metadata": {},
   "outputs": [
    {
     "data": {
      "text/html": [
       "<div>\n",
       "<style scoped>\n",
       "    .dataframe tbody tr th:only-of-type {\n",
       "        vertical-align: middle;\n",
       "    }\n",
       "\n",
       "    .dataframe tbody tr th {\n",
       "        vertical-align: top;\n",
       "    }\n",
       "\n",
       "    .dataframe thead th {\n",
       "        text-align: right;\n",
       "    }\n",
       "</style>\n",
       "<table border=\"1\" class=\"dataframe\">\n",
       "  <thead>\n",
       "    <tr style=\"text-align: right;\">\n",
       "      <th></th>\n",
       "      <th>VWAP_buy</th>\n",
       "      <th>transcation_fees_buy</th>\n",
       "      <th>time_buy</th>\n",
       "      <th>trading_cost_proportion_buy</th>\n",
       "      <th>accumulated_price_proportion_buy</th>\n",
       "      <th>accumulated_quantity_proportion_buy</th>\n",
       "      <th>deviation_buy</th>\n",
       "      <th>trade_completeness_buy</th>\n",
       "    </tr>\n",
       "  </thead>\n",
       "  <tbody>\n",
       "    <tr>\n",
       "      <th>analysis_buy</th>\n",
       "      <td>2297.850095</td>\n",
       "      <td>2.29785</td>\n",
       "      <td>0 days 00:14:59.045952</td>\n",
       "      <td>0.000001</td>\n",
       "      <td>inf</td>\n",
       "      <td>0.136192</td>\n",
       "      <td>-0.863808</td>\n",
       "      <td>Not Completed</td>\n",
       "    </tr>\n",
       "  </tbody>\n",
       "</table>\n",
       "</div>"
      ],
      "text/plain": [
       "                 VWAP_buy transcation_fees_buy               time_buy  \\\n",
       "analysis_buy  2297.850095              2.29785 0 days 00:14:59.045952   \n",
       "\n",
       "             trading_cost_proportion_buy accumulated_price_proportion_buy  \\\n",
       "analysis_buy                    0.000001                              inf   \n",
       "\n",
       "             accumulated_quantity_proportion_buy deviation_buy  \\\n",
       "analysis_buy                            0.136192     -0.863808   \n",
       "\n",
       "             trade_completeness_buy  \n",
       "analysis_buy          Not Completed  "
      ]
     },
     "execution_count": 1048,
     "metadata": {},
     "output_type": "execute_result"
    }
   ],
   "source": [
    "BTC_USD_2023_buy_analysis_1.transpose()"
   ]
  },
  {
   "cell_type": "code",
   "execution_count": 1049,
   "id": "f5d0b4c5",
   "metadata": {},
   "outputs": [
    {
     "data": {
      "text/html": [
       "<div>\n",
       "<style scoped>\n",
       "    .dataframe tbody tr th:only-of-type {\n",
       "        vertical-align: middle;\n",
       "    }\n",
       "\n",
       "    .dataframe tbody tr th {\n",
       "        vertical-align: top;\n",
       "    }\n",
       "\n",
       "    .dataframe thead th {\n",
       "        text-align: right;\n",
       "    }\n",
       "</style>\n",
       "<table border=\"1\" class=\"dataframe\">\n",
       "  <thead>\n",
       "    <tr style=\"text-align: right;\">\n",
       "      <th></th>\n",
       "      <th>VWAP_sell</th>\n",
       "      <th>transcation_fees_sell</th>\n",
       "      <th>time_sell</th>\n",
       "      <th>trading_cost_proportion_sell</th>\n",
       "      <th>accumulated_price_proportion_sell</th>\n",
       "      <th>accumulated_quantity_proportion_sell</th>\n",
       "      <th>deviation_sell</th>\n",
       "      <th>trade_completeness_sell</th>\n",
       "    </tr>\n",
       "  </thead>\n",
       "  <tbody>\n",
       "    <tr>\n",
       "      <th>analysis_sell</th>\n",
       "      <td>2297.535016</td>\n",
       "      <td>2.297535</td>\n",
       "      <td>0 days 00:14:57.867340032</td>\n",
       "      <td>0.000002</td>\n",
       "      <td>inf</td>\n",
       "      <td>0.131238</td>\n",
       "      <td>-0.868762</td>\n",
       "      <td>Not Completed</td>\n",
       "    </tr>\n",
       "  </tbody>\n",
       "</table>\n",
       "</div>"
      ],
      "text/plain": [
       "                 VWAP_sell transcation_fees_sell                 time_sell  \\\n",
       "analysis_sell  2297.535016              2.297535 0 days 00:14:57.867340032   \n",
       "\n",
       "              trading_cost_proportion_sell accumulated_price_proportion_sell  \\\n",
       "analysis_sell                     0.000002                               inf   \n",
       "\n",
       "              accumulated_quantity_proportion_sell deviation_sell  \\\n",
       "analysis_sell                             0.131238      -0.868762   \n",
       "\n",
       "              trade_completeness_sell  \n",
       "analysis_sell           Not Completed  "
      ]
     },
     "execution_count": 1049,
     "metadata": {},
     "output_type": "execute_result"
    }
   ],
   "source": [
    "BTC_USD_2023_sell_analysis_1.transpose()"
   ]
  },
  {
   "cell_type": "code",
   "execution_count": 1050,
   "id": "bbd03361",
   "metadata": {},
   "outputs": [
    {
     "data": {
      "text/plain": [
       "2283.304847884837"
      ]
     },
     "execution_count": 1050,
     "metadata": {},
     "output_type": "execute_result"
    }
   ],
   "source": [
    "BTC_USD_2023_Total_Market_VWAP_1"
   ]
  },
  {
   "cell_type": "markdown",
   "id": "bf976e8e",
   "metadata": {},
   "source": [
    "### VWAP Analysis for BTC_USD"
   ]
  },
  {
   "cell_type": "code",
   "execution_count": 1051,
   "id": "722e9afa",
   "metadata": {},
   "outputs": [
    {
     "data": {
      "text/plain": [
       "Text(0.5, 1.0, 'VWAP Values for selling BTC_USD over 2021, 2022, 2023')"
      ]
     },
     "execution_count": 1051,
     "metadata": {},
     "output_type": "execute_result"
    },
    {
     "data": {
      "image/png": "[encoded data removed]",
      "text/plain": [
       "<Figure size 864x360 with 2 Axes>"
      ]
     },
     "metadata": {
      "needs_background": "light"
     },
     "output_type": "display_data"
    }
   ],
   "source": [
    "years = ['2021', '2022', '2023']\n",
    "vwap_buy_data_2 = [BTC_USD_2021_buy_analysis_1.loc['VWAP_buy'][0], BTC_USD_2022_buy_analysis_1.loc['VWAP_buy'][0], BTC_USD_2023_buy_analysis_1.loc['VWAP_buy'][0]]\n",
    "vwap_sell_data_2 = [BTC_USD_2021_sell_analysis_1.loc['VWAP_sell'][0], BTC_USD_2022_sell_analysis_1.loc['VWAP_sell'][0],BTC_USD_2023_sell_analysis_1.loc['VWAP_sell'][0] ]\n",
    "\n",
    "fig, (ax1, ax2) = plt.subplots(1, 2, figsize=(12, 5))\n",
    "\n",
    "rects = ax1.bar(range(len(vwap_buy_data_2)), vwap_buy_data_2, color=['yellow', 'green', 'm'])\n",
    "ax1.set_xticks(range(len(vwap_buy_data_2)))\n",
    "ax1.xaxis.set_ticklabels(['BTC_USD' + year for year in years])\n",
    "ax1.set_ylabel('VWAP')\n",
    "ax1.set_title('VWAP Values for buying BTC_USD over 2021, 2022, 2023')\n",
    "\n",
    "ax2.bar(range(len(vwap_sell_data_2)), vwap_sell_data_2, color=['yellow', 'green', 'm'])\n",
    "ax2.set_xticks(range(len(vwap_sell_data_2)))\n",
    "ax2.xaxis.set_ticklabels(['BTC_USD' + year for year in years])\n",
    "ax2.set_ylabel('VWAP')\n",
    "ax2.set_title('VWAP Values for selling BTC_USD over 2021, 2022, 2023')"
   ]
  },
  {
   "cell_type": "markdown",
   "id": "2e202091",
   "metadata": {},
   "source": [
    "### Observation:<br>\n",
    "\n",
    "- For both Buy and Sell, VWAP for 2021 is greater than 2022 followed by 2023 .<br><br>"
   ]
  },
  {
   "cell_type": "markdown",
   "id": "b466f6fe",
   "metadata": {},
   "source": [
    "### Time Taken for BTC_USD"
   ]
  },
  {
   "cell_type": "code",
   "execution_count": 1079,
   "id": "acc131c1",
   "metadata": {},
   "outputs": [
    {
     "data": {
      "text/plain": [
       "Text(0.5, 1.0, 'Time taken for selling BTC_USD over 2021, 2022, 2023')"
      ]
     },
     "execution_count": 1079,
     "metadata": {},
     "output_type": "execute_result"
    },
    {
     "data": {
      "image/png": "[encoded data removed]",
      "text/plain": [
       "<Figure size 1944x576 with 2 Axes>"
      ]
     },
     "metadata": {
      "needs_background": "light"
     },
     "output_type": "display_data"
    }
   ],
   "source": [
    "years = ['0','2021', '2023', '2022']\n",
    "time_buy_data_2 = [str(0), str(BTC_USD_2021_buy_analysis_1.loc['time_buy'][0]), str(BTC_USD_2023_buy_analysis_1.loc['time_buy'][0]), str(BTC_USD_2022_buy_analysis_1.loc['time_buy'][0])]\n",
    "time_sell_data_2 = [str(0), str(BTC_USD_2022_sell_analysis_1.loc['time_sell'][0]), str(BTC_USD_2023_sell_analysis_1.loc['time_sell'][0]), str(BTC_USD_2021_sell_analysis_1.loc['time_sell'][0])]\n",
    "\n",
    "fig, (ax1, ax2) = plt.subplots(1, 2, figsize=(27, 8))\n",
    "\n",
    "rects = ax1.bar(range(len(time_buy_data_2)), time_buy_data_2, color=['yellow', 'green', 'm'])\n",
    "ax1.set_xticks(range(len(time_buy_data_2)))\n",
    "ax1.xaxis.set_ticklabels(['BTC_USD' + year for year in years])\n",
    "ax1.set_ylabel('Time Taken')\n",
    "ax1.set_title('Time Taken for buying BTC_USD over 2021, 2022, 2023')\n",
    "\n",
    "years = ['0','2022', '2023', '2021']\n",
    "ax2.bar(range(len(time_sell_data_2)), time_sell_data_2, color=['yellow', 'green', 'm'])\n",
    "ax2.set_xticks(range(len(time_sell_data_2)))\n",
    "ax2.xaxis.set_ticklabels(['BTC_USD' + year for year in years])\n",
    "ax2.set_ylabel('Time Taken')\n",
    "ax2.set_title('Time taken for selling BTC_USD over 2021, 2022, 2023')"
   ]
  },
  {
   "cell_type": "markdown",
   "id": "7c0848c5",
   "metadata": {},
   "source": [
    "### Observation:<br>\n",
    "- Buy: \n",
    "    If we compare buying the same quantity of 1, it took longer time (14:59) in 2022 followed by 2023 and then 2021.<br><br>\n",
    "- Sell: \n",
    "    If we compare selling the same quantity of 1, it took longer time (14:59) in 2021 followed by 2023 and then 2022.<br><br>"
   ]
  },
  {
   "cell_type": "markdown",
   "id": "0bcd4716",
   "metadata": {},
   "source": [
    "### Trading Cost Proportion for BTC_USD"
   ]
  },
  {
   "cell_type": "code",
   "execution_count": 1053,
   "id": "41b119ba",
   "metadata": {},
   "outputs": [
    {
     "data": {
      "text/plain": [
       "Text(0.5, 1.0, 'Trading Cost Proportion for selling BTC_USD over 2021, 2022, 2023')"
      ]
     },
     "execution_count": 1053,
     "metadata": {},
     "output_type": "execute_result"
    },
    {
     "data": {
      "image/png": "[encoded data removed]",
      "text/plain": [
       "<Figure size 1440x360 with 2 Axes>"
      ]
     },
     "metadata": {
      "needs_background": "light"
     },
     "output_type": "display_data"
    }
   ],
   "source": [
    "years = ['2021', '2022', '2023']\n",
    "trading_cost_buy_data_2 = [BTC_USD_2021_buy_analysis_1.loc['trading_cost_proportion_buy'][0], BTC_USD_2022_buy_analysis_1.loc['trading_cost_proportion_buy'][0], BTC_USD_2023_buy_analysis_1.loc['trading_cost_proportion_buy'][0]]\n",
    "trading_cost_sell_data_2 = [BTC_USD_2021_sell_analysis_1.loc['trading_cost_proportion_sell'][0], BTC_USD_2022_sell_analysis_1.loc['trading_cost_proportion_sell'][0],BTC_USD_2023_sell_analysis_1.loc['trading_cost_proportion_sell'][0] ]\n",
    "\n",
    "fig, (ax1, ax2) = plt.subplots(1, 2, figsize=(20, 5))\n",
    "\n",
    "rects = ax1.bar(range(len(trading_cost_buy_data_2)), trading_cost_buy_data_2, color=['yellow', 'green', 'm'])\n",
    "ax1.set_xticks(range(len(trading_cost_buy_data_2)))\n",
    "ax1.xaxis.set_ticklabels(['BTC_USD' + year for year in years])\n",
    "ax1.set_ylabel('Trading Cost Buy Proportion')\n",
    "ax1.set_title('Trading Cost Proportion for buying BTC_USD over 2021, 2022, 2023')\n",
    "\n",
    "ax2.bar(range(len(trading_cost_sell_data_2)), trading_cost_sell_data_2, color=['yellow', 'green', 'm'])\n",
    "ax2.set_xticks(range(len(trading_cost_sell_data_2)))\n",
    "ax2.xaxis.set_ticklabels(['BTC_USD' + year for year in years])\n",
    "ax2.set_ylabel('Trading Cost Sell Proportion')\n",
    "ax2.set_title('Trading Cost Proportion for selling BTC_USD over 2021, 2022, 2023')"
   ]
  },
  {
   "cell_type": "markdown",
   "id": "689fdaa0",
   "metadata": {},
   "source": [
    "### Observation:<br>\n",
    "- Buy: \n",
    "    If we compare Trading costs as a proportional of Notional, the order is 2021 followed by 2023 and then 2022.<br><br>\n",
    "- Sell: \n",
    "    If we compare Trading costs as a proportional of Notional, the order is 2021 followed by 2023 and then 2022.<br><br>\n"
   ]
  },
  {
   "cell_type": "markdown",
   "id": "0e3cff83",
   "metadata": {},
   "source": [
    "### Market VWAP for BTC_USD"
   ]
  },
  {
   "cell_type": "code",
   "execution_count": 1054,
   "id": "d53e0acf",
   "metadata": {},
   "outputs": [
    {
     "data": {
      "text/plain": [
       "Text(0.5, 1.0, 'Market VWAP for BTC_USD over 2021, 2022, 2023')"
      ]
     },
     "execution_count": 1054,
     "metadata": {},
     "output_type": "execute_result"
    },
    {
     "data": {
      "image/png": "[encoded data removed]",
      "text/plain": [
       "<Figure size 864x360 with 1 Axes>"
      ]
     },
     "metadata": {
      "needs_background": "light"
     },
     "output_type": "display_data"
    }
   ],
   "source": [
    "years = ['2021', '2022', '2023']\n",
    "market_vwap_data_2 = [BTC_USD_2021_Total_Market_VWAP_1, BTC_USD_2022_Total_Market_VWAP_1, BTC_USD_2023_Total_Market_VWAP_1]\n",
    "\n",
    "fig, (ax1) = plt.subplots(1, 1, figsize=(12, 5))\n",
    "\n",
    "rects = ax1.bar(range(len(market_vwap_data_2)), market_vwap_data_2, color=['yellow', 'green', 'm'])\n",
    "ax1.set_xticks(range(len(market_vwap_data_2)))\n",
    "ax1.xaxis.set_ticklabels(['BTC_USD_' + year for year in years])\n",
    "ax1.set_ylabel('Market VWAP ')\n",
    "ax1.set_title('Market VWAP for BTC_USD over 2021, 2022, 2023')\n"
   ]
  },
  {
   "cell_type": "markdown",
   "id": "d4d83d7d",
   "metadata": {},
   "source": [
    "### Observation:<br>\n",
    "- If we compare Market VWAP, the order is 2021 followed by 2022 and then 2023.<br><br>\n"
   ]
  },
  {
   "cell_type": "markdown",
   "id": "1a5acd74",
   "metadata": {},
   "source": [
    "# ETH_USD_2021 Data"
   ]
  },
  {
   "cell_type": "code",
   "execution_count": 1055,
   "id": "6a74137e",
   "metadata": {},
   "outputs": [],
   "source": [
    "ETH_USD_2021_buy_data_1, ETH_USD_2021_sell_data_1, ETH_USD_2021_buy_analysis_1,ETH_USD_2021_sell_analysis_1, ETH_USD_2021_Total_Market_VWAP_1 = analysis(df_trades_eth_usd_2021, 1, 0.04,\n",
    "True, '2021-04-10 21:28:54.547039')\n"
   ]
  },
  {
   "cell_type": "code",
   "execution_count": 1056,
   "id": "41b60ce8",
   "metadata": {},
   "outputs": [
    {
     "data": {
      "text/html": [
       "<div>\n",
       "<style scoped>\n",
       "    .dataframe tbody tr th:only-of-type {\n",
       "        vertical-align: middle;\n",
       "    }\n",
       "\n",
       "    .dataframe tbody tr th {\n",
       "        vertical-align: top;\n",
       "    }\n",
       "\n",
       "    .dataframe thead th {\n",
       "        text-align: right;\n",
       "    }\n",
       "</style>\n",
       "<table border=\"1\" class=\"dataframe\">\n",
       "  <thead>\n",
       "    <tr style=\"text-align: right;\">\n",
       "      <th></th>\n",
       "      <th>VWAP_buy</th>\n",
       "      <th>transcation_fees_buy</th>\n",
       "      <th>time_buy</th>\n",
       "      <th>trading_cost_proportion_buy</th>\n",
       "      <th>accumulated_price_proportion_buy</th>\n",
       "      <th>accumulated_quantity_proportion_buy</th>\n",
       "      <th>deviation_buy</th>\n",
       "      <th>trade_completeness_buy</th>\n",
       "    </tr>\n",
       "  </thead>\n",
       "  <tbody>\n",
       "    <tr>\n",
       "      <th>analysis_buy</th>\n",
       "      <td>210.938324</td>\n",
       "      <td>0.210938</td>\n",
       "      <td>0 days 00:12:21.842235904</td>\n",
       "      <td>0.000001</td>\n",
       "      <td>0.744102</td>\n",
       "      <td>1.008645</td>\n",
       "      <td>0.008645</td>\n",
       "      <td>Completed</td>\n",
       "    </tr>\n",
       "  </tbody>\n",
       "</table>\n",
       "</div>"
      ],
      "text/plain": [
       "                VWAP_buy transcation_fees_buy                  time_buy  \\\n",
       "analysis_buy  210.938324             0.210938 0 days 00:12:21.842235904   \n",
       "\n",
       "             trading_cost_proportion_buy accumulated_price_proportion_buy  \\\n",
       "analysis_buy                    0.000001                         0.744102   \n",
       "\n",
       "             accumulated_quantity_proportion_buy deviation_buy  \\\n",
       "analysis_buy                            1.008645      0.008645   \n",
       "\n",
       "             trade_completeness_buy  \n",
       "analysis_buy              Completed  "
      ]
     },
     "execution_count": 1056,
     "metadata": {},
     "output_type": "execute_result"
    }
   ],
   "source": [
    "ETH_USD_2021_buy_analysis_1.transpose()"
   ]
  },
  {
   "cell_type": "code",
   "execution_count": 1057,
   "id": "da68a0c5",
   "metadata": {},
   "outputs": [
    {
     "data": {
      "text/html": [
       "<div>\n",
       "<style scoped>\n",
       "    .dataframe tbody tr th:only-of-type {\n",
       "        vertical-align: middle;\n",
       "    }\n",
       "\n",
       "    .dataframe tbody tr th {\n",
       "        vertical-align: top;\n",
       "    }\n",
       "\n",
       "    .dataframe thead th {\n",
       "        text-align: right;\n",
       "    }\n",
       "</style>\n",
       "<table border=\"1\" class=\"dataframe\">\n",
       "  <thead>\n",
       "    <tr style=\"text-align: right;\">\n",
       "      <th></th>\n",
       "      <th>VWAP_sell</th>\n",
       "      <th>transcation_fees_sell</th>\n",
       "      <th>time_sell</th>\n",
       "      <th>trading_cost_proportion_sell</th>\n",
       "      <th>accumulated_price_proportion_sell</th>\n",
       "      <th>accumulated_quantity_proportion_sell</th>\n",
       "      <th>deviation_sell</th>\n",
       "      <th>trade_completeness_sell</th>\n",
       "    </tr>\n",
       "  </thead>\n",
       "  <tbody>\n",
       "    <tr>\n",
       "      <th>analysis_sell</th>\n",
       "      <td>211.002523</td>\n",
       "      <td>0.211003</td>\n",
       "      <td>0 days 00:14:54.990672896</td>\n",
       "      <td>0.000003</td>\n",
       "      <td>0.764953</td>\n",
       "      <td>0.396525</td>\n",
       "      <td>-0.603475</td>\n",
       "      <td>Not Completed</td>\n",
       "    </tr>\n",
       "  </tbody>\n",
       "</table>\n",
       "</div>"
      ],
      "text/plain": [
       "                VWAP_sell transcation_fees_sell                 time_sell  \\\n",
       "analysis_sell  211.002523              0.211003 0 days 00:14:54.990672896   \n",
       "\n",
       "              trading_cost_proportion_sell accumulated_price_proportion_sell  \\\n",
       "analysis_sell                     0.000003                          0.764953   \n",
       "\n",
       "              accumulated_quantity_proportion_sell deviation_sell  \\\n",
       "analysis_sell                             0.396525      -0.603475   \n",
       "\n",
       "              trade_completeness_sell  \n",
       "analysis_sell           Not Completed  "
      ]
     },
     "execution_count": 1057,
     "metadata": {},
     "output_type": "execute_result"
    }
   ],
   "source": [
    "ETH_USD_2021_sell_analysis_1.transpose()"
   ]
  },
  {
   "cell_type": "code",
   "execution_count": 1058,
   "id": "d849b848",
   "metadata": {},
   "outputs": [
    {
     "data": {
      "text/plain": [
       "214.25445006885528"
      ]
     },
     "execution_count": 1058,
     "metadata": {},
     "output_type": "execute_result"
    }
   ],
   "source": [
    "ETH_USD_2021_Total_Market_VWAP_1"
   ]
  },
  {
   "cell_type": "code",
   "execution_count": null,
   "id": "4d297af8",
   "metadata": {},
   "outputs": [],
   "source": []
  },
  {
   "cell_type": "markdown",
   "id": "4a2a8126",
   "metadata": {},
   "source": [
    "# ETH_USD_2022 Data"
   ]
  },
  {
   "cell_type": "code",
   "execution_count": 1059,
   "id": "24bff806",
   "metadata": {},
   "outputs": [
    {
     "name": "stderr",
     "output_type": "stream",
     "text": [
      "C:\\Users\\Krishna Diggavi\\AppData\\Local\\Temp\\ipykernel_14180\\97513812.py:90: RuntimeWarning: divide by zero encountered in double_scalars\n",
      "  accumulated_price_proportion_buy = accumulated_price_buy_average/arrival_price\n"
     ]
    }
   ],
   "source": [
    "ETH_USD_2022_buy_data_1, ETH_USD_2022_sell_data_1, ETH_USD_2022_buy_analysis_1,ETH_USD_2022_sell_analysis_1, ETH_USD_2022_Total_Market_VWAP_1 = analysis(df_trades_eth_usd_2022, 1, 0.04,True,\n",
    "'2022-01-29 21:02:52.762420')\n"
   ]
  },
  {
   "cell_type": "code",
   "execution_count": 1060,
   "id": "fbcafdef",
   "metadata": {},
   "outputs": [
    {
     "data": {
      "text/html": [
       "<div>\n",
       "<style scoped>\n",
       "    .dataframe tbody tr th:only-of-type {\n",
       "        vertical-align: middle;\n",
       "    }\n",
       "\n",
       "    .dataframe tbody tr th {\n",
       "        vertical-align: top;\n",
       "    }\n",
       "\n",
       "    .dataframe thead th {\n",
       "        text-align: right;\n",
       "    }\n",
       "</style>\n",
       "<table border=\"1\" class=\"dataframe\">\n",
       "  <thead>\n",
       "    <tr style=\"text-align: right;\">\n",
       "      <th></th>\n",
       "      <th>VWAP_buy</th>\n",
       "      <th>transcation_fees_buy</th>\n",
       "      <th>time_buy</th>\n",
       "      <th>trading_cost_proportion_buy</th>\n",
       "      <th>accumulated_price_proportion_buy</th>\n",
       "      <th>accumulated_quantity_proportion_buy</th>\n",
       "      <th>deviation_buy</th>\n",
       "      <th>trade_completeness_buy</th>\n",
       "    </tr>\n",
       "  </thead>\n",
       "  <tbody>\n",
       "    <tr>\n",
       "      <th>analysis_buy</th>\n",
       "      <td>262.412623</td>\n",
       "      <td>0.262413</td>\n",
       "      <td>0 days 00:04:05.896476928</td>\n",
       "      <td>0.000002</td>\n",
       "      <td>inf</td>\n",
       "      <td>1.041515</td>\n",
       "      <td>0.041515</td>\n",
       "      <td>Completed</td>\n",
       "    </tr>\n",
       "  </tbody>\n",
       "</table>\n",
       "</div>"
      ],
      "text/plain": [
       "                VWAP_buy transcation_fees_buy                  time_buy  \\\n",
       "analysis_buy  262.412623             0.262413 0 days 00:04:05.896476928   \n",
       "\n",
       "             trading_cost_proportion_buy accumulated_price_proportion_buy  \\\n",
       "analysis_buy                    0.000002                              inf   \n",
       "\n",
       "             accumulated_quantity_proportion_buy deviation_buy  \\\n",
       "analysis_buy                            1.041515      0.041515   \n",
       "\n",
       "             trade_completeness_buy  \n",
       "analysis_buy              Completed  "
      ]
     },
     "execution_count": 1060,
     "metadata": {},
     "output_type": "execute_result"
    }
   ],
   "source": [
    "ETH_USD_2022_buy_analysis_1.transpose()"
   ]
  },
  {
   "cell_type": "code",
   "execution_count": 1061,
   "id": "fae4d66c",
   "metadata": {},
   "outputs": [
    {
     "data": {
      "text/html": [
       "<div>\n",
       "<style scoped>\n",
       "    .dataframe tbody tr th:only-of-type {\n",
       "        vertical-align: middle;\n",
       "    }\n",
       "\n",
       "    .dataframe tbody tr th {\n",
       "        vertical-align: top;\n",
       "    }\n",
       "\n",
       "    .dataframe thead th {\n",
       "        text-align: right;\n",
       "    }\n",
       "</style>\n",
       "<table border=\"1\" class=\"dataframe\">\n",
       "  <thead>\n",
       "    <tr style=\"text-align: right;\">\n",
       "      <th></th>\n",
       "      <th>VWAP_sell</th>\n",
       "      <th>transcation_fees_sell</th>\n",
       "      <th>time_sell</th>\n",
       "      <th>trading_cost_proportion_sell</th>\n",
       "      <th>accumulated_price_proportion_sell</th>\n",
       "      <th>accumulated_quantity_proportion_sell</th>\n",
       "      <th>deviation_sell</th>\n",
       "      <th>trade_completeness_sell</th>\n",
       "    </tr>\n",
       "  </thead>\n",
       "  <tbody>\n",
       "    <tr>\n",
       "      <th>analysis_sell</th>\n",
       "      <td>262.282585</td>\n",
       "      <td>0.262283</td>\n",
       "      <td>0 days 00:10:16.646818048</td>\n",
       "      <td>0.000002</td>\n",
       "      <td>0.416867</td>\n",
       "      <td>1.001385</td>\n",
       "      <td>0.001385</td>\n",
       "      <td>Completed</td>\n",
       "    </tr>\n",
       "  </tbody>\n",
       "</table>\n",
       "</div>"
      ],
      "text/plain": [
       "                VWAP_sell transcation_fees_sell                 time_sell  \\\n",
       "analysis_sell  262.282585              0.262283 0 days 00:10:16.646818048   \n",
       "\n",
       "              trading_cost_proportion_sell accumulated_price_proportion_sell  \\\n",
       "analysis_sell                     0.000002                          0.416867   \n",
       "\n",
       "              accumulated_quantity_proportion_sell deviation_sell  \\\n",
       "analysis_sell                             1.001385       0.001385   \n",
       "\n",
       "              trade_completeness_sell  \n",
       "analysis_sell               Completed  "
      ]
     },
     "execution_count": 1061,
     "metadata": {},
     "output_type": "execute_result"
    }
   ],
   "source": [
    "ETH_USD_2022_sell_analysis_1.transpose()"
   ]
  },
  {
   "cell_type": "code",
   "execution_count": 1062,
   "id": "cfca9d63",
   "metadata": {},
   "outputs": [
    {
     "data": {
      "text/plain": [
       "271.70318965407705"
      ]
     },
     "execution_count": 1062,
     "metadata": {},
     "output_type": "execute_result"
    }
   ],
   "source": [
    "ETH_USD_2022_Total_Market_VWAP_1"
   ]
  },
  {
   "cell_type": "code",
   "execution_count": null,
   "id": "71b287a2",
   "metadata": {},
   "outputs": [],
   "source": []
  },
  {
   "cell_type": "markdown",
   "id": "385cee71",
   "metadata": {},
   "source": [
    "# ETH_USD_2023 Data"
   ]
  },
  {
   "cell_type": "code",
   "execution_count": 1065,
   "id": "b778f19b",
   "metadata": {},
   "outputs": [
    {
     "name": "stderr",
     "output_type": "stream",
     "text": [
      "C:\\Users\\Krishna Diggavi\\AppData\\Local\\Temp\\ipykernel_14180\\97513812.py:90: RuntimeWarning: divide by zero encountered in double_scalars\n",
      "  accumulated_price_proportion_buy = accumulated_price_buy_average/arrival_price\n"
     ]
    }
   ],
   "source": [
    "ETH_USD_2023_buy_data_1, ETH_USD_2023_sell_data_1, ETH_USD_2023_buy_analysis_1,ETH_USD_2023_sell_analysis_1, ETH_USD_2023_Total_Market_VWAP_1 = analysis(df_trades_eth_usd_2023, 1, 0.04,True,\n",
    "'2023-01-24 00:47:51.071902')\n"
   ]
  },
  {
   "cell_type": "code",
   "execution_count": 1066,
   "id": "088e4bc1",
   "metadata": {},
   "outputs": [
    {
     "data": {
      "text/html": [
       "<div>\n",
       "<style scoped>\n",
       "    .dataframe tbody tr th:only-of-type {\n",
       "        vertical-align: middle;\n",
       "    }\n",
       "\n",
       "    .dataframe tbody tr th {\n",
       "        vertical-align: top;\n",
       "    }\n",
       "\n",
       "    .dataframe thead th {\n",
       "        text-align: right;\n",
       "    }\n",
       "</style>\n",
       "<table border=\"1\" class=\"dataframe\">\n",
       "  <thead>\n",
       "    <tr style=\"text-align: right;\">\n",
       "      <th></th>\n",
       "      <th>VWAP_buy</th>\n",
       "      <th>transcation_fees_buy</th>\n",
       "      <th>time_buy</th>\n",
       "      <th>trading_cost_proportion_buy</th>\n",
       "      <th>accumulated_price_proportion_buy</th>\n",
       "      <th>accumulated_quantity_proportion_buy</th>\n",
       "      <th>deviation_buy</th>\n",
       "      <th>trade_completeness_buy</th>\n",
       "    </tr>\n",
       "  </thead>\n",
       "  <tbody>\n",
       "    <tr>\n",
       "      <th>analysis_buy</th>\n",
       "      <td>162.965923</td>\n",
       "      <td>0.162966</td>\n",
       "      <td>0 days 00:11:34.428329984</td>\n",
       "      <td>0.000002</td>\n",
       "      <td>inf</td>\n",
       "      <td>1.000105</td>\n",
       "      <td>0.000105</td>\n",
       "      <td>Completed</td>\n",
       "    </tr>\n",
       "  </tbody>\n",
       "</table>\n",
       "</div>"
      ],
      "text/plain": [
       "                VWAP_buy transcation_fees_buy                  time_buy  \\\n",
       "analysis_buy  162.965923             0.162966 0 days 00:11:34.428329984   \n",
       "\n",
       "             trading_cost_proportion_buy accumulated_price_proportion_buy  \\\n",
       "analysis_buy                    0.000002                              inf   \n",
       "\n",
       "             accumulated_quantity_proportion_buy deviation_buy  \\\n",
       "analysis_buy                            1.000105      0.000105   \n",
       "\n",
       "             trade_completeness_buy  \n",
       "analysis_buy              Completed  "
      ]
     },
     "execution_count": 1066,
     "metadata": {},
     "output_type": "execute_result"
    }
   ],
   "source": [
    "ETH_USD_2023_buy_analysis_1.transpose()"
   ]
  },
  {
   "cell_type": "code",
   "execution_count": 1067,
   "id": "1c855fd8",
   "metadata": {},
   "outputs": [
    {
     "data": {
      "text/html": [
       "<div>\n",
       "<style scoped>\n",
       "    .dataframe tbody tr th:only-of-type {\n",
       "        vertical-align: middle;\n",
       "    }\n",
       "\n",
       "    .dataframe tbody tr th {\n",
       "        vertical-align: top;\n",
       "    }\n",
       "\n",
       "    .dataframe thead th {\n",
       "        text-align: right;\n",
       "    }\n",
       "</style>\n",
       "<table border=\"1\" class=\"dataframe\">\n",
       "  <thead>\n",
       "    <tr style=\"text-align: right;\">\n",
       "      <th></th>\n",
       "      <th>VWAP_sell</th>\n",
       "      <th>transcation_fees_sell</th>\n",
       "      <th>time_sell</th>\n",
       "      <th>trading_cost_proportion_sell</th>\n",
       "      <th>accumulated_price_proportion_sell</th>\n",
       "      <th>accumulated_quantity_proportion_sell</th>\n",
       "      <th>deviation_sell</th>\n",
       "      <th>trade_completeness_sell</th>\n",
       "    </tr>\n",
       "  </thead>\n",
       "  <tbody>\n",
       "    <tr>\n",
       "      <th>analysis_sell</th>\n",
       "      <td>162.977294</td>\n",
       "      <td>0.162977</td>\n",
       "      <td>0 days 00:12:15.372220160</td>\n",
       "      <td>0.000001</td>\n",
       "      <td>0.347985</td>\n",
       "      <td>0.893175</td>\n",
       "      <td>-0.106825</td>\n",
       "      <td>Not Completed</td>\n",
       "    </tr>\n",
       "  </tbody>\n",
       "</table>\n",
       "</div>"
      ],
      "text/plain": [
       "                VWAP_sell transcation_fees_sell                 time_sell  \\\n",
       "analysis_sell  162.977294              0.162977 0 days 00:12:15.372220160   \n",
       "\n",
       "              trading_cost_proportion_sell accumulated_price_proportion_sell  \\\n",
       "analysis_sell                     0.000001                          0.347985   \n",
       "\n",
       "              accumulated_quantity_proportion_sell deviation_sell  \\\n",
       "analysis_sell                             0.893175      -0.106825   \n",
       "\n",
       "              trade_completeness_sell  \n",
       "analysis_sell           Not Completed  "
      ]
     },
     "execution_count": 1067,
     "metadata": {},
     "output_type": "execute_result"
    }
   ],
   "source": [
    "ETH_USD_2023_sell_analysis_1.transpose()"
   ]
  },
  {
   "cell_type": "code",
   "execution_count": 1068,
   "id": "bccd4d3d",
   "metadata": {},
   "outputs": [
    {
     "data": {
      "text/plain": [
       "158.38326817861045"
      ]
     },
     "execution_count": 1068,
     "metadata": {},
     "output_type": "execute_result"
    }
   ],
   "source": [
    "ETH_USD_2023_Total_Market_VWAP_1"
   ]
  },
  {
   "cell_type": "markdown",
   "id": "21105406",
   "metadata": {},
   "source": [
    "### VWAP Analysis for ETH_USD"
   ]
  },
  {
   "cell_type": "code",
   "execution_count": 1069,
   "id": "3e1d1466",
   "metadata": {},
   "outputs": [
    {
     "data": {
      "text/plain": [
       "Text(0.5, 1.0, 'VWAP Values for selling ETH_USD over 2021, 2022, 2023')"
      ]
     },
     "execution_count": 1069,
     "metadata": {},
     "output_type": "execute_result"
    },
    {
     "data": {
      "image/png": "[encoded data removed]",
      "text/plain": [
       "<Figure size 864x360 with 2 Axes>"
      ]
     },
     "metadata": {
      "needs_background": "light"
     },
     "output_type": "display_data"
    }
   ],
   "source": [
    "years = ['2021', '2022', '2023']\n",
    "vwap_buy_data_3 = [ETH_USD_2021_buy_analysis_1.loc['VWAP_buy'][0], ETH_USD_2022_buy_analysis_1.loc['VWAP_buy'][0], ETH_USD_2023_buy_analysis_1.loc['VWAP_buy'][0]]\n",
    "vwap_sell_data_3 = [ETH_USD_2021_sell_analysis_1.loc['VWAP_sell'][0], ETH_USD_2022_sell_analysis_1.loc['VWAP_sell'][0],ETH_USD_2023_sell_analysis_1.loc['VWAP_sell'][0] ]\n",
    "\n",
    "fig, (ax1, ax2) = plt.subplots(1, 2, figsize=(12, 5))\n",
    "\n",
    "rects = ax1.bar(range(len(vwap_buy_data_3)), vwap_buy_data_3, color=['yellow', 'green', 'm'])\n",
    "ax1.set_xticks(range(len(vwap_buy_data_3)))\n",
    "ax1.xaxis.set_ticklabels(['ETH_USD_' + year for year in years])\n",
    "ax1.set_ylabel('VWAP')\n",
    "ax1.set_title('VWAP Values for buying ETH_USD over 2021, 2022, 2023')\n",
    "\n",
    "ax2.bar(range(len(vwap_sell_data_3)), vwap_sell_data_3, color=['yellow', 'green', 'm'])\n",
    "ax2.set_xticks(range(len(vwap_sell_data_3)))\n",
    "ax2.xaxis.set_ticklabels(['ETH_USD_' + year for year in years])\n",
    "ax2.set_ylabel('VWAP')\n",
    "ax2.set_title('VWAP Values for selling ETH_USD over 2021, 2022, 2023')"
   ]
  },
  {
   "cell_type": "markdown",
   "id": "e7c038ac",
   "metadata": {},
   "source": [
    "### Observation:<br>\n",
    "\n",
    "- For both Buy and Sell, VWAP for 2022 is greater than 2021 followed by 2023 .<br><br>"
   ]
  },
  {
   "cell_type": "markdown",
   "id": "1a7b0eeb",
   "metadata": {},
   "source": [
    "### Time Taken for ETH_USD"
   ]
  },
  {
   "cell_type": "code",
   "execution_count": 1078,
   "id": "e402fef9",
   "metadata": {},
   "outputs": [
    {
     "data": {
      "text/plain": [
       "Text(0.5, 1.0, 'Time taken for ETH_USD over 2021, 2022, 2023')"
      ]
     },
     "execution_count": 1078,
     "metadata": {},
     "output_type": "execute_result"
    },
    {
     "data": {
      "image/png": "[encoded data removed]",
      "text/plain": [
       "<Figure size 2016x576 with 2 Axes>"
      ]
     },
     "metadata": {
      "needs_background": "light"
     },
     "output_type": "display_data"
    }
   ],
   "source": [
    "years = ['0', '2022', '2023', '2021']\n",
    "time_buy_data_3 = [str(0), str(ETH_USD_2022_buy_analysis_1.loc['time_buy'][0]), str(ETH_USD_2023_buy_analysis_1.loc['time_buy'][0]), str(ETH_USD_2021_buy_analysis_1.loc['time_buy'][0])]\n",
    "time_sell_data_3 = [str(0), str(ETH_USD_2022_sell_analysis_1.loc['time_sell'][0]), str(ETH_USD_2023_sell_analysis_1.loc['time_sell'][0]),str(ETH_USD_2021_sell_analysis_1.loc['time_sell'][0])]\n",
    "\n",
    "fig, (ax1, ax2) = plt.subplots(1, 2, figsize=(28, 8))\n",
    "\n",
    "rects = ax1.bar(range(len(time_buy_data_3)), time_buy_data_3, color=['yellow', 'green', 'm'])\n",
    "ax1.set_xticks(range(len(time_buy_data_3)))\n",
    "ax1.xaxis.set_ticklabels(['ETH_USD_' + year for year in years])\n",
    "ax1.set_ylabel('Time taken')\n",
    "ax1.set_title('Time taken for buying ETH_USD over 2021, 2022, 2023')\n",
    "\n",
    "ax2.bar(range(len(time_sell_data_3)), time_sell_data_3, color=['yellow', 'green', 'm'])\n",
    "ax2.set_xticks(range(len(time_sell_data_3)))\n",
    "ax2.xaxis.set_ticklabels(['ETH_USD_' + year for year in years])\n",
    "ax2.set_ylabel('Time taken')\n",
    "ax2.set_title('Time taken for ETH_USD over 2021, 2022, 2023')"
   ]
  },
  {
   "cell_type": "markdown",
   "id": "85990752",
   "metadata": {},
   "source": [
    "### Observation:<br>\n",
    "- Buy: \n",
    "    If we compare buying the same quantity of 0.1, it took longer time (12 min) in 2021 followed by 2023 and then 2022.<br><br>\n",
    "- Sell: \n",
    "    If we compare selling the same quantity of 0.1, it took longer time (15 sec) in 2021 followed by 2023 and then 2022.<br><br>1"
   ]
  },
  {
   "cell_type": "markdown",
   "id": "b1c9513f",
   "metadata": {},
   "source": [
    "### Trading Cost Proportion for ETH_USD"
   ]
  },
  {
   "cell_type": "code",
   "execution_count": 1071,
   "id": "c8c6b05a",
   "metadata": {},
   "outputs": [
    {
     "data": {
      "text/plain": [
       "Text(0.5, 1.0, 'Trading Cost Proportion selling ETH_USD over 2021, 2022, 2023')"
      ]
     },
     "execution_count": 1071,
     "metadata": {},
     "output_type": "execute_result"
    },
    {
     "data": {
      "image/png": "[encoded data removed]",
      "text/plain": [
       "<Figure size 1440x360 with 2 Axes>"
      ]
     },
     "metadata": {
      "needs_background": "light"
     },
     "output_type": "display_data"
    }
   ],
   "source": [
    "years = ['2021', '2022', '2023']\n",
    "trading_cost_buy_data_3 = [ETH_USD_2021_buy_analysis_1.loc['trading_cost_proportion_buy'][0], ETH_USD_2022_buy_analysis_1.loc['trading_cost_proportion_buy'][0], ETH_USD_2023_buy_analysis_1.loc['trading_cost_proportion_buy'][0]]\n",
    "trading_cost_sell_data_3 = [ETH_USD_2021_sell_analysis_1.loc['trading_cost_proportion_sell'][0], ETH_USD_2022_sell_analysis_1.loc['trading_cost_proportion_sell'][0],ETH_USD_2023_sell_analysis_1.loc['trading_cost_proportion_sell'][0] ]\n",
    "\n",
    "fig, (ax1, ax2) = plt.subplots(1, 2, figsize=(20, 5))\n",
    "\n",
    "rects = ax1.bar(range(len(trading_cost_buy_data_3)), trading_cost_buy_data_3, color=['yellow', 'green', 'm'])\n",
    "ax1.set_xticks(range(len(trading_cost_buy_data_3)))\n",
    "ax1.xaxis.set_ticklabels(['ETH_USD_' + year for year in years])\n",
    "ax1.set_ylabel('Trading Cost Buy Proportion')\n",
    "ax1.set_title('Trading Cost Proportion Values for buying ETH_USD over 2021, 2022, 2023')\n",
    "\n",
    "ax2.bar(range(len(trading_cost_sell_data_3)), trading_cost_sell_data_3, color=['yellow', 'green', 'm'])\n",
    "ax2.set_xticks(range(len(trading_cost_sell_data_3)))\n",
    "ax2.xaxis.set_ticklabels(['ETH_USD_' + year for year in years])\n",
    "ax2.set_ylabel('Trading Cost Sell Proportion')\n",
    "ax2.set_title('Trading Cost Proportion selling ETH_USD over 2021, 2022, 2023')"
   ]
  },
  {
   "cell_type": "markdown",
   "id": "2c16fec5",
   "metadata": {},
   "source": [
    "### Observation:<br>\n",
    "- Buy: \n",
    "    If we compare Trading costs as a proportional of Notional, the order is 2022 followed by 2023 and then 2021.<br><br>\n",
    "- Sell: \n",
    "    If we compare Trading costs as a proportional of Notional, the order is 2021 followed by 2022 and then 2023.<br><br>\n"
   ]
  },
  {
   "cell_type": "markdown",
   "id": "f162943a",
   "metadata": {},
   "source": [
    "### Market VWAP for ETH_USD"
   ]
  },
  {
   "cell_type": "code",
   "execution_count": 1072,
   "id": "1ed585a3",
   "metadata": {},
   "outputs": [
    {
     "data": {
      "text/plain": [
       "Text(0.5, 1.0, 'Market VWAP for ETH_USD over 2021, 2022, 2023')"
      ]
     },
     "execution_count": 1072,
     "metadata": {},
     "output_type": "execute_result"
    },
    {
     "data": {
      "image/png": "[encoded data removed]",
      "text/plain": [
       "<Figure size 864x360 with 1 Axes>"
      ]
     },
     "metadata": {
      "needs_background": "light"
     },
     "output_type": "display_data"
    }
   ],
   "source": [
    "years = ['2021', '2022', '2023']\n",
    "market_vwap_data_3 = [ETH_USD_2021_Total_Market_VWAP_1, ETH_USD_2022_Total_Market_VWAP_1, ETH_USD_2023_Total_Market_VWAP_1]\n",
    "\n",
    "fig, (ax1) = plt.subplots(1, 1, figsize=(12, 5))\n",
    "\n",
    "rects = ax1.bar(range(len(market_vwap_data_3)), market_vwap_data_3, color=['yellow', 'green', 'm'])\n",
    "ax1.set_xticks(range(len(market_vwap_data_3)))\n",
    "ax1.xaxis.set_ticklabels(['ETH_USD_' + year for year in years])\n",
    "ax1.set_ylabel('Market VWAP ')\n",
    "ax1.set_title('Market VWAP for ETH_USD over 2021, 2022, 2023')\n"
   ]
  },
  {
   "cell_type": "markdown",
   "id": "11395598",
   "metadata": {},
   "source": [
    "### Observation:<br>\n",
    "- If we compare Market VWAP, the order is 2022 followed by 2021 and then 2023.<br><br>\n"
   ]
  },
  {
   "cell_type": "markdown",
   "id": "09874829",
   "metadata": {},
   "source": [
    "# Conclusion and Observations from comparision:  "
   ]
  },
  {
   "cell_type": "markdown",
   "id": "88ce0cc7",
   "metadata": {},
   "source": [
    "# Comparing the results for Quantity 0.1 and 1:"
   ]
  },
  {
   "cell_type": "markdown",
   "id": "43720bc9",
   "metadata": {},
   "source": [
    "### ETH_BTC:\n",
    "-  VWAP values for both quantites across years is almost in line.<br><br>\n",
    "-  In case of buying, time taken for 0.1 quantity is very less than 1 for 2021 and 2022 whereas almost same for 2023 .<br><br>\n",
    "-  In case of selling, time taken for 0.1 quantity is very less than 1 for 2022 and  almost same for 2021 and 2023 .<br><br>\n",
    "-  no major difference is observed in the trading costs.<br><br>\n",
    "- no major difference is observed in the Market VWAP<br><br>.\n"
   ]
  },
  {
   "cell_type": "markdown",
   "id": "4105df99",
   "metadata": {},
   "source": [
    "### BTC_USD:\n",
    "-  VWAP values for both quantites across years is almost in line.<br><br>\n",
    "-  In case of buying and selling, time taken for 0.1 quantity is slightly less than for 1 across years.<br><br>\n",
    "-  no major difference is observed in the trading costs.<br><br>\n",
    "- no major difference is observed in the Market VWAP<br><br>.\n"
   ]
  },
  {
   "cell_type": "markdown",
   "id": "7b1f67bd",
   "metadata": {},
   "source": [
    "### ETH_USD:\n",
    "-  VWAP values for both quantites across years is almost in line.<br><br>\n",
    "-  In case of buying and selling, time taken for 0.1 quantity is very less than for 1 across years.<br><br>\n",
    "-  no major difference is observed in the trading costs.<br><br>\n",
    "- no major difference is observed in the Market VWAP.<br><br>.\n"
   ]
  },
  {
   "cell_type": "markdown",
   "id": "d03aef90",
   "metadata": {},
   "source": [
    "# Comparing the results among the 3 pairs:"
   ]
  },
  {
   "cell_type": "markdown",
   "id": "887c8eeb",
   "metadata": {},
   "source": [
    "### VWAP:<br>\n",
    "- The VWAP values for BTC_USD is highest followed by ETH_USD and ETH_BTC. <br><br>\n"
   ]
  },
  {
   "cell_type": "markdown",
   "id": "5d00e68c",
   "metadata": {},
   "source": [
    "### Time Taken:<br>\n",
    "- The time taken for BTC_USD is greater than ETH_BTC and ETH_USD. <br><br>\n",
    "- ETH_USD seems to be more liquid followed by ETH_BTC and BTC_USD. <br><br>"
   ]
  },
  {
   "cell_type": "markdown",
   "id": "27ec1f7a",
   "metadata": {},
   "source": [
    "\n",
    "### Trading Costs:<br>\n",
    "- trading costs values seems to be very small in all cases with ETH_BTC slightly significant than rest two. <br><br>"
   ]
  },
  {
   "cell_type": "markdown",
   "id": "944373aa",
   "metadata": {},
   "source": [
    "### Market_VWAP:<br>\n",
    "- The Market_VWAP values for BTC_USD is highest followed by ETH_USD and ETH_BTC. <br><br>"
   ]
  },
  {
   "cell_type": "markdown",
   "id": "e65ab30f",
   "metadata": {},
   "source": [
    "# Comparing the results among the 3 years:"
   ]
  },
  {
   "cell_type": "markdown",
   "id": "5fe90065",
   "metadata": {},
   "source": [
    "### ETH_BTC:\n",
    "- For both Buy and Sell, VWAP for 2023 is greater than 2022 followed by 2021 .<br><br>\n",
    "- Time Taken:\n",
    "    - Buy: \n",
    "        If we compare buying the same quantity of 0.1, it took longer time (14 sec) in 2023 followed by 2021 and then 2022.<br><br>\n",
    "    - Sell: \n",
    "        If we compare selling the same quantity of 0.1, it took longer time (14 sec) in 2021 followed by 2023 and then 2022.<br><br>\n",
    "-  Trading Costs:<br>\n",
    "    Buy: \n",
    "    If we compare Trading costs as a proportional of Notional, the order is 2023 followed by 2021 and then 2022.<br><br>\n",
    "- Sell: \n",
    "    If we compare Trading costs as a proportional of Notional, the order is 2023 followed by 2022 and then 2021.<br><br>\n",
    "- If we compare Market VWAP, the order is 2022 followed by 2023 and then 2021.<br><br>\n",
    "\n"
   ]
  },
  {
   "cell_type": "markdown",
   "id": "7dd5b90e",
   "metadata": {},
   "source": [
    "### BTC_USD:\n",
    "- For both Buy and Sell, VWAP for 2021 is greater than 2022 followed by 2023 .<br><br>\n",
    "- Time Taken:\n",
    "    - Buy: \n",
    "        If we compare buying the same quantity of 0.1, it took longer time (15 sec) in 2021 followed by 2022 and then 2023.<br><br>\n",
    "    - Sell: \n",
    "        If we compare selling the same quantity of 0.1, it took longer time (15 sec) in 2021 followed by 2022 and then 2023.<br><br>\n",
    "- Trading Costs:    \n",
    "    - Buy: \n",
    "    If we compare Trading costs as a proportional of Notional, the order is 2023 followed by 2021 and then 2022.<br><br>\n",
    "    - Sell: \n",
    "    If we compare Trading costs as a proportional of Notional, the order is 2021 followed by 2023 and then 2022.<br><br>\n",
    "- If we compare Market VWAP, the order is 2021 followed by 2022 and then 2023.<br><br>\n",
    "\n"
   ]
  },
  {
   "cell_type": "markdown",
   "id": "0e9e5bbc",
   "metadata": {},
   "source": [
    "### ETH_USD:\n",
    "- For both Buy and Sell, VWAP for 2022 is greater than 2021 followed by 2023 .<br><br>\n",
    "- Time Taken:\n",
    "    - Buy: \n",
    "        If we compare buying the same quantity of 0.1, it took longer time (1:55) in 2021 followed by 2023 and then 2022.<br><br>\n",
    "    - Sell: \n",
    "        If we compare selling the same quantity of 0.1, it took longer time (4:04 sec) in 2021 followed by 2023 and then 2022.<br><br>\n",
    "- Trading Costs:    \n",
    "    - Buy: \n",
    "        If we compare Trading costs as a proportional of Notional, the order is 2023 followed by 2022 and then 2021.<br><br>\n",
    "    - Sell: \n",
    "        If we compare Trading costs as a proportional of Notional, the order is 2023 followed by 2022 and then 2021.<br><br>\n",
    "- If we compare Market VWAP, the order is 2022 followed by 2021 and then 2023.<br><br>\n"
   ]
  },
  {
   "cell_type": "markdown",
   "id": "f550ea25",
   "metadata": {},
   "source": []
  },
  {
   "cell_type": "markdown",
   "id": "2fc062b5",
   "metadata": {},
   "source": [
    "# My comments on general Crypto Market performance trend:"
   ]
  },
  {
   "cell_type": "markdown",
   "id": "8a5d24bd",
   "metadata": {},
   "source": [
    "### 2021: \n",
    "- Crypto Market did very well where we observed a signifcant increase in Market Cap and price of Bitcoin. Bitcoin price reached a all time high of 61837 around Oct 2021. <br><br>\n",
    "\n"
   ]
  },
  {
   "cell_type": "markdown",
   "id": "9590b7aa",
   "metadata": {},
   "source": [
    "### 2022:\n",
    "- In the year 2022, the market did not do well and was falling almost throughout the year. It got severly affected and price reached below 18000 around Nov 2022, mainly due to collapse of FTX. The market capitalization cryptocurrency market has slid from its peak of 3 trillion to nearly 800 billion, in just a span of one year. Most of the top-performing crypto coins have turned red and are witnessing double-digit losses. Bitcoin, the world’s largest currency, soared to an all-time high of 69000 in November 2021, then reached at the levels of 47000 in January 2022, is now trading below 18000 post FTX downfall. Similarly, Ethereum, which was at its record high of almost 4900 in November 2021, has now fallen to below the levels of 1300.<br><br>\n"
   ]
  },
  {
   "cell_type": "markdown",
   "id": "d20deda4",
   "metadata": {},
   "source": [
    "\n",
    "### 2023:\n",
    "- After a disastrous year in 2022, Bitcoin and other major cryptocurrencies kicked off 2023 with a bang in January, surging to their highest levels in months as U.S. inflation continues to moderate.Fallout from the collapse of crypto exchange FTX continued in January as crypto lender Genesis filed for bankruptcy. We need to still wait to get more clarity on how the trend goes. <br><br>\n"
   ]
  },
  {
   "cell_type": "code",
   "execution_count": null,
   "id": "c43b928a",
   "metadata": {},
   "outputs": [],
   "source": []
  }
 ],
 "metadata": {
  "kernelspec": {
   "display_name": "Python 3 (ipykernel)",
   "language": "python",
   "name": "python3"
  },
  "language_info": {
   "codemirror_mode": {
    "name": "ipython",
    "version": 3
   },
   "file_extension": ".py",
   "mimetype": "text/x-python",
   "name": "python",
   "nbconvert_exporter": "python",
   "pygments_lexer": "ipython3",
   "version": "3.9.12"
  }
 },
 "nbformat": 4,
 "nbformat_minor": 5
}
