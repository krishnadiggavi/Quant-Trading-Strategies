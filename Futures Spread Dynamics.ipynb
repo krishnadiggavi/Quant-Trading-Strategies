{
 "cells": [
  {
   "cell_type": "markdown",
   "id": "7394975f",
   "metadata": {},
   "source": [
    "\n",
    "<h2><center> Quantitative Trading Strategies - Assignment 1 </center></h2>\n",
    "\n",
    "\n",
    "Step 1: Data-\n",
    "Obtain second month quarterly 1 futures prices from the Quandl OWF database for two pair W, X; Y, Z (where W, X and Y and Z depend on your student ID number) for 3 Dec 2020 though 31 Aug 2022. Our definition of second month is the contact where the number of days to futures expiration is the smallest available value greater than 30 <br><br>\n",
    "\n",
    "Step 2: Analysis -\n",
    "Characterize the relative dynamics of s(i) t in reasonable ways, using charts and statistics. For example, you could compute the median and standard deviation of the difference d(N )t between s(i) t and an N -day rolling average of st for some\n",
    "values of N . Examine more quantiles than just the median. Look at tails. Consider some dynamics, for example do the spreads correlate? How about their difference (d) values? Do spreads exhibit patterns over time?\n",
    "\n",
    "<h3><span style=\"color:#00008B\">Submitted by - Krishna Vardhan Diggavi </span></h3>\n",
    "\n",
    "<h3><span style=\"color:#00008B\">Email - krishnadiggavi@uchicago.edu</span></h3>"
   ]
  },
  {
   "cell_type": "markdown",
   "id": "0eddc604",
   "metadata": {},
   "source": [
    "# Import functions"
   ]
  },
  {
   "cell_type": "code",
   "execution_count": 220,
   "id": "d2d9d764",
   "metadata": {},
   "outputs": [],
   "source": [
    "import matplotlib.pyplot as plt\n",
    "import pandas as pd\n",
    "import numpy as np\n",
    "import scipy as sp\n",
    "import quandl\n",
    "import functools\n",
    "import seaborn as sns\n",
    "from datetime import datetime\n",
    "import warnings \n",
    "warnings.filterwarnings('ignore')\n",
    "import seaborn as sns\n",
    "import matplotlib.pyplot as plt\n",
    "from matplotlib.pyplot import cm\n",
    "plt.rcParams[\"figure.figsize\"] = (16,6)\n",
    "import statsmodels.api as sm\n",
    "%matplotlib inline\n",
    "import statsmodels.api as sm\n",
    "from sklearn.preprocessing import scale\n",
    "from sklearn.preprocessing import StandardScaler\n",
    "from statsmodels.tsa.stattools import kpss\n",
    "from statsmodels.tsa.stattools import adfuller\n",
    "import seaborn as sns\n",
    "import matplotlib.pyplot as plt\n",
    "from matplotlib.pyplot import cm\n",
    "plt.rcParams[\"figure.figsize\"] = (16,6)\n"
   ]
  },
  {
   "cell_type": "markdown",
   "id": "2d6bd70e",
   "metadata": {},
   "source": [
    "# Installing Quandl"
   ]
  },
  {
   "cell_type": "code",
   "execution_count": 221,
   "id": "1d12eaa3",
   "metadata": {},
   "outputs": [],
   "source": [
    "import quandl"
   ]
  },
  {
   "cell_type": "markdown",
   "id": "d3eb4063",
   "metadata": {},
   "source": [
    "# Helper Functions"
   ]
  },
  {
   "cell_type": "code",
   "execution_count": 222,
   "id": "f48695b9",
   "metadata": {},
   "outputs": [],
   "source": [
    "@functools.lru_cache(maxsize=1600)\n",
    "def fetch_quandl(my_data_items, trim_start=None, trim_end=None):\n",
    "    qdata = quandl.get(list(my_data_items), returns=\"pandas\", \n",
    "                      trim_start=trim_start, trim_end=trim_end,\n",
    "                      api_key= 'nVwoRNxyU88t5sMKgzAt')\n",
    "    return qdata"
   ]
  },
  {
   "cell_type": "markdown",
   "id": "6c9953d6",
   "metadata": {},
   "source": [
    "- The above function is to fetch the data from the Quandl source. The key point is to generate our own API key which will help in extracting data <br>"
   ]
  },
  {
   "cell_type": "code",
   "execution_count": 223,
   "id": "96b4eab3",
   "metadata": {},
   "outputs": [],
   "source": [
    "def clean_quandl_columns(dataframe):\n",
    "    replacement_columns = {}\n",
    "    for c in dataframe.columns:\n",
    "        series_name, variable = c.split(' - ')\n",
    "        source_name, asset = series_name.split('/')\n",
    "        replacement_columns[c] = variable\n",
    "    renamed_data = dataframe.rename(columns=replacement_columns)\n",
    "    return renamed_data"
   ]
  },
  {
   "cell_type": "markdown",
   "id": "3dd8bb31",
   "metadata": {},
   "source": [
    "# Contract Description"
   ]
  },
  {
   "cell_type": "markdown",
   "id": "b2b2bf02",
   "metadata": {},
   "source": [
    " - The contracts that I will be working below are ICE_TFM_TFM, NYM_NG_NG, ICE_B_B and ICE_G_G. <br><br>\n",
    " - The below are the brief decsriptions of the contracts. <br>\n"
   ]
  },
  {
   "cell_type": "markdown",
   "id": "07e4d301",
   "metadata": {},
   "source": [
    "###  a) ICE_TFM _TFM:\n",
    "\n",
    "   - **Description:**<br><br> \n",
    "   \n",
    "    - This refers to Dutch TTF Natural Gas Futures.  <br><br>\n",
    "    - Contracts are for physical delivery through the transfer of rights in respect of Natural Gas at the Title Transfer Facility (TTF) Virtual Trading Point, operated by Gasunie Transport Services (GTS), the transmission system operator in the Netherlands.<br><br>\n",
    "    - Delivery is made equally each hour throughout the delivery period from 06:00 (CET) on the first day of the month until 06:00 (CET) on the first day of the next month.<br><br>\n",
    "   - **Contract Size:** <br><br>\n",
    "    - 1 MW per day in contract period (i.e. month, quarter, season or year) x 23, 24 or 25 hours (summer or winter time).<br>"
   ]
  },
  {
   "cell_type": "markdown",
   "id": "e1b14929",
   "metadata": {},
   "source": [
    "###  b) NYM_NG_NG:\n",
    "\n",
    "   - **Description:** <br><br>\n",
    "    - This refers to Henry Hub Natural Gas.  <br><br>\n",
    "    - The Henry Hub Natural Gas Spot Price measures the price in US Dollar per 1 Million Btu.<br><br>\n",
    "   - **Contract Unit:** <br><br>\n",
    "    - 10,000 MMBtu.<br>"
   ]
  },
  {
   "cell_type": "markdown",
   "id": "2249fdf5",
   "metadata": {},
   "source": [
    "###  c) ICE_B_B:\n",
    "\n",
    "   - **Description:** <br><br>\n",
    "   \n",
    "    - This refers to Brent Crude Futures.  <br><br>\n",
    "    - The ICE Brent Crude futures contract is a deliverable contract based on EFP delivery with an option to cash settle.<br><br>\n",
    "\n",
    "   - **Contract Size:** \n",
    "    - 1,000 barrels .<br>"
   ]
  },
  {
   "cell_type": "markdown",
   "id": "74361d35",
   "metadata": {},
   "source": [
    "###  d) ICE_G_G:\n",
    "\n",
    "   - **Description:** <br><br>\n",
    "   \n",
    "    - This refers to Low Sulphur Gasoil Futures.  <br><br>\n",
    "    - The ICE Low Sulphur Gasoil Futures Contract is designed to provide users with an effective hedging instrument and trading opportunities.<br><br>\n",
    "\n",
    "   - **Contract Size:** <br><br>\n",
    "    - 100 metric tonnes.<br>"
   ]
  },
  {
   "cell_type": "markdown",
   "id": "be8dbf93",
   "metadata": {},
   "source": [
    "# Extracting the Data"
   ]
  },
  {
   "cell_type": "markdown",
   "id": "b52476ff",
   "metadata": {},
   "source": [
    "### Requirement:\n",
    "\n",
    " - The ask is to extract the second month quarterly future prices from Quandl for pairs 0. ICE TFM TFM versus NYM NG NG × 13.7261 and 1. ICE B B versus ICE G G × 0.1147 for 3 Dec 2020 through 31 Aug 2022.  <br><br>\n",
    " - The second month refers to the contract where the number of days to futures expiration is the smallest available value     greater than 30.  <br><br>\n",
    " \n",
    "### Procedure and challenges:\n",
    "\n",
    " - We need to extract the data individually for the years and quarters indivually using H,M,U,Z as as there is no facility in Quandl to extract at once.  <br><br>\n",
    " - We use the code \"OWF/contract_id_Quarter Year_IVM\" to extract data for each contract. <br><br>\n",
    " - In the below code I am running a for loop to run each of the contract for maturity in Mar'21, Jun'21, Sep'21, Dec'21, Mar'22, Jun'22, Sep'22 and Dec'22. <br><br>\n",
    " - First for every quarterly extract, we need to find out the last date where days to Futures maturity is smallest number greater than 30. <br><br>\n",
    " - The date obtained above is used as a start date for extracting the data for the following quarter. <br><br>\n",
    " - Each of the data obtained for each quarter through for loop is concatanated into single dataframe . <br><br>\n",
    " - Similar appraoch is followed for all the 4 contracts data to be extracted. <br>\n",
    " \n",
    "\n",
    "\n"
   ]
  },
  {
   "cell_type": "markdown",
   "id": "7cee43e9",
   "metadata": {},
   "source": [
    "# 0. ICE_TFM_TFM versus NYM_NG_NG × 13.7261"
   ]
  },
  {
   "cell_type": "markdown",
   "id": "34dceee8",
   "metadata": {},
   "source": [
    "### a) ICE_TFM_TFM  Contract"
   ]
  },
  {
   "cell_type": "code",
   "execution_count": 224,
   "id": "60f47f18",
   "metadata": {},
   "outputs": [],
   "source": [
    "emini_contracts_k = [\"OWF/ICE_TFM_TFM_H2021_IVM\", \"OWF/ICE_TFM_TFM_M2021_IVM\", \"OWF/ICE_TFM_TFM_U2021_IVM\", \"OWF/ICE_TFM_TFM_Z2021_IVM\",\"OWF/ICE_TFM_TFM_H2022_IVM\", \"OWF/ICE_TFM_TFM_M2022_IVM\", \"OWF/ICE_TFM_TFM_U2022_IVM\",\"OWF/ICE_TFM_TFM_Z2022_IVM\"]\n",
    "es_option_data_l = pd.DataFrame()\n",
    "es_option_data_m = pd.DataFrame()\n",
    "a = '2020-12-03'\n",
    "for i in range(len(emini_contracts_k)):\n",
    "    es_option_data_l = ((clean_quandl_columns(fetch_quandl((emini_contracts_k[i],),\n",
    "                                                   trim_start=a, \n",
    "                                                   trim_end=\"2022-08-31\")\n",
    "                                     )))\n",
    "    es_option_data_l = es_option_data_l.loc[(es_option_data_l['DtT'] > 30)]\n",
    "        \n",
    "    a = es_option_data_l.index[-1].strftime('%Y-%m-%d')\n",
    "    es_option_data_m = es_option_data_m.append(es_option_data_l)\n",
    "    "
   ]
  },
  {
   "cell_type": "markdown",
   "id": "33002392",
   "metadata": {},
   "source": [
    " - Once the data from each quarter is concatanated into single dataframe, we will have each date having multiple entries for days to Future expiration.  <br><br>\n",
    " - Since we need the smallest expiration date greater than 30 (filter for greater than 30 has already been appllied in previous step), we will group by date column with \"min\" condition applied on DtT. <br>"
   ]
  },
  {
   "cell_type": "code",
   "execution_count": 226,
   "id": "e8801fa1",
   "metadata": {},
   "outputs": [
    {
     "data": {
      "text/html": [
       "<div>\n",
       "<style scoped>\n",
       "    .dataframe tbody tr th:only-of-type {\n",
       "        vertical-align: middle;\n",
       "    }\n",
       "\n",
       "    .dataframe tbody tr th {\n",
       "        vertical-align: top;\n",
       "    }\n",
       "\n",
       "    .dataframe thead th {\n",
       "        text-align: right;\n",
       "    }\n",
       "</style>\n",
       "<table border=\"1\" class=\"dataframe\">\n",
       "  <thead>\n",
       "    <tr style=\"text-align: right;\">\n",
       "      <th></th>\n",
       "      <th>DtT</th>\n",
       "      <th>DtE</th>\n",
       "      <th>Future</th>\n",
       "    </tr>\n",
       "    <tr>\n",
       "      <th>Date</th>\n",
       "      <th></th>\n",
       "      <th></th>\n",
       "      <th></th>\n",
       "    </tr>\n",
       "  </thead>\n",
       "  <tbody>\n",
       "    <tr>\n",
       "      <th>2020-12-03</th>\n",
       "      <td>84.0</td>\n",
       "      <td>82.97</td>\n",
       "      <td>13.877</td>\n",
       "    </tr>\n",
       "    <tr>\n",
       "      <th>2020-12-04</th>\n",
       "      <td>83.0</td>\n",
       "      <td>81.97</td>\n",
       "      <td>14.398</td>\n",
       "    </tr>\n",
       "    <tr>\n",
       "      <th>2020-12-07</th>\n",
       "      <td>80.0</td>\n",
       "      <td>78.97</td>\n",
       "      <td>14.137</td>\n",
       "    </tr>\n",
       "    <tr>\n",
       "      <th>2020-12-08</th>\n",
       "      <td>79.0</td>\n",
       "      <td>77.97</td>\n",
       "      <td>14.211</td>\n",
       "    </tr>\n",
       "    <tr>\n",
       "      <th>2020-12-09</th>\n",
       "      <td>78.0</td>\n",
       "      <td>76.97</td>\n",
       "      <td>14.451</td>\n",
       "    </tr>\n",
       "    <tr>\n",
       "      <th>...</th>\n",
       "      <td>...</td>\n",
       "      <td>...</td>\n",
       "      <td>...</td>\n",
       "    </tr>\n",
       "    <tr>\n",
       "      <th>2022-08-25</th>\n",
       "      <td>96.0</td>\n",
       "      <td>94.97</td>\n",
       "      <td>328.308</td>\n",
       "    </tr>\n",
       "    <tr>\n",
       "      <th>2022-08-26</th>\n",
       "      <td>95.0</td>\n",
       "      <td>93.97</td>\n",
       "      <td>349.870</td>\n",
       "    </tr>\n",
       "    <tr>\n",
       "      <th>2022-08-29</th>\n",
       "      <td>92.0</td>\n",
       "      <td>90.97</td>\n",
       "      <td>297.811</td>\n",
       "    </tr>\n",
       "    <tr>\n",
       "      <th>2022-08-30</th>\n",
       "      <td>91.0</td>\n",
       "      <td>89.97</td>\n",
       "      <td>270.401</td>\n",
       "    </tr>\n",
       "    <tr>\n",
       "      <th>2022-08-31</th>\n",
       "      <td>90.0</td>\n",
       "      <td>88.97</td>\n",
       "      <td>244.437</td>\n",
       "    </tr>\n",
       "  </tbody>\n",
       "</table>\n",
       "<p>450 rows × 3 columns</p>\n",
       "</div>"
      ],
      "text/plain": [
       "             DtT    DtE   Future\n",
       "Date                            \n",
       "2020-12-03  84.0  82.97   13.877\n",
       "2020-12-04  83.0  81.97   14.398\n",
       "2020-12-07  80.0  78.97   14.137\n",
       "2020-12-08  79.0  77.97   14.211\n",
       "2020-12-09  78.0  76.97   14.451\n",
       "...          ...    ...      ...\n",
       "2022-08-25  96.0  94.97  328.308\n",
       "2022-08-26  95.0  93.97  349.870\n",
       "2022-08-29  92.0  90.97  297.811\n",
       "2022-08-30  91.0  89.97  270.401\n",
       "2022-08-31  90.0  88.97  244.437\n",
       "\n",
       "[450 rows x 3 columns]"
      ]
     },
     "execution_count": 226,
     "metadata": {},
     "output_type": "execute_result"
    }
   ],
   "source": [
    "ends_overall1  = es_option_data_m.groupby('Date').agg({'DtT': min, 'DtE':'first', 'Future':'first'})\n",
    "ends_overall1.round(3)"
   ]
  },
  {
   "cell_type": "markdown",
   "id": "de8a740e",
   "metadata": {},
   "source": [
    " - The above data is the final extract for the contract ICE_TFM_TFM .<br>"
   ]
  },
  {
   "cell_type": "markdown",
   "id": "68eeed08",
   "metadata": {},
   "source": [
    "### b) NYM_NG_NG Contract"
   ]
  },
  {
   "cell_type": "code",
   "execution_count": 227,
   "id": "cde0ce26",
   "metadata": {},
   "outputs": [],
   "source": [
    "emini_contracts_o = [\"OWF/NYM_NG_NG_H2021_IVM\", \"OWF/NYM_NG_NG_M2021_IVM\", \"OWF/NYM_NG_NG_U2021_IVM\", \"OWF/NYM_NG_NG_Z2021_IVM\",\"OWF/NYM_NG_NG_H2022_IVM\", \"OWF/NYM_NG_NG_M2022_IVM\", \"OWF/NYM_NG_NG_U2022_IVM\",\"OWF/NYM_NG_NG_Z2022_IVM\"]\n",
    "es_option_data_z = pd.DataFrame()\n",
    "es_option_data_x = pd.DataFrame()\n",
    "a = '2020-12-03'\n",
    "for i in range(len(emini_contracts_o)):\n",
    "    es_option_data_z = ((clean_quandl_columns(fetch_quandl((emini_contracts_o[i],),\n",
    "                                                   trim_start=a, \n",
    "                                                   trim_end=\"2022-08-31\")\n",
    "                                     )))\n",
    "    es_option_data_z = es_option_data_z.loc[(es_option_data_z['DtT'] > 30)]\n",
    "        \n",
    "    a = es_option_data_z.index[-1].strftime('%Y-%m-%d')\n",
    "    es_option_data_x = es_option_data_x.append(es_option_data_z)   "
   ]
  },
  {
   "cell_type": "markdown",
   "id": "80aafcc1",
   "metadata": {},
   "source": [
    " - The similar proess to above is applied to extract the data for all the quarters for the contract NYM_NG_NG.  <br><br>\n",
    " - The additional step here includes to multiply the future data obtained with the factor of 13.7261. <br>"
   ]
  },
  {
   "cell_type": "code",
   "execution_count": 228,
   "id": "005f96d8",
   "metadata": {},
   "outputs": [
    {
     "data": {
      "text/html": [
       "<div>\n",
       "<style scoped>\n",
       "    .dataframe tbody tr th:only-of-type {\n",
       "        vertical-align: middle;\n",
       "    }\n",
       "\n",
       "    .dataframe tbody tr th {\n",
       "        vertical-align: top;\n",
       "    }\n",
       "\n",
       "    .dataframe thead th {\n",
       "        text-align: right;\n",
       "    }\n",
       "</style>\n",
       "<table border=\"1\" class=\"dataframe\">\n",
       "  <thead>\n",
       "    <tr style=\"text-align: right;\">\n",
       "      <th></th>\n",
       "      <th>DtT</th>\n",
       "      <th>DtE</th>\n",
       "      <th>Future</th>\n",
       "    </tr>\n",
       "    <tr>\n",
       "      <th>Date</th>\n",
       "      <th></th>\n",
       "      <th></th>\n",
       "      <th></th>\n",
       "    </tr>\n",
       "  </thead>\n",
       "  <tbody>\n",
       "    <tr>\n",
       "      <th>2020-12-03</th>\n",
       "      <td>83.0</td>\n",
       "      <td>82.0</td>\n",
       "      <td>33.986</td>\n",
       "    </tr>\n",
       "    <tr>\n",
       "      <th>2020-12-04</th>\n",
       "      <td>82.0</td>\n",
       "      <td>81.0</td>\n",
       "      <td>35.015</td>\n",
       "    </tr>\n",
       "    <tr>\n",
       "      <th>2020-12-07</th>\n",
       "      <td>79.0</td>\n",
       "      <td>78.0</td>\n",
       "      <td>33.382</td>\n",
       "    </tr>\n",
       "    <tr>\n",
       "      <th>2020-12-08</th>\n",
       "      <td>78.0</td>\n",
       "      <td>77.0</td>\n",
       "      <td>33.203</td>\n",
       "    </tr>\n",
       "    <tr>\n",
       "      <th>2020-12-09</th>\n",
       "      <td>77.0</td>\n",
       "      <td>76.0</td>\n",
       "      <td>33.656</td>\n",
       "    </tr>\n",
       "    <tr>\n",
       "      <th>...</th>\n",
       "      <td>...</td>\n",
       "      <td>...</td>\n",
       "      <td>...</td>\n",
       "    </tr>\n",
       "    <tr>\n",
       "      <th>2022-08-25</th>\n",
       "      <td>95.0</td>\n",
       "      <td>92.0</td>\n",
       "      <td>131.276</td>\n",
       "    </tr>\n",
       "    <tr>\n",
       "      <th>2022-08-26</th>\n",
       "      <td>94.0</td>\n",
       "      <td>91.0</td>\n",
       "      <td>130.027</td>\n",
       "    </tr>\n",
       "    <tr>\n",
       "      <th>2022-08-29</th>\n",
       "      <td>91.0</td>\n",
       "      <td>88.0</td>\n",
       "      <td>130.837</td>\n",
       "    </tr>\n",
       "    <tr>\n",
       "      <th>2022-08-30</th>\n",
       "      <td>90.0</td>\n",
       "      <td>87.0</td>\n",
       "      <td>126.829</td>\n",
       "    </tr>\n",
       "    <tr>\n",
       "      <th>2022-08-31</th>\n",
       "      <td>89.0</td>\n",
       "      <td>86.0</td>\n",
       "      <td>128.010</td>\n",
       "    </tr>\n",
       "  </tbody>\n",
       "</table>\n",
       "<p>454 rows × 3 columns</p>\n",
       "</div>"
      ],
      "text/plain": [
       "             DtT   DtE   Future\n",
       "Date                           \n",
       "2020-12-03  83.0  82.0   33.986\n",
       "2020-12-04  82.0  81.0   35.015\n",
       "2020-12-07  79.0  78.0   33.382\n",
       "2020-12-08  78.0  77.0   33.203\n",
       "2020-12-09  77.0  76.0   33.656\n",
       "...          ...   ...      ...\n",
       "2022-08-25  95.0  92.0  131.276\n",
       "2022-08-26  94.0  91.0  130.027\n",
       "2022-08-29  91.0  88.0  130.837\n",
       "2022-08-30  90.0  87.0  126.829\n",
       "2022-08-31  89.0  86.0  128.010\n",
       "\n",
       "[454 rows x 3 columns]"
      ]
     },
     "execution_count": 228,
     "metadata": {},
     "output_type": "execute_result"
    }
   ],
   "source": [
    "es_option_data_x['Future'] = es_option_data_x['Future']*13.7261\n",
    "ends_overall2  = es_option_data_x.groupby('Date').agg({'DtT': min, 'DtE':'first', 'Future':'first'})\n",
    "ends_overall2.round(3)"
   ]
  },
  {
   "cell_type": "markdown",
   "id": "696a94ef",
   "metadata": {},
   "source": [
    "# Calculating the Spreads "
   ]
  },
  {
   "cell_type": "markdown",
   "id": "65f5a768",
   "metadata": {},
   "source": [
    "### For 0. ICE_TFM_TFM versus NYM_NG_NG × 13.7261"
   ]
  },
  {
   "cell_type": "markdown",
   "id": "b8d02a2d",
   "metadata": {},
   "source": [
    " - To obtain the Spread data, we subtract the factored Future data from NYM_NG_NG with Future data from ICE_TFM_TFM. <br>"
   ]
  },
  {
   "cell_type": "code",
   "execution_count": 229,
   "id": "0f03af90",
   "metadata": {},
   "outputs": [
    {
     "data": {
      "text/plain": [
       "Date\n",
       "2020-12-03     20.109\n",
       "2020-12-04     20.617\n",
       "2020-12-07     19.245\n",
       "2020-12-08     18.992\n",
       "2020-12-09     19.205\n",
       "               ...   \n",
       "2022-08-25   -197.032\n",
       "2022-08-26   -219.843\n",
       "2022-08-29   -166.974\n",
       "2022-08-30   -143.572\n",
       "2022-08-31   -116.427\n",
       "Name: Future, Length: 450, dtype: float64"
      ]
     },
     "execution_count": 229,
     "metadata": {},
     "output_type": "execute_result"
    }
   ],
   "source": [
    "ends_overall_spread_K = ends_overall2['Future'] - ends_overall1['Future']\n",
    "ends_overall_spread_K = ends_overall_spread_K.dropna()\n",
    "ends_overall_spread_K.round(3)"
   ]
  },
  {
   "cell_type": "markdown",
   "id": "69680ac4",
   "metadata": {},
   "source": [
    "### Validating the spread data for the given dates in the assignment pdf. <br>"
   ]
  },
  {
   "cell_type": "code",
   "execution_count": 230,
   "id": "9e6ae97b",
   "metadata": {},
   "outputs": [
    {
     "data": {
      "text/plain": [
       "-5.751738399999994"
      ]
     },
     "execution_count": 230,
     "metadata": {},
     "output_type": "execute_result"
    }
   ],
   "source": [
    "ends_overall_spread_K['2021-10-25']"
   ]
  },
  {
   "cell_type": "code",
   "execution_count": 231,
   "id": "f1ab13bf",
   "metadata": {},
   "outputs": [
    {
     "data": {
      "text/plain": [
       "-2.985990199999989"
      ]
     },
     "execution_count": 231,
     "metadata": {},
     "output_type": "execute_result"
    }
   ],
   "source": [
    "ends_overall_spread_K['2021-10-28']"
   ]
  },
  {
   "cell_type": "code",
   "execution_count": 232,
   "id": "2fdc5b73",
   "metadata": {},
   "outputs": [
    {
     "data": {
      "text/plain": [
       "9.013603199999999"
      ]
     },
     "execution_count": 232,
     "metadata": {},
     "output_type": "execute_result"
    }
   ],
   "source": [
    "ends_overall_spread_K['2021-11-01']"
   ]
  },
  {
   "cell_type": "markdown",
   "id": "3c7033d4",
   "metadata": {},
   "source": [
    "# 1. ICE_B_B versus ICE_GG × 0.1147"
   ]
  },
  {
   "cell_type": "markdown",
   "id": "594b3523",
   "metadata": {},
   "source": [
    "### a) ICE_B_B Contract"
   ]
  },
  {
   "cell_type": "code",
   "execution_count": 233,
   "id": "30ddfe05",
   "metadata": {},
   "outputs": [],
   "source": [
    "emini_contracts_b = [\"OWF/ICE_B_B_H2021_IVM\", \"OWF/ICE_B_B_M2021_IVM\", \"OWF/ICE_B_B_U2021_IVM\", \"OWF/ICE_B_B_Z2021_IVM\",\"OWF/ICE_B_B_H2022_IVM\", \"OWF/ICE_B_B_M2022_IVM\", \"OWF/ICE_B_B_U2022_IVM\",\"OWF/ICE_B_B_Z2022_IVM\"]\n",
    "es_option_data_c = pd.DataFrame()\n",
    "es_option_data_d = pd.DataFrame()\n",
    "a = '2020-12-03'\n",
    "for i in range(len(emini_contracts_b)):\n",
    "    es_option_data_c = ((clean_quandl_columns(fetch_quandl((emini_contracts_b[i],),\n",
    "                                                   trim_start=a, \n",
    "                                                   trim_end=\"2022-08-31\")\n",
    "                                     )))\n",
    "    es_option_data_c = es_option_data_c.loc[(es_option_data_c['DtT'] > 30)]\n",
    "        \n",
    "    a = es_option_data_c.index[-1].strftime('%Y-%m-%d')\n",
    "    es_option_data_d = es_option_data_d.append(es_option_data_c)\n",
    "    "
   ]
  },
  {
   "cell_type": "code",
   "execution_count": 234,
   "id": "34589292",
   "metadata": {},
   "outputs": [
    {
     "data": {
      "text/html": [
       "<div>\n",
       "<style scoped>\n",
       "    .dataframe tbody tr th:only-of-type {\n",
       "        vertical-align: middle;\n",
       "    }\n",
       "\n",
       "    .dataframe tbody tr th {\n",
       "        vertical-align: top;\n",
       "    }\n",
       "\n",
       "    .dataframe thead th {\n",
       "        text-align: right;\n",
       "    }\n",
       "</style>\n",
       "<table border=\"1\" class=\"dataframe\">\n",
       "  <thead>\n",
       "    <tr style=\"text-align: right;\">\n",
       "      <th></th>\n",
       "      <th>DtT</th>\n",
       "      <th>DtE</th>\n",
       "      <th>Future</th>\n",
       "    </tr>\n",
       "    <tr>\n",
       "      <th>Date</th>\n",
       "      <th></th>\n",
       "      <th></th>\n",
       "      <th></th>\n",
       "    </tr>\n",
       "  </thead>\n",
       "  <tbody>\n",
       "    <tr>\n",
       "      <th>2020-12-03</th>\n",
       "      <td>57.0</td>\n",
       "      <td>53.85</td>\n",
       "      <td>48.60</td>\n",
       "    </tr>\n",
       "    <tr>\n",
       "      <th>2020-12-04</th>\n",
       "      <td>56.0</td>\n",
       "      <td>52.85</td>\n",
       "      <td>49.19</td>\n",
       "    </tr>\n",
       "    <tr>\n",
       "      <th>2020-12-07</th>\n",
       "      <td>53.0</td>\n",
       "      <td>49.85</td>\n",
       "      <td>48.80</td>\n",
       "    </tr>\n",
       "    <tr>\n",
       "      <th>2020-12-08</th>\n",
       "      <td>52.0</td>\n",
       "      <td>48.85</td>\n",
       "      <td>48.81</td>\n",
       "    </tr>\n",
       "    <tr>\n",
       "      <th>2020-12-09</th>\n",
       "      <td>51.0</td>\n",
       "      <td>47.85</td>\n",
       "      <td>48.77</td>\n",
       "    </tr>\n",
       "    <tr>\n",
       "      <th>...</th>\n",
       "      <td>...</td>\n",
       "      <td>...</td>\n",
       "      <td>...</td>\n",
       "    </tr>\n",
       "    <tr>\n",
       "      <th>2022-08-25</th>\n",
       "      <td>67.0</td>\n",
       "      <td>61.85</td>\n",
       "      <td>97.25</td>\n",
       "    </tr>\n",
       "    <tr>\n",
       "      <th>2022-08-26</th>\n",
       "      <td>66.0</td>\n",
       "      <td>60.85</td>\n",
       "      <td>97.35</td>\n",
       "    </tr>\n",
       "    <tr>\n",
       "      <th>2022-08-29</th>\n",
       "      <td>63.0</td>\n",
       "      <td>57.85</td>\n",
       "      <td>100.94</td>\n",
       "    </tr>\n",
       "    <tr>\n",
       "      <th>2022-08-30</th>\n",
       "      <td>62.0</td>\n",
       "      <td>56.85</td>\n",
       "      <td>96.46</td>\n",
       "    </tr>\n",
       "    <tr>\n",
       "      <th>2022-08-31</th>\n",
       "      <td>61.0</td>\n",
       "      <td>55.85</td>\n",
       "      <td>94.21</td>\n",
       "    </tr>\n",
       "  </tbody>\n",
       "</table>\n",
       "<p>450 rows × 3 columns</p>\n",
       "</div>"
      ],
      "text/plain": [
       "             DtT    DtE  Future\n",
       "Date                           \n",
       "2020-12-03  57.0  53.85   48.60\n",
       "2020-12-04  56.0  52.85   49.19\n",
       "2020-12-07  53.0  49.85   48.80\n",
       "2020-12-08  52.0  48.85   48.81\n",
       "2020-12-09  51.0  47.85   48.77\n",
       "...          ...    ...     ...\n",
       "2022-08-25  67.0  61.85   97.25\n",
       "2022-08-26  66.0  60.85   97.35\n",
       "2022-08-29  63.0  57.85  100.94\n",
       "2022-08-30  62.0  56.85   96.46\n",
       "2022-08-31  61.0  55.85   94.21\n",
       "\n",
       "[450 rows x 3 columns]"
      ]
     },
     "execution_count": 234,
     "metadata": {},
     "output_type": "execute_result"
    }
   ],
   "source": [
    "ends_overall3 = es_option_data_d.groupby('Date').agg({'DtT': min, 'DtE':'first', 'Future':'first'})\n",
    "ends_overall3.round(3)"
   ]
  },
  {
   "cell_type": "markdown",
   "id": "c99f98af",
   "metadata": {},
   "source": [
    "### b) ICE G G × 0.1147 Contract"
   ]
  },
  {
   "cell_type": "code",
   "execution_count": 235,
   "id": "54db0240",
   "metadata": {},
   "outputs": [],
   "source": [
    "emini_contracts_e = [\"OWF/ICE_G_G_H2021_IVM\", \"OWF/ICE_G_G_M2021_IVM\", \"OWF/ICE_G_G_U2021_IVM\", \"OWF/ICE_G_G_Z2021_IVM\",\"OWF/ICE_G_G_H2022_IVM\", \"OWF/ICE_G_G_M2022_IVM\", \"OWF/ICE_G_G_U2022_IVM\",\"OWF/ICE_G_G_Z2022_IVM\"]\n",
    "es_option_data_f = pd.DataFrame()\n",
    "es_option_data_g = pd.DataFrame()\n",
    "a = '2020-12-03'\n",
    "for i in range(len(emini_contracts_b)):\n",
    "    es_option_data_f = ((clean_quandl_columns(fetch_quandl((emini_contracts_e[i],),\n",
    "                                                   trim_start=a, \n",
    "                                                   trim_end=\"2022-08-31\")\n",
    "                                     )))\n",
    "    es_option_data_f = es_option_data_f.loc[(es_option_data_f['DtT'] > 30)]\n",
    "        \n",
    "    a = es_option_data_f.index[-1].strftime('%Y-%m-%d')\n",
    "    es_option_data_g = es_option_data_g.append(es_option_data_f)\n",
    "    "
   ]
  },
  {
   "cell_type": "code",
   "execution_count": 236,
   "id": "d767c831",
   "metadata": {},
   "outputs": [
    {
     "data": {
      "text/html": [
       "<div>\n",
       "<style scoped>\n",
       "    .dataframe tbody tr th:only-of-type {\n",
       "        vertical-align: middle;\n",
       "    }\n",
       "\n",
       "    .dataframe tbody tr th {\n",
       "        vertical-align: top;\n",
       "    }\n",
       "\n",
       "    .dataframe thead th {\n",
       "        text-align: right;\n",
       "    }\n",
       "</style>\n",
       "<table border=\"1\" class=\"dataframe\">\n",
       "  <thead>\n",
       "    <tr style=\"text-align: right;\">\n",
       "      <th></th>\n",
       "      <th>DtT</th>\n",
       "      <th>DtE</th>\n",
       "      <th>Future</th>\n",
       "    </tr>\n",
       "    <tr>\n",
       "      <th>Date</th>\n",
       "      <th></th>\n",
       "      <th></th>\n",
       "      <th></th>\n",
       "    </tr>\n",
       "  </thead>\n",
       "  <tbody>\n",
       "    <tr>\n",
       "      <th>2020-12-03</th>\n",
       "      <td>98.0</td>\n",
       "      <td>90.85</td>\n",
       "      <td>46.425</td>\n",
       "    </tr>\n",
       "    <tr>\n",
       "      <th>2020-12-04</th>\n",
       "      <td>97.0</td>\n",
       "      <td>89.85</td>\n",
       "      <td>46.568</td>\n",
       "    </tr>\n",
       "    <tr>\n",
       "      <th>2020-12-07</th>\n",
       "      <td>94.0</td>\n",
       "      <td>86.85</td>\n",
       "      <td>47.027</td>\n",
       "    </tr>\n",
       "    <tr>\n",
       "      <th>2020-12-08</th>\n",
       "      <td>93.0</td>\n",
       "      <td>85.85</td>\n",
       "      <td>46.998</td>\n",
       "    </tr>\n",
       "    <tr>\n",
       "      <th>2020-12-09</th>\n",
       "      <td>92.0</td>\n",
       "      <td>84.85</td>\n",
       "      <td>46.654</td>\n",
       "    </tr>\n",
       "    <tr>\n",
       "      <th>...</th>\n",
       "      <td>...</td>\n",
       "      <td>...</td>\n",
       "      <td>...</td>\n",
       "    </tr>\n",
       "    <tr>\n",
       "      <th>2022-08-25</th>\n",
       "      <td>109.0</td>\n",
       "      <td>101.85</td>\n",
       "      <td>123.962</td>\n",
       "    </tr>\n",
       "    <tr>\n",
       "      <th>2022-08-26</th>\n",
       "      <td>108.0</td>\n",
       "      <td>100.85</td>\n",
       "      <td>124.220</td>\n",
       "    </tr>\n",
       "    <tr>\n",
       "      <th>2022-08-29</th>\n",
       "      <td>105.0</td>\n",
       "      <td>97.85</td>\n",
       "      <td>124.077</td>\n",
       "    </tr>\n",
       "    <tr>\n",
       "      <th>2022-08-30</th>\n",
       "      <td>104.0</td>\n",
       "      <td>96.85</td>\n",
       "      <td>117.023</td>\n",
       "    </tr>\n",
       "    <tr>\n",
       "      <th>2022-08-31</th>\n",
       "      <td>103.0</td>\n",
       "      <td>95.85</td>\n",
       "      <td>115.216</td>\n",
       "    </tr>\n",
       "  </tbody>\n",
       "</table>\n",
       "<p>450 rows × 3 columns</p>\n",
       "</div>"
      ],
      "text/plain": [
       "              DtT     DtE   Future\n",
       "Date                              \n",
       "2020-12-03   98.0   90.85   46.425\n",
       "2020-12-04   97.0   89.85   46.568\n",
       "2020-12-07   94.0   86.85   47.027\n",
       "2020-12-08   93.0   85.85   46.998\n",
       "2020-12-09   92.0   84.85   46.654\n",
       "...           ...     ...      ...\n",
       "2022-08-25  109.0  101.85  123.962\n",
       "2022-08-26  108.0  100.85  124.220\n",
       "2022-08-29  105.0   97.85  124.077\n",
       "2022-08-30  104.0   96.85  117.023\n",
       "2022-08-31  103.0   95.85  115.216\n",
       "\n",
       "[450 rows x 3 columns]"
      ]
     },
     "execution_count": 236,
     "metadata": {},
     "output_type": "execute_result"
    }
   ],
   "source": [
    "es_option_data_g['Future'] = es_option_data_g['Future']*0.1147\n",
    "ends_overall4  = es_option_data_g.groupby('Date').agg({'DtT': min, 'DtE':'first', 'Future':'first'})\n",
    "ends_overall4.round(3)"
   ]
  },
  {
   "cell_type": "markdown",
   "id": "3543ba75",
   "metadata": {},
   "source": [
    "### Calculating the Spread for 1. ICE_B_B versus ICE_GG × 0.1147"
   ]
  },
  {
   "cell_type": "code",
   "execution_count": 237,
   "id": "24d44b8d",
   "metadata": {},
   "outputs": [
    {
     "data": {
      "text/plain": [
       "Date\n",
       "2020-12-03    -2.175\n",
       "2020-12-04    -2.622\n",
       "2020-12-07    -1.773\n",
       "2020-12-08    -1.812\n",
       "2020-12-09    -2.116\n",
       "               ...  \n",
       "2022-08-25    26.712\n",
       "2022-08-26    26.870\n",
       "2022-08-29    23.137\n",
       "2022-08-30    20.563\n",
       "2022-08-31    21.006\n",
       "Name: Future, Length: 450, dtype: float64"
      ]
     },
     "execution_count": 237,
     "metadata": {},
     "output_type": "execute_result"
    }
   ],
   "source": [
    "ends_overall_spread_L = ends_overall4['Future'] - ends_overall3['Future']\n",
    "ends_overall_spread_L = ends_overall_spread_L.dropna()\n",
    "ends_overall_spread_L.round(3)"
   ]
  },
  {
   "cell_type": "markdown",
   "id": "e0e8ce37",
   "metadata": {},
   "source": [
    "### Validating the spread data for the given dates in the assignment pdf. <br>"
   ]
  },
  {
   "cell_type": "code",
   "execution_count": 238,
   "id": "cd16a61f",
   "metadata": {},
   "outputs": [
    {
     "data": {
      "text/plain": [
       "-2.676675000000003"
      ]
     },
     "execution_count": 238,
     "metadata": {},
     "output_type": "execute_result"
    }
   ],
   "source": [
    "ends_overall_spread_L['2021-09-28']"
   ]
  },
  {
   "cell_type": "code",
   "execution_count": 239,
   "id": "f00e9992",
   "metadata": {},
   "outputs": [
    {
     "data": {
      "text/plain": [
       "0.03874999999999318"
      ]
     },
     "execution_count": 239,
     "metadata": {},
     "output_type": "execute_result"
    }
   ],
   "source": [
    "ends_overall_spread_L['2021-09-29']"
   ]
  },
  {
   "cell_type": "code",
   "execution_count": 240,
   "id": "11dfd5a2",
   "metadata": {},
   "outputs": [
    {
     "data": {
      "text/plain": [
       "-0.0779500000000155"
      ]
     },
     "execution_count": 240,
     "metadata": {},
     "output_type": "execute_result"
    }
   ],
   "source": [
    "ends_overall_spread_L['2021-11-10']"
   ]
  },
  {
   "cell_type": "markdown",
   "id": "4d3d8369",
   "metadata": {},
   "source": [
    "# Performing the Analysis"
   ]
  },
  {
   "cell_type": "code",
   "execution_count": 241,
   "id": "3045700b",
   "metadata": {},
   "outputs": [],
   "source": [
    "spread1 = pd.DataFrame(ends_overall_spread_P)\n",
    "spread2 = pd.DataFrame(ends_overall_spread_Q)"
   ]
  },
  {
   "cell_type": "markdown",
   "id": "d14d420c",
   "metadata": {},
   "source": [
    "### Plotting the Spread for ICE_TFM_TFM versus NYM_NG_NG × 13.7261"
   ]
  },
  {
   "cell_type": "code",
   "execution_count": 242,
   "id": "d0bb0671",
   "metadata": {},
   "outputs": [
    {
     "data": {
      "text/plain": [
       "Text(0, 0.5, 'Spread')"
      ]
     },
     "execution_count": 242,
     "metadata": {},
     "output_type": "execute_result"
    },
    {
     "data": {
      "image/png": "[encoded data removed]",
      "text/plain": [
       "<Figure size 1152x432 with 1 Axes>"
      ]
     },
     "metadata": {
      "needs_background": "light"
     },
     "output_type": "display_data"
    }
   ],
   "source": [
    "spread1.plot()\n",
    "plt.title('Spread b/w  ICE_TFM_TFM versus NYM_NG_NG × 0.1147', fontsize = 18)\n",
    "plt.xlabel('Date', fontsize = 15)\n",
    "plt.ylabel('Spread', fontsize = 15)\n"
   ]
  },
  {
   "cell_type": "markdown",
   "id": "5ffe7309",
   "metadata": {},
   "source": [
    " ### Observation:\n",
    "\n",
    " - We can observe that the trend remianed relatively stable and positive till Q3 2021 and then became negative with high fluctuations mainly during Q4 of 2021, Q1 and Q3 of 2022. <br><br>\n",
    " - It observes a lowest value close to -200 around September 2022 <br>"
   ]
  },
  {
   "cell_type": "markdown",
   "id": "ee6676aa",
   "metadata": {},
   "source": [
    "### Plotting the Spread for ICE_B_B versus ICE_G_G × 0.1147"
   ]
  },
  {
   "cell_type": "code",
   "execution_count": 243,
   "id": "5b71076b",
   "metadata": {},
   "outputs": [
    {
     "data": {
      "text/plain": [
       "<Figure size 1296x432 with 0 Axes>"
      ]
     },
     "execution_count": 243,
     "metadata": {},
     "output_type": "execute_result"
    },
    {
     "data": {
      "image/png": "[encoded data removed]",
      "text/plain": [
       "<Figure size 1152x432 with 1 Axes>"
      ]
     },
     "metadata": {
      "needs_background": "light"
     },
     "output_type": "display_data"
    },
    {
     "data": {
      "text/plain": [
       "<Figure size 1296x432 with 0 Axes>"
      ]
     },
     "metadata": {},
     "output_type": "display_data"
    }
   ],
   "source": [
    "spread2.plot()\n",
    "plt.title('Spread b/w  ICE_B_B versus ICE_G_G × 0.1147', fontsize = 18)\n",
    "plt.xlabel('Date', fontsize = 15)\n",
    "plt.ylabel('Spread', fontsize = 15)\n",
    "\n",
    "plt.figure(figsize=(18, 6))"
   ]
  },
  {
   "cell_type": "markdown",
   "id": "4708893c",
   "metadata": {},
   "source": [
    " ### Observation:\n",
    "\n",
    " - We can observe that the trend remianed relatively stable and close to zero till Q1 2022 and then remained positive with high fluctuations till the rest of 2022. <br><br>\n",
    " - It observes a highest value close to +30 around July 2022 <br>"
   ]
  },
  {
   "cell_type": "markdown",
   "id": "8240767b",
   "metadata": {},
   "source": [
    "### Calculating the Rolling average  and difference for spreads"
   ]
  },
  {
   "cell_type": "markdown",
   "id": "408a1711",
   "metadata": {},
   "source": [
    " - Rolling average is calculated using the function .rolling(days).mean() for the Future column of spread. <br><br>\n",
    " - The difference dt is calculated by subtracting the Future data of spread with calculated rolling average future data. <br>"
   ]
  },
  {
   "cell_type": "code",
   "execution_count": 244,
   "id": "97bd9701",
   "metadata": {},
   "outputs": [],
   "source": [
    "spread_rolling_1 = pd.DataFrame()\n",
    "spread_rolling_2 = pd.DataFrame()\n",
    "spread_rolling_1['Future'] = spread1['Future']\n",
    "spread_rolling_1['Rolling']= spread1['Future'].rolling(10).mean()\n",
    "spread_rolling_1['difference'] = spread_rolling_1['Future'] - spread_rolling_1['Rolling']\n",
    "spread_rolling_1.dropna(inplace = True)\n",
    "spread_rolling_2['Future'] = spread2['Future']\n",
    "spread_rolling_2['Rolling']= spread_rolling_2['Future'].rolling(10).mean()\n",
    "spread_rolling_2['difference'] = spread_rolling_2['Future'] - spread_rolling_2['Rolling']\n",
    "spread_rolling_2.dropna(inplace = True)\n",
    "\n"
   ]
  },
  {
   "cell_type": "markdown",
   "id": "6772f561",
   "metadata": {},
   "source": [
    "### Plotting the Rolling average spread for ICE_TFM_TFM versus NYM_NG_NG × 13.7261"
   ]
  },
  {
   "cell_type": "code",
   "execution_count": 245,
   "id": "d9f5cee1",
   "metadata": {},
   "outputs": [
    {
     "data": {
      "text/plain": [
       "<Figure size 1440x720 with 0 Axes>"
      ]
     },
     "execution_count": 245,
     "metadata": {},
     "output_type": "execute_result"
    },
    {
     "data": {
      "image/png": "[encoded data removed]",
      "text/plain": [
       "<Figure size 1152x432 with 1 Axes>"
      ]
     },
     "metadata": {
      "needs_background": "light"
     },
     "output_type": "display_data"
    },
    {
     "data": {
      "text/plain": [
       "<Figure size 1440x720 with 0 Axes>"
      ]
     },
     "metadata": {},
     "output_type": "display_data"
    }
   ],
   "source": [
    "spread_rolling_1['Rolling'].plot()\n",
    "plt.title('Rolling average spread b/w ICE_TFM_TFM versus NYM_NG_NG × 13.7261', fontsize = 18)\n",
    "plt.xlabel('Date', fontsize = 15)\n",
    "plt.ylabel('Rolling', fontsize = 15)\n",
    "plt.figure(figsize=(20, 10))"
   ]
  },
  {
   "cell_type": "markdown",
   "id": "ec8ebcab",
   "metadata": {},
   "source": [
    "### Plotting the Rolling average spread for ICE_B_B versus ICE_G_G × 0.1147"
   ]
  },
  {
   "cell_type": "code",
   "execution_count": 246,
   "id": "7ad74d66",
   "metadata": {},
   "outputs": [
    {
     "data": {
      "text/plain": [
       "Text(0, 0.5, 'Rolling')"
      ]
     },
     "execution_count": 246,
     "metadata": {},
     "output_type": "execute_result"
    },
    {
     "data": {
      "image/png": "[encoded data removed]",
      "text/plain": [
       "<Figure size 1152x432 with 1 Axes>"
      ]
     },
     "metadata": {
      "needs_background": "light"
     },
     "output_type": "display_data"
    }
   ],
   "source": [
    "spread_rolling_2['Rolling'].plot()\n",
    "plt.title('Rolling average spread b/w ICE_B_B versus ICE_G_G × 0.1147', fontsize = 18)\n",
    "plt.xlabel('Date', fontsize = 15)\n",
    "plt.ylabel('Rolling', fontsize = 15)"
   ]
  },
  {
   "cell_type": "markdown",
   "id": "f668a77d",
   "metadata": {},
   "source": [
    "### Plotting the difference for ICE_TFM_TFM versus NYM_NG_NG × 13.7261"
   ]
  },
  {
   "cell_type": "code",
   "execution_count": 247,
   "id": "da5ed3c0",
   "metadata": {},
   "outputs": [
    {
     "data": {
      "text/plain": [
       "Text(0, 0.5, 'Difference')"
      ]
     },
     "execution_count": 247,
     "metadata": {},
     "output_type": "execute_result"
    },
    {
     "data": {
      "image/png": "[encoded data removed]",
      "text/plain": [
       "<Figure size 1152x432 with 1 Axes>"
      ]
     },
     "metadata": {
      "needs_background": "light"
     },
     "output_type": "display_data"
    }
   ],
   "source": [
    "spread_rolling_1['difference'].plot()\n",
    "plt.title('difference b/w ICE_TFM_TFM versus NYG_NG_NG × 0.1147', fontsize = 18)\n",
    "plt.xlabel('Date', fontsize = 15)\n",
    "plt.ylabel('Difference', fontsize = 15)"
   ]
  },
  {
   "cell_type": "markdown",
   "id": "ae0e7093",
   "metadata": {},
   "source": [
    " ### Observation:\n",
    "\n",
    " - We can observe that the trend remianed relatively stable till 2022 and then observes high fluctuations till the rest of 2022. <br><br>\n",
    " - It observes a lowest value close to -70 around March and September 2022 <br>"
   ]
  },
  {
   "cell_type": "markdown",
   "id": "78e70fd6",
   "metadata": {},
   "source": [
    "### Plotting the difference for ICE_B_B versus ICE_G_G × 0.1147"
   ]
  },
  {
   "cell_type": "code",
   "execution_count": 248,
   "id": "5e6ccb20",
   "metadata": {},
   "outputs": [
    {
     "data": {
      "text/plain": [
       "Text(0, 0.5, 'Difference')"
      ]
     },
     "execution_count": 248,
     "metadata": {},
     "output_type": "execute_result"
    },
    {
     "data": {
      "image/png": "[encoded data removed]",
      "text/plain": [
       "<Figure size 1152x432 with 1 Axes>"
      ]
     },
     "metadata": {
      "needs_background": "light"
     },
     "output_type": "display_data"
    }
   ],
   "source": [
    "spread_rolling_2['difference'].plot()\n",
    "plt.title('difference b/w ICE_B_B versus ICE_G_G × 0.1147', fontsize = 18)\n",
    "plt.xlabel('Date', fontsize = 15)\n",
    "plt.ylabel('Difference', fontsize = 15)"
   ]
  },
  {
   "cell_type": "markdown",
   "id": "e010d6cd",
   "metadata": {},
   "source": [
    " ### Observation:\n",
    "\n",
    " - We can observe that the trend remianed relatively stable till Q1 2022 and then observes high fluctuations till the rest of 2022. <br><br>\n",
    " - It observes a lowest value close to -10 around May 2022 <br>"
   ]
  },
  {
   "cell_type": "markdown",
   "id": "d8e28e43",
   "metadata": {},
   "source": [
    "# Analyzing the performance metrics"
   ]
  },
  {
   "cell_type": "code",
   "execution_count": 249,
   "id": "dfbd7839",
   "metadata": {},
   "outputs": [],
   "source": [
    "def performance_summary(return_data):\n",
    "    \n",
    "    summary_stats = return_data.mean().to_frame('Mean')\n",
    "    summary_stats['Median'] = return_data.median()\n",
    "    summary_stats['Volatility'] = return_data.std()\n",
    "    summary_stats['Sharpe Ratio'] = summary_stats['Mean']/summary_stats['Volatility']\n",
    "    \n",
    "    summary_stats['Skewness'] = return_data.skew()\n",
    "    summary_stats['Excess Kurtosis'] = return_data.kurtosis()\n",
    "    summary_stats['VaR (0.05)'] = return_data.quantile(.05, axis = 0)\n",
    "    summary_stats['CVaR (0.05)'] = return_data[return_data <= return_data.quantile(.05, axis = 0)].mean()\n",
    "    summary_stats['1% quantile'] = return_data.quantile(.01, axis = 0)\n",
    "    summary_stats['2% quantile'] = return_data.quantile(.02, axis = 0)\n",
    "    summary_stats['10% quantile'] = return_data.quantile(.10, axis = 0)\n",
    "    summary_stats['Min'] = return_data.min()\n",
    "    summary_stats['Max'] = return_data.max()\n",
    "    \n",
    "    return summary_stats.round(3)"
   ]
  },
  {
   "cell_type": "markdown",
   "id": "33dca11c",
   "metadata": {},
   "source": [
    "### Performance summary for ICE_TFM_TFM versus NYM_NG_NG × 13.7261"
   ]
  },
  {
   "cell_type": "code",
   "execution_count": 250,
   "id": "85d9a6e0",
   "metadata": {},
   "outputs": [
    {
     "data": {
      "text/html": [
       "<div>\n",
       "<style scoped>\n",
       "    .dataframe tbody tr th:only-of-type {\n",
       "        vertical-align: middle;\n",
       "    }\n",
       "\n",
       "    .dataframe tbody tr th {\n",
       "        vertical-align: top;\n",
       "    }\n",
       "\n",
       "    .dataframe thead th {\n",
       "        text-align: right;\n",
       "    }\n",
       "</style>\n",
       "<table border=\"1\" class=\"dataframe\">\n",
       "  <thead>\n",
       "    <tr style=\"text-align: right;\">\n",
       "      <th></th>\n",
       "      <th>Mean</th>\n",
       "      <th>Median</th>\n",
       "      <th>Volatility</th>\n",
       "      <th>Sharpe Ratio</th>\n",
       "      <th>Skewness</th>\n",
       "      <th>Excess Kurtosis</th>\n",
       "      <th>VaR (0.05)</th>\n",
       "      <th>CVaR (0.05)</th>\n",
       "      <th>1% quantile</th>\n",
       "      <th>2% quantile</th>\n",
       "      <th>10% quantile</th>\n",
       "      <th>Min</th>\n",
       "      <th>Max</th>\n",
       "    </tr>\n",
       "  </thead>\n",
       "  <tbody>\n",
       "    <tr>\n",
       "      <th>Future</th>\n",
       "      <td>-11.526</td>\n",
       "      <td>8.508</td>\n",
       "      <td>41.694</td>\n",
       "      <td>-0.276</td>\n",
       "      <td>-1.703</td>\n",
       "      <td>3.169</td>\n",
       "      <td>-94.806</td>\n",
       "      <td>-128.889</td>\n",
       "      <td>-147.809</td>\n",
       "      <td>-123.642</td>\n",
       "      <td>-78.480</td>\n",
       "      <td>-219.843</td>\n",
       "      <td>42.049</td>\n",
       "    </tr>\n",
       "    <tr>\n",
       "      <th>Rolling</th>\n",
       "      <td>-9.691</td>\n",
       "      <td>7.971</td>\n",
       "      <td>37.135</td>\n",
       "      <td>-0.261</td>\n",
       "      <td>-1.382</td>\n",
       "      <td>1.398</td>\n",
       "      <td>-86.141</td>\n",
       "      <td>-105.096</td>\n",
       "      <td>-125.950</td>\n",
       "      <td>-97.209</td>\n",
       "      <td>-72.780</td>\n",
       "      <td>-154.584</td>\n",
       "      <td>31.369</td>\n",
       "    </tr>\n",
       "    <tr>\n",
       "      <th>difference</th>\n",
       "      <td>-1.834</td>\n",
       "      <td>-0.301</td>\n",
       "      <td>15.211</td>\n",
       "      <td>-0.121</td>\n",
       "      <td>-1.156</td>\n",
       "      <td>5.469</td>\n",
       "      <td>-31.241</td>\n",
       "      <td>-46.211</td>\n",
       "      <td>-59.072</td>\n",
       "      <td>-46.026</td>\n",
       "      <td>-16.689</td>\n",
       "      <td>-76.788</td>\n",
       "      <td>47.499</td>\n",
       "    </tr>\n",
       "  </tbody>\n",
       "</table>\n",
       "</div>"
      ],
      "text/plain": [
       "              Mean  Median  Volatility  Sharpe Ratio  Skewness  \\\n",
       "Future     -11.526   8.508      41.694        -0.276    -1.703   \n",
       "Rolling     -9.691   7.971      37.135        -0.261    -1.382   \n",
       "difference  -1.834  -0.301      15.211        -0.121    -1.156   \n",
       "\n",
       "            Excess Kurtosis  VaR (0.05)  CVaR (0.05)  1% quantile  \\\n",
       "Future                3.169     -94.806     -128.889     -147.809   \n",
       "Rolling               1.398     -86.141     -105.096     -125.950   \n",
       "difference            5.469     -31.241      -46.211      -59.072   \n",
       "\n",
       "            2% quantile  10% quantile      Min     Max  \n",
       "Future         -123.642       -78.480 -219.843  42.049  \n",
       "Rolling         -97.209       -72.780 -154.584  31.369  \n",
       "difference      -46.026       -16.689  -76.788  47.499  "
      ]
     },
     "execution_count": 250,
     "metadata": {},
     "output_type": "execute_result"
    }
   ],
   "source": [
    "performance_summary(spread_rolling_1)"
   ]
  },
  {
   "cell_type": "markdown",
   "id": "5d6d9f70",
   "metadata": {},
   "source": [
    " ### Observation:\n",
    "\n",
    " - The median value for the difference is -0.3 and standard deviation is 15.0 <br><br>\n",
    " - The VaR (95% confidence level) for the Future is higher negative than difference because in the 95% confidence levels, the worst values in case of Future is very high (close to -200) than difference (close to -80). <br><br>\n",
    " - The above statement can be inferred from the graphs plotted as well. <br>\n"
   ]
  },
  {
   "cell_type": "markdown",
   "id": "eb9cfedb",
   "metadata": {},
   "source": [
    "### Performance summary for ICE_B_B versus ICE_G_G × 0.1147"
   ]
  },
  {
   "cell_type": "code",
   "execution_count": 251,
   "id": "2f5c2246",
   "metadata": {},
   "outputs": [
    {
     "data": {
      "text/html": [
       "<div>\n",
       "<style scoped>\n",
       "    .dataframe tbody tr th:only-of-type {\n",
       "        vertical-align: middle;\n",
       "    }\n",
       "\n",
       "    .dataframe tbody tr th {\n",
       "        vertical-align: top;\n",
       "    }\n",
       "\n",
       "    .dataframe thead th {\n",
       "        text-align: right;\n",
       "    }\n",
       "</style>\n",
       "<table border=\"1\" class=\"dataframe\">\n",
       "  <thead>\n",
       "    <tr style=\"text-align: right;\">\n",
       "      <th></th>\n",
       "      <th>Mean</th>\n",
       "      <th>Median</th>\n",
       "      <th>Volatility</th>\n",
       "      <th>Sharpe Ratio</th>\n",
       "      <th>Skewness</th>\n",
       "      <th>Excess Kurtosis</th>\n",
       "      <th>VaR (0.05)</th>\n",
       "      <th>CVaR (0.05)</th>\n",
       "      <th>1% quantile</th>\n",
       "      <th>2% quantile</th>\n",
       "      <th>10% quantile</th>\n",
       "      <th>Min</th>\n",
       "      <th>Max</th>\n",
       "    </tr>\n",
       "  </thead>\n",
       "  <tbody>\n",
       "    <tr>\n",
       "      <th>Future</th>\n",
       "      <td>3.566</td>\n",
       "      <td>-1.801</td>\n",
       "      <td>10.472</td>\n",
       "      <td>0.341</td>\n",
       "      <td>1.354</td>\n",
       "      <td>0.394</td>\n",
       "      <td>-4.887</td>\n",
       "      <td>-5.472</td>\n",
       "      <td>-5.750</td>\n",
       "      <td>-5.530</td>\n",
       "      <td>-4.208</td>\n",
       "      <td>-6.509</td>\n",
       "      <td>32.671</td>\n",
       "    </tr>\n",
       "    <tr>\n",
       "      <th>Rolling</th>\n",
       "      <td>3.308</td>\n",
       "      <td>-1.489</td>\n",
       "      <td>10.086</td>\n",
       "      <td>0.328</td>\n",
       "      <td>1.367</td>\n",
       "      <td>0.349</td>\n",
       "      <td>-4.693</td>\n",
       "      <td>-4.994</td>\n",
       "      <td>-5.157</td>\n",
       "      <td>-5.070</td>\n",
       "      <td>-4.230</td>\n",
       "      <td>-5.320</td>\n",
       "      <td>28.668</td>\n",
       "    </tr>\n",
       "    <tr>\n",
       "      <th>difference</th>\n",
       "      <td>0.258</td>\n",
       "      <td>0.048</td>\n",
       "      <td>2.537</td>\n",
       "      <td>0.102</td>\n",
       "      <td>-0.055</td>\n",
       "      <td>4.723</td>\n",
       "      <td>-3.602</td>\n",
       "      <td>-6.097</td>\n",
       "      <td>-8.156</td>\n",
       "      <td>-5.923</td>\n",
       "      <td>-1.815</td>\n",
       "      <td>-11.062</td>\n",
       "      <td>10.880</td>\n",
       "    </tr>\n",
       "  </tbody>\n",
       "</table>\n",
       "</div>"
      ],
      "text/plain": [
       "             Mean  Median  Volatility  Sharpe Ratio  Skewness  \\\n",
       "Future      3.566  -1.801      10.472         0.341     1.354   \n",
       "Rolling     3.308  -1.489      10.086         0.328     1.367   \n",
       "difference  0.258   0.048       2.537         0.102    -0.055   \n",
       "\n",
       "            Excess Kurtosis  VaR (0.05)  CVaR (0.05)  1% quantile  \\\n",
       "Future                0.394      -4.887       -5.472       -5.750   \n",
       "Rolling               0.349      -4.693       -4.994       -5.157   \n",
       "difference            4.723      -3.602       -6.097       -8.156   \n",
       "\n",
       "            2% quantile  10% quantile     Min     Max  \n",
       "Future           -5.530        -4.208  -6.509  32.671  \n",
       "Rolling          -5.070        -4.230  -5.320  28.668  \n",
       "difference       -5.923        -1.815 -11.062  10.880  "
      ]
     },
     "execution_count": 251,
     "metadata": {},
     "output_type": "execute_result"
    }
   ],
   "source": [
    "performance_summary(spread_rolling_2)"
   ]
  },
  {
   "cell_type": "markdown",
   "id": "06638df7",
   "metadata": {},
   "source": [
    " ### Observation:\n",
    "\n",
    " - The median value for the difference is 0.04 and standard deviation is 2.53 <br><br>\n",
    " - The VaR (95% confidence level) for the Future is higher negative than difference because in the 95% confidence levels, the worst values in case of Future is slightly higher than in case of difference. <br><br>\n",
    " - The above statement can be inferred from the graphs plotted as well. <br>"
   ]
  },
  {
   "cell_type": "markdown",
   "id": "4df5673d",
   "metadata": {},
   "source": [
    "# Calculating the Correlation "
   ]
  },
  {
   "cell_type": "markdown",
   "id": "e1dd995a",
   "metadata": {},
   "source": [
    "### Correlation between Spread for ICE_TFM_TFM versus NYM_NG_NG × 13.7261 and ICE_B_B versus ICE_G_G × 0.1147"
   ]
  },
  {
   "cell_type": "code",
   "execution_count": 252,
   "id": "4358dcc4",
   "metadata": {},
   "outputs": [
    {
     "data": {
      "text/plain": [
       "-0.545"
      ]
     },
     "execution_count": 252,
     "metadata": {},
     "output_type": "execute_result"
    }
   ],
   "source": [
    "corr_val = spread1['Future'].corr(spread2['Future'])\n",
    "corr_val.round(3)"
   ]
  },
  {
   "cell_type": "markdown",
   "id": "42e3961f",
   "metadata": {},
   "source": [
    "### Observation:\n",
    "- Correlation between spreads for ICE_TFM_TFM versus NYM_NG_NG × 13.7261 and ICE_B_B versus ICE_G_G × 0.1147 is -0.545 <br><br>\n",
    "- This implies they are moderaterly negatively corelated to each other, if one value goes up other goes down. <br><br>"
   ]
  },
  {
   "cell_type": "markdown",
   "id": "d2099a54",
   "metadata": {},
   "source": [
    "### Correlation between difference for ICE_TFM_TFM versus NYM_NG_NG × 13.7261 and ICE_B_B versus ICE_G_G × 0.1147"
   ]
  },
  {
   "cell_type": "code",
   "execution_count": 253,
   "id": "37238593",
   "metadata": {},
   "outputs": [
    {
     "data": {
      "text/plain": [
       "-0.166"
      ]
     },
     "execution_count": 253,
     "metadata": {},
     "output_type": "execute_result"
    }
   ],
   "source": [
    "corr_val = spread_rolling_1['difference'].corr(spread_rolling_2['difference'])\n",
    "corr_val.round(3)"
   ]
  },
  {
   "cell_type": "markdown",
   "id": "babcc179",
   "metadata": {},
   "source": [
    "### Observation:\n",
    "- Correlation between difference for ICE_TFM_TFM versus NYM_NG_NG × 13.7261 and ICE_B_B versus ICE_G_G × 0.1147 is -0.166 <br><br>\n",
    "- This implies they are weak negatively corelated to each other <br><br>"
   ]
  },
  {
   "cell_type": "markdown",
   "id": "581d38dd",
   "metadata": {},
   "source": [
    "# TimeSeries Analysis "
   ]
  },
  {
   "cell_type": "markdown",
   "id": "0089c6aa",
   "metadata": {},
   "source": [
    "### Testing the stability of the calculated Spreads Data"
   ]
  },
  {
   "cell_type": "markdown",
   "id": "2bcd14ff",
   "metadata": {},
   "source": [
    "#### To test the stability of our spreads data, we will observe if the the scores remain <u>stationary</u> over time, i.e. do the statistical properties of the timeseries remain same or stable over time. <br>\n",
    "\n",
    "- Stationarity indicates independence in the each data point over the timeseries and thus providing statistical power as the behavior of the data remains constant.<br>"
   ]
  },
  {
   "cell_type": "markdown",
   "id": "e92f1094",
   "metadata": {},
   "source": [
    "### Visual Test : <br>\n",
    "- From a purely visual assessment, time plots that do not show trends or seasonality can be considered stationary. <br><br>\n",
    "- Spreads1 and Spreads2 data seems to have high fluctutations and varying variance. <br><br>\n",
    "- Thus, they seem to be not statitonary."
   ]
  },
  {
   "cell_type": "markdown",
   "id": "c8a04355",
   "metadata": {},
   "source": [
    "### Quantitative Test : <br><br>\n",
    "\n",
    "- Although the visual test is a quick-and-dirty method to detect stationary, we can apply more quantitative methods that would test the stationarity with statistical significane. <br><br>\n",
    "\n",
    "- We use the **Augmented Dicky-Fuller Test (ADF)** to test for stationarity. <br>"
   ]
  },
  {
   "cell_type": "markdown",
   "id": "b009268d",
   "metadata": {},
   "source": [
    "**Augmented Dicky-Fuller Test (ADF)**:\n",
    "- Null Hypothesis (HO): Series is non-stationary or series has a unit root. <br><br>\n",
    "- If p-value < 0.05 we can reject Null Hypothesis(HO) i.e., time series does not have a unit root, meaning it is stationary. It does not have a time-dependent structure.<br>"
   ]
  },
  {
   "cell_type": "code",
   "execution_count": 254,
   "id": "33976d11",
   "metadata": {},
   "outputs": [],
   "source": [
    "def ts_stationarity_tests(ts):\n",
    "    adf = adfuller(np.array(ts), autolag='AIC')\n",
    "    isStationaryADF = adf[1] <= 0.05\n",
    "    adf_results  = pd.DataFrame([[adf[0],adf[1],adf[2],adf[3],adf[4]['1%'],adf[4]['5%'],adf[4]['10%'],isStationaryADF]]\\\n",
    "                                ,columns=['Test Statistic','p-value','Used Lag','Num Observations',\\\n",
    "                                'Critical Value (1%)','Critical Value (5%)','Critical Value (10%)','Is Stationary?'],index = ['ADF'])\n",
    "\n",
    "\n",
    "    return pd.concat([adf_results]).round(3)"
   ]
  },
  {
   "cell_type": "code",
   "execution_count": 255,
   "id": "4e037f4f",
   "metadata": {},
   "outputs": [
    {
     "data": {
      "text/html": [
       "<div>\n",
       "<style scoped>\n",
       "    .dataframe tbody tr th:only-of-type {\n",
       "        vertical-align: middle;\n",
       "    }\n",
       "\n",
       "    .dataframe tbody tr th {\n",
       "        vertical-align: top;\n",
       "    }\n",
       "\n",
       "    .dataframe thead th {\n",
       "        text-align: right;\n",
       "    }\n",
       "</style>\n",
       "<table border=\"1\" class=\"dataframe\">\n",
       "  <thead>\n",
       "    <tr style=\"text-align: right;\">\n",
       "      <th></th>\n",
       "      <th>Test Statistic</th>\n",
       "      <th>p-value</th>\n",
       "      <th>Used Lag</th>\n",
       "      <th>Num Observations</th>\n",
       "      <th>Critical Value (1%)</th>\n",
       "      <th>Critical Value (5%)</th>\n",
       "      <th>Critical Value (10%)</th>\n",
       "      <th>Is Stationary?</th>\n",
       "    </tr>\n",
       "  </thead>\n",
       "  <tbody>\n",
       "    <tr>\n",
       "      <th>ADF</th>\n",
       "      <td>-1.539</td>\n",
       "      <td>0.514</td>\n",
       "      <td>6</td>\n",
       "      <td>443</td>\n",
       "      <td>-3.445</td>\n",
       "      <td>-2.868</td>\n",
       "      <td>-2.57</td>\n",
       "      <td>False</td>\n",
       "    </tr>\n",
       "  </tbody>\n",
       "</table>\n",
       "</div>"
      ],
      "text/plain": [
       "     Test Statistic  p-value  Used Lag  Num Observations  Critical Value (1%)  \\\n",
       "ADF          -1.539    0.514         6               443               -3.445   \n",
       "\n",
       "     Critical Value (5%)  Critical Value (10%)  Is Stationary?  \n",
       "ADF               -2.868                 -2.57           False  "
      ]
     },
     "execution_count": 255,
     "metadata": {},
     "output_type": "execute_result"
    }
   ],
   "source": [
    "ts_stationarity_tests(spread1)"
   ]
  },
  {
   "cell_type": "code",
   "execution_count": 256,
   "id": "cd771d03",
   "metadata": {},
   "outputs": [
    {
     "data": {
      "text/html": [
       "<div>\n",
       "<style scoped>\n",
       "    .dataframe tbody tr th:only-of-type {\n",
       "        vertical-align: middle;\n",
       "    }\n",
       "\n",
       "    .dataframe tbody tr th {\n",
       "        vertical-align: top;\n",
       "    }\n",
       "\n",
       "    .dataframe thead th {\n",
       "        text-align: right;\n",
       "    }\n",
       "</style>\n",
       "<table border=\"1\" class=\"dataframe\">\n",
       "  <thead>\n",
       "    <tr style=\"text-align: right;\">\n",
       "      <th></th>\n",
       "      <th>Test Statistic</th>\n",
       "      <th>p-value</th>\n",
       "      <th>Used Lag</th>\n",
       "      <th>Num Observations</th>\n",
       "      <th>Critical Value (1%)</th>\n",
       "      <th>Critical Value (5%)</th>\n",
       "      <th>Critical Value (10%)</th>\n",
       "      <th>Is Stationary?</th>\n",
       "    </tr>\n",
       "  </thead>\n",
       "  <tbody>\n",
       "    <tr>\n",
       "      <th>ADF</th>\n",
       "      <td>-1.212</td>\n",
       "      <td>0.669</td>\n",
       "      <td>1</td>\n",
       "      <td>448</td>\n",
       "      <td>-3.445</td>\n",
       "      <td>-2.868</td>\n",
       "      <td>-2.57</td>\n",
       "      <td>False</td>\n",
       "    </tr>\n",
       "  </tbody>\n",
       "</table>\n",
       "</div>"
      ],
      "text/plain": [
       "     Test Statistic  p-value  Used Lag  Num Observations  Critical Value (1%)  \\\n",
       "ADF          -1.212    0.669         1               448               -3.445   \n",
       "\n",
       "     Critical Value (5%)  Critical Value (10%)  Is Stationary?  \n",
       "ADF               -2.868                 -2.57           False  "
      ]
     },
     "execution_count": 256,
     "metadata": {},
     "output_type": "execute_result"
    }
   ],
   "source": [
    "ts_stationarity_tests(spread2)"
   ]
  },
  {
   "cell_type": "markdown",
   "id": "0bbf1469",
   "metadata": {},
   "source": [
    "### Observation:\n",
    "- Since p-value >0.05, we cannot reject null hypothesis, which means both the spread trend is non stationary. <br><br>\n",
    "- This is evident from Visual test as well <br><br>"
   ]
  },
  {
   "cell_type": "markdown",
   "id": "2933625e",
   "metadata": {},
   "source": [
    "# Conclusion"
   ]
  },
  {
   "cell_type": "markdown",
   "id": "2e6352be",
   "metadata": {},
   "source": [
    "- Spread in the case of ICE_TFM_TFM vs NYM_NG_NG *13.7261 is higher than the spread from ICE_B_B vs ICE_G_G *0.1147  <br><br>\n",
    "- Similarly the difference in the case of ICE_TFM_TFM vs NYM_NG_NG *13.7261 is higher than the difference from ICE_B_B vs ICE_G_G *0.1147 <br><br>\n",
    "- The Spreads are negatively correlated to each other with correlation value of -0.545<br><br>\n",
    "- The differences are negatively correlated to each other with correlation value of -0.166 <br><br>\n",
    "- The median and standard deviation of spread 1 is higher than spread 2 but the mean of spread1 is less than spread2 <br><br>\n",
    "- The 5% (VaR), 1%, 2% and 10% quantiles for spread1 are higher negative than spread2 which can be inferred from graph as well<br><br>\n",
    "- Both the spread1 and spread2 are non stationary over time which is evident from visual and well as ADF test <br><br>"
   ]
  }
 ],
 "metadata": {
  "kernelspec": {
   "display_name": "Python 3 (ipykernel)",
   "language": "python",
   "name": "python3"
  },
  "language_info": {
   "codemirror_mode": {
    "name": "ipython",
    "version": 3
   },
   "file_extension": ".py",
   "mimetype": "text/x-python",
   "name": "python",
   "nbconvert_exporter": "python",
   "pygments_lexer": "ipython3",
   "version": "3.9.12"
  }
 },
 "nbformat": 4,
 "nbformat_minor": 5
}
